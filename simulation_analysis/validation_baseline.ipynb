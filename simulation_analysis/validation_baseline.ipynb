{
 "cells": [
  {
   "cell_type": "code",
   "execution_count": 79,
   "metadata": {},
   "outputs": [],
   "source": [
    "import pandas as pd\n",
    "import os\n",
    "import plotly.express as px\n",
    "import plotly.io as pio\n",
    "from plotly import graph_objects as go\n",
    "import unicodedata\n",
    "import re\n",
    "import Levenshtein\n",
    "pio.renderers.default=\"vscode+pdf\"\n",
    "pio.templates[\"custom\"] = pio.templates[\"plotly_white\"]\n",
    "pio.templates[\"custom\"][\"layout\"][\"font\"] = {\"size\": 15}\n",
    "pio.templates.default = \"custom\""
   ]
  },
  {
   "cell_type": "markdown",
   "metadata": {},
   "source": [
    "# Validation de la simulation de référence\n",
    "\n",
    "La validation de la simulation de référence repose sur les données ouvertes fournies par\n",
    "Île-de-France Mobilités, correspondant aux deux derniers semestres de 2024.\n",
    "\n",
    "Il est à noter que certaines lignes ou stations ont pu subir des modifications pendant cette\n",
    "période, ainsi qu’entre le 1er janvier 2025 et le 17 février 2025, date de récupération des\n",
    "données GTFS. Par exemple, la station Villejuif - Gustave Roussy, ouverte en janvier\n",
    "2025, est présente dans la simulation mais absente des données de référence.\n",
    "\n",
    "Les données utilisées sont réparties en deux catégories :\n",
    "- les données des voies ferrées, correspondant aux validations à chaque arrêt (hors\n",
    "correspondances),\n",
    "- et les données de surface, concernant les lignes de bus et la majorité des tramways,\n",
    "disponibles sous forme agrégée par ligne\n",
    "\n",
    "Nous séparerons donc cette analyse en deux, entre le réseau ferré et le réseau de surface."
   ]
  },
  {
   "cell_type": "code",
   "execution_count": 80,
   "metadata": {},
   "outputs": [],
   "source": [
    "# Read data\n",
    "fact = 100\n",
    "\n",
    "gtfs_folder = r\"..\\implementation_gtfs\\data\\IDFM-gtfs-june\"\n",
    "routes = pd.read_csv(os.path.join(gtfs_folder, \"routes.txt\"))\n",
    "stops = pd.read_csv(os.path.join(gtfs_folder, \"stops.txt\"))\n",
    "\n",
    "# Simulation baseline\n",
    "baseline_folder = os.path.join(\"baseline_output\",\"1_percent_june\")\n",
    "baseline_legs = pd.read_csv(os.path.join(baseline_folder, \"eqasim_legs.csv\"), sep = \";\")\n",
    "baseline_pt = pd.read_csv(os.path.join(baseline_folder, \"eqasim_pt.csv\"), sep = \";\")\n",
    "baseline_trips = pd.read_csv(os.path.join(baseline_folder, \"eqasim_trips.csv\"), sep = \";\")\n",
    "\n",
    "# Reference data (2023)\n",
    "annual_frequency_metro = pd.read_csv(\"validation_data/data_2013_wiki/freq_metro.csv\")\n",
    "annual_frequency_tram = pd.read_csv(\"validation_data/data_2013_wiki/freq_tram.csv\")\n",
    "\n",
    "# Reference data (2024)\n",
    "validation_folder = \"validation_data\\csv\"\n",
    "\n",
    "train_files = []\n",
    "surface_files = []\n",
    "\n",
    "for file in os.listdir(validation_folder):\n",
    "    if \"ferre\" in file:\n",
    "        train_files.append(file)\n",
    "\n",
    "    if \"surface\" in file:\n",
    "        surface_files.append(file)\n",
    "\n",
    "train_data = pd.DataFrame()\n",
    "\n",
    "for file in train_files:\n",
    "    temp_df = pd.read_csv(os.path.join(validation_folder, file),sep=\";\")\n",
    "    train_data = pd.concat([train_data, temp_df])\n",
    "\n",
    "surface_data = pd.DataFrame()\n",
    "\n",
    "for file in surface_files:\n",
    "    temp_df = pd.read_csv(os.path.join(validation_folder, file),sep=\";\",low_memory=False)\n",
    "    surface_data = pd.concat([surface_data, temp_df])"
   ]
  },
  {
   "cell_type": "code",
   "execution_count": 81,
   "metadata": {},
   "outputs": [],
   "source": [
    "pt_modes = baseline_pt[\"transit_mode\"].unique()\n",
    "count_lines_baseline = {mode: {} for mode in pt_modes if mode != \"bus\"}\n",
    "\n",
    "for mode in pt_modes:\n",
    "    if mode != \"bus\":\n",
    "        tmp_control = baseline_pt[baseline_pt.transit_mode == mode]\n",
    "        lines_baseline = tmp_control[\"transit_line_id\"].unique()\n",
    "\n",
    "        for line in lines_baseline:\n",
    "            name = routes[routes.route_id == line]\n",
    "            if not name.empty:\n",
    "                name = name[\"route_short_name\"].values[0]\n",
    "                if name not in count_lines_baseline[mode]:\n",
    "                    count_lines_baseline[mode][name] = 0\n",
    "                count_lines_baseline[mode][name] += len(tmp_control[tmp_control.transit_line_id == line])*fact"
   ]
  },
  {
   "cell_type": "code",
   "execution_count": 82,
   "metadata": {},
   "outputs": [],
   "source": [
    "annual_frequency_metro[\"ref\"] = annual_frequency_metro[\"ref\"]*1000000/365\n",
    "annual_frequency_metro[\"line\"] = annual_frequency_metro[\"line\"].astype(str)\n",
    "\n",
    "ref = {row[\"line\"] : row[\"ref\"] for _, row in annual_frequency_metro.iterrows()}\n",
    "\n",
    "count_subway = count_lines_baseline[\"subway\"].copy()\n",
    "count_subway[\"7\"] = count_subway[\"7\"] + count_subway[\"7B\"]\n",
    "count_subway[\"3\"] = count_subway[\"3\"] + count_subway[\"3B\"]\n",
    "count_subway = {key : value for key, value in count_subway.items() if key not in [\"3B\", \"7B\"]}\n",
    "count_subway = {key : value for key, value in count_subway.items() if value != 0}\n",
    "\n",
    "annual_frequency_metro[\"simu\"] = annual_frequency_metro[\"line\"].map(count_subway)\n",
    "\n",
    "annual_frequency_metro = annual_frequency_metro.sort_values(by=\"ref\", ascending=True)\n",
    "subway_2023 = px.bar(annual_frequency_metro.rename(columns={\"ref\" : \"Données de validation\", \"simu\" : \"Simulation de référence\"}), x=\"line\", y=[\"Données de validation\", \"Simulation de référence\"], barmode=\"group\",\n",
    "              labels={\n",
    "                  \"Value\" : \"Nombre de trajets\",\n",
    "                  \"line\" : \"Ligne de métro\"\n",
    "              },\n",
    "              title=\"Nombre de trajets avec les données de référence (2023) et la simulation baseline\")\n",
    "subway_2023.write_image(\"outputs/plots/validation/nb_trajets_2023.png\", width=1000)\n",
    "\n",
    "annual_frequency_metro[\"diff_abs\"] = abs(annual_frequency_metro[\"ref\"] - annual_frequency_metro[\"simu\"])\n",
    "annual_frequency_metro = annual_frequency_metro.sort_values(by=\"diff_abs\", ascending=True)\n",
    "subway_2023_diff = px.bar(annual_frequency_metro, x=\"line\", y=\"diff_abs\", title=\"Différence absolue entre ref et simu\")\n",
    "\n",
    "annual_frequency_metro[\"diff_percent\"] = abs(((annual_frequency_metro[\"simu\"] - annual_frequency_metro[\"ref\"]) / annual_frequency_metro[\"ref\"]) * 100)\n",
    "annual_frequency_metro = annual_frequency_metro.sort_values(by=\"diff_percent\", ascending=True)\n",
    "subway_2023_diff_percent = px.bar(annual_frequency_metro, x=\"line\", y=\"diff_percent\", title=\"Différence en pourcentage entre ref et simu\")"
   ]
  },
  {
   "cell_type": "markdown",
   "metadata": {},
   "source": [
    "## Réseau ferré\n",
    "\n",
    "Le réseau ferré est composé des lignes demandant une validation à un arrêt physique pour y accéder. Il comporte les lignes de TER, RER, Transilien, Métro ainsi que les tramways 4, 11, 12, 13.\n",
    "\n",
    "La majorité des correspondances entre ligne ne nécessite pas de validation. Par exemple, à la Motte-Picquet Grenelle, le passage du métro 10 au métro 8 peut se faire sur le même quai. Pour cette raison, les correspondances ne sont pas inclues dans les données ouvertes de l'IDFM. Les résultats de la simulation de référence ont été traités en prenant en compte cette information.\n",
    "\n",
    "Dans un même trajet, seuls les tronçons de type subway ou rail sont retenus, à condition qu’ils ne soient pas précédés par un autre tronçon de même type, et que les identifiants des arrêts de départ et d’arrivée correspondent."
   ]
  },
  {
   "cell_type": "code",
   "execution_count": 83,
   "metadata": {},
   "outputs": [],
   "source": [
    "def clean_string(string : str) -> str:\n",
    "    \"\"\"\n",
    "    Cleans a string by removing accents, special characters, and converting it to lowercase.\n",
    "\n",
    "    :param string: The original string to be cleaned.\n",
    "    :return: A cleaned string with no accents, special characters, and in lowercase.\n",
    "    \"\"\"\n",
    "\n",
    "    normalized_string = unicodedata.normalize('NFD', string)\n",
    "\n",
    "    no_accent_string = ''.join(\n",
    "        c for c in normalized_string if unicodedata.category(c) != \"Mn\"\n",
    "    )\n",
    "\n",
    "    cleaned_string = re.sub('[^0-9a-zA-Z]+', '', no_accent_string).lower()\n",
    "\n",
    "    return cleaned_string\n"
   ]
  },
  {
   "cell_type": "code",
   "execution_count": 84,
   "metadata": {},
   "outputs": [],
   "source": [
    "train_data[\"JOUR\"] = pd.to_datetime(train_data[\"JOUR\"])\n",
    "train_data = train_data[~train_data[\"JOUR\"].dt.weekday.isin([5,6])]\n",
    "\n",
    "surface_data[\"JOUR\"] = pd.to_datetime(surface_data[\"JOUR\"])\n",
    "surface_data = surface_data[~surface_data[\"JOUR\"].dt.weekday.isin([5,6])]"
   ]
  },
  {
   "cell_type": "code",
   "execution_count": 85,
   "metadata": {},
   "outputs": [
    {
     "name": "stdout",
     "output_type": "stream",
     "text": [
      "Did not find a good match for OZOIR LA FERRIE [best_match is Henri Mondor - Laferrière, ratio : 0.6470588235294117]\n"
     ]
    }
   ],
   "source": [
    "nb_dates = len(train_data[\"JOUR\"].unique())\n",
    "\n",
    "# Données de validation\n",
    "train_data[\"NB_VALD\"] = train_data[\"NB_VALD\"].apply(lambda x: str(x).replace(\" \",\"\")).astype(int)\n",
    "\n",
    "anomalies = train_data[train_data.ID_ZDC.isna()]\n",
    "\n",
    "train_data = train_data[train_data.ID_ZDC.notna()]\n",
    "train_data[\"ID_ZDC\"] = train_data[\"ID_ZDC\"].astype(int).astype(str)\n",
    "\n",
    "train_data = train_data.groupby(['LIBELLE_ARRET', \"ID_ZDC\"], as_index=False)['NB_VALD'].sum()\n",
    "anomalies = anomalies.groupby('LIBELLE_ARRET', as_index=False)['NB_VALD'].sum()\n",
    "\n",
    "stations = train_data[\"LIBELLE_ARRET\"].unique()\n",
    "for name in anomalies[\"LIBELLE_ARRET\"].unique():\n",
    "    best_stop = None\n",
    "    best_ratio = 0\n",
    "\n",
    "    for stat in stations:\n",
    "        ratio = Levenshtein.ratio(clean_string(name), clean_string(stat))\n",
    "        if ratio > best_ratio:\n",
    "            best_ratio = ratio\n",
    "            best_stop = stat\n",
    "\n",
    "    train_data.loc[train_data.LIBELLE_ARRET == best_stop, \"NB_VALD\"] += anomalies.loc[anomalies.LIBELLE_ARRET == name, \"NB_VALD\"].values[0]\n",
    "\n",
    "train_data[\"ID_ZDC\"] = \"IDFM:\" + train_data[\"ID_ZDC\"]\n",
    "\n",
    "train_data = train_data.merge(\n",
    "    stops[['stop_id', 'stop_name']],\n",
    "    left_on='ID_ZDC',\n",
    "    right_on='stop_id',\n",
    "    how='left'\n",
    ").rename(columns={'stop_name': 'name'}).drop('stop_id', axis=1)\n",
    "\n",
    "anomalies = train_data[train_data.name.isna()]\n",
    "\n",
    "parent_stops = stops[stops.location_type == 1]\n",
    "\n",
    "for _, arret in anomalies.iterrows():\n",
    "    name = arret[\"LIBELLE_ARRET\"]\n",
    "\n",
    "    if arret[\"ID_ZDC\"] == \"IDFM:999999\":\n",
    "        #print(f\"Skipped {name}, with {arret['NB_VALD']} entries\")\n",
    "        continue\n",
    "\n",
    "    best_match = None\n",
    "    best_id = None\n",
    "    best_ratio = 0\n",
    "\n",
    "    for _, row in parent_stops.iterrows():\n",
    "        station = row[\"stop_name\"]\n",
    "        ratio = Levenshtein.ratio(clean_string(name), clean_string(station))\n",
    "        if ratio > best_ratio:\n",
    "            best_ratio = ratio\n",
    "            best_match = station\n",
    "            best_id = row[\"stop_id\"]\n",
    "\n",
    "    if best_ratio > 0.65:\n",
    "        train_data.loc[train_data.LIBELLE_ARRET == name, \"name\"] = best_match\n",
    "        train_data.loc[train_data.LIBELLE_ARRET == name, \"ID_ZDC\"] = best_id\n",
    "\n",
    "    else:\n",
    "        print(f\"Did not find a good match for {name} [best_match is {best_match}, ratio : {best_ratio}]\")\n",
    "\n",
    "train_data[\"NB_VALD\"] /= nb_dates"
   ]
  },
  {
   "cell_type": "code",
   "execution_count": 86,
   "metadata": {},
   "outputs": [],
   "source": [
    "baseline_train = baseline_pt.sort_values(by=[\"person_id\", \"person_trip_id\", \"leg_index\"]).reset_index(drop=True)\n",
    "\n",
    "baseline_train[\"prev_egress_area_id\"] = baseline_train.groupby([\"person_id\", \"person_trip_id\"])[\"egress_area_id\"].shift(1)\n",
    "baseline_train[\"prev_transit_mode\"] = baseline_train.groupby([\"person_id\", \"person_trip_id\"])[\"transit_mode\"].shift(1)\n",
    "\n",
    "mask = (\n",
    "    (baseline_train[\"access_area_id\"] == baseline_train[\"prev_egress_area_id\"]) & \n",
    "    (baseline_train[\"transit_mode\"].isin([\"rail\", \"subway\"])) & \n",
    "    (baseline_train[\"prev_transit_mode\"].isin([\"rail\", \"subway\"]))\n",
    ")\n",
    "\n",
    "baseline_train = baseline_train[~mask].drop(columns=[\"prev_egress_area_id\", \"prev_transit_mode\"])\n",
    "baseline_train = baseline_train[(baseline_train.transit_mode != \"bus\") & (baseline_train.transit_mode != \"tram\")]\n",
    "\n",
    "baseline_train_count = baseline_train[\"access_area_id\"].value_counts().reset_index()\n",
    "baseline_train_count[\"count\"] *= fact\n",
    "\n",
    "baseline_train_count = baseline_train_count.merge(\n",
    "    stops[['stop_id', 'stop_name']],\n",
    "    left_on='access_area_id',\n",
    "    right_on='stop_id',\n",
    "    how='left'\n",
    ").rename(columns={'stop_name': 'name'}).drop('stop_id', axis=1)\n"
   ]
  },
  {
   "cell_type": "code",
   "execution_count": 114,
   "metadata": {},
   "outputs": [],
   "source": [
    "merge_data = train_data.merge(baseline_train_count, on = \"name\")\n",
    "merge_data = merge_data.rename(columns={\"count\" : \"Simulation de référence\", \"NB_VALD\" : \"Données de validation\"})\n",
    "melted_data = merge_data.melt(id_vars='name', value_vars=['Données de validation', 'Simulation de référence'], var_name='Metric', value_name='Value')\n",
    "merge_data_sample = merge_data.sample(10)\n",
    "melted_data_sample = merge_data_sample.melt(id_vars='name', value_vars=['Données de validation', 'Simulation de référence'], var_name='Metric', value_name='Value')\n",
    "\n",
    "fig = px.histogram(melted_data, x='name', y='Value', color='Metric', barmode='group',\n",
    "                   labels={\"name\": \"Arrêt\", \"Value\" : \"Nombre de validations\"}, title='Comparaison entre la référence et la simulation')\n",
    "fig.write_image(\"outputs/plots/validation/comp_ref_simu_ferre.png\", width=1000)\n",
    "\n",
    "merge_data['Percentage_Difference'] = (\n",
    "    (merge_data['Simulation de référence'] - merge_data['Données de validation']) / merge_data['Données de validation']\n",
    ") * 100\n",
    "\n",
    "filtered_data = merge_data[merge_data['name'].isin(merge_data['name'].to_list())]\n",
    "names = [\"Gare Montparnasse\", \"Gare de Lyon\", \"Gare de l'Est\", \"Aéroport CDG - Terminal 2 (TGV)\", \"Gare Saint-Lazare\"]\n",
    "merge_data = merge_data[merge_data[\"name\"].isin(names)]\n",
    "melted_data = merge_data.melt(id_vars='name', value_vars=['Données de validation', 'Simulation de référence'], var_name='Metric', value_name='Value')\n",
    "\n",
    "fig = px.histogram(melted_data, x='name', y='Value', color='Metric', barmode='group',\n",
    "                   labels={\"name\": \"Arrêt\", \"Value\" : \"Nombre de validations\"}, title='Comparaison entre la référence et la simulation')\n",
    "\n",
    "fig_diff = px.bar(filtered_data, x='name', y='Percentage_Difference',\n",
    "                  title='Différence (en %) entre les données de référence et la simulation baseline pour chaque arrêt',\n",
    "                  labels={'Percentage_Difference': 'Différence (%)', \"name\": \"Arrêt\"})\n",
    "\n",
    "fig_diff.write_image(\"outputs/plots/validation/comp_ref_simu_ferre_pourcent.png\", width=1000)\n",
    "sum_data = melted_data.groupby(\"Metric\")[\"Value\"].sum().reset_index()\n",
    "\n",
    "reference_value = sum_data.loc[sum_data[\"Metric\"] == \"Données de validation\", \"Value\"].values[0]\n",
    "simulation_value = sum_data.loc[sum_data[\"Metric\"] == \"Simulation de référence\", \"Value\"].values[0]\n",
    "diff_percentage = ((simulation_value - reference_value) / reference_value) * 100\n",
    "\n",
    "fig2 = px.bar(sum_data, x=\"Metric\", y=\"Value\", title=\"Somme totale des valeurs\")\n",
    "\n",
    "# Ajouter une annotation pour afficher la différence en pourcentage\n",
    "fig2.add_annotation(\n",
    "    x=0.5, y=max(reference_value, simulation_value),  # Position\n",
    "    text=f\"Différence : {diff_percentage:.2f}%\",  # Texte formaté\n",
    "    showarrow=False,\n",
    "    font=dict(size=14, color=\"red\"),\n",
    "    xref=\"paper\", yref=\"y\"\n",
    ")\n",
    "\n",
    "fig2.write_image(\"outputs/plots/validation/comp_ref_simu_ferre_total.png\", width=1000)\n",
    "\n",
    "fig_scatter = px.scatter(\n",
    "    merge_data, \n",
    "    x=\"Données de validation\", \n",
    "    y=\"Simulation de référence\",\n",
    "    hover_data=[\"name\"], \n",
    "    trendline=\"ols\",\n",
    "    title = \"Écarts entre les données de validation et la simulation par arrêt (trajets quotidiens)\")\n",
    "fig_scatter.data[0].name = \"Arrêts\"\n",
    "fig_scatter.data[0].showlegend = True\n",
    "fig_scatter.data[1].line.color = 'black'\n",
    "fig_scatter.data[1].line.width = 2\n",
    "fig_scatter.data[1].name = \"Régression linéaire\"\n",
    "fig_scatter.data[1].showlegend = True\n",
    "fig_scatter.add_trace(go.Scatter(x=[0,merge_data[\"Données de validation\"].max()], y=[0,merge_data[\"Données de validation\"].max()],mode=\"lines\", name=\"Idéal (x = y)\",line=dict(color=\"red\", dash=\"dash\")))\n",
    "\n",
    "fig_scatter.write_image(\"outputs/plots/validation/comp_ref_simu_ferre_scatter.png\", width=1000)"
   ]
  },
  {
   "cell_type": "code",
   "execution_count": 115,
   "metadata": {},
   "outputs": [
    {
     "data": {
      "application/pdf": "[encoded data removed]",
      "application/vnd.plotly.v1+json": {
       "config": {
        "plotlyServerURL": "https://plotly.com"
       },
       "data": [
        {
         "customdata": [
          [
           "Aéroport CDG - Terminal 2 (TGV)"
          ],
          [
           "Gare de l'Est"
          ],
          [
           "Gare de Lyon"
          ],
          [
           "Gare Saint-Lazare"
          ],
          [
           "Gare Montparnasse"
          ],
          [
           "Gare Saint-Lazare"
          ]
         ],
         "hovertemplate": "Données de validation=%{x}<br>Simulation de référence=%{y}<br>name=%{customdata[0]}<extra></extra>",
         "legendgroup": "",
         "marker": {
          "color": "#636efa",
          "symbol": "circle"
         },
         "mode": "markers",
         "name": "Arrêts",
         "orientation": "v",
         "showlegend": true,
         "type": "scatter",
         "x": {
          "bdata": "0UUXXVQxwUCMLrro4qf0QBA++OCnCPxAL7roogP45UCbbLLJOgX4QMomm2y86wpB",
          "dtype": "f8"
         },
         "xaxis": "x",
         "y": {
          "bdata": "IAMAAJxjAACgvgAAbEwBAORwAABsTAEA",
          "dtype": "i4"
         },
         "yaxis": "y"
        },
        {
         "hovertemplate": "<b>OLS trendline</b><br>Simulation de référence = 0.269469 * Données de validation + 20003.9<br>R<sup>2</sup>=0.326872<br><br>Données de validation=%{x}<br>Simulation de référence=%{y} <b>(trend)</b><extra></extra>",
         "legendgroup": "",
         "line": {
          "color": "black",
          "width": 2
         },
         "marker": {
          "color": "#636efa",
          "symbol": "circle"
         },
         "mode": "lines",
         "name": "Régression linéaire",
         "showlegend": true,
         "type": "scatter",
         "x": {
          "bdata": "0UUXXVQxwUAvuuiiA/jlQIwuuujip/RAm2yyyToF+EAQPvjgpwj8QMomm2y86wpB",
          "dtype": "f8"
         },
         "xaxis": "x",
         "y": {
          "bdata": "44wEs/vZ1UAW0Sqz9l/fQExCI0dT5uRAthgUBom25kAOtZ3gQODoQHmgic90ZPNA",
          "dtype": "f8"
         },
         "yaxis": "y"
        },
        {
         "line": {
          "color": "red",
          "dash": "dash"
         },
         "mode": "lines",
         "name": "Idéal (x = y)",
         "type": "scatter",
         "x": [
          0,
          220535.55303030304
         ],
         "y": [
          0,
          220535.55303030304
         ]
        }
       ],
       "layout": {
        "legend": {
         "tracegroupgap": 0
        },
        "template": {
         "data": {
          "bar": [
           {
            "error_x": {
             "color": "#2a3f5f"
            },
            "error_y": {
             "color": "#2a3f5f"
            },
            "marker": {
             "line": {
              "color": "white",
              "width": 0.5
             },
             "pattern": {
              "fillmode": "overlay",
              "size": 10,
              "solidity": 0.2
             }
            },
            "type": "bar"
           }
          ],
          "barpolar": [
           {
            "marker": {
             "line": {
              "color": "white",
              "width": 0.5
             },
             "pattern": {
              "fillmode": "overlay",
              "size": 10,
              "solidity": 0.2
             }
            },
            "type": "barpolar"
           }
          ],
          "carpet": [
           {
            "aaxis": {
             "endlinecolor": "#2a3f5f",
             "gridcolor": "#C8D4E3",
             "linecolor": "#C8D4E3",
             "minorgridcolor": "#C8D4E3",
             "startlinecolor": "#2a3f5f"
            },
            "baxis": {
             "endlinecolor": "#2a3f5f",
             "gridcolor": "#C8D4E3",
             "linecolor": "#C8D4E3",
             "minorgridcolor": "#C8D4E3",
             "startlinecolor": "#2a3f5f"
            },
            "type": "carpet"
           }
          ],
          "choropleth": [
           {
            "colorbar": {
             "outlinewidth": 0,
             "ticks": ""
            },
            "type": "choropleth"
           }
          ],
          "contour": [
           {
            "colorbar": {
             "outlinewidth": 0,
             "ticks": ""
            },
            "colorscale": [
             [
              0,
              "#0d0887"
             ],
             [
              0.1111111111111111,
              "#46039f"
             ],
             [
              0.2222222222222222,
              "#7201a8"
             ],
             [
              0.3333333333333333,
              "#9c179e"
             ],
             [
              0.4444444444444444,
              "#bd3786"
             ],
             [
              0.5555555555555556,
              "#d8576b"
             ],
             [
              0.6666666666666666,
              "#ed7953"
             ],
             [
              0.7777777777777778,
              "#fb9f3a"
             ],
             [
              0.8888888888888888,
              "#fdca26"
             ],
             [
              1,
              "#f0f921"
             ]
            ],
            "type": "contour"
           }
          ],
          "contourcarpet": [
           {
            "colorbar": {
             "outlinewidth": 0,
             "ticks": ""
            },
            "type": "contourcarpet"
           }
          ],
          "heatmap": [
           {
            "colorbar": {
             "outlinewidth": 0,
             "ticks": ""
            },
            "colorscale": [
             [
              0,
              "#0d0887"
             ],
             [
              0.1111111111111111,
              "#46039f"
             ],
             [
              0.2222222222222222,
              "#7201a8"
             ],
             [
              0.3333333333333333,
              "#9c179e"
             ],
             [
              0.4444444444444444,
              "#bd3786"
             ],
             [
              0.5555555555555556,
              "#d8576b"
             ],
             [
              0.6666666666666666,
              "#ed7953"
             ],
             [
              0.7777777777777778,
              "#fb9f3a"
             ],
             [
              0.8888888888888888,
              "#fdca26"
             ],
             [
              1,
              "#f0f921"
             ]
            ],
            "type": "heatmap"
           }
          ],
          "histogram": [
           {
            "marker": {
             "pattern": {
              "fillmode": "overlay",
              "size": 10,
              "solidity": 0.2
             }
            },
            "type": "histogram"
           }
          ],
          "histogram2d": [
           {
            "colorbar": {
             "outlinewidth": 0,
             "ticks": ""
            },
            "colorscale": [
             [
              0,
              "#0d0887"
             ],
             [
              0.1111111111111111,
              "#46039f"
             ],
             [
              0.2222222222222222,
              "#7201a8"
             ],
             [
              0.3333333333333333,
              "#9c179e"
             ],
             [
              0.4444444444444444,
              "#bd3786"
             ],
             [
              0.5555555555555556,
              "#d8576b"
             ],
             [
              0.6666666666666666,
              "#ed7953"
             ],
             [
              0.7777777777777778,
              "#fb9f3a"
             ],
             [
              0.8888888888888888,
              "#fdca26"
             ],
             [
              1,
              "#f0f921"
             ]
            ],
            "type": "histogram2d"
           }
          ],
          "histogram2dcontour": [
           {
            "colorbar": {
             "outlinewidth": 0,
             "ticks": ""
            },
            "colorscale": [
             [
              0,
              "#0d0887"
             ],
             [
              0.1111111111111111,
              "#46039f"
             ],
             [
              0.2222222222222222,
              "#7201a8"
             ],
             [
              0.3333333333333333,
              "#9c179e"
             ],
             [
              0.4444444444444444,
              "#bd3786"
             ],
             [
              0.5555555555555556,
              "#d8576b"
             ],
             [
              0.6666666666666666,
              "#ed7953"
             ],
             [
              0.7777777777777778,
              "#fb9f3a"
             ],
             [
              0.8888888888888888,
              "#fdca26"
             ],
             [
              1,
              "#f0f921"
             ]
            ],
            "type": "histogram2dcontour"
           }
          ],
          "mesh3d": [
           {
            "colorbar": {
             "outlinewidth": 0,
             "ticks": ""
            },
            "type": "mesh3d"
           }
          ],
          "parcoords": [
           {
            "line": {
             "colorbar": {
              "outlinewidth": 0,
              "ticks": ""
             }
            },
            "type": "parcoords"
           }
          ],
          "pie": [
           {
            "automargin": true,
            "type": "pie"
           }
          ],
          "scatter": [
           {
            "fillpattern": {
             "fillmode": "overlay",
             "size": 10,
             "solidity": 0.2
            },
            "type": "scatter"
           }
          ],
          "scatter3d": [
           {
            "line": {
             "colorbar": {
              "outlinewidth": 0,
              "ticks": ""
             }
            },
            "marker": {
             "colorbar": {
              "outlinewidth": 0,
              "ticks": ""
             }
            },
            "type": "scatter3d"
           }
          ],
          "scattercarpet": [
           {
            "marker": {
             "colorbar": {
              "outlinewidth": 0,
              "ticks": ""
             }
            },
            "type": "scattercarpet"
           }
          ],
          "scattergeo": [
           {
            "marker": {
             "colorbar": {
              "outlinewidth": 0,
              "ticks": ""
             }
            },
            "type": "scattergeo"
           }
          ],
          "scattergl": [
           {
            "marker": {
             "colorbar": {
              "outlinewidth": 0,
              "ticks": ""
             }
            },
            "type": "scattergl"
           }
          ],
          "scattermap": [
           {
            "marker": {
             "colorbar": {
              "outlinewidth": 0,
              "ticks": ""
             }
            },
            "type": "scattermap"
           }
          ],
          "scattermapbox": [
           {
            "marker": {
             "colorbar": {
              "outlinewidth": 0,
              "ticks": ""
             }
            },
            "type": "scattermapbox"
           }
          ],
          "scatterpolar": [
           {
            "marker": {
             "colorbar": {
              "outlinewidth": 0,
              "ticks": ""
             }
            },
            "type": "scatterpolar"
           }
          ],
          "scatterpolargl": [
           {
            "marker": {
             "colorbar": {
              "outlinewidth": 0,
              "ticks": ""
             }
            },
            "type": "scatterpolargl"
           }
          ],
          "scatterternary": [
           {
            "marker": {
             "colorbar": {
              "outlinewidth": 0,
              "ticks": ""
             }
            },
            "type": "scatterternary"
           }
          ],
          "surface": [
           {
            "colorbar": {
             "outlinewidth": 0,
             "ticks": ""
            },
            "colorscale": [
             [
              0,
              "#0d0887"
             ],
             [
              0.1111111111111111,
              "#46039f"
             ],
             [
              0.2222222222222222,
              "#7201a8"
             ],
             [
              0.3333333333333333,
              "#9c179e"
             ],
             [
              0.4444444444444444,
              "#bd3786"
             ],
             [
              0.5555555555555556,
              "#d8576b"
             ],
             [
              0.6666666666666666,
              "#ed7953"
             ],
             [
              0.7777777777777778,
              "#fb9f3a"
             ],
             [
              0.8888888888888888,
              "#fdca26"
             ],
             [
              1,
              "#f0f921"
             ]
            ],
            "type": "surface"
           }
          ],
          "table": [
           {
            "cells": {
             "fill": {
              "color": "#EBF0F8"
             },
             "line": {
              "color": "white"
             }
            },
            "header": {
             "fill": {
              "color": "#C8D4E3"
             },
             "line": {
              "color": "white"
             }
            },
            "type": "table"
           }
          ]
         },
         "layout": {
          "annotationdefaults": {
           "arrowcolor": "#2a3f5f",
           "arrowhead": 0,
           "arrowwidth": 1
          },
          "autotypenumbers": "strict",
          "coloraxis": {
           "colorbar": {
            "outlinewidth": 0,
            "ticks": ""
           }
          },
          "colorscale": {
           "diverging": [
            [
             0,
             "#8e0152"
            ],
            [
             0.1,
             "#c51b7d"
            ],
            [
             0.2,
             "#de77ae"
            ],
            [
             0.3,
             "#f1b6da"
            ],
            [
             0.4,
             "#fde0ef"
            ],
            [
             0.5,
             "#f7f7f7"
            ],
            [
             0.6,
             "#e6f5d0"
            ],
            [
             0.7,
             "#b8e186"
            ],
            [
             0.8,
             "#7fbc41"
            ],
            [
             0.9,
             "#4d9221"
            ],
            [
             1,
             "#276419"
            ]
           ],
           "sequential": [
            [
             0,
             "#0d0887"
            ],
            [
             0.1111111111111111,
             "#46039f"
            ],
            [
             0.2222222222222222,
             "#7201a8"
            ],
            [
             0.3333333333333333,
             "#9c179e"
            ],
            [
             0.4444444444444444,
             "#bd3786"
            ],
            [
             0.5555555555555556,
             "#d8576b"
            ],
            [
             0.6666666666666666,
             "#ed7953"
            ],
            [
             0.7777777777777778,
             "#fb9f3a"
            ],
            [
             0.8888888888888888,
             "#fdca26"
            ],
            [
             1,
             "#f0f921"
            ]
           ],
           "sequentialminus": [
            [
             0,
             "#0d0887"
            ],
            [
             0.1111111111111111,
             "#46039f"
            ],
            [
             0.2222222222222222,
             "#7201a8"
            ],
            [
             0.3333333333333333,
             "#9c179e"
            ],
            [
             0.4444444444444444,
             "#bd3786"
            ],
            [
             0.5555555555555556,
             "#d8576b"
            ],
            [
             0.6666666666666666,
             "#ed7953"
            ],
            [
             0.7777777777777778,
             "#fb9f3a"
            ],
            [
             0.8888888888888888,
             "#fdca26"
            ],
            [
             1,
             "#f0f921"
            ]
           ]
          },
          "colorway": [
           "#636efa",
           "#EF553B",
           "#00cc96",
           "#ab63fa",
           "#FFA15A",
           "#19d3f3",
           "#FF6692",
           "#B6E880",
           "#FF97FF",
           "#FECB52"
          ],
          "font": {
           "size": 15
          },
          "geo": {
           "bgcolor": "white",
           "lakecolor": "white",
           "landcolor": "white",
           "showlakes": true,
           "showland": true,
           "subunitcolor": "#C8D4E3"
          },
          "hoverlabel": {
           "align": "left"
          },
          "hovermode": "closest",
          "mapbox": {
           "style": "light"
          },
          "paper_bgcolor": "white",
          "plot_bgcolor": "white",
          "polar": {
           "angularaxis": {
            "gridcolor": "#EBF0F8",
            "linecolor": "#EBF0F8",
            "ticks": ""
           },
           "bgcolor": "white",
           "radialaxis": {
            "gridcolor": "#EBF0F8",
            "linecolor": "#EBF0F8",
            "ticks": ""
           }
          },
          "scene": {
           "xaxis": {
            "backgroundcolor": "white",
            "gridcolor": "#DFE8F3",
            "gridwidth": 2,
            "linecolor": "#EBF0F8",
            "showbackground": true,
            "ticks": "",
            "zerolinecolor": "#EBF0F8"
           },
           "yaxis": {
            "backgroundcolor": "white",
            "gridcolor": "#DFE8F3",
            "gridwidth": 2,
            "linecolor": "#EBF0F8",
            "showbackground": true,
            "ticks": "",
            "zerolinecolor": "#EBF0F8"
           },
           "zaxis": {
            "backgroundcolor": "white",
            "gridcolor": "#DFE8F3",
            "gridwidth": 2,
            "linecolor": "#EBF0F8",
            "showbackground": true,
            "ticks": "",
            "zerolinecolor": "#EBF0F8"
           }
          },
          "shapedefaults": {
           "line": {
            "color": "#2a3f5f"
           }
          },
          "ternary": {
           "aaxis": {
            "gridcolor": "#DFE8F3",
            "linecolor": "#A2B1C6",
            "ticks": ""
           },
           "baxis": {
            "gridcolor": "#DFE8F3",
            "linecolor": "#A2B1C6",
            "ticks": ""
           },
           "bgcolor": "white",
           "caxis": {
            "gridcolor": "#DFE8F3",
            "linecolor": "#A2B1C6",
            "ticks": ""
           }
          },
          "title": {
           "x": 0.05
          },
          "xaxis": {
           "automargin": true,
           "gridcolor": "#EBF0F8",
           "linecolor": "#EBF0F8",
           "ticks": "",
           "title": {
            "standoff": 15
           },
           "zerolinecolor": "#EBF0F8",
           "zerolinewidth": 2
          },
          "yaxis": {
           "automargin": true,
           "gridcolor": "#EBF0F8",
           "linecolor": "#EBF0F8",
           "ticks": "",
           "title": {
            "standoff": 15
           },
           "zerolinecolor": "#EBF0F8",
           "zerolinewidth": 2
          }
         }
        },
        "title": {
         "text": "Écarts entre les données de validation et la simulation par arrêt (trajets quotidiens)"
        },
        "xaxis": {
         "anchor": "y",
         "domain": [
          0,
          1
         ],
         "title": {
          "text": "Données de validation"
         }
        },
        "yaxis": {
         "anchor": "x",
         "domain": [
          0,
          1
         ],
         "title": {
          "text": "Simulation de référence"
         }
        }
       }
      }
     },
     "metadata": {},
     "output_type": "display_data"
    }
   ],
   "source": [
    "fig_scatter.show()"
   ]
  },
  {
   "cell_type": "markdown",
   "metadata": {},
   "source": [
    "Sur la figure ci-dessus, est représenté la correspondance entre la simulation et les données de validation du nombre de trajets quotidiens pour chaque arrêt du réseau ferré. \n",
    "\n",
    "Cela montre que la simulation tend à surestimer le nombre de validations pour les arrêts faiblement fréquentés (moins de 15 000 validations), puis à sous-estimer progressivement les volumes plus elevées.\n",
    "\n",
    "Cette sous-estimation, notamment présente dans les grandes gares (comme Saint-Lazare), peut s'expliquer par le fait que seule la population résidant en Île-de-France est prise en compte dans la simulation. Les voyageurs longue distance (TGV), les touristes ou les usagers des\n",
    "aéroports ne sont donc pas représentés, ce qui conduit logiquement à une sous-estimation sur ces points d’intérêt majeurs."
   ]
  },
  {
   "cell_type": "code",
   "execution_count": 116,
   "metadata": {},
   "outputs": [
    {
     "data": {
      "application/pdf": "[encoded data removed]",
      "application/vnd.plotly.v1+json": {
       "config": {
        "plotlyServerURL": "https://plotly.com"
       },
       "data": [
        {
         "alignmentgroup": "True",
         "bingroup": "x",
         "histfunc": "sum",
         "hovertemplate": "Metric=Données de validation<br>Arrêt=%{x}<br>sum of Nombre de validations=%{y}<extra></extra>",
         "legendgroup": "Données de validation",
         "marker": {
          "color": "#636efa",
          "pattern": {
           "shape": ""
          }
         },
         "name": "Données de validation",
         "offsetgroup": "Données de validation",
         "orientation": "v",
         "showlegend": true,
         "type": "histogram",
         "x": [
          "Aéroport CDG - Terminal 2 (TGV)",
          "Gare de l'Est",
          "Gare de Lyon",
          "Gare Saint-Lazare",
          "Gare Montparnasse",
          "Gare Saint-Lazare"
         ],
         "xaxis": "x",
         "y": {
          "bdata": "0UUXXVQxwUCMLrro4qf0QBA++OCnCPxAL7roogP45UCbbLLJOgX4QMomm2y86wpB",
          "dtype": "f8"
         },
         "yaxis": "y"
        },
        {
         "alignmentgroup": "True",
         "bingroup": "x",
         "histfunc": "sum",
         "hovertemplate": "Metric=Simulation de référence<br>Arrêt=%{x}<br>sum of Nombre de validations=%{y}<extra></extra>",
         "legendgroup": "Simulation de référence",
         "marker": {
          "color": "#EF553B",
          "pattern": {
           "shape": ""
          }
         },
         "name": "Simulation de référence",
         "offsetgroup": "Simulation de référence",
         "orientation": "v",
         "showlegend": true,
         "type": "histogram",
         "x": [
          "Aéroport CDG - Terminal 2 (TGV)",
          "Gare de l'Est",
          "Gare de Lyon",
          "Gare Saint-Lazare",
          "Gare Montparnasse",
          "Gare Saint-Lazare"
         ],
         "xaxis": "x",
         "y": {
          "bdata": "AAAAAAAAiUAAAAAAAOfYQAAAAAAA1OdAAAAAAMDG9EAAAAAAADncQAAAAADAxvRA",
          "dtype": "f8"
         },
         "yaxis": "y"
        }
       ],
       "layout": {
        "barmode": "group",
        "legend": {
         "title": {
          "text": "Metric"
         },
         "tracegroupgap": 0
        },
        "template": {
         "data": {
          "bar": [
           {
            "error_x": {
             "color": "#2a3f5f"
            },
            "error_y": {
             "color": "#2a3f5f"
            },
            "marker": {
             "line": {
              "color": "white",
              "width": 0.5
             },
             "pattern": {
              "fillmode": "overlay",
              "size": 10,
              "solidity": 0.2
             }
            },
            "type": "bar"
           }
          ],
          "barpolar": [
           {
            "marker": {
             "line": {
              "color": "white",
              "width": 0.5
             },
             "pattern": {
              "fillmode": "overlay",
              "size": 10,
              "solidity": 0.2
             }
            },
            "type": "barpolar"
           }
          ],
          "carpet": [
           {
            "aaxis": {
             "endlinecolor": "#2a3f5f",
             "gridcolor": "#C8D4E3",
             "linecolor": "#C8D4E3",
             "minorgridcolor": "#C8D4E3",
             "startlinecolor": "#2a3f5f"
            },
            "baxis": {
             "endlinecolor": "#2a3f5f",
             "gridcolor": "#C8D4E3",
             "linecolor": "#C8D4E3",
             "minorgridcolor": "#C8D4E3",
             "startlinecolor": "#2a3f5f"
            },
            "type": "carpet"
           }
          ],
          "choropleth": [
           {
            "colorbar": {
             "outlinewidth": 0,
             "ticks": ""
            },
            "type": "choropleth"
           }
          ],
          "contour": [
           {
            "colorbar": {
             "outlinewidth": 0,
             "ticks": ""
            },
            "colorscale": [
             [
              0,
              "#0d0887"
             ],
             [
              0.1111111111111111,
              "#46039f"
             ],
             [
              0.2222222222222222,
              "#7201a8"
             ],
             [
              0.3333333333333333,
              "#9c179e"
             ],
             [
              0.4444444444444444,
              "#bd3786"
             ],
             [
              0.5555555555555556,
              "#d8576b"
             ],
             [
              0.6666666666666666,
              "#ed7953"
             ],
             [
              0.7777777777777778,
              "#fb9f3a"
             ],
             [
              0.8888888888888888,
              "#fdca26"
             ],
             [
              1,
              "#f0f921"
             ]
            ],
            "type": "contour"
           }
          ],
          "contourcarpet": [
           {
            "colorbar": {
             "outlinewidth": 0,
             "ticks": ""
            },
            "type": "contourcarpet"
           }
          ],
          "heatmap": [
           {
            "colorbar": {
             "outlinewidth": 0,
             "ticks": ""
            },
            "colorscale": [
             [
              0,
              "#0d0887"
             ],
             [
              0.1111111111111111,
              "#46039f"
             ],
             [
              0.2222222222222222,
              "#7201a8"
             ],
             [
              0.3333333333333333,
              "#9c179e"
             ],
             [
              0.4444444444444444,
              "#bd3786"
             ],
             [
              0.5555555555555556,
              "#d8576b"
             ],
             [
              0.6666666666666666,
              "#ed7953"
             ],
             [
              0.7777777777777778,
              "#fb9f3a"
             ],
             [
              0.8888888888888888,
              "#fdca26"
             ],
             [
              1,
              "#f0f921"
             ]
            ],
            "type": "heatmap"
           }
          ],
          "histogram": [
           {
            "marker": {
             "pattern": {
              "fillmode": "overlay",
              "size": 10,
              "solidity": 0.2
             }
            },
            "type": "histogram"
           }
          ],
          "histogram2d": [
           {
            "colorbar": {
             "outlinewidth": 0,
             "ticks": ""
            },
            "colorscale": [
             [
              0,
              "#0d0887"
             ],
             [
              0.1111111111111111,
              "#46039f"
             ],
             [
              0.2222222222222222,
              "#7201a8"
             ],
             [
              0.3333333333333333,
              "#9c179e"
             ],
             [
              0.4444444444444444,
              "#bd3786"
             ],
             [
              0.5555555555555556,
              "#d8576b"
             ],
             [
              0.6666666666666666,
              "#ed7953"
             ],
             [
              0.7777777777777778,
              "#fb9f3a"
             ],
             [
              0.8888888888888888,
              "#fdca26"
             ],
             [
              1,
              "#f0f921"
             ]
            ],
            "type": "histogram2d"
           }
          ],
          "histogram2dcontour": [
           {
            "colorbar": {
             "outlinewidth": 0,
             "ticks": ""
            },
            "colorscale": [
             [
              0,
              "#0d0887"
             ],
             [
              0.1111111111111111,
              "#46039f"
             ],
             [
              0.2222222222222222,
              "#7201a8"
             ],
             [
              0.3333333333333333,
              "#9c179e"
             ],
             [
              0.4444444444444444,
              "#bd3786"
             ],
             [
              0.5555555555555556,
              "#d8576b"
             ],
             [
              0.6666666666666666,
              "#ed7953"
             ],
             [
              0.7777777777777778,
              "#fb9f3a"
             ],
             [
              0.8888888888888888,
              "#fdca26"
             ],
             [
              1,
              "#f0f921"
             ]
            ],
            "type": "histogram2dcontour"
           }
          ],
          "mesh3d": [
           {
            "colorbar": {
             "outlinewidth": 0,
             "ticks": ""
            },
            "type": "mesh3d"
           }
          ],
          "parcoords": [
           {
            "line": {
             "colorbar": {
              "outlinewidth": 0,
              "ticks": ""
             }
            },
            "type": "parcoords"
           }
          ],
          "pie": [
           {
            "automargin": true,
            "type": "pie"
           }
          ],
          "scatter": [
           {
            "fillpattern": {
             "fillmode": "overlay",
             "size": 10,
             "solidity": 0.2
            },
            "type": "scatter"
           }
          ],
          "scatter3d": [
           {
            "line": {
             "colorbar": {
              "outlinewidth": 0,
              "ticks": ""
             }
            },
            "marker": {
             "colorbar": {
              "outlinewidth": 0,
              "ticks": ""
             }
            },
            "type": "scatter3d"
           }
          ],
          "scattercarpet": [
           {
            "marker": {
             "colorbar": {
              "outlinewidth": 0,
              "ticks": ""
             }
            },
            "type": "scattercarpet"
           }
          ],
          "scattergeo": [
           {
            "marker": {
             "colorbar": {
              "outlinewidth": 0,
              "ticks": ""
             }
            },
            "type": "scattergeo"
           }
          ],
          "scattergl": [
           {
            "marker": {
             "colorbar": {
              "outlinewidth": 0,
              "ticks": ""
             }
            },
            "type": "scattergl"
           }
          ],
          "scattermap": [
           {
            "marker": {
             "colorbar": {
              "outlinewidth": 0,
              "ticks": ""
             }
            },
            "type": "scattermap"
           }
          ],
          "scattermapbox": [
           {
            "marker": {
             "colorbar": {
              "outlinewidth": 0,
              "ticks": ""
             }
            },
            "type": "scattermapbox"
           }
          ],
          "scatterpolar": [
           {
            "marker": {
             "colorbar": {
              "outlinewidth": 0,
              "ticks": ""
             }
            },
            "type": "scatterpolar"
           }
          ],
          "scatterpolargl": [
           {
            "marker": {
             "colorbar": {
              "outlinewidth": 0,
              "ticks": ""
             }
            },
            "type": "scatterpolargl"
           }
          ],
          "scatterternary": [
           {
            "marker": {
             "colorbar": {
              "outlinewidth": 0,
              "ticks": ""
             }
            },
            "type": "scatterternary"
           }
          ],
          "surface": [
           {
            "colorbar": {
             "outlinewidth": 0,
             "ticks": ""
            },
            "colorscale": [
             [
              0,
              "#0d0887"
             ],
             [
              0.1111111111111111,
              "#46039f"
             ],
             [
              0.2222222222222222,
              "#7201a8"
             ],
             [
              0.3333333333333333,
              "#9c179e"
             ],
             [
              0.4444444444444444,
              "#bd3786"
             ],
             [
              0.5555555555555556,
              "#d8576b"
             ],
             [
              0.6666666666666666,
              "#ed7953"
             ],
             [
              0.7777777777777778,
              "#fb9f3a"
             ],
             [
              0.8888888888888888,
              "#fdca26"
             ],
             [
              1,
              "#f0f921"
             ]
            ],
            "type": "surface"
           }
          ],
          "table": [
           {
            "cells": {
             "fill": {
              "color": "#EBF0F8"
             },
             "line": {
              "color": "white"
             }
            },
            "header": {
             "fill": {
              "color": "#C8D4E3"
             },
             "line": {
              "color": "white"
             }
            },
            "type": "table"
           }
          ]
         },
         "layout": {
          "annotationdefaults": {
           "arrowcolor": "#2a3f5f",
           "arrowhead": 0,
           "arrowwidth": 1
          },
          "autotypenumbers": "strict",
          "coloraxis": {
           "colorbar": {
            "outlinewidth": 0,
            "ticks": ""
           }
          },
          "colorscale": {
           "diverging": [
            [
             0,
             "#8e0152"
            ],
            [
             0.1,
             "#c51b7d"
            ],
            [
             0.2,
             "#de77ae"
            ],
            [
             0.3,
             "#f1b6da"
            ],
            [
             0.4,
             "#fde0ef"
            ],
            [
             0.5,
             "#f7f7f7"
            ],
            [
             0.6,
             "#e6f5d0"
            ],
            [
             0.7,
             "#b8e186"
            ],
            [
             0.8,
             "#7fbc41"
            ],
            [
             0.9,
             "#4d9221"
            ],
            [
             1,
             "#276419"
            ]
           ],
           "sequential": [
            [
             0,
             "#0d0887"
            ],
            [
             0.1111111111111111,
             "#46039f"
            ],
            [
             0.2222222222222222,
             "#7201a8"
            ],
            [
             0.3333333333333333,
             "#9c179e"
            ],
            [
             0.4444444444444444,
             "#bd3786"
            ],
            [
             0.5555555555555556,
             "#d8576b"
            ],
            [
             0.6666666666666666,
             "#ed7953"
            ],
            [
             0.7777777777777778,
             "#fb9f3a"
            ],
            [
             0.8888888888888888,
             "#fdca26"
            ],
            [
             1,
             "#f0f921"
            ]
           ],
           "sequentialminus": [
            [
             0,
             "#0d0887"
            ],
            [
             0.1111111111111111,
             "#46039f"
            ],
            [
             0.2222222222222222,
             "#7201a8"
            ],
            [
             0.3333333333333333,
             "#9c179e"
            ],
            [
             0.4444444444444444,
             "#bd3786"
            ],
            [
             0.5555555555555556,
             "#d8576b"
            ],
            [
             0.6666666666666666,
             "#ed7953"
            ],
            [
             0.7777777777777778,
             "#fb9f3a"
            ],
            [
             0.8888888888888888,
             "#fdca26"
            ],
            [
             1,
             "#f0f921"
            ]
           ]
          },
          "colorway": [
           "#636efa",
           "#EF553B",
           "#00cc96",
           "#ab63fa",
           "#FFA15A",
           "#19d3f3",
           "#FF6692",
           "#B6E880",
           "#FF97FF",
           "#FECB52"
          ],
          "font": {
           "size": 15
          },
          "geo": {
           "bgcolor": "white",
           "lakecolor": "white",
           "landcolor": "white",
           "showlakes": true,
           "showland": true,
           "subunitcolor": "#C8D4E3"
          },
          "hoverlabel": {
           "align": "left"
          },
          "hovermode": "closest",
          "mapbox": {
           "style": "light"
          },
          "paper_bgcolor": "white",
          "plot_bgcolor": "white",
          "polar": {
           "angularaxis": {
            "gridcolor": "#EBF0F8",
            "linecolor": "#EBF0F8",
            "ticks": ""
           },
           "bgcolor": "white",
           "radialaxis": {
            "gridcolor": "#EBF0F8",
            "linecolor": "#EBF0F8",
            "ticks": ""
           }
          },
          "scene": {
           "xaxis": {
            "backgroundcolor": "white",
            "gridcolor": "#DFE8F3",
            "gridwidth": 2,
            "linecolor": "#EBF0F8",
            "showbackground": true,
            "ticks": "",
            "zerolinecolor": "#EBF0F8"
           },
           "yaxis": {
            "backgroundcolor": "white",
            "gridcolor": "#DFE8F3",
            "gridwidth": 2,
            "linecolor": "#EBF0F8",
            "showbackground": true,
            "ticks": "",
            "zerolinecolor": "#EBF0F8"
           },
           "zaxis": {
            "backgroundcolor": "white",
            "gridcolor": "#DFE8F3",
            "gridwidth": 2,
            "linecolor": "#EBF0F8",
            "showbackground": true,
            "ticks": "",
            "zerolinecolor": "#EBF0F8"
           }
          },
          "shapedefaults": {
           "line": {
            "color": "#2a3f5f"
           }
          },
          "ternary": {
           "aaxis": {
            "gridcolor": "#DFE8F3",
            "linecolor": "#A2B1C6",
            "ticks": ""
           },
           "baxis": {
            "gridcolor": "#DFE8F3",
            "linecolor": "#A2B1C6",
            "ticks": ""
           },
           "bgcolor": "white",
           "caxis": {
            "gridcolor": "#DFE8F3",
            "linecolor": "#A2B1C6",
            "ticks": ""
           }
          },
          "title": {
           "x": 0.05
          },
          "xaxis": {
           "automargin": true,
           "gridcolor": "#EBF0F8",
           "linecolor": "#EBF0F8",
           "ticks": "",
           "title": {
            "standoff": 15
           },
           "zerolinecolor": "#EBF0F8",
           "zerolinewidth": 2
          },
          "yaxis": {
           "automargin": true,
           "gridcolor": "#EBF0F8",
           "linecolor": "#EBF0F8",
           "ticks": "",
           "title": {
            "standoff": 15
           },
           "zerolinecolor": "#EBF0F8",
           "zerolinewidth": 2
          }
         }
        },
        "title": {
         "text": "Comparaison entre la référence et la simulation"
        },
        "xaxis": {
         "anchor": "y",
         "domain": [
          0,
          1
         ],
         "title": {
          "text": "Arrêt"
         }
        },
        "yaxis": {
         "anchor": "x",
         "domain": [
          0,
          1
         ],
         "title": {
          "text": "sum of Nombre de validations"
         }
        }
       }
      }
     },
     "metadata": {},
     "output_type": "display_data"
    }
   ],
   "source": [
    "fig.show()"
   ]
  },
  {
   "cell_type": "markdown",
   "metadata": {},
   "source": [
    "La figure ci-dessus nous permet d'avoir un aperçu plus précis du nombre de validations pour un sample de 10 gares."
   ]
  },
  {
   "cell_type": "code",
   "execution_count": 103,
   "metadata": {},
   "outputs": [
    {
     "data": {
      "application/pdf": "[encoded data removed]",
      "application/vnd.plotly.v1+json": {
       "config": {
        "plotlyServerURL": "https://plotly.com"
       },
       "data": [
        {
         "hovertemplate": "Arrêt=%{x}<br>Différence (%)=%{y}<extra></extra>",
         "legendgroup": "",
         "marker": {
          "color": "#636efa",
          "pattern": {
           "shape": ""
          }
         },
         "name": "",
         "orientation": "v",
         "showlegend": false,
         "textposition": "auto",
         "type": "bar",
         "x": [
          "Aéroport CDG 1 (Terminal 3)",
          "Aéroport CDG - Terminal 2 (TGV)",
          "Aéroport d’Orly (Terminaux 1-2-3)",
          "Alésia",
          "Alexandre Dumas",
          "Alma - Marceau",
          "Antony",
          "Anvers",
          "Argenteuil",
          "Argentine",
          "Arts et Métiers",
          "Assemblée Nationale",
          "Aubervilliers-Pantin Quatre Chemins",
          "Balard",
          "Barbès - Rochechouart",
          "Bastille",
          "Belleville",
          "Bérault",
          "Bercy",
          "Bir-Hakeim",
          "Blanche",
          "Bobigny Pablo Picasso",
          "Bolivar",
          "Bonne Nouvelle",
          "Bonnières",
          "Pont du Garigliano - Hôpital Européen G. Pompidou",
          "Bourse",
          "Bréval",
          "Bussy-Saint-Georges",
          "Cadet",
          "Cambronne",
          "Cergy Préfecture",
          "Château de Vincennes",
          "Champigny",
          "Charles Michels",
          "Château d'Eau",
          "Château Rouge",
          "Châtelet",
          "Châtillon-Montrouge",
          "Chaussée d'Antin - La Fayette",
          "Chevaleret",
          "Cité",
          "Colonel Fabien",
          "Concorde",
          "Convention",
          "Corentin Celton",
          "Coulommiers",
          "Cour Saint-Emilion",
          "Créteil - Préfecture",
          "Créteil - Université",
          "Crimée",
          "Drancy",
          "École Militaire",
          "Ermont - Eaubonne",
          "Esplanade de la Défense",
          "Évry - Courcouronnes",
          "Franklin D. Roosevelt",
          "Faremoutiers - Pommeuse",
          "Fontainebleau - Avon",
          "Fontenay-le-Fleury",
          "Front Populaire",
          "Gagny",
          "Gaîté",
          "Gallieni",
          "Gare d'Austerlitz",
          "Gare de l'Est",
          "Gare de Lyon",
          "Garges - Sarcelles",
          "Gazeran",
          "Grands Boulevards",
          "George V",
          "Goncourt",
          "Gretz-Armainvilliers",
          "Hoche",
          "Hôtel de Ville",
          "Houdan",
          "Jussieu",
          "Juvisy",
          "Kléber",
          "La Courneuve - 8 Mai 1945",
          "La Défense",
          "Champ de Mars Tour Eiffel",
          "La Tour-Maubourg",
          "Les Halles",
          "Lognes",
          "Louvre - Rivoli",
          "Bagneux - Lucie Aubrac",
          "Marne-la-Vallée Chessy",
          "Mabillon",
          "Madeleine",
          "Malesherbes",
          "Marolles-en-Hurepoix",
          "Massy - Palaiseau",
          "Maubert - Mutualité",
          "Meaux",
          "Melun",
          "Gare Montparnasse",
          "Montreuil",
          "Mormant",
          "Les Mureaux",
          "Notre-Dame des Champs",
          "Nanterre Préfecture",
          "Nanterre Université",
          "Nanteuil - Saâcy",
          "Nemours Saint-Pierre",
          "Noisiel",
          "Noisy - Champs",
          "Noisy-le-Grand - Mont d'Est",
          "Odéon",
          "Olympiades",
          "Orgerus - Béhoust",
          "Palais Royal - Musée du Louvre",
          "Pelleport",
          "Picpus",
          "Pigalle",
          "Place de Clichy",
          "Plaisir - Les Clayes",
          "Poissonnière",
          "Poissy",
          "Brochant",
          "Pont de Neuilly",
          "Pont Neuf",
          "Pontoise",
          "Porte d'Italie",
          "Porte de Versailles",
          "Porte Dauphine",
          "Porte d'Auteuil",
          "Porte d'Orléans",
          "Porte de Vincennes",
          "Porte de la Chapelle",
          "Porte de la Villette",
          "Porte de Choisy",
          "Porte de Pantin",
          "Porte de Montreuil",
          "Pyramides",
          "Quai de la Gare",
          "Rambouillet",
          "Rambuteau",
          "Réaumur - Sébastopol",
          "République",
          "Reuilly - Diderot",
          "Richelieu - Drouot",
          "Rome",
          "Rue du Bac",
          "Saint-Fargeau",
          "Saint-Fargeau",
          "Saint-Jacques",
          "Gare Saint-Lazare",
          "Saint-Marcel",
          "Saint-Paul (Le Marais)",
          "Saint-Placide",
          "Saint-Sulpice",
          "Sentier",
          "Sèvres - Babylone",
          "Solférino",
          "Souppes - Château-Landon",
          "Saint-Denis",
          "Saint-Martin d'Étampes",
          "Saint-Ouen-l'Aumône",
          "Saint-Denis - Porte de Paris",
          "Saint-Germain-des-Prés",
          "Saint-Mandé",
          "Saint-Sébastien - Froissart",
          "Sainte-Geneviève-des-Bois",
          "Strasbourg - Saint-Denis",
          "Survilliers - Fosses",
          "Ternes",
          "Torcy",
          "Trinité - d'Estienne d'Orves",
          "Trocadéro",
          "Val d'Europe",
          "Val de Fontenay",
          "Vavin",
          "Versailles Chantiers",
          "Versailles Rive Droite",
          "Versailles Château Rive Gauche",
          "Viarmes",
          "Victor Hugo",
          "Villejuif - Louis Aragon",
          "Villeneuve-Saint-Georges",
          "Villiers",
          "Villiers - Neauphle - Pontchartrain",
          "Voltaire"
         ],
         "xaxis": "x",
         "y": {
          "bdata": "meOf8Kt3KsDVDeOJW7pWwIuv+W3pHFXA2DjXgEYlM8A7DnRAvdAwwKs2shDQ2UPAUlQ3WWj+MsDrZa2USIY4wNHHRku7UxLA9A8gXgU1RsBMfEll9YH3v28VHmCUJUjAYjX26hCYK8CdDjWiU688wGCaWz3P7CrAWBdhZR4cMsALWyCht+0swALfaEK/DyrAzDtOk0tFLsCV5jhQ1w82wJ0MFTB4sijAnQdGeDhnNcB3VDp4x3kpwA/hVXN7UxnAPKhePMQVKMB4X7YWf5/jv8p0pOFv+TzAt3D0SSuPMcBhO7BZAHMjwCgSzbgCzEHAVdfdU9ajJMCz3i/r/bIywIK+4cYkbTTABdRxNM3QIMCuR2y4SL5AwHS+Dazw7zvAFcaRPc6UTMBXq+nT8d1BwHCKJdTwp/2/z7Gsw6H9QsA/8oUK0KZAwHH+3IaBwj7AuHL5ruazOMCqh5iO37hDwKpNKw0smDDA1EZZCTwc4L+JoetdYhgwwAH+ZdoXYyPAPVO7l7pQMcDZa58CHa4pwKZLWKlNIjXAR0VdIrQRAsC4NoAGSHYhwA+kpDcwuwHAtABt4LvfM8BGQvGG+EYjwJcoeztQKEHABx3yA2okNcDMZfbPhhYiwMKtRNDRninAOMIOM273OsDyX9KR48bWv4Az67FytzTAZFeEW0bMHMCHG3uckDBBwDh4iRwQd1HACHmg7yPATMBJIVDfzz49wEyM7TMVKzLAHq8Bsf6HQMBtLoeBjAhBwMHSa6A/9CvA4LAFF4dAQMBzL8Yt8NAVwITzyT6aBlDA9G39+HpzTcCIXF+zE2ICwIkHo2vEwx/ADGxJmmKhAcBsjSjEh8s7wJnHdIP1My3AsVY03BIGSsAlBHfTteAtwJyw0hUxK1LAoGm6Sce9BMDpx+qLQYtHwLrCfWgMlxDA2/n0JBmZM8AcBKC4lQw1wBcPj7tANkXA/uHPFVlTIcBBF69MPRzRvxAHueMYQxrAg64E14tvRsBTWUsdk+czwFbCZ2Em8QrAVKgL+BaoUcAkkWlaS80jwBZ2mBCyp03A7ZwRhYAtHMAMTNys9vQywCjd/+jQ6TbAny/JDEttKsCRn7qjVOZGwIfBIaCu3SHAiPhS11PFCcDvUNYqJY40wAsUtNP7yCHAC+048oHpN8ATb35S+xYiwOvnJ9MviTfAqynPDdqfUcDyQhVCLm0kwMFFscabed+/a6y/qIAZLMAF+q9fYZAjwOYUCPmuQfy/TmBtkgJIMsB9DrxJhU80wKrvagp+XVLAIbQpcNCgKMDOguaLOJ9HwOlIuBmGQzPA8Wof6SagOMD42v57/aM1wJqDHio9qELAfqwF4GzrUMBIlNDb7vpDwHtDl8VxJEHAQhu03grUKsCO7R0LPUoXwPeU45+D4DfAc/XqY150P8AtV2eFXW/jv5Bnw5+bNCXAuH0qF+lJJ8CssHkLMnb4vzguFmuoLE7AnvpKxc6lOMCsO9IiYjJDwIXELAtMtDbAtidjc4/xQMAK93yAg7oqwPPfTyvAwzbA9UeJGDUuMMBASsSocWFWwMRv9RENogfAdmtwRMC0TsAYh+bs2JVIwOapfLEaUDDAUg3xhGAWGsCHrF3wB7xBwNDxpfzfVzfAhcb0QZQwNsAwsORbnhkxwDqNwSnBsz3APItHPGqwDcBoFbspbe8twNGNkJtTyhfAfjGDn5QZJsBsrM1Hkw8rwGqPk9tURDrA5QNR7NfkN8AzaLJM8go5wIdiqlc87SLAhhxTlOn0MMALujFQk743wD43kKboG0LAuxuuxxd8RcD+g6Ad41MowK7H+bGG+kLANyo6ZnX7G8CcvkrdJR8+wCqaae6o0STAsU1B1SlERcCPtJPvG1ZCwJbBHnr7XjnALO7MFYghSMBCs0GeWukowAabbiAdvjHARnwiQiBUO8A8QVfUupQ5wCFhSgJMNzPA",
          "dtype": "f8"
         },
         "yaxis": "y"
        }
       ],
       "layout": {
        "barmode": "relative",
        "legend": {
         "tracegroupgap": 0
        },
        "template": {
         "data": {
          "bar": [
           {
            "error_x": {
             "color": "#2a3f5f"
            },
            "error_y": {
             "color": "#2a3f5f"
            },
            "marker": {
             "line": {
              "color": "white",
              "width": 0.5
             },
             "pattern": {
              "fillmode": "overlay",
              "size": 10,
              "solidity": 0.2
             }
            },
            "type": "bar"
           }
          ],
          "barpolar": [
           {
            "marker": {
             "line": {
              "color": "white",
              "width": 0.5
             },
             "pattern": {
              "fillmode": "overlay",
              "size": 10,
              "solidity": 0.2
             }
            },
            "type": "barpolar"
           }
          ],
          "carpet": [
           {
            "aaxis": {
             "endlinecolor": "#2a3f5f",
             "gridcolor": "#C8D4E3",
             "linecolor": "#C8D4E3",
             "minorgridcolor": "#C8D4E3",
             "startlinecolor": "#2a3f5f"
            },
            "baxis": {
             "endlinecolor": "#2a3f5f",
             "gridcolor": "#C8D4E3",
             "linecolor": "#C8D4E3",
             "minorgridcolor": "#C8D4E3",
             "startlinecolor": "#2a3f5f"
            },
            "type": "carpet"
           }
          ],
          "choropleth": [
           {
            "colorbar": {
             "outlinewidth": 0,
             "ticks": ""
            },
            "type": "choropleth"
           }
          ],
          "contour": [
           {
            "colorbar": {
             "outlinewidth": 0,
             "ticks": ""
            },
            "colorscale": [
             [
              0,
              "#0d0887"
             ],
             [
              0.1111111111111111,
              "#46039f"
             ],
             [
              0.2222222222222222,
              "#7201a8"
             ],
             [
              0.3333333333333333,
              "#9c179e"
             ],
             [
              0.4444444444444444,
              "#bd3786"
             ],
             [
              0.5555555555555556,
              "#d8576b"
             ],
             [
              0.6666666666666666,
              "#ed7953"
             ],
             [
              0.7777777777777778,
              "#fb9f3a"
             ],
             [
              0.8888888888888888,
              "#fdca26"
             ],
             [
              1,
              "#f0f921"
             ]
            ],
            "type": "contour"
           }
          ],
          "contourcarpet": [
           {
            "colorbar": {
             "outlinewidth": 0,
             "ticks": ""
            },
            "type": "contourcarpet"
           }
          ],
          "heatmap": [
           {
            "colorbar": {
             "outlinewidth": 0,
             "ticks": ""
            },
            "colorscale": [
             [
              0,
              "#0d0887"
             ],
             [
              0.1111111111111111,
              "#46039f"
             ],
             [
              0.2222222222222222,
              "#7201a8"
             ],
             [
              0.3333333333333333,
              "#9c179e"
             ],
             [
              0.4444444444444444,
              "#bd3786"
             ],
             [
              0.5555555555555556,
              "#d8576b"
             ],
             [
              0.6666666666666666,
              "#ed7953"
             ],
             [
              0.7777777777777778,
              "#fb9f3a"
             ],
             [
              0.8888888888888888,
              "#fdca26"
             ],
             [
              1,
              "#f0f921"
             ]
            ],
            "type": "heatmap"
           }
          ],
          "histogram": [
           {
            "marker": {
             "pattern": {
              "fillmode": "overlay",
              "size": 10,
              "solidity": 0.2
             }
            },
            "type": "histogram"
           }
          ],
          "histogram2d": [
           {
            "colorbar": {
             "outlinewidth": 0,
             "ticks": ""
            },
            "colorscale": [
             [
              0,
              "#0d0887"
             ],
             [
              0.1111111111111111,
              "#46039f"
             ],
             [
              0.2222222222222222,
              "#7201a8"
             ],
             [
              0.3333333333333333,
              "#9c179e"
             ],
             [
              0.4444444444444444,
              "#bd3786"
             ],
             [
              0.5555555555555556,
              "#d8576b"
             ],
             [
              0.6666666666666666,
              "#ed7953"
             ],
             [
              0.7777777777777778,
              "#fb9f3a"
             ],
             [
              0.8888888888888888,
              "#fdca26"
             ],
             [
              1,
              "#f0f921"
             ]
            ],
            "type": "histogram2d"
           }
          ],
          "histogram2dcontour": [
           {
            "colorbar": {
             "outlinewidth": 0,
             "ticks": ""
            },
            "colorscale": [
             [
              0,
              "#0d0887"
             ],
             [
              0.1111111111111111,
              "#46039f"
             ],
             [
              0.2222222222222222,
              "#7201a8"
             ],
             [
              0.3333333333333333,
              "#9c179e"
             ],
             [
              0.4444444444444444,
              "#bd3786"
             ],
             [
              0.5555555555555556,
              "#d8576b"
             ],
             [
              0.6666666666666666,
              "#ed7953"
             ],
             [
              0.7777777777777778,
              "#fb9f3a"
             ],
             [
              0.8888888888888888,
              "#fdca26"
             ],
             [
              1,
              "#f0f921"
             ]
            ],
            "type": "histogram2dcontour"
           }
          ],
          "mesh3d": [
           {
            "colorbar": {
             "outlinewidth": 0,
             "ticks": ""
            },
            "type": "mesh3d"
           }
          ],
          "parcoords": [
           {
            "line": {
             "colorbar": {
              "outlinewidth": 0,
              "ticks": ""
             }
            },
            "type": "parcoords"
           }
          ],
          "pie": [
           {
            "automargin": true,
            "type": "pie"
           }
          ],
          "scatter": [
           {
            "fillpattern": {
             "fillmode": "overlay",
             "size": 10,
             "solidity": 0.2
            },
            "type": "scatter"
           }
          ],
          "scatter3d": [
           {
            "line": {
             "colorbar": {
              "outlinewidth": 0,
              "ticks": ""
             }
            },
            "marker": {
             "colorbar": {
              "outlinewidth": 0,
              "ticks": ""
             }
            },
            "type": "scatter3d"
           }
          ],
          "scattercarpet": [
           {
            "marker": {
             "colorbar": {
              "outlinewidth": 0,
              "ticks": ""
             }
            },
            "type": "scattercarpet"
           }
          ],
          "scattergeo": [
           {
            "marker": {
             "colorbar": {
              "outlinewidth": 0,
              "ticks": ""
             }
            },
            "type": "scattergeo"
           }
          ],
          "scattergl": [
           {
            "marker": {
             "colorbar": {
              "outlinewidth": 0,
              "ticks": ""
             }
            },
            "type": "scattergl"
           }
          ],
          "scattermap": [
           {
            "marker": {
             "colorbar": {
              "outlinewidth": 0,
              "ticks": ""
             }
            },
            "type": "scattermap"
           }
          ],
          "scattermapbox": [
           {
            "marker": {
             "colorbar": {
              "outlinewidth": 0,
              "ticks": ""
             }
            },
            "type": "scattermapbox"
           }
          ],
          "scatterpolar": [
           {
            "marker": {
             "colorbar": {
              "outlinewidth": 0,
              "ticks": ""
             }
            },
            "type": "scatterpolar"
           }
          ],
          "scatterpolargl": [
           {
            "marker": {
             "colorbar": {
              "outlinewidth": 0,
              "ticks": ""
             }
            },
            "type": "scatterpolargl"
           }
          ],
          "scatterternary": [
           {
            "marker": {
             "colorbar": {
              "outlinewidth": 0,
              "ticks": ""
             }
            },
            "type": "scatterternary"
           }
          ],
          "surface": [
           {
            "colorbar": {
             "outlinewidth": 0,
             "ticks": ""
            },
            "colorscale": [
             [
              0,
              "#0d0887"
             ],
             [
              0.1111111111111111,
              "#46039f"
             ],
             [
              0.2222222222222222,
              "#7201a8"
             ],
             [
              0.3333333333333333,
              "#9c179e"
             ],
             [
              0.4444444444444444,
              "#bd3786"
             ],
             [
              0.5555555555555556,
              "#d8576b"
             ],
             [
              0.6666666666666666,
              "#ed7953"
             ],
             [
              0.7777777777777778,
              "#fb9f3a"
             ],
             [
              0.8888888888888888,
              "#fdca26"
             ],
             [
              1,
              "#f0f921"
             ]
            ],
            "type": "surface"
           }
          ],
          "table": [
           {
            "cells": {
             "fill": {
              "color": "#EBF0F8"
             },
             "line": {
              "color": "white"
             }
            },
            "header": {
             "fill": {
              "color": "#C8D4E3"
             },
             "line": {
              "color": "white"
             }
            },
            "type": "table"
           }
          ]
         },
         "layout": {
          "annotationdefaults": {
           "arrowcolor": "#2a3f5f",
           "arrowhead": 0,
           "arrowwidth": 1
          },
          "autotypenumbers": "strict",
          "coloraxis": {
           "colorbar": {
            "outlinewidth": 0,
            "ticks": ""
           }
          },
          "colorscale": {
           "diverging": [
            [
             0,
             "#8e0152"
            ],
            [
             0.1,
             "#c51b7d"
            ],
            [
             0.2,
             "#de77ae"
            ],
            [
             0.3,
             "#f1b6da"
            ],
            [
             0.4,
             "#fde0ef"
            ],
            [
             0.5,
             "#f7f7f7"
            ],
            [
             0.6,
             "#e6f5d0"
            ],
            [
             0.7,
             "#b8e186"
            ],
            [
             0.8,
             "#7fbc41"
            ],
            [
             0.9,
             "#4d9221"
            ],
            [
             1,
             "#276419"
            ]
           ],
           "sequential": [
            [
             0,
             "#0d0887"
            ],
            [
             0.1111111111111111,
             "#46039f"
            ],
            [
             0.2222222222222222,
             "#7201a8"
            ],
            [
             0.3333333333333333,
             "#9c179e"
            ],
            [
             0.4444444444444444,
             "#bd3786"
            ],
            [
             0.5555555555555556,
             "#d8576b"
            ],
            [
             0.6666666666666666,
             "#ed7953"
            ],
            [
             0.7777777777777778,
             "#fb9f3a"
            ],
            [
             0.8888888888888888,
             "#fdca26"
            ],
            [
             1,
             "#f0f921"
            ]
           ],
           "sequentialminus": [
            [
             0,
             "#0d0887"
            ],
            [
             0.1111111111111111,
             "#46039f"
            ],
            [
             0.2222222222222222,
             "#7201a8"
            ],
            [
             0.3333333333333333,
             "#9c179e"
            ],
            [
             0.4444444444444444,
             "#bd3786"
            ],
            [
             0.5555555555555556,
             "#d8576b"
            ],
            [
             0.6666666666666666,
             "#ed7953"
            ],
            [
             0.7777777777777778,
             "#fb9f3a"
            ],
            [
             0.8888888888888888,
             "#fdca26"
            ],
            [
             1,
             "#f0f921"
            ]
           ]
          },
          "colorway": [
           "#636efa",
           "#EF553B",
           "#00cc96",
           "#ab63fa",
           "#FFA15A",
           "#19d3f3",
           "#FF6692",
           "#B6E880",
           "#FF97FF",
           "#FECB52"
          ],
          "font": {
           "size": 15
          },
          "geo": {
           "bgcolor": "white",
           "lakecolor": "white",
           "landcolor": "white",
           "showlakes": true,
           "showland": true,
           "subunitcolor": "#C8D4E3"
          },
          "hoverlabel": {
           "align": "left"
          },
          "hovermode": "closest",
          "mapbox": {
           "style": "light"
          },
          "paper_bgcolor": "white",
          "plot_bgcolor": "white",
          "polar": {
           "angularaxis": {
            "gridcolor": "#EBF0F8",
            "linecolor": "#EBF0F8",
            "ticks": ""
           },
           "bgcolor": "white",
           "radialaxis": {
            "gridcolor": "#EBF0F8",
            "linecolor": "#EBF0F8",
            "ticks": ""
           }
          },
          "scene": {
           "xaxis": {
            "backgroundcolor": "white",
            "gridcolor": "#DFE8F3",
            "gridwidth": 2,
            "linecolor": "#EBF0F8",
            "showbackground": true,
            "ticks": "",
            "zerolinecolor": "#EBF0F8"
           },
           "yaxis": {
            "backgroundcolor": "white",
            "gridcolor": "#DFE8F3",
            "gridwidth": 2,
            "linecolor": "#EBF0F8",
            "showbackground": true,
            "ticks": "",
            "zerolinecolor": "#EBF0F8"
           },
           "zaxis": {
            "backgroundcolor": "white",
            "gridcolor": "#DFE8F3",
            "gridwidth": 2,
            "linecolor": "#EBF0F8",
            "showbackground": true,
            "ticks": "",
            "zerolinecolor": "#EBF0F8"
           }
          },
          "shapedefaults": {
           "line": {
            "color": "#2a3f5f"
           }
          },
          "ternary": {
           "aaxis": {
            "gridcolor": "#DFE8F3",
            "linecolor": "#A2B1C6",
            "ticks": ""
           },
           "baxis": {
            "gridcolor": "#DFE8F3",
            "linecolor": "#A2B1C6",
            "ticks": ""
           },
           "bgcolor": "white",
           "caxis": {
            "gridcolor": "#DFE8F3",
            "linecolor": "#A2B1C6",
            "ticks": ""
           }
          },
          "title": {
           "x": 0.05
          },
          "xaxis": {
           "automargin": true,
           "gridcolor": "#EBF0F8",
           "linecolor": "#EBF0F8",
           "ticks": "",
           "title": {
            "standoff": 15
           },
           "zerolinecolor": "#EBF0F8",
           "zerolinewidth": 2
          },
          "yaxis": {
           "automargin": true,
           "gridcolor": "#EBF0F8",
           "linecolor": "#EBF0F8",
           "ticks": "",
           "title": {
            "standoff": 15
           },
           "zerolinecolor": "#EBF0F8",
           "zerolinewidth": 2
          }
         }
        },
        "title": {
         "text": "Différence (en %) entre les données de référence et la simulation baseline pour chaque arrêt"
        },
        "xaxis": {
         "anchor": "y",
         "domain": [
          0,
          1
         ],
         "title": {
          "text": "Arrêt"
         }
        },
        "yaxis": {
         "anchor": "x",
         "domain": [
          0,
          1
         ],
         "title": {
          "text": "Différence (%)"
         }
        }
       }
      }
     },
     "metadata": {},
     "output_type": "display_data"
    }
   ],
   "source": [
    "fig_diff.show()"
   ]
  },
  {
   "cell_type": "markdown",
   "metadata": {},
   "source": [
    "Pour ces mêmes arrêts, on peut avoir un aperçu de la différence entre les données de validation et de la simulation de référence en pourcentage."
   ]
  },
  {
   "cell_type": "code",
   "execution_count": 70,
   "metadata": {},
   "outputs": [
    {
     "data": {
      "application/pdf": "[encoded data removed]",
      "application/vnd.plotly.v1+json": {
       "config": {
        "plotlyServerURL": "https://plot.ly"
       },
       "data": [
        {
         "hovertemplate": "Metric=%{x}<br>Value=%{y}<extra></extra>",
         "legendgroup": "",
         "marker": {
          "color": "#636efa",
          "pattern": {
           "shape": ""
          }
         },
         "name": "",
         "orientation": "v",
         "showlegend": false,
         "textposition": "auto",
         "type": "bar",
         "x": [
          "Données de validation",
          "Simulation de référence"
         ],
         "xaxis": "x",
         "y": {
          "bdata": "TjbZVA3zVUEAAAAAzuZYQQ==",
          "dtype": "f8"
         },
         "yaxis": "y"
        }
       ],
       "layout": {
        "annotations": [
         {
          "font": {
           "color": "red",
           "size": 14
          },
          "showarrow": false,
          "text": "Différence : 13.45%",
          "x": 0.5,
          "xref": "paper",
          "y": 6527800,
          "yref": "y"
         }
        ],
        "barmode": "relative",
        "legend": {
         "tracegroupgap": 0
        },
        "template": {
         "data": {
          "bar": [
           {
            "error_x": {
             "color": "#2a3f5f"
            },
            "error_y": {
             "color": "#2a3f5f"
            },
            "marker": {
             "line": {
              "color": "white",
              "width": 0.5
             },
             "pattern": {
              "fillmode": "overlay",
              "size": 10,
              "solidity": 0.2
             }
            },
            "type": "bar"
           }
          ],
          "barpolar": [
           {
            "marker": {
             "line": {
              "color": "white",
              "width": 0.5
             },
             "pattern": {
              "fillmode": "overlay",
              "size": 10,
              "solidity": 0.2
             }
            },
            "type": "barpolar"
           }
          ],
          "carpet": [
           {
            "aaxis": {
             "endlinecolor": "#2a3f5f",
             "gridcolor": "#C8D4E3",
             "linecolor": "#C8D4E3",
             "minorgridcolor": "#C8D4E3",
             "startlinecolor": "#2a3f5f"
            },
            "baxis": {
             "endlinecolor": "#2a3f5f",
             "gridcolor": "#C8D4E3",
             "linecolor": "#C8D4E3",
             "minorgridcolor": "#C8D4E3",
             "startlinecolor": "#2a3f5f"
            },
            "type": "carpet"
           }
          ],
          "choropleth": [
           {
            "colorbar": {
             "outlinewidth": 0,
             "ticks": ""
            },
            "type": "choropleth"
           }
          ],
          "contour": [
           {
            "colorbar": {
             "outlinewidth": 0,
             "ticks": ""
            },
            "colorscale": [
             [
              0,
              "#0d0887"
             ],
             [
              0.1111111111111111,
              "#46039f"
             ],
             [
              0.2222222222222222,
              "#7201a8"
             ],
             [
              0.3333333333333333,
              "#9c179e"
             ],
             [
              0.4444444444444444,
              "#bd3786"
             ],
             [
              0.5555555555555556,
              "#d8576b"
             ],
             [
              0.6666666666666666,
              "#ed7953"
             ],
             [
              0.7777777777777778,
              "#fb9f3a"
             ],
             [
              0.8888888888888888,
              "#fdca26"
             ],
             [
              1,
              "#f0f921"
             ]
            ],
            "type": "contour"
           }
          ],
          "contourcarpet": [
           {
            "colorbar": {
             "outlinewidth": 0,
             "ticks": ""
            },
            "type": "contourcarpet"
           }
          ],
          "heatmap": [
           {
            "colorbar": {
             "outlinewidth": 0,
             "ticks": ""
            },
            "colorscale": [
             [
              0,
              "#0d0887"
             ],
             [
              0.1111111111111111,
              "#46039f"
             ],
             [
              0.2222222222222222,
              "#7201a8"
             ],
             [
              0.3333333333333333,
              "#9c179e"
             ],
             [
              0.4444444444444444,
              "#bd3786"
             ],
             [
              0.5555555555555556,
              "#d8576b"
             ],
             [
              0.6666666666666666,
              "#ed7953"
             ],
             [
              0.7777777777777778,
              "#fb9f3a"
             ],
             [
              0.8888888888888888,
              "#fdca26"
             ],
             [
              1,
              "#f0f921"
             ]
            ],
            "type": "heatmap"
           }
          ],
          "histogram": [
           {
            "marker": {
             "pattern": {
              "fillmode": "overlay",
              "size": 10,
              "solidity": 0.2
             }
            },
            "type": "histogram"
           }
          ],
          "histogram2d": [
           {
            "colorbar": {
             "outlinewidth": 0,
             "ticks": ""
            },
            "colorscale": [
             [
              0,
              "#0d0887"
             ],
             [
              0.1111111111111111,
              "#46039f"
             ],
             [
              0.2222222222222222,
              "#7201a8"
             ],
             [
              0.3333333333333333,
              "#9c179e"
             ],
             [
              0.4444444444444444,
              "#bd3786"
             ],
             [
              0.5555555555555556,
              "#d8576b"
             ],
             [
              0.6666666666666666,
              "#ed7953"
             ],
             [
              0.7777777777777778,
              "#fb9f3a"
             ],
             [
              0.8888888888888888,
              "#fdca26"
             ],
             [
              1,
              "#f0f921"
             ]
            ],
            "type": "histogram2d"
           }
          ],
          "histogram2dcontour": [
           {
            "colorbar": {
             "outlinewidth": 0,
             "ticks": ""
            },
            "colorscale": [
             [
              0,
              "#0d0887"
             ],
             [
              0.1111111111111111,
              "#46039f"
             ],
             [
              0.2222222222222222,
              "#7201a8"
             ],
             [
              0.3333333333333333,
              "#9c179e"
             ],
             [
              0.4444444444444444,
              "#bd3786"
             ],
             [
              0.5555555555555556,
              "#d8576b"
             ],
             [
              0.6666666666666666,
              "#ed7953"
             ],
             [
              0.7777777777777778,
              "#fb9f3a"
             ],
             [
              0.8888888888888888,
              "#fdca26"
             ],
             [
              1,
              "#f0f921"
             ]
            ],
            "type": "histogram2dcontour"
           }
          ],
          "mesh3d": [
           {
            "colorbar": {
             "outlinewidth": 0,
             "ticks": ""
            },
            "type": "mesh3d"
           }
          ],
          "parcoords": [
           {
            "line": {
             "colorbar": {
              "outlinewidth": 0,
              "ticks": ""
             }
            },
            "type": "parcoords"
           }
          ],
          "pie": [
           {
            "automargin": true,
            "type": "pie"
           }
          ],
          "scatter": [
           {
            "fillpattern": {
             "fillmode": "overlay",
             "size": 10,
             "solidity": 0.2
            },
            "type": "scatter"
           }
          ],
          "scatter3d": [
           {
            "line": {
             "colorbar": {
              "outlinewidth": 0,
              "ticks": ""
             }
            },
            "marker": {
             "colorbar": {
              "outlinewidth": 0,
              "ticks": ""
             }
            },
            "type": "scatter3d"
           }
          ],
          "scattercarpet": [
           {
            "marker": {
             "colorbar": {
              "outlinewidth": 0,
              "ticks": ""
             }
            },
            "type": "scattercarpet"
           }
          ],
          "scattergeo": [
           {
            "marker": {
             "colorbar": {
              "outlinewidth": 0,
              "ticks": ""
             }
            },
            "type": "scattergeo"
           }
          ],
          "scattergl": [
           {
            "marker": {
             "colorbar": {
              "outlinewidth": 0,
              "ticks": ""
             }
            },
            "type": "scattergl"
           }
          ],
          "scattermap": [
           {
            "marker": {
             "colorbar": {
              "outlinewidth": 0,
              "ticks": ""
             }
            },
            "type": "scattermap"
           }
          ],
          "scattermapbox": [
           {
            "marker": {
             "colorbar": {
              "outlinewidth": 0,
              "ticks": ""
             }
            },
            "type": "scattermapbox"
           }
          ],
          "scatterpolar": [
           {
            "marker": {
             "colorbar": {
              "outlinewidth": 0,
              "ticks": ""
             }
            },
            "type": "scatterpolar"
           }
          ],
          "scatterpolargl": [
           {
            "marker": {
             "colorbar": {
              "outlinewidth": 0,
              "ticks": ""
             }
            },
            "type": "scatterpolargl"
           }
          ],
          "scatterternary": [
           {
            "marker": {
             "colorbar": {
              "outlinewidth": 0,
              "ticks": ""
             }
            },
            "type": "scatterternary"
           }
          ],
          "surface": [
           {
            "colorbar": {
             "outlinewidth": 0,
             "ticks": ""
            },
            "colorscale": [
             [
              0,
              "#0d0887"
             ],
             [
              0.1111111111111111,
              "#46039f"
             ],
             [
              0.2222222222222222,
              "#7201a8"
             ],
             [
              0.3333333333333333,
              "#9c179e"
             ],
             [
              0.4444444444444444,
              "#bd3786"
             ],
             [
              0.5555555555555556,
              "#d8576b"
             ],
             [
              0.6666666666666666,
              "#ed7953"
             ],
             [
              0.7777777777777778,
              "#fb9f3a"
             ],
             [
              0.8888888888888888,
              "#fdca26"
             ],
             [
              1,
              "#f0f921"
             ]
            ],
            "type": "surface"
           }
          ],
          "table": [
           {
            "cells": {
             "fill": {
              "color": "#EBF0F8"
             },
             "line": {
              "color": "white"
             }
            },
            "header": {
             "fill": {
              "color": "#C8D4E3"
             },
             "line": {
              "color": "white"
             }
            },
            "type": "table"
           }
          ]
         },
         "layout": {
          "annotationdefaults": {
           "arrowcolor": "#2a3f5f",
           "arrowhead": 0,
           "arrowwidth": 1
          },
          "autotypenumbers": "strict",
          "coloraxis": {
           "colorbar": {
            "outlinewidth": 0,
            "ticks": ""
           }
          },
          "colorscale": {
           "diverging": [
            [
             0,
             "#8e0152"
            ],
            [
             0.1,
             "#c51b7d"
            ],
            [
             0.2,
             "#de77ae"
            ],
            [
             0.3,
             "#f1b6da"
            ],
            [
             0.4,
             "#fde0ef"
            ],
            [
             0.5,
             "#f7f7f7"
            ],
            [
             0.6,
             "#e6f5d0"
            ],
            [
             0.7,
             "#b8e186"
            ],
            [
             0.8,
             "#7fbc41"
            ],
            [
             0.9,
             "#4d9221"
            ],
            [
             1,
             "#276419"
            ]
           ],
           "sequential": [
            [
             0,
             "#0d0887"
            ],
            [
             0.1111111111111111,
             "#46039f"
            ],
            [
             0.2222222222222222,
             "#7201a8"
            ],
            [
             0.3333333333333333,
             "#9c179e"
            ],
            [
             0.4444444444444444,
             "#bd3786"
            ],
            [
             0.5555555555555556,
             "#d8576b"
            ],
            [
             0.6666666666666666,
             "#ed7953"
            ],
            [
             0.7777777777777778,
             "#fb9f3a"
            ],
            [
             0.8888888888888888,
             "#fdca26"
            ],
            [
             1,
             "#f0f921"
            ]
           ],
           "sequentialminus": [
            [
             0,
             "#0d0887"
            ],
            [
             0.1111111111111111,
             "#46039f"
            ],
            [
             0.2222222222222222,
             "#7201a8"
            ],
            [
             0.3333333333333333,
             "#9c179e"
            ],
            [
             0.4444444444444444,
             "#bd3786"
            ],
            [
             0.5555555555555556,
             "#d8576b"
            ],
            [
             0.6666666666666666,
             "#ed7953"
            ],
            [
             0.7777777777777778,
             "#fb9f3a"
            ],
            [
             0.8888888888888888,
             "#fdca26"
            ],
            [
             1,
             "#f0f921"
            ]
           ]
          },
          "colorway": [
           "#636efa",
           "#EF553B",
           "#00cc96",
           "#ab63fa",
           "#FFA15A",
           "#19d3f3",
           "#FF6692",
           "#B6E880",
           "#FF97FF",
           "#FECB52"
          ],
          "font": {
           "size": 15
          },
          "geo": {
           "bgcolor": "white",
           "lakecolor": "white",
           "landcolor": "white",
           "showlakes": true,
           "showland": true,
           "subunitcolor": "#C8D4E3"
          },
          "hoverlabel": {
           "align": "left"
          },
          "hovermode": "closest",
          "mapbox": {
           "style": "light"
          },
          "paper_bgcolor": "white",
          "plot_bgcolor": "white",
          "polar": {
           "angularaxis": {
            "gridcolor": "#EBF0F8",
            "linecolor": "#EBF0F8",
            "ticks": ""
           },
           "bgcolor": "white",
           "radialaxis": {
            "gridcolor": "#EBF0F8",
            "linecolor": "#EBF0F8",
            "ticks": ""
           }
          },
          "scene": {
           "xaxis": {
            "backgroundcolor": "white",
            "gridcolor": "#DFE8F3",
            "gridwidth": 2,
            "linecolor": "#EBF0F8",
            "showbackground": true,
            "ticks": "",
            "zerolinecolor": "#EBF0F8"
           },
           "yaxis": {
            "backgroundcolor": "white",
            "gridcolor": "#DFE8F3",
            "gridwidth": 2,
            "linecolor": "#EBF0F8",
            "showbackground": true,
            "ticks": "",
            "zerolinecolor": "#EBF0F8"
           },
           "zaxis": {
            "backgroundcolor": "white",
            "gridcolor": "#DFE8F3",
            "gridwidth": 2,
            "linecolor": "#EBF0F8",
            "showbackground": true,
            "ticks": "",
            "zerolinecolor": "#EBF0F8"
           }
          },
          "shapedefaults": {
           "line": {
            "color": "#2a3f5f"
           }
          },
          "ternary": {
           "aaxis": {
            "gridcolor": "#DFE8F3",
            "linecolor": "#A2B1C6",
            "ticks": ""
           },
           "baxis": {
            "gridcolor": "#DFE8F3",
            "linecolor": "#A2B1C6",
            "ticks": ""
           },
           "bgcolor": "white",
           "caxis": {
            "gridcolor": "#DFE8F3",
            "linecolor": "#A2B1C6",
            "ticks": ""
           }
          },
          "title": {
           "x": 0.05
          },
          "xaxis": {
           "automargin": true,
           "gridcolor": "#EBF0F8",
           "linecolor": "#EBF0F8",
           "ticks": "",
           "title": {
            "standoff": 15
           },
           "zerolinecolor": "#EBF0F8",
           "zerolinewidth": 2
          },
          "yaxis": {
           "automargin": true,
           "gridcolor": "#EBF0F8",
           "linecolor": "#EBF0F8",
           "ticks": "",
           "title": {
            "standoff": 15
           },
           "zerolinecolor": "#EBF0F8",
           "zerolinewidth": 2
          }
         }
        },
        "title": {
         "text": "Somme totale des valeurs"
        },
        "xaxis": {
         "anchor": "y",
         "domain": [
          0,
          1
         ],
         "title": {
          "text": "Metric"
         }
        },
        "yaxis": {
         "anchor": "x",
         "domain": [
          0,
          1
         ],
         "title": {
          "text": "Value"
         }
        }
       }
      }
     },
     "metadata": {},
     "output_type": "display_data"
    }
   ],
   "source": [
    "fig2.show()"
   ]
  },
  {
   "cell_type": "markdown",
   "metadata": {},
   "source": [
    "Pour la figure suivante, on aggrège les données pour avoir un aperçu du nombre de validation total sur le réseau ferré. Ici on voit que, la simulation a tendance à surestimer les données réelles, à hauteur de 25%"
   ]
  },
  {
   "cell_type": "markdown",
   "metadata": {},
   "source": [
    "## Réseau de surface\n",
    "\n",
    "Les données sur le réseau de surface contiennent donc les lignes de bus ainsi que la majorité des lignes de tramway. \n",
    "\n",
    "L'identifiant utilisé pour une ligne dans la base de données de velidation n'a pas de correspondance directe avec les données GTFS fournies par l'Île-de-France Mobilités. Pour avoir une correspondance, on récupère le référentiel de lignes dans les données ouvertes de l'IDFM.\n",
    "\n",
    "Une fois la correspondance faite, on peut désormais analyser les résultats."
   ]
  },
  {
   "cell_type": "code",
   "execution_count": 71,
   "metadata": {},
   "outputs": [],
   "source": [
    "surface_baseline = baseline_pt[(baseline_pt.transit_mode == \"bus\") | (baseline_pt.transit_mode == \"tram\")]\n",
    "\n",
    "nb_dates = len(surface_data[\"JOUR\"].unique())\n",
    "referentiel_lines = pd.read_csv(os.path.join(\"validation_data\", \"referentiel-des-lignes.csv\"), sep=\";\")\n",
    "selected_columns = ['ID_Line', 'ID_GroupOfLines']\n",
    "referentiel_lines = referentiel_lines[selected_columns]\n",
    "\n",
    "surface_data = surface_data.groupby(\"ID_GROUPOFLINES\", as_index=False)[\"NB_VALD\"].sum()\n",
    "\n",
    "surface_data = surface_data.merge(\n",
    "    referentiel_lines[['ID_GroupOfLines', 'ID_Line']],\n",
    "    left_on = \"ID_GROUPOFLINES\",\n",
    "    right_on = \"ID_GroupOfLines\",\n",
    "    how = \"left\"\n",
    ")\n",
    "\n",
    "surface_data[\"ID_Line\"] = \"IDFM:\" + surface_data[\"ID_Line\"]\n",
    "\n",
    "surface_data = surface_data.merge(\n",
    "    routes[[\"route_id\", \"route_short_name\", \"route_type\"]],\n",
    "    left_on = 'ID_Line',\n",
    "    right_on = \"route_id\",\n",
    "    how = \"left\"\n",
    ")\n",
    "\n",
    "bus_tram = [\"BUS T2\", \"T1B\"]\n",
    "surface_data = surface_data[~surface_data[\"route_short_name\"].isin(bus_tram)]\n",
    "\n",
    "surface_data = surface_data.drop(columns=[\"ID_GroupOfLines\", \"ID_Line\"])\n",
    "\n",
    "surface_baseline = surface_baseline[\"transit_line_id\"].value_counts().reset_index()\n",
    "surface_baseline[\"count\"] *= fact\n",
    "\n",
    "surface_data = surface_data.merge(\n",
    "    surface_baseline[[\"transit_line_id\", \"count\"]],\n",
    "    left_on = \"route_id\",\n",
    "    right_on = \"transit_line_id\",\n",
    "    how=\"left\"\n",
    ")\n",
    "\n",
    "anomalies = surface_data[surface_data.route_id.isna()]\n",
    "surface_data = surface_data[surface_data.route_id.notna()]\n",
    "surface_data[\"route_type\"] = surface_data[\"route_type\"].astype(int)\n",
    "surface_data = surface_data[(surface_data.route_type == 0) | (surface_data.route_type == 3)]\n",
    "surface_data[\"count\"] = surface_data[\"count\"].fillna(0)\n",
    "surface_data[\"NB_VALD\"] /= nb_dates\n",
    "\n",
    "surface_data = surface_data.rename(columns = {\"NB_VALD\" : \"Données de validation\", \"count\" : \"Simulation de référence\"})\n",
    "\n",
    "surface_data[\"route_type\"]=surface_data[\"route_type\"].astype(str)\n",
    "fig_scatter_surface = px.scatter(surface_data, x =\"Données de validation\", y = \"Simulation de référence\", hover_data=\"route_short_name\", color=\"route_type\", trendline=\"ols\")\n",
    "fig_scatter_surface.data[0].name = \"Lignes de bus\"\n",
    "fig_scatter_surface.data[0].showlegend = True\n",
    "fig_scatter_surface.data[1].line.color = 'cyan'\n",
    "fig_scatter_surface.data[1].line.width = 2\n",
    "fig_scatter_surface.data[1].name = \"Régression linéaire (bus)\"\n",
    "fig_scatter_surface.data[1].showlegend = True\n",
    "fig_scatter_surface.data[2].name = \"Lignes de tram\"\n",
    "fig_scatter_surface.data[2].showlegend = True\n",
    "fig_scatter_surface.data[3].line.color = 'orange'\n",
    "fig_scatter_surface.data[3].line.width = 2\n",
    "fig_scatter_surface.data[3].name = \"Régression linéaire (tramway)\"\n",
    "fig_scatter_surface.data[3].showlegend = True\n",
    "fig_scatter_surface.add_trace(go.Scatter(x=[0,surface_data[\"Données de validation\"].max()], y=[0,surface_data[\"Données de validation\"].max()],mode=\"lines\", name=\"Idéal (x = y)\",line=dict(color=\"red\", dash=\"dash\")))\n",
    "\n",
    "fig_scatter_surface.write_image(\"outputs/plots/validation/comp_ref_simu_surface_scatter.png\", width=\"1000\")\n",
    "\n",
    "surface_data[\"route_type\"]=surface_data[\"route_type\"].astype(int)\n",
    "\n",
    "surface_data = surface_data[(surface_data.route_type == 0)]\n",
    "\n",
    "surface_data = surface_data.groupby([\"ID_GROUPOFLINES\", \"Données de validation\", \"route_short_name\"], as_index=\"False\")[\"Simulation de référence\"].sum().reset_index()\n",
    "\n",
    "melted_data = surface_data.melt(id_vars='route_short_name', value_vars=['Données de validation', 'Simulation de référence'], var_name='Metric', value_name='Value')"
   ]
  },
  {
   "cell_type": "code",
   "execution_count": 72,
   "metadata": {},
   "outputs": [
    {
     "data": {
      "application/pdf": "[encoded data removed]",
      "application/vnd.plotly.v1+json": {
       "config": {
        "plotlyServerURL": "https://plot.ly"
       },
       "data": [
        {
         "customdata": [
          [
           "482"
          ],
          [
           "483"
          ],
          [
           "480"
          ],
          [
           "282"
          ],
          [
           "3103"
          ],
          [
           "3104"
          ],
          [
           "3105"
          ],
          [
           "3107"
          ],
          [
           "3110"
          ],
          [
           "3112"
          ],
          [
           "3111"
          ],
          [
           "3116"
          ],
          [
           "3113"
          ],
          [
           "3114"
          ],
          [
           "3118"
          ],
          [
           "3119"
          ],
          [
           "3123"
          ],
          [
           "3115"
          ],
          [
           "3145"
          ],
          [
           "3109"
          ],
          [
           "3146"
          ],
          [
           "3147"
          ],
          [
           "7716"
          ],
          [
           "501"
          ],
          [
           "E"
          ],
          [
           "500"
          ],
          [
           "A"
          ],
          [
           "D"
          ],
          [
           "502"
          ],
          [
           "B"
          ],
          [
           "C"
          ],
          [
           "6132"
          ],
          [
           "6131"
          ],
          [
           "6178"
          ],
          [
           "6175"
          ],
          [
           "6133"
          ],
          [
           "6134"
          ],
          [
           "60"
          ],
          [
           "6123"
          ],
          [
           "6145"
          ],
          [
           "6122"
          ],
          [
           "6185"
          ],
          [
           "5332"
          ],
          [
           "5209"
          ],
          [
           "5213"
          ],
          [
           "5116"
          ],
          [
           "7806"
          ],
          [
           "5265"
          ],
          [
           "5367"
          ],
          [
           "20"
          ],
          [
           "2"
          ],
          [
           "3"
          ],
          [
           "4"
          ],
          [
           "5"
          ],
          [
           "7"
          ],
          [
           "8"
          ],
          [
           "19"
          ],
          [
           "S15"
          ],
          [
           "15"
          ],
          [
           "4554"
          ],
          [
           "4553"
          ],
          [
           "446"
          ],
          [
           "437"
          ],
          [
           "438"
          ],
          [
           "448"
          ],
          [
           "447"
          ],
          [
           "4501"
          ],
          [
           "4321"
          ],
          [
           "4305"
          ],
          [
           "4515"
          ],
          [
           "4306"
          ],
          [
           "4441"
          ],
          [
           "4323"
          ],
          [
           "4324"
          ],
          [
           "4325"
          ],
          [
           "4510"
          ],
          [
           "4326"
          ],
          [
           "4413"
          ],
          [
           "21"
          ],
          [
           "22"
          ],
          [
           "44"
          ],
          [
           "45"
          ],
          [
           "73"
          ],
          [
           "11"
          ],
          [
           "5314"
          ],
          [
           "6217"
          ],
          [
           "X419"
          ],
          [
           "93"
          ],
          [
           "33"
          ],
          [
           "26"
          ],
          [
           "34"
          ],
          [
           "5341"
          ],
          [
           "42"
          ],
          [
           "43"
          ],
          [
           "6283"
          ],
          [
           "6288"
          ],
          [
           "5270"
          ],
          [
           "5271"
          ],
          [
           "5299"
          ],
          [
           "5328"
          ],
          [
           "60"
          ],
          [
           "61"
          ],
          [
           "62"
          ],
          [
           "4"
          ],
          [
           "5211"
          ],
          [
           "5212"
          ],
          [
           "95-22"
          ],
          [
           "95-23"
          ],
          [
           "95-24"
          ],
          [
           "95-25"
          ],
          [
           "EX01"
          ],
          [
           "8"
          ],
          [
           "9"
          ],
          [
           "10"
          ],
          [
           "15"
          ],
          [
           "7816"
          ],
          [
           "18s"
          ],
          [
           "21"
          ],
          [
           "R4"
          ],
          [
           "R5"
          ],
          [
           "R2N"
          ],
          [
           "R1"
          ],
          [
           "R3N"
          ],
          [
           "5311"
          ],
          [
           "5233"
          ],
          [
           "5334"
          ],
          [
           "5325"
          ],
          [
           "5208"
          ],
          [
           "7810"
          ],
          [
           "7811"
          ],
          [
           "5215"
          ],
          [
           "5318"
          ],
          [
           "5320"
          ],
          [
           "4450"
          ],
          [
           "5224"
          ],
          [
           "5225"
          ],
          [
           "5226"
          ],
          [
           "5269"
          ],
          [
           "5230"
          ],
          [
           "5301"
          ],
          [
           "5302"
          ],
          [
           "5303"
          ],
          [
           "5333"
          ],
          [
           "5389"
          ],
          [
           "1"
          ],
          [
           "2113"
          ],
          [
           "11"
          ],
          [
           "1312"
          ],
          [
           "1314"
          ],
          [
           "15"
          ],
          [
           "2116"
          ],
          [
           "2119"
          ],
          [
           "2122"
          ],
          [
           "30 B"
          ],
          [
           "31"
          ],
          [
           "33"
          ],
          [
           "39"
          ],
          [
           "43"
          ],
          [
           "45"
          ],
          [
           "1346"
          ],
          [
           "1347"
          ],
          [
           "1348"
          ],
          [
           "1350"
          ],
          [
           "2171"
          ],
          [
           "2127"
          ],
          [
           "T'bus 1"
          ],
          [
           "EX 93"
          ],
          [
           "Gbus"
          ],
          [
           "2176"
          ],
          [
           "R117"
          ],
          [
           "2117"
          ],
          [
           "2118"
          ],
          [
           "2121"
          ],
          [
           "2123"
          ],
          [
           "777"
          ],
          [
           "R1"
          ],
          [
           "R2"
          ],
          [
           "R3"
          ],
          [
           "R4"
          ],
          [
           "R5"
          ],
          [
           "R6"
          ],
          [
           "R7"
          ],
          [
           "R110"
          ],
          [
           "R111"
          ],
          [
           "R112"
          ],
          [
           "R113"
          ],
          [
           "2101"
          ],
          [
           "2102"
          ],
          [
           "2103"
          ],
          [
           "2104"
          ],
          [
           "2107"
          ],
          [
           "2108"
          ],
          [
           "2109"
          ],
          [
           "2110"
          ],
          [
           "2111"
          ],
          [
           "2163"
          ],
          [
           "VITAVIL"
          ],
          [
           "100"
          ],
          [
           "9501"
          ],
          [
           "9502"
          ],
          [
           "3s"
          ],
          [
           "3"
          ],
          [
           "31"
          ],
          [
           "40"
          ],
          [
           "91"
          ],
          [
           "20"
          ],
          [
           "X409"
          ],
          [
           "12"
          ],
          [
           "70"
          ],
          [
           "5323"
          ],
          [
           "5295"
          ],
          [
           "32"
          ],
          [
           "3"
          ],
          [
           "24"
          ],
          [
           "10"
          ],
          [
           "7804"
          ],
          [
           "87"
          ],
          [
           "1510"
          ],
          [
           "1512"
          ],
          [
           "1513"
          ],
          [
           "1511"
          ],
          [
           "1533"
          ],
          [
           "1537"
          ],
          [
           "6"
          ],
          [
           "1515"
          ],
          [
           "1514"
          ],
          [
           "J"
          ],
          [
           "H"
          ],
          [
           "S6"
          ],
          [
           "1"
          ],
          [
           "2"
          ],
          [
           "4"
          ],
          [
           "501"
          ],
          [
           "502"
          ],
          [
           "25"
          ],
          [
           "503"
          ],
          [
           "8"
          ],
          [
           "9"
          ],
          [
           "18"
          ],
          [
           "34"
          ],
          [
           "7"
          ],
          [
           "4535"
          ],
          [
           "4301"
          ],
          [
           "4303"
          ],
          [
           "4530"
          ],
          [
           "1"
          ],
          [
           "12"
          ],
          [
           "D"
          ],
          [
           "6281"
          ],
          [
           "6282"
          ],
          [
           "T"
          ],
          [
           "S3"
          ],
          [
           "A"
          ],
          [
           "E"
          ],
          [
           "S7"
          ],
          [
           "S1"
          ],
          [
           "B"
          ],
          [
           "K"
          ],
          [
           "S5"
          ],
          [
           "C"
          ],
          [
           "M"
          ],
          [
           "G"
          ],
          [
           "401"
          ],
          [
           "402"
          ],
          [
           "3"
          ],
          [
           "412"
          ],
          [
           "6"
          ],
          [
           "7"
          ],
          [
           "408"
          ],
          [
           "409"
          ],
          [
           "415"
          ],
          [
           "14"
          ],
          [
           "4150"
          ],
          [
           "4114"
          ],
          [
           "4113"
          ],
          [
           "4159"
          ],
          [
           "4160"
          ],
          [
           "4162"
          ],
          [
           "4161"
          ],
          [
           "4151"
          ],
          [
           "4116"
          ],
          [
           "4117"
          ],
          [
           "4157"
          ],
          [
           "4121"
          ],
          [
           "4277"
          ],
          [
           "4340"
          ],
          [
           "4203"
          ],
          [
           "4240"
          ],
          [
           "4230"
          ],
          [
           "4274"
          ],
          [
           "4243"
          ],
          [
           "4273"
          ],
          [
           "4233"
          ],
          [
           "95-05"
          ],
          [
           "95-07"
          ],
          [
           "95-08"
          ],
          [
           "95-16"
          ],
          [
           "1317"
          ],
          [
           "5315"
          ],
          [
           "5327"
          ],
          [
           "5110"
          ],
          [
           "6211"
          ],
          [
           "5312"
          ],
          [
           "5324"
          ],
          [
           "7815"
          ],
          [
           "5111"
          ],
          [
           "5117"
          ],
          [
           "5214"
          ],
          [
           "5112"
          ],
          [
           "5101"
          ],
          [
           "6287"
          ],
          [
           "5201"
          ],
          [
           "5219"
          ],
          [
           "5206"
          ],
          [
           "5289"
          ],
          [
           "6241"
          ],
          [
           "7818"
          ],
          [
           "30-03"
          ],
          [
           "1353"
          ],
          [
           "30-05"
          ],
          [
           "30-07"
          ],
          [
           "30-09"
          ],
          [
           "30-10"
          ],
          [
           "30-11"
          ],
          [
           "30-12"
          ],
          [
           "1518"
          ],
          [
           "30-14"
          ],
          [
           "30-18"
          ],
          [
           "30-21Est"
          ],
          [
           "30-22"
          ],
          [
           "30-23"
          ],
          [
           "76"
          ],
          [
           "30-28"
          ],
          [
           "1351"
          ],
          [
           "30-31"
          ],
          [
           "30-32"
          ],
          [
           "30-33"
          ],
          [
           "30-34"
          ],
          [
           "1316"
          ],
          [
           "30-37"
          ],
          [
           "30-38"
          ],
          [
           "1519"
          ],
          [
           "30-42"
          ],
          [
           "30-43"
          ],
          [
           "95-03A"
          ],
          [
           "95-19"
          ],
          [
           "95-20"
          ],
          [
           "95-21"
          ],
          [
           "95-26"
          ],
          [
           "CitéVal N"
          ],
          [
           "5123"
          ],
          [
           "5275"
          ],
          [
           "3801"
          ],
          [
           "1520"
          ],
          [
           "1521"
          ],
          [
           "3804"
          ],
          [
           "5232"
          ],
          [
           "5313"
          ],
          [
           "10"
          ],
          [
           "5307"
          ],
          [
           "11"
          ],
          [
           "5339"
          ],
          [
           "5146"
          ],
          [
           "5363"
          ],
          [
           "5347"
          ],
          [
           "5359"
          ],
          [
           "12"
          ],
          [
           "5337"
          ],
          [
           "5282"
          ],
          [
           "5278"
          ],
          [
           "5290"
          ],
          [
           "13"
          ],
          [
           "5153"
          ],
          [
           "5227"
          ],
          [
           "5236"
          ],
          [
           "6177"
          ],
          [
           "6176"
          ],
          [
           "5331"
          ],
          [
           "5352"
          ],
          [
           "5330"
          ],
          [
           "7807"
          ],
          [
           "5340"
          ],
          [
           "6161"
          ],
          [
           "6162"
          ],
          [
           "6160"
          ],
          [
           "6163"
          ],
          [
           "5141"
          ],
          [
           "5191"
          ],
          [
           "5197"
          ],
          [
           "3101"
          ],
          [
           "3148"
          ],
          [
           "451"
          ],
          [
           "3121"
          ],
          [
           "423"
          ],
          [
           "431"
          ],
          [
           "432"
          ],
          [
           "441"
          ],
          [
           "442"
          ],
          [
           "433"
          ],
          [
           "443"
          ],
          [
           "434"
          ],
          [
           "444"
          ],
          [
           "445"
          ],
          [
           "435"
          ],
          [
           "436"
          ],
          [
           "440"
          ],
          [
           "5102"
          ],
          [
           "5199"
          ],
          [
           "428"
          ],
          [
           "427"
          ],
          [
           "4115"
          ],
          [
           "4152"
          ],
          [
           "4153"
          ],
          [
           "4135"
          ],
          [
           "4119"
          ],
          [
           "4112"
          ],
          [
           "4158"
          ],
          [
           "4134"
          ],
          [
           "450"
          ],
          [
           "4111"
          ],
          [
           "4131"
          ],
          [
           "4155"
          ],
          [
           "4156"
          ],
          [
           "4154"
          ],
          [
           "4133"
          ],
          [
           "4132"
          ],
          [
           "4110"
          ],
          [
           "429"
          ],
          [
           "449"
          ],
          [
           "4130"
          ],
          [
           "4120"
          ],
          [
           "1304"
          ],
          [
           "1303"
          ],
          [
           "1309"
          ],
          [
           "22"
          ],
          [
           "23"
          ],
          [
           "24"
          ],
          [
           "24 S"
          ],
          [
           "35"
          ],
          [
           "36"
          ],
          [
           "37"
          ],
          [
           "2252"
          ],
          [
           "2251"
          ],
          [
           "2290"
          ],
          [
           "2250"
          ],
          [
           "2291"
          ],
          [
           "3117"
          ],
          [
           "2221"
          ],
          [
           "2222"
          ],
          [
           "2223"
          ],
          [
           "2225"
          ],
          [
           "2226"
          ],
          [
           "2229"
          ],
          [
           "2292"
          ],
          [
           "2234"
          ],
          [
           "2253"
          ],
          [
           "2220"
          ],
          [
           "2233"
          ],
          [
           "2244"
          ],
          [
           "18E"
          ],
          [
           "2263"
          ],
          [
           "19Ex"
          ],
          [
           "42"
          ],
          [
           "27"
          ],
          [
           "28"
          ],
          [
           "71"
          ],
          [
           "43"
          ],
          [
           "17"
          ],
          [
           "18"
          ],
          [
           "7808"
          ],
          [
           "41"
          ],
          [
           "2128"
          ],
          [
           "2130"
          ],
          [
           "2120"
          ],
          [
           "2169"
          ],
          [
           "20E"
          ],
          [
           "4541"
          ],
          [
           "4540"
          ],
          [
           "4523"
          ],
          [
           "4524"
          ],
          [
           "4205"
          ],
          [
           "4520"
          ],
          [
           "4577"
          ],
          [
           "4505"
          ],
          [
           "4517"
          ],
          [
           "4516"
          ],
          [
           "4280"
          ],
          [
           "4518"
          ],
          [
           "4579"
          ],
          [
           "4539"
          ],
          [
           "DM10A"
          ],
          [
           "DM10S"
          ],
          [
           "DM11A"
          ],
          [
           "DM12"
          ],
          [
           "4543"
          ],
          [
           "4537"
          ],
          [
           "4542"
          ],
          [
           "S17"
          ],
          [
           "17"
          ],
          [
           "4538"
          ],
          [
           "4550"
          ],
          [
           "4580"
          ],
          [
           "4522"
          ],
          [
           "4521"
          ],
          [
           "4583"
          ],
          [
           "4223"
          ],
          [
           "DM11G"
          ],
          [
           "DM11E"
          ],
          [
           "DM11C"
          ],
          [
           "4556"
          ],
          [
           "9114"
          ],
          [
           "9115"
          ],
          [
           "DM152S"
          ],
          [
           "4503"
          ],
          [
           "4221"
          ],
          [
           "4222"
          ],
          [
           "6201"
          ],
          [
           "6202"
          ],
          [
           "6203"
          ],
          [
           "6204"
          ],
          [
           "6205"
          ],
          [
           "6206"
          ],
          [
           "6207"
          ],
          [
           "6208"
          ],
          [
           "6209"
          ],
          [
           "6210"
          ],
          [
           "6135"
          ],
          [
           "6136"
          ],
          [
           "6213"
          ],
          [
           "6171"
          ],
          [
           "6172"
          ],
          [
           "6173"
          ],
          [
           "6174"
          ],
          [
           "6284"
          ],
          [
           "6285"
          ],
          [
           "6286"
          ],
          [
           "1"
          ],
          [
           "2A"
          ],
          [
           "2B"
          ],
          [
           "2C"
          ],
          [
           "5"
          ],
          [
           "4"
          ],
          [
           "7"
          ],
          [
           "82"
          ],
          [
           "81"
          ],
          [
           "9"
          ],
          [
           "15"
          ],
          [
           "16"
          ],
          [
           "17"
          ],
          [
           "18"
          ],
          [
           "19"
          ],
          [
           "20"
          ],
          [
           "21"
          ],
          [
           "22"
          ],
          [
           "52"
          ],
          [
           "L"
          ],
          [
           "109"
          ],
          [
           "110"
          ],
          [
           "88A"
          ],
          [
           "90"
          ],
          [
           "88B"
          ],
          [
           "89"
          ],
          [
           "91"
          ],
          [
           "88C"
          ],
          [
           "1230"
          ],
          [
           "1203"
          ],
          [
           "1206"
          ],
          [
           "1236"
          ],
          [
           "1238"
          ],
          [
           "1239"
          ],
          [
           "1240"
          ],
          [
           "1202"
          ],
          [
           "1223"
          ],
          [
           "1224"
          ],
          [
           "1201"
          ],
          [
           "1237"
          ],
          [
           "1207"
          ],
          [
           "1208"
          ],
          [
           "1226"
          ],
          [
           "1232"
          ],
          [
           "1228"
          ],
          [
           "1241"
          ],
          [
           "1242"
          ],
          [
           "3405"
          ],
          [
           "3441"
          ],
          [
           "3442"
          ],
          [
           "3444"
          ],
          [
           "3445"
          ],
          [
           "3401"
          ],
          [
           "3404"
          ],
          [
           "3403"
          ],
          [
           "3411"
          ],
          [
           "46"
          ],
          [
           "3439"
          ],
          [
           "3633"
          ],
          [
           "3106"
          ],
          [
           "3429"
          ],
          [
           "3660"
          ],
          [
           "3421"
          ],
          [
           "3420"
          ],
          [
           "3443"
          ],
          [
           "3665"
          ],
          [
           "3611"
          ],
          [
           "3655"
          ],
          [
           "3654"
          ],
          [
           "3651"
          ],
          [
           "34"
          ],
          [
           "3432"
          ],
          [
           "3431"
          ],
          [
           "3503"
          ],
          [
           "3530"
          ],
          [
           "3534"
          ],
          [
           "3540"
          ],
          [
           "3543"
          ],
          [
           "3510"
          ],
          [
           "3514"
          ],
          [
           "3515"
          ],
          [
           "3518"
          ],
          [
           "3437"
          ],
          [
           "3536"
          ],
          [
           "3544"
          ],
          [
           "3501"
          ],
          [
           "3502"
          ],
          [
           "3504"
          ],
          [
           "3505"
          ],
          [
           "7715"
          ],
          [
           "3751"
          ],
          [
           "3755"
          ],
          [
           "3754"
          ],
          [
           "3779"
          ],
          [
           "3703"
          ],
          [
           "3753"
          ],
          [
           "3711"
          ],
          [
           "3712"
          ],
          [
           "3713"
          ],
          [
           "3725"
          ],
          [
           "3734"
          ],
          [
           "3736"
          ],
          [
           "3737"
          ],
          [
           "3741"
          ],
          [
           "3742"
          ],
          [
           "3743"
          ],
          [
           "3744"
          ],
          [
           "3702"
          ],
          [
           "Tzen1"
          ],
          [
           "3774"
          ],
          [
           "3714"
          ],
          [
           "3704"
          ],
          [
           "3722"
          ],
          [
           "3727"
          ],
          [
           "3724"
          ],
          [
           "3726"
          ],
          [
           "3723"
          ],
          [
           "3732"
          ],
          [
           "3705"
          ],
          [
           "3733"
          ],
          [
           "3604"
          ],
          [
           "3609"
          ],
          [
           "3656"
          ],
          [
           "3607"
          ],
          [
           "3603"
          ],
          [
           "3602"
          ],
          [
           "3601"
          ],
          [
           "3605"
          ],
          [
           "3612"
          ],
          [
           "3634"
          ],
          [
           "3630"
          ],
          [
           "3659"
          ],
          [
           "J"
          ],
          [
           "F"
          ],
          [
           "4"
          ],
          [
           "C"
          ],
          [
           "2262"
          ],
          [
           "10"
          ],
          [
           "S"
          ],
          [
           "13A"
          ],
          [
           "2264"
          ],
          [
           "L"
          ],
          [
           "18"
          ],
          [
           "19"
          ],
          [
           "M"
          ],
          [
           "21"
          ],
          [
           "22"
          ],
          [
           "23"
          ],
          [
           "31"
          ],
          [
           "32"
          ],
          [
           "33"
          ],
          [
           "34"
          ],
          [
           "35"
          ],
          [
           "40"
          ],
          [
           "41"
          ],
          [
           "42"
          ],
          [
           "46"
          ],
          [
           "48"
          ],
          [
           "49"
          ],
          [
           "50"
          ],
          [
           "52"
          ],
          [
           "53"
          ],
          [
           "54"
          ],
          [
           "56"
          ],
          [
           "2261"
          ],
          [
           "59"
          ],
          [
           "2260"
          ],
          [
           "61"
          ],
          [
           "62EX"
          ],
          [
           "R"
          ],
          [
           "K"
          ],
          [
           "70"
          ],
          [
           "73"
          ],
          [
           "B"
          ],
          [
           "A"
          ],
          [
           "E"
          ],
          [
           "H"
          ],
          [
           "G"
          ],
          [
           "D"
          ],
          [
           "I"
          ],
          [
           "67EX"
          ],
          [
           "69E"
          ],
          [
           "4551"
          ],
          [
           "4581"
          ],
          [
           "4552"
          ],
          [
           "4582"
          ],
          [
           "4576"
          ],
          [
           "4578"
          ],
          [
           "4439"
          ],
          [
           "4438"
          ],
          [
           "4440"
          ],
          [
           "4570"
          ],
          [
           "4555"
          ],
          [
           "4459"
          ],
          [
           "4412"
          ],
          [
           "4401"
          ],
          [
           "4402"
          ],
          [
           "4407"
          ],
          [
           "4408"
          ],
          [
           "4410"
          ],
          [
           "4403"
          ],
          [
           "4405"
          ],
          [
           "4409"
          ],
          [
           "4271"
          ],
          [
           "4231"
          ],
          [
           "4232"
          ],
          [
           "4272"
          ],
          [
           "4275"
          ],
          [
           "4276"
          ],
          [
           "4404"
          ],
          [
           "6252"
          ],
          [
           "6253"
          ],
          [
           "6254"
          ],
          [
           "3451"
          ],
          [
           "3452"
          ],
          [
           "3550"
          ],
          [
           "3559"
          ],
          [
           "3556"
          ],
          [
           "3557"
          ],
          [
           "3458"
          ],
          [
           "3455"
          ],
          [
           "3454"
          ],
          [
           "4341"
          ],
          [
           "4342"
          ],
          [
           "4343"
          ],
          [
           "4344"
          ],
          [
           "4346"
          ],
          [
           "71"
          ],
          [
           "75"
          ],
          [
           "77"
          ],
          [
           "73"
          ],
          [
           "74"
          ],
          [
           "76"
          ],
          [
           "72"
          ],
          [
           "12A"
          ],
          [
           "3204"
          ],
          [
           "3120"
          ],
          [
           "3124"
          ],
          [
           "25"
          ],
          [
           "26"
          ],
          [
           "27"
          ],
          [
           "29A"
          ],
          [
           "3126"
          ],
          [
           "3130"
          ],
          [
           "3127"
          ],
          [
           "3132"
          ],
          [
           "3133"
          ],
          [
           "3129"
          ],
          [
           "3134"
          ],
          [
           "3131"
          ],
          [
           "3135"
          ],
          [
           "3136"
          ],
          [
           "3138"
          ],
          [
           "3140"
          ],
          [
           "3143"
          ],
          [
           "3137"
          ],
          [
           "38"
          ],
          [
           "3139"
          ],
          [
           "40"
          ],
          [
           "41A"
          ],
          [
           "17Ex"
          ],
          [
           "3122"
          ],
          [
           "3128"
          ],
          [
           "28C"
          ],
          [
           "40"
          ],
          [
           "TVM"
          ],
          [
           "20"
          ],
          [
           "21"
          ],
          [
           "22"
          ],
          [
           "24"
          ],
          [
           "26"
          ],
          [
           "27"
          ],
          [
           "28"
          ],
          [
           "29"
          ],
          [
           "30"
          ],
          [
           "31"
          ],
          [
           "32"
          ],
          [
           "38"
          ],
          [
           "39"
          ],
          [
           "42"
          ],
          [
           "43"
          ],
          [
           "46"
          ],
          [
           "47"
          ],
          [
           "48"
          ],
          [
           "52"
          ],
          [
           "54"
          ],
          [
           "56"
          ],
          [
           "57"
          ],
          [
           "58"
          ],
          [
           "60"
          ],
          [
           "61"
          ],
          [
           "62"
          ],
          [
           "63"
          ],
          [
           "64"
          ],
          [
           "66"
          ],
          [
           "67"
          ],
          [
           "68"
          ],
          [
           "69"
          ],
          [
           "70"
          ],
          [
           "72"
          ],
          [
           "73"
          ],
          [
           "74"
          ],
          [
           "75"
          ],
          [
           "76"
          ],
          [
           "80"
          ],
          [
           "82"
          ],
          [
           "83"
          ],
          [
           "84"
          ],
          [
           "85"
          ],
          [
           "86"
          ],
          [
           "87"
          ],
          [
           "88"
          ],
          [
           "89"
          ],
          [
           "91"
          ],
          [
           "92"
          ],
          [
           "93"
          ],
          [
           "94"
          ],
          [
           "95"
          ],
          [
           "96"
          ],
          [
           "101"
          ],
          [
           "102"
          ],
          [
           "103"
          ],
          [
           "104"
          ],
          [
           "105"
          ],
          [
           "106"
          ],
          [
           "107"
          ],
          [
           "108"
          ],
          [
           "109"
          ],
          [
           "110"
          ],
          [
           "111"
          ],
          [
           "112"
          ],
          [
           "113"
          ],
          [
           "114"
          ],
          [
           "115"
          ],
          [
           "116"
          ],
          [
           "117"
          ],
          [
           "118"
          ],
          [
           "119"
          ],
          [
           "120"
          ],
          [
           "121"
          ],
          [
           "122"
          ],
          [
           "123"
          ],
          [
           "124"
          ],
          [
           "125"
          ],
          [
           "126"
          ],
          [
           "127"
          ],
          [
           "128"
          ],
          [
           "129"
          ],
          [
           "131"
          ],
          [
           "132"
          ],
          [
           "133"
          ],
          [
           "137"
          ],
          [
           "138"
          ],
          [
           "139"
          ],
          [
           "140"
          ],
          [
           "141"
          ],
          [
           "143"
          ],
          [
           "144"
          ],
          [
           "145"
          ],
          [
           "146"
          ],
          [
           "147"
          ],
          [
           "148"
          ],
          [
           "150"
          ],
          [
           "151"
          ],
          [
           "152"
          ],
          [
           "153"
          ],
          [
           "157"
          ],
          [
           "158"
          ],
          [
           "159"
          ],
          [
           "160"
          ],
          [
           "162"
          ],
          [
           "163"
          ],
          [
           "164"
          ],
          [
           "165"
          ],
          [
           "166"
          ],
          [
           "167"
          ],
          [
           "169"
          ],
          [
           "170"
          ],
          [
           "171"
          ],
          [
           "172"
          ],
          [
           "173"
          ],
          [
           "174"
          ],
          [
           "175"
          ],
          [
           "176"
          ],
          [
           "177"
          ],
          [
           "178"
          ],
          [
           "179"
          ],
          [
           "180"
          ],
          [
           "181"
          ],
          [
           "182"
          ],
          [
           "183"
          ],
          [
           "184"
          ],
          [
           "185"
          ],
          [
           "186"
          ],
          [
           "187"
          ],
          [
           "188"
          ],
          [
           "189"
          ],
          [
           "190"
          ],
          [
           "191"
          ],
          [
           "192"
          ],
          [
           "194"
          ],
          [
           "195"
          ],
          [
           "196"
          ],
          [
           "197"
          ],
          [
           "199"
          ],
          [
           "201"
          ],
          [
           "203"
          ],
          [
           "206"
          ],
          [
           "207"
          ],
          [
           "208"
          ],
          [
           "210"
          ],
          [
           "211"
          ],
          [
           "212"
          ],
          [
           "213"
          ],
          [
           "214"
          ],
          [
           "216"
          ],
          [
           "217"
          ],
          [
           "220"
          ],
          [
           "221"
          ],
          [
           "234"
          ],
          [
           "235"
          ],
          [
           "237"
          ],
          [
           "238"
          ],
          [
           "239"
          ],
          [
           "241"
          ],
          [
           "244"
          ],
          [
           "249"
          ],
          [
           "250"
          ],
          [
           "251"
          ],
          [
           "252"
          ],
          [
           "253"
          ],
          [
           "254"
          ],
          [
           "255"
          ],
          [
           "256"
          ],
          [
           "258"
          ],
          [
           "261"
          ],
          [
           "262"
          ],
          [
           "268"
          ],
          [
           "269"
          ],
          [
           "270"
          ],
          [
           "272"
          ],
          [
           "274"
          ],
          [
           "275"
          ],
          [
           "276"
          ],
          [
           "278"
          ],
          [
           "281"
          ],
          [
           "285"
          ],
          [
           "286"
          ],
          [
           "289"
          ],
          [
           "290"
          ],
          [
           "291"
          ],
          [
           "292"
          ],
          [
           "294"
          ],
          [
           "297"
          ],
          [
           "299"
          ],
          [
           "301"
          ],
          [
           "302"
          ],
          [
           "303"
          ],
          [
           "304"
          ],
          [
           "306"
          ],
          [
           "308"
          ],
          [
           "312"
          ],
          [
           "317"
          ],
          [
           "318"
          ],
          [
           "319"
          ],
          [
           "320"
          ],
          [
           "321"
          ],
          [
           "322"
          ],
          [
           "323"
          ],
          [
           "325"
          ],
          [
           "330"
          ],
          [
           "340"
          ],
          [
           "341"
          ],
          [
           "346"
          ],
          [
           "350"
          ],
          [
           "351"
          ],
          [
           "ROISSYBUS"
          ],
          [
           "355"
          ],
          [
           "356"
          ],
          [
           "360"
          ],
          [
           "361"
          ],
          [
           "366"
          ],
          [
           "367"
          ],
          [
           "368"
          ],
          [
           "370"
          ],
          [
           "372"
          ],
          [
           "378"
          ],
          [
           "385"
          ],
          [
           "388"
          ],
          [
           "389"
          ],
          [
           "390"
          ],
          [
           "391"
          ],
          [
           "393"
          ],
          [
           "394"
          ],
          [
           "395"
          ],
          [
           "396"
          ],
          [
           "399"
          ],
          [
           "421"
          ],
          [
           "467"
          ],
          [
           "492"
          ],
          [
           "BUS T1"
          ],
          [
           "459"
          ],
          [
           "471"
          ],
          [
           "CHARONNE"
          ],
          [
           "BIEVRES"
          ],
          [
           "NEY-FLA"
          ],
          [
           "AUDONIE"
          ],
          [
           "AS"
          ],
          [
           "EOLIEN"
          ],
          [
           "TIM"
          ],
          [
           "CHOISYBUS"
          ],
          [
           "TILLBUS"
          ],
          [
           "520"
          ],
          [
           "215"
          ],
          [
           "TUB"
          ],
          [
           "SUBB"
          ],
          [
           "TUC"
          ],
          [
           "RIVER"
          ],
          [
           "CLAM"
          ],
          [
           "TUVIM"
          ],
          [
           "559"
          ],
          [
           "564"
          ],
          [
           "565"
          ],
          [
           "FONT"
          ],
          [
           "193"
          ],
          [
           "V7"
          ],
          [
           "595"
          ],
          [
           "HIRO"
          ],
          [
           "N24"
          ],
          [
           "N52"
          ],
          [
           "N51"
          ],
          [
           "N44"
          ],
          [
           "N42"
          ],
          [
           "N23"
          ],
          [
           "N34"
          ],
          [
           "N33"
          ],
          [
           "N31"
          ],
          [
           "N21"
          ],
          [
           "N61"
          ],
          [
           "N62"
          ],
          [
           "N32"
          ],
          [
           "N45"
          ],
          [
           "N43"
          ],
          [
           "N22"
          ],
          [
           "N63"
          ],
          [
           "N53"
          ],
          [
           "N71"
          ],
          [
           "N41"
          ],
          [
           "N35"
          ],
          [
           "N01"
          ],
          [
           "N02"
          ],
          [
           "N11"
          ],
          [
           "N16"
          ],
          [
           "N15"
          ],
          [
           "N14"
          ],
          [
           "N13"
          ],
          [
           "N12"
          ],
          [
           "N122"
          ],
          [
           "N153"
          ],
          [
           "1"
          ],
          [
           "7s"
          ],
          [
           "7"
          ],
          [
           "4s"
          ],
          [
           "4"
          ],
          [
           "2"
          ],
          [
           "5"
          ],
          [
           "40"
          ],
          [
           "Navette"
          ],
          [
           "3301"
          ],
          [
           "3303"
          ],
          [
           "3304"
          ],
          [
           "3310"
          ],
          [
           "3305"
          ],
          [
           "3311"
          ],
          [
           "3306"
          ],
          [
           "3307"
          ],
          [
           "3302"
          ],
          [
           "3438"
          ],
          [
           "3434"
          ],
          [
           "3435"
          ],
          [
           "3436"
          ],
          [
           "3430"
          ],
          [
           "3433"
          ],
          [
           "3319"
          ],
          [
           "3242"
          ],
          [
           "3240"
          ],
          [
           "3256"
          ],
          [
           "3241"
          ],
          [
           "3243"
          ],
          [
           "3244"
          ],
          [
           "3201"
          ],
          [
           "3245"
          ],
          [
           "3257"
          ],
          [
           "3252"
          ],
          [
           "3202"
          ],
          [
           "3250"
          ],
          [
           "3258"
          ],
          [
           "3253"
          ],
          [
           "3260"
          ],
          [
           "3203"
          ],
          [
           "EX 9518"
          ],
          [
           "2"
          ],
          [
           "7802"
          ],
          [
           "1205"
          ],
          [
           "6"
          ],
          [
           "1231"
          ],
          [
           "12"
          ],
          [
           "1234"
          ],
          [
           "1227"
          ],
          [
           "1221"
          ],
          [
           "426"
          ],
          [
           "6227"
          ],
          [
           "6230"
          ],
          [
           "6231"
          ],
          [
           "6246"
          ],
          [
           "6216"
          ],
          [
           "7803"
          ],
          [
           "37"
          ],
          [
           "40"
          ],
          [
           "6280"
          ],
          [
           "3417"
          ],
          [
           "4531"
          ],
          [
           "4532"
          ],
          [
           "4534"
          ],
          [
           "4533"
          ],
          [
           "7704"
          ],
          [
           "7705"
          ],
          [
           "3254"
          ],
          [
           "3255"
          ],
          [
           "3251"
          ],
          [
           "7707"
          ],
          [
           "3212"
          ],
          [
           "3213"
          ],
          [
           "3214"
          ],
          [
           "3315"
          ],
          [
           "3249"
          ],
          [
           "3246"
          ],
          [
           "3247"
          ],
          [
           "3248"
          ],
          [
           "3216"
          ],
          [
           "3209"
          ],
          [
           "3259"
          ],
          [
           "3208"
          ],
          [
           "TàD 3209"
          ],
          [
           "3207"
          ],
          [
           "5134"
          ],
          [
           "5132"
          ],
          [
           "5120"
          ],
          [
           "5125"
          ],
          [
           "5122"
          ],
          [
           "5104"
          ],
          [
           "5105"
          ],
          [
           "5107"
          ],
          [
           "5106"
          ],
          [
           "5143"
          ],
          [
           "5142"
          ],
          [
           "5133"
          ],
          [
           "5144"
          ],
          [
           "5103"
          ],
          [
           "5152"
          ],
          [
           "5150"
          ],
          [
           "5151"
          ],
          [
           "7805"
          ],
          [
           "701"
          ],
          [
           "702"
          ],
          [
           "703"
          ],
          [
           "A14"
          ],
          [
           "A14"
          ],
          [
           "EXP A14 M"
          ],
          [
           "EXP A14 B"
          ],
          [
           "7825"
          ],
          [
           "95-04"
          ],
          [
           "95-11"
          ],
          [
           "95-41"
          ],
          [
           "95-42"
          ],
          [
           "95-43"
          ],
          [
           "95-44"
          ],
          [
           "95-45"
          ],
          [
           "95-46"
          ],
          [
           "95-47"
          ],
          [
           "95-48"
          ],
          [
           "9"
          ],
          [
           "S9"
          ],
          [
           "9101"
          ],
          [
           "9102"
          ],
          [
           "9103"
          ],
          [
           "4504"
          ],
          [
           "91-05"
          ],
          [
           "91-06"
          ],
          [
           "4457"
          ],
          [
           "91-08"
          ],
          [
           "4122"
          ],
          [
           "5154"
          ],
          [
           "602"
          ],
          [
           "603"
          ],
          [
           "604"
          ],
          [
           "605"
          ],
          [
           "607"
          ],
          [
           "609"
          ],
          [
           "610"
          ],
          [
           "613"
          ],
          [
           "615"
          ],
          [
           "616"
          ],
          [
           "617"
          ],
          [
           "618"
          ],
          [
           "619"
          ],
          [
           "620"
          ],
          [
           "623"
          ],
          [
           "637"
          ],
          [
           "642"
          ],
          [
           "644"
          ],
          [
           "C"
          ],
          [
           "D"
          ],
          [
           "E"
          ],
          [
           "I"
          ],
          [
           "Z"
          ],
          [
           "M"
          ],
          [
           "N"
          ],
          [
           "X"
          ],
          [
           "26"
          ],
          [
           "F"
          ],
          [
           "G"
          ],
          [
           "4201"
          ],
          [
           "4206"
          ],
          [
           "4212"
          ],
          [
           "4204"
          ],
          [
           "4241"
          ],
          [
           "4202"
          ],
          [
           "4270"
          ],
          [
           "4217"
          ],
          [
           "4244"
          ],
          [
           "4279"
          ],
          [
           "4246"
          ],
          [
           "4213"
          ],
          [
           "4278"
          ],
          [
           "4215"
          ],
          [
           "4214"
          ],
          [
           "4245"
          ],
          [
           "4218"
          ],
          [
           "4219"
          ],
          [
           "N132"
          ],
          [
           "N130"
          ],
          [
           "N151"
          ],
          [
           "N131"
          ],
          [
           "N150"
          ],
          [
           "N140"
          ],
          [
           "N152"
          ],
          [
           "N142"
          ],
          [
           "N141"
          ],
          [
           "N143"
          ],
          [
           "N161"
          ],
          [
           "N133"
          ],
          [
           "N134"
          ],
          [
           "N135"
          ],
          [
           "N154"
          ],
          [
           "8"
          ],
          [
           "8s"
          ],
          [
           "EX 100"
          ],
          [
           "BUSM3"
          ],
          [
           "1"
          ],
          [
           "14"
          ],
          [
           "16"
          ],
          [
           "BATIGNO"
          ],
          [
           "310"
          ],
          [
           "1301"
          ],
          [
           "1302"
          ],
          [
           "1356"
          ],
          [
           "3219"
          ],
          [
           "4216"
          ],
          [
           "3"
          ],
          [
           "EX 100"
          ],
          [
           "35"
          ],
          [
           "30-46"
          ],
          [
           "247"
          ],
          [
           "248"
          ],
          [
           "4602"
          ],
          [
           "4621"
          ],
          [
           "4622"
          ],
          [
           "4436"
          ],
          [
           "1305"
          ],
          [
           "6164"
          ],
          [
           "30-47"
          ],
          [
           "485"
          ],
          [
           "487"
          ],
          [
           "488"
          ],
          [
           "2228"
          ],
          [
           "1"
          ],
          [
           "2"
          ],
          [
           "3217"
          ],
          [
           "34"
          ],
          [
           "337"
          ],
          [
           "114"
          ],
          [
           "116"
          ],
          [
           "2129"
          ],
          [
           "2168"
          ],
          [
           "THIAIS"
          ],
          [
           "95-06"
          ],
          [
           "95-12"
          ],
          [
           "95-31"
          ],
          [
           "95-32"
          ],
          [
           "95-33"
          ],
          [
           "95-34"
          ],
          [
           "95-35"
          ],
          [
           "1516"
          ],
          [
           "6140"
          ],
          [
           "6142"
          ],
          [
           "6124"
          ],
          [
           "N66"
          ],
          [
           "380"
          ],
          [
           "17"
          ],
          [
           "5288"
          ],
          [
           "6240"
          ],
          [
           "5115"
          ],
          [
           "20"
          ],
          [
           "25"
          ],
          [
           "6251"
          ],
          [
           "30-48"
          ],
          [
           "02E"
          ],
          [
           "486"
          ],
          [
           "5383"
          ],
          [
           "2124"
          ],
          [
           "2224"
          ],
          [
           "6243"
          ],
          [
           "7812"
          ],
          [
           "5349"
          ],
          [
           "5249"
          ],
          [
           "5259"
          ],
          [
           "5379"
          ],
          [
           "30-49"
          ],
          [
           "30"
          ],
          [
           "5221"
          ],
          [
           "5231"
          ],
          [
           "5241"
          ],
          [
           "5251"
          ],
          [
           "5342"
          ],
          [
           "5235"
          ],
          [
           "5245"
          ],
          [
           "5355"
          ],
          [
           "5338"
          ],
          [
           "5348"
          ],
          [
           "5240"
          ],
          [
           "5298"
          ],
          [
           "5317"
          ],
          [
           "A"
          ],
          [
           "K"
          ],
          [
           "R"
          ],
          [
           "ChavilBus"
          ],
          [
           "3408"
          ],
          [
           "4220"
          ],
          [
           "5216"
          ],
          [
           "259"
          ],
          [
           "168"
          ],
          [
           "353"
          ],
          [
           "Soir"
          ],
          [
           "1229"
          ],
          [
           "TàD"
          ],
          [
           "4307"
          ],
          [
           "4308"
          ],
          [
           "4330"
          ],
          [
           "4331"
          ],
          [
           "4327"
          ],
          [
           "4329"
          ],
          [
           "4328"
          ],
          [
           "34"
          ],
          [
           "11.5"
          ],
          [
           "1354"
          ],
          [
           "1352"
          ],
          [
           "1349"
          ],
          [
           "12 ZI"
          ],
          [
           "2231"
          ],
          [
           "2235"
          ],
          [
           "CitéVal C"
          ],
          [
           "CitéVal F"
          ],
          [
           "260"
          ],
          [
           "F"
          ],
          [
           "S4"
          ],
          [
           "L"
          ],
          [
           "P"
          ],
          [
           "S2"
          ],
          [
           "6"
          ],
          [
           "9"
          ],
          [
           "9s"
          ],
          [
           "4406"
          ],
          [
           "27"
          ],
          [
           "6276"
          ],
          [
           "5183"
          ],
          [
           "5113"
          ],
          [
           "5114"
          ],
          [
           "643"
          ],
          [
           "1233"
          ],
          [
           "1225"
          ],
          [
           "5130"
          ],
          [
           "5131"
          ],
          [
           "3440"
          ],
          [
           "9111"
          ],
          [
           "2280"
          ],
          [
           "71"
          ],
          [
           "PC"
          ],
          [
           "N"
          ],
          [
           "TàD"
          ],
          [
           "1204"
          ],
          [
           "63"
          ],
          [
           "6183"
          ],
          [
           "6184"
          ],
          [
           "6179"
          ],
          [
           "6181"
          ],
          [
           "6180"
          ],
          [
           "6182"
          ],
          [
           "Licorne"
          ],
          [
           "25"
          ],
          [
           "45"
          ],
          [
           "71"
          ],
          [
           "59"
          ],
          [
           "77"
          ],
          [
           "95-29"
          ],
          [
           "4334"
          ],
          [
           "5371"
          ],
          [
           "5237"
          ],
          [
           "Soir"
          ],
          [
           "TàD"
          ],
          [
           "TàD"
          ],
          [
           "6"
          ],
          [
           "A14"
          ],
          [
           "20"
          ],
          [
           "4345"
          ],
          [
           "3424"
          ],
          [
           "3632"
          ],
          [
           "3613"
          ],
          [
           "3144"
          ],
          [
           "Soir"
          ],
          [
           "56"
          ],
          [
           "57"
          ],
          [
           "6214"
          ],
          [
           "3427"
          ],
          [
           "2245"
          ],
          [
           "Soir"
          ],
          [
           "4309"
          ],
          [
           "TàD"
          ],
          [
           "4322"
          ],
          [
           "263"
          ],
          [
           "5310"
          ],
          [
           "N155"
          ],
          [
           "DM151S"
          ],
          [
           "TàD 4597"
          ],
          [
           "TàD 4596"
          ],
          [
           "18"
          ],
          [
           "S1"
          ],
          [
           "S2"
          ],
          [
           "S3"
          ],
          [
           "S4"
          ],
          [
           "95-15"
          ],
          [
           "95-51"
          ],
          [
           "4250"
          ],
          [
           "4251"
          ],
          [
           "4332"
          ],
          [
           "4118"
          ],
          [
           "5343"
          ],
          [
           "209"
          ],
          [
           "4451"
          ],
          [
           "4452"
          ],
          [
           "4453"
          ],
          [
           "4454"
          ],
          [
           "4455"
          ],
          [
           "382"
          ],
          [
           "439"
          ],
          [
           "4461"
          ],
          [
           "4462"
          ],
          [
           "4463"
          ],
          [
           "4456"
          ],
          [
           "4458"
          ],
          [
           "4416"
          ],
          [
           "4417"
          ],
          [
           "4418"
          ],
          [
           "4442"
          ],
          [
           "4435"
          ],
          [
           "4437"
          ],
          [
           "4430"
          ],
          [
           "4431"
          ],
          [
           "4432"
          ],
          [
           "4433"
          ],
          [
           "4434"
          ],
          [
           "4411"
          ],
          [
           "4414"
          ],
          [
           "4415"
          ],
          [
           "Soir"
          ],
          [
           "Soir"
          ],
          [
           "Soir"
          ],
          [
           "TàD 4301"
          ],
          [
           "N146"
          ],
          [
           "T'bus 3"
          ],
          [
           "T'bus 2"
          ],
          [
           "95-49"
          ],
          [
           "95-50"
          ],
          [
           "TàD"
          ],
          [
           "TàD"
          ],
          [
           "Soir"
          ],
          [
           "Soir"
          ],
          [
           "Soir"
          ],
          [
           "Soir"
          ],
          [
           "J"
          ],
          [
           "41"
          ],
          [
           "Soir"
          ],
          [
           "Soir"
          ],
          [
           "N137"
          ],
          [
           "3406"
          ],
          [
           "3409"
          ],
          [
           "95-03B"
          ],
          [
           "R114"
          ],
          [
           "R104"
          ],
          [
           "R105"
          ],
          [
           "R106"
          ],
          [
           "R107"
          ],
          [
           "R108"
          ],
          [
           "R109"
          ],
          [
           "32 ZA"
          ],
          [
           "30 D"
          ],
          [
           "N160"
          ],
          [
           "N162"
          ],
          [
           "1517"
          ],
          [
           "Soir"
          ],
          [
           "Soir"
          ],
          [
           "1527"
          ],
          [
           "3608"
          ],
          [
           "3606"
          ],
          [
           "3610"
          ],
          [
           "3652"
          ],
          [
           "3653"
          ],
          [
           "3658"
          ],
          [
           "3657"
          ],
          [
           "3661"
          ],
          [
           "3662"
          ],
          [
           "3663"
          ],
          [
           "3664"
          ],
          [
           "3631"
          ],
          [
           "3666"
          ],
          [
           "N123"
          ],
          [
           "TàD 4591"
          ],
          [
           "TàD 4592"
          ],
          [
           "TàD 4595"
          ],
          [
           "9118"
          ],
          [
           "4502"
          ],
          [
           "1"
          ],
          [
           "2"
          ],
          [
           "14"
          ],
          [
           "19"
          ],
          [
           "90"
          ],
          [
           "92"
          ],
          [
           "94"
          ],
          [
           "52"
          ],
          [
           "54"
          ],
          [
           "58"
          ],
          [
           "59"
          ],
          [
           "64"
          ],
          [
           "65"
          ],
          [
           "66"
          ],
          [
           "67"
          ],
          [
           "68"
          ],
          [
           "69"
          ],
          [
           "72"
          ],
          [
           "74"
          ],
          [
           "75"
          ],
          [
           "3775"
          ],
          [
           "3776"
          ],
          [
           "3778"
          ],
          [
           "3773"
          ],
          [
           "3735"
          ],
          [
           "Soir"
          ],
          [
           "Soir"
          ],
          [
           "N148"
          ],
          [
           "Soir"
          ],
          [
           "Soir"
          ],
          [
           "5322"
          ],
          [
           "TàD"
          ],
          [
           "Soir"
          ],
          [
           "8ASc"
          ],
          [
           "8B"
          ],
          [
           "8C"
          ],
          [
           "13B"
          ],
          [
           "31S"
          ],
          [
           "32S"
          ],
          [
           "34S2"
          ],
          [
           "34S3"
          ],
          [
           "56S"
          ],
          [
           "02B"
          ],
          [
           "02C"
          ],
          [
           "02D"
          ],
          [
           "02E"
          ],
          [
           "02F"
          ],
          [
           "03B"
          ],
          [
           "03C"
          ],
          [
           "09B"
          ],
          [
           "09C"
          ],
          [
           "12B"
          ],
          [
           "12C"
          ],
          [
           "29B"
          ],
          [
           "29M"
          ],
          [
           "31B"
          ],
          [
           "31C"
          ],
          [
           "41B"
          ],
          [
           "Es"
          ],
          [
           "Ls"
          ],
          [
           "Ms"
          ],
          [
           "21S"
          ],
          [
           "54B"
          ],
          [
           "Ks"
          ],
          [
           "Js"
          ],
          [
           "Qs"
          ],
          [
           "Fs"
          ],
          [
           "4A"
          ],
          [
           "Os"
          ],
          [
           "Ns"
          ],
          [
           "R2S"
          ],
          [
           "R3S"
          ],
          [
           "21s"
          ],
          [
           "TàD"
          ],
          [
           "5124"
          ],
          [
           "5140"
          ],
          [
           "5192"
          ],
          [
           "5193"
          ],
          [
           "5194"
          ],
          [
           "5195"
          ],
          [
           "5196"
          ],
          [
           "5184"
          ],
          [
           "5185"
          ],
          [
           "5186"
          ],
          [
           "5187"
          ],
          [
           "5121"
          ],
          [
           "5189"
          ],
          [
           "5190"
          ],
          [
           "5188"
          ],
          [
           "5198"
          ],
          [
           "Soir"
          ],
          [
           "N"
          ],
          [
           "CitéVal"
          ],
          [
           "Soir"
          ],
          [
           "Soir"
          ],
          [
           "TàD 3144"
          ],
          [
           "TàD"
          ],
          [
           "16"
          ],
          [
           "95"
          ],
          [
           "430"
          ],
          [
           "311"
          ],
          [
           "Soir"
          ],
          [
           "Soir"
          ],
          [
           "3308"
          ],
          [
           "Soir"
          ],
          [
           "Soir"
          ],
          [
           "R121"
          ],
          [
           "Soir"
          ],
          [
           "Soir"
          ],
          [
           "R9"
          ],
          [
           "4513"
          ],
          [
           "4536"
          ],
          [
           "418"
          ],
          [
           "Gs"
          ],
          [
           "11"
          ],
          [
           "12"
          ],
          [
           "Soir"
          ],
          [
           "3102"
          ],
          [
           "3108"
          ],
          [
           "3141"
          ],
          [
           "3142"
          ],
          [
           "1235"
          ],
          [
           "612"
          ],
          [
           "5234"
          ],
          [
           "7817"
          ],
          [
           "1255"
          ],
          [
           "1222"
          ],
          [
           "Soir"
          ],
          [
           "Soir"
          ],
          [
           "2282"
          ],
          [
           "2281"
          ],
          [
           "2254"
          ],
          [
           "2283"
          ],
          [
           "2284"
          ],
          [
           "5252"
          ],
          [
           "5253"
          ],
          [
           "Soir"
          ],
          [
           "Soir"
          ],
          [
           "Soir"
          ],
          [
           "2151"
          ],
          [
           "2152"
          ],
          [
           "2154"
          ],
          [
           "2157"
          ],
          [
           "2160"
          ],
          [
           "2165"
          ],
          [
           "2166"
          ],
          [
           "5267"
          ],
          [
           "5277"
          ],
          [
           "5283"
          ],
          [
           "5284"
          ],
          [
           "5285"
          ],
          [
           "5286"
          ],
          [
           "5287"
          ],
          [
           "5228"
          ],
          [
           "5291"
          ],
          [
           "5292"
          ],
          [
           "5293"
          ],
          [
           "5294"
          ],
          [
           "5279"
          ],
          [
           "5242"
          ],
          [
           "5281"
          ],
          [
           "245"
          ],
          [
           "202"
          ],
          [
           "CitéVal S"
          ],
          [
           "3533"
          ]
         ],
         "hovertemplate": "route_type=3<br>Données de validation=%{x}<br>Simulation de référence=%{y}<br>route_short_name=%{customdata[0]}<extra></extra>",
         "legendgroup": "3",
         "marker": {
          "color": "#636efa",
          "symbol": "circle"
         },
         "mode": "markers",
         "name": "Lignes de bus",
         "showlegend": true,
         "type": "scattergl",
         "x": {
          "bdata": "jC666KK8kUCyySabbOu6QIQPPvjg049Auuiiiy5GckCbbLLJJmtoQFVVVVVVJVhAAAAAAABAQEBGF1100UVqQEYXXXTR5WNANtlkk01GbEA22WSTTUZsQDbZZJNNRmxANtlkk01GbEBONtlkk1V0QD744IMPPkZAo4suuuhiaUAnm2yyyYZAQDbZZJNNRllAVVVVVVVdZUCjiy666CJPQF100UUXJWdATjbZZJNdYkCMLrrooh+AQFVVVVVVoX1AVVVVVVWhfUCMLrroop2yQIwuuuiinbJA6aKLLrpZkEDpoosuulmQQMIHH3zwbJZAyiabbLLlmUB88MEHH3qbQLrooosuejpA4YMPPviASEDhgw8++IBIQPDBBx98colAF1100UX5hECbbLLJJqGJQIwuuuii9ZRAwgcffPBQokBONtlkk610QE422WSTrXRAH3zwwQffWkCrqqqqqnpYQAgffPDBxzVAm2yyySZ7UkBONtlkkzVtQAgffPDBB58/L7roooumgECrqqqqquo3QNlkk002WaNA8MEHH/yko0Anm2yyyTJ6QB988MEHZYZA8MEHH3xSjkD44IMPPjhpQB988MEHR3lACB988ME9kEAIH3zwwT2QQG2yySab3GRAbbLJJpvcZEBddNFFlx+rQF100UWXH6tAAAAAAICkoEAAAAAAgKSgQAAAAACApKBAq6qqquqntEAAAAAAAIAuQDbZZJNNlnNAZZNNNtnEYkCEDz744Dd0QKuqqqqqyk5ARhdddNFpckBtsskmm+wlQKuqqqqqqgZA8MEHH3xSgkDhgw8++OA5QD744IMPpIpAAAAAAADAPUAAAAAAAIhiQAgffPDB32NAH3zwwQd/WECbbLLJJrtEQBA++OCDOpJANtlkk01uY0CEDz744K96QD744IMPLItAL7rooouuLkBONtlkk81fQOmiiy666CVATjbZZJMNQ0DRRRdddDFSQEYXXXTRZUJAAAAAAAAgUECjiy666AJWQBdddNFFFyBA0UUXXXQJYEAffPDBBx9QQFVVVVVV9VpACB988MHPaUAXXXTRRZdNQMomm2yyKVBAF1100UVXVEBtsskmm4mfQEYXXXTRBTRAk0022WRzUkBddNFFF90rQAAAAAAAgEBA4YMPPvjg4z8++OCDDz7oPxdddNHFsaxAwgcffPBZjED44IMPPnBuQEYXXXRRlaFAED744IOPf0Cjiy666CCMQPDBBx98cDBA8MEHH3xhnkCrqqqqquCdQBA++OCDe39A2WSTTTben0A++OCDD0ulQHTRRRdd5HlA6aKLLrpAZ0C66KKLLnpIQHzwwQcfDGNAH3zwwQc3YkBVVVVVVcVbQFVVVVVVaYhAPvjggw+kgUC66KKLLlpJQOGDDz74gFFAJ5tsssleaUBtsskmm2w1QHzwwQcf/F9Ao4suuugyU0CTTTbZZANeQPjggw8++CpAJ5tsssn2WkDCBx988PCSQDbZZJNNCppAZZNNNtlaiUDhgw8++GAmQAgffPDBByVA6aKLLro2n0B00UUXXZ6AQOGDDz442rtA0UUXXXTxREA22WSTTaZXQJtsssmmDcNAdNFFF11ckUDCBx988EFrQBA++OCDh3NAjC666KLdiUBGF1100culQF100UUXxWBAfPDBBx+oo0Cjiy666BWkQBdddNHFxqpAo4suuuiiE0CTTTbZZFM0QBA++OCDDxVA8MEHH3wQREBGF1100WF1QEYXXXTRYXVACB988MFCpkDKJptssmuHQKuqqqqqKlNATjbZZJMZdEBONtlkk80mQEYXXXTRMZJAF1100UUniUBtsskmm+CHQJNNNtlklZBAk0022WRhgUC66KKLLgadQD744IMPhmRA2WSTTTYVdEAvuuiii6SAQAAAAAAAOGpA+OCDDz4Ed0Blk0022cRCQIwuuuiiq1NAsskmm2xSWEBlk0022URCQNlkk002+WlAdNFFF90uq0DRRRdddDiZQOmiiy66NHpAfPDBBx9uikC66KKLLipZQFVVVVVVTWtAH3zwwQfjeUD44IMPPmhWQMomm2yyqWtA8MEHH3xwUUA++OCDD+JxQLLJJptssoJAuuiiiy7gikA22WSTDXGzQAAAAAAALptAAAAAAAAum0Cjiy666LJWQFVVVVVVJZZAyiabbLJPh0BGF1100d+RQB988MEH34VAo4suuugUmUDZZJNNNsluQFVVVVVVNXRAPvjggw/+Q0BVVVVVVVUbQIQPPvjgw7BA6aKLLrrEiUBtsskmm6SEQOmiiy66uJBA4YMPPvjAb0AIH3zwwdWEQAAAAAAAKZNAH3zwwQeVkkDCBx988PmeQMIHH3zwwSVATjbZZJMxskAffPDBB/WcQJtssskmSqhAJ5tsskncs0Cjiy666MCDQNFFF110KJFA0UUXXXQokUDRRRdddIStQIQPPvjgzZdAjC666KIJrEA22WSTTfKSQDbZZJNN8pJANtlkk03ykkA22WSTTfKSQIQPPvhgUK1AwgcffFCbwEC66KKLLu2QQHTRRRdd0qFA6aKLLvrstUA22WSTTeJ7QMIHH3zwgWNAm2yyySarXEB88MEHH2CBQMomm2yyCWBA2WSTTTbZJUDRRRdd9LOgQAgffPDB91xAo4suuujCVkD44IMPPkSTQPjggw8+RJNAfPDBBx+erUBlk0022bSGQBdddNFFSqRAF1100UVKpEAXXXTRRUqkQC+66KKLzlhAL7rooovOWEDZZJNNtm2pQPDBBx984FRAsskmm2zHlUDpoosuuiaXQD744IMPuZxAAAAAAAAQYkC66KKLLqiCQF100UUX3UFAwgcffPDBRUAnm2yyyZZ6QB988MEHMYJAwgcffPBhQkCMLrroolt1QOmiiy66dqBA6aKLLrp2oEDpoosuunagQAAAAAAAAChAdNFFF12gfEB00UUXXaB8QHTRRRddoHxA+OCDDz6gg0CrqqqqqsyJQLrooosucIdAuuiiiy5wh0BddNFFF+6SQKuqqqqqajpAPvjggw8+LkDZZJNNtrmmQNlkk022uaZARhdddNHNcUBGF1100c1xQHTRRRdd6J1AdNFFF13onUBVVVVVVeGAQC+66KKLnlFAbbLJJpvEf0Blk0022eRlQOGDDz74YCNA6aKLLrqgYkAffPDBB2d7QKuqqqqqJIFATjbZZJPfmUAnm2yyycKNQIwuuuiip3FAuuiiiy6aTEAXXXTRRb2HQOmiiy66XHFA4YMPPvjAUEAAAAAAAIBQQCebbLLJZkhA2WSTTTYKmEAffPDBBx9FQOmiiy66EGVA8MEHH3wgYkCMLrroohtjQMomm2yymWlA8MEHH3z0gEDpoosuusCPQKOLLrroR5FAF1100UVXMEAnm2yyCemzQIwuuuiiRpJA4YMPPviugUAffPDBB0GMQLrooosu8ZBAF1100UUljkBtsskmmwRvQAAAAAAA4oZAq6qqqqq6f0Blk0022dRSQLrooosucm5A2WSTTTYRf0BddNFFF11DQOGDDz74oDZAbbLJJpvsPEDwwQcffEBZQAgffPDBR0VA6aKLLrpISUDRRRdddGFYQLLJJptsMkRA6aKLLroYdUCbbLLJJstWQG2yySabSHZAVVVVVVXNjkDKJptssrllQOGDDz74+IpAZZNNNtmnt0DpoosuOsOjQNlkk002gXhAyiabbLKJN0AIH3zwwUc4QGWTTTbZTHxAfPDBBx88QUDRRRdd9NKkQNFFF110wVNAwgcffPApY0D44IMPPhhYQDbZZJNNNjJAF1100UXXSkAvuuiii/5gQLLJJptsXolAjC666KLRkkDZZJNNNtkQQKOLLrroOnVARhdddNGVWEDhgw8++AqBQIwuuuiii1JA0UUXXXQddkCjiy666GIwQNlkk0022RFATjbZZJPNSkCbbLLJJpsvQG2yySabrDxAVVVVVVVVQUC66KKLLrokQKOLLrrooiBA6aKLLrpoOkDpoosuumg6QBdddNFFN1NAbbLJJptsMUA++OCDD15XQG2yySabuo1Ak0022WTTVUDhgw8++JSQQG2yySabTZtAbbLJJptNm0CEDz744DNoQF100UWX76BAXXTRRRddM0D44IMPPjg2QDbZZJNNinJANtlkk01ObkBlk002WYagQHzwwQcfjJ1AjC666KL6sEDwwQcffE2QQOGDDz74pZ5A4YMPPvilnkDhgw8++KWeQOGDDz74aHxAbbLJJptmlEBtsskmm2aUQG2yySabZpRATjbZZBNRoUBONtlkE1GhQJNNNtlkh4tAuuiiiy4Fm0AffPDBh8WjQPDBBx98AFBAjC666OJ1v0B00UUXXaPGQIwuuuiiyZtAVVVVVVUYnEBVVVVVVRicQFVVVVVVGJxAjC666KKolUCrqqqqqtyUQKuqqqqqKZJAsskmm2xtlUCTTTbZJGyyQB988MEH9q9Ak0022WSXe0C66KKLLophQLrooosuimFAuuiiiy6KYUB88MEHH/xzQIwuuuiia4NAH3zwwQcvlED44IMPvh2hQEYXXXTR5UpAL7rooosCckDwwQcffBmiQEYXXXTRvWZAJ5tsssm2V0CrqqqqqopCQLLJJptseIdA0UUXXTRqs0BGF1100RSSQEYXXXTRFJJAH3zwwQdfRUBddNFFF3GKQOmiiy66gG9AJ5tssslSeEAAAAAAAKh5QOGDDz747ZFAZZNNNtnMhEDRRRdddIl/QMIHH3zwATFAF1100UVVhECEDz744A+gQOGDDz74/otAuuiii671o0DpoosuupSYQNlkk002dpVARhdddNG9j0AIH3zwAdy5QIQPPvjgS2ZAq6qqqqoCq0AAAAAAgEymQJtssskmy5RAL7roogvMq0BONtlkk0VhQNlkk002mZFANtlkk00MiUCbbLLJJhtAQCebbLLJpj9AdNFFF10UVEBddNFFF+WCQAgffPDBp0hA8MEHH3zAVUAnm2yyycmfQG2yySab7HlACB988MEcm0B88MEHH8xfQEYXXXTR/5RATjbZZJPNK0CyySabbKeZQOGDDz74MpxA4YMPPvgynEBddNFFF1+SQF100UUXX5JACB988MFYnUCbbLLJ5qi2QJtsssnmqLZAm2yyyeaotkCyySabbLp3QLLJJptsundAo4suuuiyUEB00UUXXShzQCebbLLJRmhAJ5tssslGaEAAAAAAAMh4QAAAAAAAyHhAyiabbLKdk0AQPvjgg9aVQD744IMPNmlAJ5tsssmeY0AAAAAAAOB0QOmiiy66OIVA6aKLLro4hUCbbLLJJqNhQEYXXXTRhUlARhdddNGFSUCjiy666H2RQKOLLrrofZFAo4suuuh9kUBVVVVVVXeXQDbZZJNNBlBA6aKLLrp4fkDZZJNNNhWFQFVVVVVVFVJAXXTRRRcjrEBddNFFFyOsQOGDDz744DpAyiabbDKBqkD44IMPPhSOQPjggw8+FI5APvjgg89nxEAAAAAAYNfEQOmiiy463rVA4YMPPvg7pkD44IMPvryoQAAAAAAA96VAZZNNNtnojkCMLrroopeDQFVVVVVV1Y1A0UUXXXTzh0DZZJNNNqlaQG2yySabDEpAjC666KLrZ0DCBx988KFTQF100UUXXU1AXXTRRRfdNkAIH3zwwQc7QLrooosuWkNAjC666KLLT0A22WSTTXY8QLLJJptsElJAED744IOGk0AQPvjgg4aTQBA++OCDhpNA6aKLLrpIT0B88MEHH6xQQAAAAAAA4ENATjbZZJNlakBONtlkk2VqQAAAAAAAq5BA0UUXXXRJY0CTTTbZZANcQFVVVVVVbWtAED744IOPP0AQPvjgg99SQDbZZJNNBlVA4YMPPvjg9z8vuuiii8ZqQAAAAAAAgClAwgcffPBddECyySabbLJZQNlkk0022U9A2WSTTTbJaEBGF1100YU6QEYXXXTRxSBAAAAAAAAwYEBGF1100VVWQHTRRRdd9EVA6aKLLrpUjEA++OCDD0GmQKOLLrpoYqRAdNFFF130QUDCBx988NF7QGWTTTbZNI9Aq6qqqqolkEDpoosuuoOWQAAAAAAALH1AhA8++ODFjUAAAAAAQMGzQMomm2yyyUpAVVVVVVUDkEDZZJNNNu2WQOGDDz74TIpAbbLJJpv0kUA22WSTTWZ5QLrooosuPndA8MEHH3y2g0BVVVVVVV1lQGWTTTbZVFJARhdddNHFLEB00UUXXdRcQNFFF110eWpAbbLJJhsMsEDpoosuuqhsQMomm2yy4WZAjC666KLLb0AAAAAAAFWTQPjggw8+PoJAsskmm2xSQkCbbLLJJntZQHzwwQcfXERAdNFFF11kUkAXXXTRRadmQLrooosuSmFAF1100UW3TECTTTbZZKNWQIwuuuiiS05AjC666KJLTkCMLrrooktOQEYXXXTRhT5AAAAAAIDeo0CMLrrookthQKuqqqqqomBACB988MHHXUBONtlkk5l7QBA++OCDb1JAk0022WRraEDKJptssnlQQDbZZJNN5mRAED744IMvTEDwwQcffMhhQOmiiy66GGBAk0022WQLYkC66KKLLnpTQLrooosucmNAAAAAAACgWEDpoosuughSQJNNNtlkKZJA8MEHH3wAhkA22WSTTVCeQAAAAAAALHtAyiabbLLZXUDpoosuuqhcQOGDDz748FJA+OCDDz7YQkDpoosuushOQNlkk002KY1A0UUXXXSDj0CyySabbEyOQG2yySabNoNA+OCDDz4qg0Cjiy666HqFQNlkk002cWdAF1100UV/bUCrqqqqqlJyQJtssskmL3VATjbZZJNNIUCTTTbZ5KWgQBA++OCDO7VAwgcffPDBREBONtlkk2l7QAAAAACAOaVACB988MFTjUCEDz744DNaQMIHH3zwTYFAAAAAAAAwaUCbbLLJJg2HQNlkk0029YRAbbLJJpu6pkDRRRdddJGCQCebbLLJmatAyiabbLLcl0DKJptsstyXQHzwwQcfKqFAfPDBBx8wskB88MEHHzCyQAAAAAAAiLZAsskmm2yqqEDCBx988FlwQHTRRRddtDZAPvjggw86dUA++OCDDzp1QD744IMPBmFAwgcffPCbkUDZZJNNNkVwQE422WSTK4ZA0UUXXXQRd0Cjiy666MJRQLLJJptsYnRAF1100UVXUEDpoosuunhgQD744IMPTl1ACB988MGfZkC66KKLLgqsQGWTTTbZ1F9AJ5tsssl2UECMLrroolNjQD744IMPPitAED744INXb0A++OCDD4ZiQPDBBx98gFtAXXTRRRfri0BONtlkky1QQGWTTTbZ5CpAH3zwwQefUUAvuuiii64uQJtssskmG0NATjbZZJN9ZEDRRRdddAFcQCebbLLJZjhAyiabbLIpQ0DKJptsssk7QOmiiy66iElAyiabbLIBh0CbbLLJJuGAQFVVVVVV15RACB988MFLcUCMLrrooutMQC+66KKLeZNAAAAAAAAHmkCjiy666J6BQJNNNtlkkzNATjbZZJNNLUAQPvjgA1ujQKuqqqoKR8JAL7rooovMhkBlk0022ZGTQMIHH3zwDXxAVVVVVVUXqUC66KKLLqyAQNlkk0028WVAAAAAAADco0CEDz744MtiQIQPPvjgy2JACB988ME/YEBlk0022YxrQPjggw8++ENAVVVVVVVVTUDZZJNNNnlTQAAAAAAAQD5A4YMPPvgQXUDpoosuuqhNQG2yySabrE1AAAAAAABAU0AXXXTRRbdYQBdddNFFypJAhA8++OBXg0DZZJNNNrlAQFVVVVVVFVpARhdddNElUUAXXXTRRY9kQNFFF1104VxAL7roooseb0C66KKLLjyGQLrooosuPIZA8MEHH3z0e0DwwQcffPR7QMIHH3zwwSVA+OCDDz74KUDKJptsslloQHzwwQcfNpFAwgcffPA7kEBONtlkkzuGQLLJJptsemNAq6qqqqpaVkAIH3zwwSdNQAgffPDBJ01Ao4suuuiCRUC66KKLLppJQC+66KKLLkhA2WSTTTZZNUDKJptsskFkQMomm2yyCUZAk0022WQzT0B00UUXXXQxQOGDDz74YDtAZZNNNtnkIUCMLrroojNjQIwuuuiiM2NAjC666KIzY0AXXXTRRcdpQAgffPDBRzJACB988MFHMkDRRRdddBFEQPDBBx988ChAED744IMPIEA22WSTTTYyQMIHH3zwCWRAED744IMfU0Avuuiiiw5DQD744IMPdmdAm2yyySaTbEDwwQcffMBSQPDBBx98wFJA8MEHH3zAUkCjiy666HJbQOGDDz74YDZAVVVVVVXlckBVVVVVVeVyQMIHH3zwhXBAwgcffPCFcEDCBx988IVwQMIHH3zwhXBA0UUXXXTxYkDRRRdddPFiQNFFF1108WJARhdddNHlS0AffPDBBxWAQJNNNtlkU3JAwgcffPD1cUDCBx98cCenQGWTTTbZJDVAZZNNNtkkNUBlk0022SQ1QIQPPvjgK5tAuuiii3ao60CMLrroYl24QC+66KJruMNAk0022aSEuEAnm2yyCRu7QDbZZJMdNdBAsskmm2y1xkD44IMPvkuiQG2yySZbXLRA8MEHH/yZrkBONtlk01HLQCebbLLJV6dA4YMPPpjWz0C66KKL7vSzQJNNNtkkCbpAo4suuigKvkAQPvjgQ9m7QNlkk00WrsVACB988AFcskCMLrro4lK6QGWTTTbZjsZA4YMPPvgCs0Blk002Gam6QFVVVVXVhrFAk0022aTxz0AAAAAAQCu3QF100UVH+ttAdNFFF90rt0C66KKLLiLKQMomm2yyu6xAdNFFF10GrUAXXXTRxXu4QNlkk002ALBAo4suuihGukAXXXTRBYC+QLLJJptskIhAL7roootytkCMLrroIsm2QB988MEHULdAJ5tssgl4w0BtsskmG9ivQLrooouu67lAq6qqqipypkDCBx98MHuxQOGDDz44HL9AVVVVVVWKrEDwwQcfvEe3QJtssskmqMBAF1100QUszkCrqqqqKijNQPjggw++Nq5A2WSTTbaJqUAnm2yyScjEQMomm2xSQMRAm2yyySYZiEBVVVVV1dGmQEYXXXQRJdJAdNFFF93YrUCTTTbZpOy4QJtssskmlrZAfPDBBx+6nEBlk002WWqmQBdddNFFVaRANtlkk01XrkB88MEHH0i6QNFFF110Ha1AXXTRRdcWx0B00UUXHYLBQOGDDz44z7lAF1100UX5qECjiy66aPu0QIQPPvigOr9AZZNNNhlnsUBGF1100dC6QMIHH3xwhL5ARhdddLGuxUB00UUXnTfHQCebbLLpEcBAhA8++OB+xkCTTTbZpEfKQB988MGHorNAZZNNNlmzuUA22WSTDcq0QGWTTTZZaL1A0UUXXbSPv0B00UUXPf/EQF100UUXTLVAXXTRRRdlnEDRRRddtOyyQF100UVXgrBAPvjgg0/TtUDCBx98sLvKQLLJJpuMZsNAwgcffHButEAQPvjgw066QDbZZJNtXcVANtlkk62pwUBGF110ASDRQC+66KJLp7VAXXTRRXePwUBONtlkEyC8QPjggw++GKNAH3zwwQdGpkBddNFFl5yrQD744IPPC7BAhA8++CBGs0CyySabbC24QJNNNtnk57lAF1100UUeq0Avuuiii3arQHTRRRdda51Asskmm+w3sUAvuuiiayTNQEYXXXQxxMhA8MEHH/xix0CrqqqqKoXLQJtssskmbLRAq6qqqmpmwECyySabbBqmQC+66KLL6bpATjbZZDNcwUAAAAAA4B3CQKOLLrqI3cpAL7roogvJq0Anm2yyiaGxQAAAAABAfLRA6aKLLrpcpkBtsskmW928QPDBBx98MqVAbbLJJluyyEAvuuiiy1qzQPjggw+eO8dA8MEHH/wUsUCEDz744OqnQB988MEH5a9AbbLJJptTwECEDz744FCWQB988MFHf7BAAAAAAIClt0AffPDBB5OsQLLJJpvslKNAAAAAAIBEsUCMLrroYu6+QGWTTTZZF69A6aKLLtpvwEBddNFFF2+mQHzwwQefqKRAL7rooovXlECyySabLJGzQGWTTTbZuJpAH3zwwQfgmEDwwQcfnKfAQIQPPvhA2MBAo4suuui9q0Anm2yyySe8QKOLLrooUrVANtlkk01+m0AXXXTRxXKmQLLJJpss1rBACB988EH8p0DwwQcfvGC4QEYXXXSRxcVAsskmm2xDokDwwQcffA6wQMIHH3zw7KpAsskmm2wqt0Avuuiii72mQPDBBx/8o79Auuiii66LrkBddNFFN8/HQMomm2yylKVACB988MGfoEDCBx988ALIQG2yySabzaJAF1100YUBskDKJptsggTRQDbZZJON4LNAF1100cXIukCbbLLJJm6ZQC+66KKLDolAjC666KKytEDhgw8+uAGyQPDBBx98CL1Am2yyyWbcvUAvuuiiC/SgQKuqqqqqJa5ANtlkk02MpUAnm2yySZKjQB988MGHNrBAL7roogtbokCMLrroIhm3QIwuuugiOKJA2WSTTTapvkAAAAAAYADIQOGDDz54QbtAH3zwwUeQwkCjiy666GaeQCebbLKJTbFAm2yyySZBu0DCBx988GGnQE422WRTgrdA6aKLLrr8j0CrqqqqKjigQPjggw9ef8RAAAAAAICyuEBONtlkk41zQNlkk002hZlAwgcffDDyuEAvuuiiS2K1QPDBBx98KJlAq6qqqiplo0DZZJNNNheAQMIHH3zwQSlANtlkkw3vskA22WSTzTOsQG2yySabwLxAL7rooou/l0Blk0022b+eQF100UUX75lAAAAAAACAgUB00UUXXfCAQFVVVVW178JAED744IPrpUA++OCDz0+6QIQPPvhg+qFAZZNNNtkrpUBGF110UQ2hQKOLLrroS9BAPvjgg88nskDpoosuOvioQJNNNtlkYplA8MEHH3xvuUC66KKLrtSpQIwuuuhim71Ao4suuuiKoEC66KKLlgDoQC+66KKLlm1Am2yyySaFhEBlk0022eh7QF100UUXHW5AwgcffPDBdEBlk0022URtQKuqqqqqml5Ao4suuuiiE0DZZJNNNtlFQD744IMPfjhAPvjggw8+4D9lk0022ViWQOmiiy66XaFA2WSTTTbJUEBtsskmm2zCP8omm2yyyRJA6aKLLroYUkAQPvjgg480QD744IMPPug/L7roooueX0DRRRdddNEhQCebbLLJpk9ATjbZZJOtTkCbbLLJJl+AQIwuuuiii+Y/q6qqqqoCaECMLrroostLQAAAAAAAeHdAuuiiiy7adUAQPvjgg0uBQLrooosu4IdAED744IOphkDwwQcffIh5QFVVVVVV94JAJ5tsssnScUBGF1100TV/QCebbLLJQndAk0022WTjb0AQPvjgg+twQAgffPDBF3ZAVVVVVVX5fkBGF1100QOKQLLJJptsjItAsskmm2w+ckBVVVVVVfF2QBA++OCDpYFAwgcffPD5eUD44IMPPgx5QLLJJptsh5JAwgcffPAqkUAIH3zwwduAQKuqqqqqSIpAdNFFF11yhkCEDz744NGMQPDBBx982I5AXXTRRRe7hECrqqqqqopWQE422WSTTUxAyiabbDIspkCTTTbZZFaYQJNNNtlkVphAL7roootwhUAvuuiii3CFQIQPPvjggZ5AfPDBBx/UZUB88MEHHwKCQAAAAAAAIEFAXXTRRZcrpUAffPDBB8t7QB988MEHD3FAm2yyySa7WUAvuuiiixZmQOmiiy66aCVAXXTRRRfFZkCrqqqqqhpdQBA++OCD63hAq6qqqqqWfEAnm2yyyaZWQF100UUX3SpAVVVVVVU1UkDhgw8++DBxQB988MEHl2NAbbLJJptsVUCMLrrookOAQIwuuuiiQ4BAjC666KJDgECMLrrookOAQIwuuuiiQ4BAjC666KJDgECMLrrookOAQIwuuuiiQ4BAED744IOTeEAQPvjgg5N4QBA++OCDk3hAED744IOTeEAQPvjgg5N4QBA++OCDk3hAED744IOTeECrqqqqqjpRQNlkk002dZJACB988MEjjUDRRRdddMF0QKuqqqqqypZAm2yyySZZhECTTTbZZPWFQAgffPDBm4RA6aKLLrpAfkC66KKLLrSQQHzwwQcf0plAuuiiiy5Pr0AAAAAAAFqiQAAAAAAAWqJAAAAAAABaokAffPDBB3udQHTRRRddZFZAAAAAAAAgSEAnm2yyySYfQCebbLLJ5jVAwgcffPBBQEBlk0022dRcQG2yySabf6VAjC666KKreECMLrrooqt4QPDBBx98rIVATjbZZJMvjECrqqqqqhCEQNFFF1100VBA0UUXXXTRUEDRRRdddNFQQKuqqqqqGmlAyiabbLL5VEA++OCDD35DQHTRRRdd9DxAPvjggw8+R0CEDz744ONXQDbZZJNNFl5ANtlkk00WXkA22WSTTRZeQMIHH3zw+WFAfPDBBx80c0B88MEHHzRzQHzwwQcfNHNAfPDBBx80c0B88MEHHzRzQKOLLrpodKlAAAAAAAD6hEDKJptssn+dQMIHH3zwCWdAL7roooumkkCrqqqqqvurQMIHH3ywILJAyiabbDLyq0CMLrroouGkQLLJJptsrZRAXXTRRRcrlECbbLLJJpuYQD744IMP4pZAXXTRRRcXn0Dhgw8++LRzQCebbLLJ25FAH3zwwQfJj0AffPDBB2iRQJNNNtlk/3BAH3zwwQcHY0AQPvjgg6dlQKOLLrrok6NAhA8++OC5l0CbbLLJpjqzQJtsssmmOrNAm2yyyaY6s0AQPvjgg9uPQAAAAAAAACRAjC666KIzYEB88MEHH/wsQG2yySabrDBAF1100UVXP0AAAAAAAEA/QBdddNFFt0FAyiabbLLJJ0BVVVVVVfVDQFVVVVXV87NAVVVVVdXzs0DpoosuuiKSQIwuuuiiA2FAF1100UVno0DwwQcf/P+qQJNNNtlkOJ5ANtlkk00DuUAvuuiii85uQC+66KKLEIZAF1100UU9mkDhgw8++LaQQFVVVVVVirRACB988ME0nkDhgw8++NWWQD744IMPSZ1AfPDBBx//s0B88MEH/3DBQJtssskmRZNAm2yyyWa+wEAffPDBx0bAQHTRRRddpbZA2WSTTbYxoUCTTTbZZGSlQBdddNFF3J1AJ5tssklCsECyySab7DOkQOGDDz74yHpACB988MFXnkD44IMPPiBjQBdddNFFqKRAfPDBBx+loUBddNFFF/V4QFVVVVVVn49AZZNNNtmUakB00UUXXSeXQG2yySabbGZA6aKLLrowgUB88MEHH7wyQOGDDz744EZAH3zwwQc/VEAQPvjggwm2QLrooouu78JAZZNNNtlKnUCyySabbKKnQNFFF110iKhAfPDBBx/rnUB88MEHH+udQKuqqqqqSZxATjbZZJPlZEBONtlkk+VkQOGDDz744BdAjC666KKfgkCMLrroop+CQAgffPDBR3ZACB988MFHdkA++OCDD9WSQKuqqqqqfndACB988MHHSUDpoosuurBwQBA++OCDb2tAdNFFF10MY0DRRRdddBFkQIwuuuiii0BA0UUXXXQJakB00UUXXbQ+QIQPPvjgU2xAF1100UUfbUBVVVVVVceAQIQPPvjgE11Ak0022WQDbEBVVVVVVc1lQBdddNFF115A0UUXXXRRPECEDz744FOIQIQPPvjgU4hAwgcffPDYmECrqqqqqqoSQKuqqqqql5FAZZNNNtlcgEB00UUXXXQ5QBA++OCDv1BAq6qqqqrXrEDhgw8++EaOQEYXXXTRd4tAdNFFF110EkCrqqqqqmpKQMomm2yyzXhAED744IOXn0DKJptssul+QHzwwQeffLxACB988MFTd0Cjiy666BZxQJtsssmmGKNACB988MHPaUDZZJNNNj+RQLLJJptsRZJAfPDBBx88SkBlk0022WQQQHzwwQcfCJBATjbZZJNVZkC66KKLLnJpQOmiiy66I5tAfPDBBx8kdkB00UUXXUiUQLLJJptsom9AXXTRRRd9WUDZZJNNNslSQNFFF1107X1AjC666KL7ikBVVVVVVaVuQAgffPDBp1pARhdddNHJfEA++OCDD95KQLLJJptsMktAVVVVVVVVEkAXXXTRRVcwQG2yySabbMI/4YMPPvjg6z/44IMPPvjQP3zwwQcffMA/RhdddNFFBUBlk0022WuiQJtssskmTplAq6qqqqrGe0CbbLLJJkmAQIQPPvjgU3JATjbZZBPtsUBVVVVVVSlyQDbZZJNNdj9A2WSTTTapoEDKJptssrWAQPjggw++N65ACB988MEHDUAvuuiii3aSQIQPPvjggYFAF1100UUxgECyySab7IylQBA++OCDTzZAXXTRRRf/jUDCBx988L2JQBA++OCDV2hAED744IPbfEA++OCDD55CQGWTTTbZdGFAsskmm2xiZEBONtlkk2VgQJtssskmvplAED744IM/fUAAAAAAAEAyQF100UUXPUNAbbLJJpvsREDhgw8++CBCQCebbLLJRlJAyiabbLIJV0BVVVVVVbVLQGWTTTbZZD1Am2yyySaDYUCyySabbLIzQE422WST7UBANtlkk022RUDZZJNNNglWQLrooosu8qxAH3zwwQcYmUBGF1100Z1mQLLJJptsYmlAXXTRRRfhgEDRRRdddJqSQNFFF1100UhA8MEHHzytvUBVVVVVVQ6aQG2yySabkJdA4YMPPvjgNECMLrrooqtjQF100UUXfUNAPvjggw8BkECbbLLJJltkQDbZZJNNtjdAyiabbLIJN0CEDz744MMyQCebbLLJZkVAXXTRRRedMUCyySabbNJDQIwuuuii60xACB988MGHLkB88MEHH3weQBA++OCDjy5AyiabbLJJU0CMLrrootmLQHTRRRdd1G9AwgcffPDBFUCyySabbJJIQJtssskmc5pAXXTRRRdtgkBVVVVVVVGGQFVVVVVVUYZA8MEHH3zseEDwwQcffOx4QCebbLLJUo1Am2yyySZjjUCbbLLJJmONQJtssskme2FAAAAAAADGhEBddNFFF9+MQCebbLLJpjVARhdddNG1a0AAAAAAACBKQAAAAAAAhJlAXXTRRRcEnEAvuuiii4p2QOGDDz74QFxAwgcffPDBUEAvuuiii65JQBdddNFFfY5AwgcffPCBPECjiy666JJvQAgffPBB/qZA6aKLLrqwZkB88MEHH0xWQHzwwQcf25JAm2yyySb7VEDKJptsssk8QMomm2yyyTxAXXTRRReFYkBddNFFF4ViQF100UUXhWJAXXTRRReFYkBVVVVVVRVJQKuqqqoqNKhA2WSTTTbVrEB00UUX3a69QJNNNtnkkbVA4YMPPvhQm0CbbLLJJmSjQMomm2yyCUpARhdddNFlWkAQPvjgg084QKOLLrrowkBAhA8++OADTkBtsskmm2z+P7LJJpts2nVA4YMPPvjgSECyySabbGaAQMIHH3zwYVBAED744INfUkB88MEHH3xLQDbZZJNN1k5AdNFFF11USUDRRRdddHFWQAAAAAAAQDlAm2yyySb7R0BVVVVVVU1+QHzwwQcfbFVA6aKLLroCjUBGF1100SVPQCebbLLJynRANtlkk01WQ0Cjiy666KIaQLrooosukIJAo4suuuiyVEDCBx988OFDQG2yySabDE5AVVVVVVW1Q0D44IMPPphAQJNNNtlkn3lAF1100UWHU0AXXXTRRYdTQBdddNFFh1NAF1100UWHU0CEDz744ENCQB988MEHHyxAZZNNNtlETUDCBx988MFBQPjggw8+eCRANtlkk01Ij0BGF1100SVLQMomm2yyQ5lAZZNNNtkkZ0Avuuiiix5rQAAAAAAAADFAo4suuujyWUDRRRdddNEmQNFFF110uZFACB988MF3aUAvuuiiiy4hQJNNNtlkw1NAJ5tsssmGTECTTTbZZPNAQPDBBx988D5AVVVVVVWVOEB00UUXXfQtQOmiiy666C9AdNFFF110GEDhgw8++OA3QC+66KKL7k5Ak0022WSTG0BddNFFF10WQAAAAAAAcFVA4YMPPvggMEDhgw8++OAFQJNNNtlkk0VAq6qqqqoqO0DZZJNNNm1zQJNNNtlkkxJAsskmm2yyHECTTTbZZBMiQHTRRRdddCtAL7rooovOVUDZZJNNNquNQJtssskmdJdANtlkk022NkBddNFFF4VgQHzwwQcffBlAPvjggw8+AkBlk0022TRRQGWTTTbZNFFAZZNNNtk0UUBlk0022TRRQKOLLrro4lJAo4suuugMhEAIH3zwwYcnQIQPPvjggzZA8MEHH3zQQEDZZJNNNnljQIwuuuii62dAwgcffPA5fUCEDz744IMdQC+66KKLDkVA+OCDDz64QkB00UUXXXREQBdddNFFFzxAuuiiiy4aRkCMLrroostEQLrooosuWm9AwgcffPAFckDCBx988IEyQBdddNFFlzlAVVVVVVWhdUAXXXTRRZcyQHTRRRdddCJAPvjggw/BkkDpoosuuhhzQGWTTTbZ1HxACB988MHHfEA22WSTTbY4QAAAAAAAQEZAH3zwwQcfM0Anm2yyyWY0QOGDDz74cFhA0UUXXXQRYkAXXXTRRbdTQKuqqqqqqkRA2WSTTTZZSkAAAAAAAABNQD744IMPblFAm2yyySabHEBtsskmm+wnQLLJJptssglAdNFFF13ygkAXXXTRRRdGQAgffPDBlblAfPDBB9/qtUB88MEHH1xUQKOLLrro+ntAq6qqqqqqJkB00UUXXbQ8QHTRRRdddC5AbbLJJpusOkBGF1100eVLQJNNNtlkw2VATjbZZJMNTkCTTTbZZFMwQD744IMPXkxAsskmm2yyG0DCBx988IFJQKOLLrroAkpARhdddNFFMUDCBx988GFPQPjggw8++EdA0UUXXXRBVkAvuuiiiy4gQOmiiy66vHNAZZNNNtmMYkCTTTbZZJNXQOGDDz744C5AhA8++OADIUD44IMPPrg2QC+66KKL7jVA+OCDDz74EkBtsskmmyxAQF100UUXnTZAk0022WSTDUDZZJNNNtkzQNlkk002KV9AF1100UUXRUAIH3zwwQcnQOmiiy66CFBAdNFFF92IoECMLrroootmQOmiiy666CtAfPDBBx9kYEAXXXTRRSOPQKuqqqqqKj5ARhdddNFFNUBVVVVVVVU7QPjggw8++B9ARhdddNGFVUCTTTbZZIN3QAgffPDBRzRAsskmm2xyN0AAAAAAAMA7QIwuuuiiy2NAPvjggw++NEA22WSTTbYsQCebbLLJJus/uuiiiy4KX0Avuuiiiy4dQNFFF110OWRATjbZZJOdXkBGF1100RVQQPDBBx98kElATjbZZJOtT0C66KKLLvo1QF100UUX/U5A2WSTTTYZWUDhgw8++NBmQG2yySab1GpAXXTRRRd1Y0Avuuiii24wQMomm2yymWZAsskmm2yGmUA22WSTTVJ0QAAAAAAAABBAsskmm2yyQUBONtlkkxl5QAAAAAAAWG1AfPDBBx98AEBddNFFF91CQBdddNFFFy1AhA8++OCDQEAIH3zwwYchQMIHH3zwATtAfPDBBx+8MEDRRRdddNE2QOmiiy66qDxAED744INPMUD44IMPPrg/QHTRRRdd9EJAm2yyySa7SUCMLrroogs+QAgffPDBhzJAAAAAAABAW0A22WSTTTbJP/DBBx988CJAED744IMPzj+66KKLLroVQAgffPDBB98/k0022WTTS0CbbLLJJhsoQPjggw8+aq9AAAAAAABZk0BGF1100cUiQF100UUXXdQ/sskmm2xSREC66KKLLropQBA++OCDDxVANtlkk03mXUBVVVVVVVUNQEYXXXTRBTNAwgcffPB1eUDpoosuuqgzQGWTTTbZLG1A0UUXXXSxQEDCBx988IFKQOmiiy66mGNA2WSTTTbZOECbbLLJJpshQBdddNFFb3FAED744IPPUUDCBx988MHvP3TRRRdd9DZAH3zwwQe1hUCEDz744Ft4QBA++OCDj05AbbLJJpsMZUBlk0022WQ2QCebbLLJWI5APvjggw8+GUAIH3zwwQd/Pz744IMPfjRAhA8++ODzUECrqqqqqkJoQC+66KKLjkBAJ5tssskGTEAQPvjgg882QAgffPDBJ0JAdNFFF110GkBONtlkk00KQBA++OCDDxJAhA8++OBDMECyySabbFJDQGWTTTbZpEBAq6qqqqrKWkAffPDBB99KQD744IMPPvw/0UUXXXTRH0AIH3zwwYcjQPjggw8++CZAL7rooosuBkDpoosuuujiP8omm2yyydY/jC666KKL7j8IH3zwwQcNQJtssskmmzZARhdddNFFEEA++OCDD74kQC+66KKLLgBA6aKLLrroGUCEDz744IMyQEYXXXTR5UxACB988MHHMkAAAAAAAHiUQPjggw8+aqBATjbZZJMNM0Btsskmm+w2QA==",
          "dtype": "f8"
         },
         "xaxis": "x",
         "y": {
          "bdata": "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",
          "dtype": "f8"
         },
         "yaxis": "y"
        },
        {
         "hovertemplate": "<b>OLS trendline</b><br>Simulation de référence = 1.46122 * Données de validation + 1255.44<br>R<sup>2</sup>=0.630177<br><br>route_type=3<br>Données de validation=%{x}<br>Simulation de référence=%{y} <b>(trend)</b><extra></extra>",
         "legendgroup": "3",
         "line": {
          "color": "cyan",
          "width": 2
         },
         "marker": {
          "color": "#636efa",
          "symbol": "circle"
         },
         "mode": "lines",
         "name": "Régression linéaire (bus)",
         "showlegend": true,
         "type": "scattergl",
         "x": {
          "bdata": "CB988MEHfz8IH3zwwQefP3zwwQcffMA/bbLJJptswj9tsskmm2zCPzbZZJNNNsk/ED744IMPzj/44IMPPvjQP1100UUXXdQ/yiabbLLJ1j8IH3zwwQffPz744IMPPuA/6aKLLrro4j/hgw8++ODjP4wuuuiii+Y/Pvjggw8+6D8++OCDDz7oPyebbLLJJus/4YMPPvjg6z+MLrrooovuP8IHH3zwwe8/4YMPPvjg9z8++OCDDz78P22yySabbP4/L7rooosuAEB88MEHH3wAQD744IMPPgJARhdddNFFBUDhgw8++OAFQC+66KKLLgZAq6qqqqqqBkCyySabbLIJQE422WSTTQpACB988MEHDUAIH3zwwQcNQFVVVVVVVQ1Ak0022WSTDUAAAAAAAAAQQEYXXXTRRRBAZZNNNtlkEEDZZJNNNtkQQNlkk0022RFAED744IMPEkBVVVVVVVUSQHTRRRdddBJAk0022WSTEkCrqqqqqqoSQMomm2yyyRJA+OCDDz74EkCjiy666KITQKOLLrroohNAED744IMPFUAQPvjggw8VQLrooosuuhVAwgcffPDBFUBddNFFF10WQOGDDz744BdAdNFFF110GEA++OCDDz4ZQHzwwQcffBlA6aKLLrroGUB00UUXXXQaQKOLLrroohpAVVVVVVVVG0CTTTbZZJMbQLLJJptsshtAm2yyySabHECyySabbLIcQC+66KKLLh1AhA8++OCDHUB88MEHH3weQCebbLLJJh9A0UUXXXTRH0D44IMPPvgfQBA++OCDDyBAF1100UUXIEAvuuiiiy4gQKOLLrrooiBARhdddNHFIECEDz744AMhQC+66KKLLiFATjbZZJNNIUAIH3zwwYchQJtssskmmyFA0UUXXXTRIUBlk0022eQhQJNNNtlkEyJAdNFFF110IkBGF1100cUiQPDBBx988CJA4YMPPvhgI0AIH3zwwYcjQAAAAAAAACRA+OCDDz54JEC66KKLLrokQD744IMPviRACB988MEHJUDpoosuumglQMIHH3zwwSVAwgcffPDBJUDZZJNNNtklQOmiiy666CVAbbLJJpvsJUDhgw8++GAmQKuqqqqqqiZATjbZZJPNJkDRRRdddNEmQPjggw8++CZACB988MEHJ0AIH3zwwYcnQMomm2yyySdAbbLJJpvsJ0AAAAAAAAAoQJtssskmGyhA8MEHH3zwKEDCBx988EEpQAAAAAAAgClAuuiiiy66KUD44IMPPvgpQF100UUX3SpAZZNNNtnkKkD44IMPPvgqQD744IMPPitAdNFFF110K0BONtlkk80rQF100UUX3StA6aKLLrroK0AffPDBBx8sQDbZZJNNtixARhdddNHFLEB88MEHH/wsQBdddNFFFy1ATjbZZJNNLUB00UUXXfQtQD744IMPPi5AdNFFF110LkAAAAAAAIAuQAgffPDBhy5AED744IOPLkAvuuiii64uQC+66KKLri5A4YMPPvjgLkCbbLLJJpsvQOmiiy666C9A4YMPPvggMECEDz744EMwQJNNNtlkUzBAF1100UVXMEAXXXTRRVcwQKOLLrroYjBAL7roootuMEDwwQcffHAwQG2yySabrDBAfPDBBx+8MEAAAAAAAAAxQMIHH3zwATFARhdddNFFMUAQPvjgg08xQG2yySabbDFAdNFFF110MUBddNFFF50xQDbZZJNNNjJANtlkk002MkAAAAAAAEAyQAgffPDBRzJACB988MFHMkDCBx988IEyQIQPPvjggzJACB988MGHMkAXXXTRRZcyQHzwwQcfvDJAhA8++ODDMkAIH3zwwccyQEYXXXTRBTNATjbZZJMNM0AffPDBBx8zQF100UUXXTNAk0022WSTM0DpoosuuqgzQLLJJptssjNA2WSTTTbZM0BGF1100QU0QAgffPDBRzRAk0022WRTNEAnm2yyyWY0QD744IMPfjRAED744IOPNEA++OCDD740QOGDDz744DRAZZNNNtkkNUBlk0022SQ1QGWTTTbZJDVARhdddNFFNUDZZJNNNlk1QG2yySabbDVAJ5tsssmmNUAIH3zwwcc1QCebbLLJ5jVAL7rooovuNUC66KKLLvo1QPjggw8+ODZAED744INPNkDhgw8++GA2QGWTTTbZZDZAhA8++OCDNkCbbLLJJps2QF100UUXnTZA4YMPPvigNkB00UUXXbQ2QDbZZJNNtjZA+OCDDz64NkAQPvjgg882QNFFF1100TZAXXTRRRfdNkBtsskmm+w2QHTRRRdd9DZAyiabbLIJN0CyySabbHI3QMomm2yyiTdANtlkk022N0Dhgw8++OA3QKuqqqqq6jdACB988MFHOEAQPvjgg084QCebbLLJZjhAPvjggw9+OEBVVVVVVZU4QDbZZJNNtjhA2WSTTTbZOEAAAAAAAEA5QHTRRRdddDlAF1100UWXOUDhgw8++OA5QOmiiy66aDpA6aKLLrpoOkCrqqqqqmo6QLrooosuejpARhdddNGFOkBtsskmm6w6QOGDDz744DpAwgcffPABO0AIH3zwwQc7QKuqqqqqKjtAVVVVVVVVO0Dhgw8++GA7QAAAAAAAwDtAyiabbLLJO0AXXXTRRRc8QNFFF110UTxANtlkk012PEDCBx988IE8QOmiiy66qDxAbbLJJpusPEB00UUXXbQ8QMomm2yyyTxAyiabbLLJPEBtsskmm+w8QHTRRRdd9DxAZZNNNtlkPUAAAAAAAMA9QIwuuuiiCz5Aq6qqqqoqPkAAAAAAAEA+QEYXXXTRhT5AdNFFF120PkDwwQcffPA+QAAAAAAAQD9AF1100UVXP0A22WSTTXY/QBA++OCDjz9AJ5tsssmmP0D44IMPPrg/QJtssskmG0BAbbLJJpssQEAAAAAAAEBAQMIHH3zwQUBAAAAAAACAQECEDz744INAQCebbLLJhkBAjC666KKLQEAvuuiii45AQPjggw8+mEBAZZNNNtmkQEDRRRdddLFAQNlkk002uUBAo4suuujCQEDwwQcffNBAQE422WST7UBAk0022WTzQEAAAAAAACBBQHzwwQcfPEFAVVVVVVVVQUCyySabbLJBQBdddNFFt0FAwgcffPDBQUBddNFFF91BQHTRRRdd9EFA4YMPPvggQkAIH3zwwSdCQIQPPvjgQ0JAZZNNNtlEQkCyySabbFJCQMIHH3zwYUJARhdddNFlQkCrqqqqqopCQD744IMPnkJA+OCDDz64QkBlk0022cRCQPjggw8+2EJAXXTRRRfdQkB00UUXXfRCQE422WSTDUNAL7rooosOQ0CbbLLJJhtDQMomm2yyKUNAXXTRRRc9Q0CyySabbFJDQDbZZJNNVkNAuuiiiy5aQ0BddNFFF11DQF100UUXfUNAPvjggw9+Q0BVVVVVVbVDQLLJJpts0kNAAAAAAADgQ0DCBx988OFDQFVVVVVV9UNA+OCDDz74Q0A++OCDD/5DQPDBBx98EERA0UUXXXQRRECyySabbDJEQLLJJptsUkRAfPDBBx9cREB00UUXXXREQKuqqqqqqkRAm2yyySa7REDCBx988MFEQIwuuuiiy0RAbbLJJpvsREDRRRdddPFEQC+66KKLDkVAF1100UUXRUAffPDBBx9FQAgffPDBR0VAH3zwwQdfRUAnm2yyyWZFQKOLLrrogkVAk0022WSTRUA22WSTTbZFQMIHH3zwwUVA2WSTTTbZRUB00UUXXfRFQMomm2yyCUZAF1100UUXRkC66KKLLhpGQD744IMPPkZAAAAAAABARkDhgw8++OBGQD744IMPPkdA+OCDDz74R0CbbLLJJvtHQAAAAAAAIEhAL7rooosuSEAnm2yyyWZIQLrooosuekhA4YMPPviASEDhgw8++IBIQLLJJptskkhACB988MGnSEDRRRdddNFIQOGDDz744EhAVVVVVVUVSUDpoosuukhJQHTRRRddVElAuuiiiy5aSUDCBx988IFJQEYXXXTRhUlARhdddNGFSUDpoosuuohJQPDBBx98kElAuuiiiy6aSUAvuuiii65JQJtssskmu0lACB988MHHSUCjiy666AJKQMomm2yyCUpAbbLJJpsMSkAAAAAAACBKQHzwwQcfPEpA2WSTTTZZSkCrqqqqqmpKQMIHH3zwgUpAyiabbLLJSkBONtlkk81KQBdddNFF10pAPvjggw/eSkAffPDBB99KQEYXXXTR5UpARhdddNElS0CyySabbDJLQHzwwQcffEtAVVVVVVW1S0CMLrroostLQJNNNtlk00tARhdddNHlS0BGF1100eVLQCebbLLJBkxAED744IMvTEBONtlkk01MQD744IMPXkxAJ5tsssmGTEC66KKLLppMQBdddNFFt0xARhdddNHlTECMLrrooutMQIwuuuii60xAAAAAAAAATUAIH3zwwSdNQAgffPDBJ01AZZNNNtlETUBVVVVVVVVNQF100UUXXU1AF1100UWXTUDpoosuuqhNQG2yySabrE1AhA8++OADTkBtsskmmwxOQE422WSTDU5AjC666KJLTkCMLrrooktOQIwuuuiiS05AED744IOPTkBONtlkk61OQOmiiy66yE5Aq6qqqqrKTkA22WSTTdZOQC+66KKL7k5AXXTRRRf9TkCjiy666CJPQEYXXXTRJU9Ak0022WQzT0DpoosuukhPQMIHH3zwYU9AJ5tsssmmT0BONtlkk61PQIwuuuiiy09A2WSTTTbZT0DwwQcffABQQDbZZJNNBlBA6aKLLroIUEBGF1100RVQQB988MEHH1BAAAAAAAAgUEDKJptssilQQE422WSTLVBAF1100UVXUEDCBx988GFQQCebbLLJdlBAyiabbLJ5UEAAAAAAAIBQQHzwwQcfrFBAo4suuuiyUEAQPvjgg79QQOGDDz74wFBAwgcffPDBUEDZZJNNNslQQNFFF1100VBA0UUXXXTRUEDRRRdddNFQQIQPPvjg81BARhdddNElUUBlk0022TRRQGWTTTbZNFFAZZNNNtk0UUBlk0022TRRQKuqqqqqOlFAPvjggw9uUUDwwQcffHBRQOGDDz74gFFAL7roooueUUAffPDBB59RQKOLLrrowlFAED744IPPUUDpoosuughSQLLJJptsElJAVVVVVVUVUkDpoosuuhhSQNFFF110MVJAVVVVVVU1UkAnm2yyyUZSQGWTTTbZVFJAED744INfUkB00UUXXWRSQBA++OCDb1JAk0022WRzUkCbbLLJJntSQIwuuuiii1JA8MEHH3zAUkDwwQcffMBSQPDBBx98wFJA2WSTTTbJUkBlk0022dRSQBA++OCD31JAo4suuujiUkDhgw8++PBSQBA++OCDH1NAq6qqqqoqU0Cjiy666DJTQBdddNFFN1NAAAAAAABAU0DKJptssklTQNlkk002eVNAuuiiiy56U0AXXXTRRYdTQBdddNFFh1NAF1100UWHU0AXXXTRRYdTQMIHH3zwoVNAjC666KKrU0AXXXTRRbdTQNFFF110wVNAk0022WTDU0B00UUXXRRUQB988MEHP1RAF1100UVXVEB88MEHH1xUQKOLLrroslRA8MEHH3zgVEDKJptssvlUQJtssskm+1RANtlkk00GVUB88MEHH2xVQG2yySabbFVAAAAAAABwVUBGF1100YVVQPDBBx98wFVAL7rooovOVUCTTTbZZNNVQKOLLrroAlZA2WSTTTYJVkDRRRdddEFWQHzwwQcfTFZARhdddNFVVkCrqqqqqlpWQHTRRRddZFZA+OCDDz5oVkDRRRdddHFWQKuqqqqqilZAk0022WSjVkAnm2yyyaZWQKOLLrroslZAo4suuujCVkCbbLLJJstWQMomm2yyCVdAPvjggw9eV0CTTTbZZJNXQDbZZJNNpldAJ5tsssm2V0CEDz744ONXQPjggw8+GFhAVVVVVVUlWECyySabbFJYQNFFF110YVhA4YMPPvhwWECrqqqqqnpYQB988MEHf1hARhdddNGVWEAAAAAAAKBYQBdddNFFt1hAL7rooovOWEAvuuiii85YQNlkk002GVlAuuiiiy4qWUDwwQcffEBZQDbZZJNNRllAm2yyySZ7WUBddNFFF31ZQLLJJptssllAm2yyySa7WUCjiy666PJZQFVVVVVVFVpAhA8++OAzWkBGF1100WVaQAgffPDBp1pA2WSTTTapWkCrqqqqqspaQB988MEH31pAVVVVVVX1WkAnm2yyyfZaQAAAAAAAQFtAo4suuuhyW0DwwQcffIBbQFVVVVVVxVtA0UUXXXQBXECTTTbZZANcQOGDDz74QFxA6aKLLrqoXECbbLLJJqtcQHTRRRdd1FxAZZNNNtnUXEDRRRdddOFcQAgffPDB91xA4YMPPvgQXUCEDz744BNdQKuqqqqqGl1APvjggw9OXUAIH3zwwcddQMomm2yy2V1ANtlkk03mXUCTTTbZZANeQDbZZJNNFl5ANtlkk00WXkA22WSTTRZeQKuqqqqqml5ATjbZZJOdXkAXXXTRRddeQLrooosuCl9A2WSTTTYpX0Avuuiii55fQHzwwQcfzF9ATjbZZJPNX0Blk0022dRfQHzwwQcf/F9A0UUXXXQJYEDKJptssglgQOmiiy66GGBAAAAAAAAwYECMLrroojNgQAgffPDBP2BAfPDBBx9kYEBONtlkk2VgQOmiiy66eGBAXXTRRReFYECrqqqqqqJgQF100UUXxWBAL7rooov+YECMLrroogNhQD744IMPBmFATjbZZJNFYUC66KKLLkphQIwuuuiiS2FAZZNNNtl0YUCbbLLJJnthQJtssskmg2FAuuiiiy6KYUC66KKLLophQLrooosuimFAm2yyySajYUDwwQcffMhhQMIHH3zw+WFAk0022WQLYkAAAAAAABBiQNFFF110EWJA8MEHH3wgYkAffPDBBzdiQE422WSTXWJAXXTRRReFYkBddNFFF4ViQF100UUXhWJAXXTRRReFYkA++OCDD4ZiQAAAAAAAiGJAZZNNNtmMYkDpoosuuqBiQGWTTTbZxGJAhA8++ODLYkCEDz744MtiQNFFF1108WJA0UUXXXTxYkDRRRdddPFiQB988MEHB2NAfPDBBx8MY0B00UUXXQxjQIwuuuiiG2NA+OCDDz4gY0DCBx988CljQIwuuuiiM2NAjC666KIzY0CMLrroojNjQNFFF110SWNAjC666KJTY0A22WSTTW5jQLrooosucmNAXXTRRRd1Y0DZZJNNNnljQLLJJptsemNAwgcffPCBY0AffPDBB5djQOmiiy66mGNAJ5tsssmeY0CMLrrooqtjQIwuuuiiy2NACB988MHfY0BGF1100eVjQMIHH3zwCWRA0UUXXXQRZEDRRRdddDlkQMomm2yyQWRAm2yyySZbZECyySabbGJkQE422WSTfWRAPvjggw+GZEAXXXTRRY9kQG2yySab3GRAbbLJJpvcZEBONtlkk+VkQE422WST5WRANtlkk03mZEBtsskmmwxlQOmiiy66EGVAVVVVVVVdZUBVVVVVVV1lQBA++OCDp2VAyiabbLK5ZUCTTTbZZMNlQFVVVVVVzWVAfPDBBx/UZUBlk0022eRlQNlkk0028WVAL7rooosWZkCEDz744EtmQE422WSTVWZAbbLJJptsZkCMLrroootmQMomm2yymWZARhdddNGdZkAIH3zwwZ9mQBdddNFFp2ZA6aKLLrqwZkBGF1100b1mQF100UUXxWZA4YMPPvjQZkDKJptssuFmQMIHH3zwCWdAZZNNNtkkZ0BddNFFFyVnQOmiiy66QGdA2WSTTTZxZ0A++OCDD3ZnQIwuuuii62dAjC666KLrZ0CrqqqqqgJoQIQPPvjgM2hAq6qqqqpCaEAnm2yyyUZoQCebbLLJRmhAED744INXaEDKJptsslloQJtssskma2hAk0022WRraEDZZJNNNsloQKuqqqqqGmlAAAAAAAAwaUA++OCDDzZpQPjggw8+OGlAJ5tsssleaUCyySabbGJpQKOLLrroYmlAuuiiiy5yaUAIH3zwwXdpQMomm2yymWlAF1100UXHaUAIH3zwwc9pQAgffPDBz2lA2WSTTTb5aUDRRRdddAlqQAAAAAAAOGpARhdddNFFakBONtlkk2VqQE422WSTZWpA0UUXXXR5akBlk0022ZRqQC+66KKLxmpAbbLJJpvUakAvuuiiix5rQMIHH3zwQWtAVVVVVVVNa0BVVVVVVW1rQBA++OCDb2tAZZNNNtmMa0DKJptssqlrQEYXXXTRtWtAk0022WQDbEA22WSTTUZsQDbZZJNNRmxANtlkk01GbEA22WSTTUZsQIQPPvjgU2xAm2yyySaTbEDpoosuuqhsQBdddNFFH21AZZNNNtksbUBONtlkkzVtQGWTTTbZRG1AAAAAAABYbUAXXXTRRX9tQC+66KKLlm1AXXTRRRcdbkA22WSTTU5uQPjggw8+cG5Auuiiiy5ybkBVVVVVVaVuQNlkk002yW5AL7rooovObkBtsskmmwRvQC+66KKLHm9AED744INXb0C66KKLLlpvQOmiiy66gG9Ao4suuuiSb0CyySabbKJvQOGDDz74wG9AjC666KLLb0B00UUXXdRvQJNNNtlk429A2WSTTTZFcEDCBx988FlwQMIHH3zwhXBAwgcffPCFcEDCBx988IVwQMIHH3zwhXBA6aKLLrqwcEAQPvjgg+twQJNNNtlk/3BAH3zwwQcPcUCjiy666BZxQOGDDz74MHFACB988MFLcUDpoosuulxxQBdddNFFb3FAjC666KKncUBGF1100c1xQEYXXXTRzXFAJ5tsssnScUA++OCDD+JxQMIHH3zw9XFAL7rooosCckDCBx988AVyQFVVVVVVKXJAsskmm2w+ckC66KKLLkZyQKuqqqqqUnJAk0022WRTckCEDz744FNyQEYXXXTRaXJANtlkk02KckBVVVVVVeVyQFVVVVVV5XJA6aKLLroYc0B00UUXXShzQHzwwQcfNHNAfPDBBx80c0B88MEHHzRzQHzwwQcfNHNAfPDBBx80c0DZZJNNNm1zQBA++OCDh3NATjbZZJONc0A22WSTTZZzQOGDDz74tHNA6aKLLrq8c0B88MEHH/xzQNlkk002FXRATjbZZJMZdEBVVVVVVTV0QIQPPvjgN3RANtlkk01SdEBONtlkk1V0QMIHH3zwXXRAsskmm2xidEBONtlkk610QE422WSTrXRA0UUXXXTBdEDCBx988MF0QCebbLLJynRAAAAAAADgdEDpoosuuhh1QJtssskmL3VAPvjggw86dUA++OCDDzp1QKOLLrroOnVAjC666KJbdUBGF1100WF1QEYXXXTRYXVAVVVVVVWhdUC66KKLLtp1QLLJJpts2nVACB988MEXdkDRRRdddB12QHzwwQcfJHZACB988MFHdkAIH3zwwUd2QG2yySabSHZAL7rooouKdkBVVVVVVfF2QPjggw8+BHdA0UUXXXQRd0C66KKLLj53QCebbLLJQndACB988MFTd0AAAAAAAHh3QKuqqqqqfndAk0022WSDd0CyySabbLp3QLLJJptsundAJ5tssslSeECEDz744Ft4QNlkk002gXhAED744IOTeEAQPvjgg5N4QBA++OCDk3hAED744IOTeEAQPvjgg5N4QBA++OCDk3hAED744IOTeECMLrrooqt4QIwuuuiiq3hAAAAAAADIeEAAAAAAAMh4QMomm2yyzXhAED744IPreEDwwQcffOx4QPDBBx987HhAXXTRRRf1eED44IMPPgx5QE422WSTGXlAH3zwwQdHeUA22WSTTWZ5QMIHH3zwdXlA8MEHH3yIeUCTTTbZZJ95QAAAAAAAqHlAH3zwwQfjeUB00UUXXeR5QG2yySab7HlAwgcffPD5eUAnm2yyyTJ6QOmiiy66NHpAJ5tsssmWekCEDz744K96QOGDDz74yHpAAAAAAAAse0AffPDBB2d7QE422WSTaXtAk0022WSXe0BONtlkk5l7QKuqqqqqxntAH3zwwQfLe0DCBx988NF7QDbZZJNN4ntAZZNNNtnoe0DwwQcffPR7QPDBBx989HtAo4suuuj6e0DCBx988A18QGWTTTbZTHxA4YMPPvhofECrqqqqqpZ8QHTRRRddoHxAdNFFF12gfEB00UUXXaB8QAgffPDBx3xARhdddNHJfEBlk0022dR8QBA++OCD23xAAAAAAAAsfUDCBx988Dl9QBA++OCDP31AVVVVVVWhfUBVVVVVVaF9QNFFF1107X1A6aKLLrpAfkBVVVVVVU1+QOmiiy66eH5AyiabbLLpfkBVVVVVVfl+QNlkk002EX9ARhdddNE1f0AQPvjgg3t/QNFFF110iX9AED744IOPf0Crqqqqqrp/QG2yySabxH9AH3zwwQcVgEDZZJNNNheAQIwuuuiiH4BAF1100UUxgECMLrrookOAQIwuuuiiQ4BAjC666KJDgECMLrrookOAQIwuuuiiQ4BAjC666KJDgECMLrrookOAQIwuuuiiQ4BAm2yyySZJgEBlk0022VyAQJtssskmX4BAsskmm2xmgEB00UUXXZ6AQC+66KKLpIBAL7roooumgEC66KKLLqyAQMomm2yytYBAVVVVVVXHgEAIH3zwwduAQF100UUX4YBAm2yyySbhgEBVVVVVVeGAQHTRRRdd8IBA8MEHH3z0gEDhgw8++AqBQKuqqqqqJIFA6aKLLrowgUAQPvjgg0uBQMIHH3zwTYFAfPDBBx9ggUCTTTbZZGGBQAAAAAAAgIFAhA8++OCBgUCjiy666J6BQD744IMPpIFAED744IOlgUDhgw8++K6BQHzwwQcfAoJAH3zwwQcxgkD44IMPPj6CQPDBBx98UoJAXXTRRRdtgkC66KKLLpCCQNFFF110kYJAjC666KKfgkCMLrroop+CQLrooosuqIJAsskmm2yygkBddNFFF+WCQHTRRRdd8oJAVVVVVVX3gkD44IMPPiqDQG2yySabNoNAhA8++OBXg0CMLrroomuDQIwuuuiil4NA+OCDDz6gg0DwwQcffLaDQKOLLrrowINAo4suuugMhECrqqqqqhCEQBdddNFFVYRAm2yyySZZhECbbLLJJoWEQAgffPDBm4RAbbLJJpukhEBddNFFF7uEQAAAAAAAxoRAZZNNNtnMhEAIH3zwwdWEQNlkk0029YRAF1100UX5hEAAAAAAAPqEQNlkk002FYVA6aKLLro4hUDpoosuujiFQC+66KKLcIVAL7roootwhUCjiy666HqFQPDBBx98rIVAH3zwwQe1hUAffPDBB9+FQJNNNtlk9YVA8MEHH3wAhkAvuuiiixCGQE422WSTK4ZATjbZZJM7hkC66KKLLjyGQLrooosuPIZAVVVVVVVRhkBVVVVVVVGGQB988MEHZYZAdNFFF11yhkAQPvjgg6mGQGWTTTbZtIZAL7rooovMhkAAAAAAAOKGQMomm2yyAYdAm2yyySYNh0DKJptssk+HQMomm2yya4dAuuiiiy5wh0C66KKLLnCHQLLJJptseIdAF1100UW9h0C66KKLLuCHQG2yySab4IdA0UUXXXTzh0CbbLLJJhmIQIQPPvjgU4hAhA8++OBTiEBVVVVVVWmIQLLJJptskIhANtlkk00MiUAvuuiiiw6JQBdddNFFJ4lAZZNNNtlaiUCyySabbF6JQPDBBx98colAm2yyySahiUDCBx988L2JQOmiiy66xIlAq6qqqqrMiUCMLrroot2JQEYXXXTRA4pAq6qqqqpIikDhgw8++EyKQHzwwQcfbopAXXTRRRdxikA++OCDD6SKQLrooosu4IpA4YMPPvj4ikCMLrroovuKQD744IMPLItARhdddNF3i0CTTTbZZIeLQLLJJptsjItAjC666KLZi0BddNFFF+uLQOGDDz74/otAo4suuuggjEBONtlkky+MQB988MEHQYxA6aKLLrpUjEDCBx988FmMQIQPPvjg0YxAXXTRRRffjEDpoosuugKNQAgffPDBI41A2WSTTTYpjUAnm2yyyVKNQAgffPDBU41Am2yyySZjjUCbbLLJJmONQNlkk002q41AbbLJJpu6jUAnm2yyycKNQIQPPvjgxY1AVVVVVVXVjUBddNFFF/+NQPjggw8+FI5A+OCDDz4UjkAXXXTRRSWOQOGDDz74Ro5Asskmm2xMjkDwwQcffFKOQCebbLLJWI5AF1100UV9jkBVVVVVVc2OQPDBBx982I5AZZNNNtnojkAXXXTRRSOPQGWTTTbZNI9ANtlkk01Ij0DRRRdddIOPQFVVVVVVn49ARhdddNG9j0DpoosuusCPQB988MEHyY9AhA8++ODTj0AQPvjgg9uPQOmiiy66/I9APvjggw8BkEBVVVVVVQOQQHzwwQcfCJBAq6qqqqolkEDCBx988DuQQAgffPDBPZBACB988ME9kEDwwQcffE2QQOmiiy66WZBA6aKLLrpZkEDhgw8++JSQQJNNNtlklZBAAAAAAACrkEC66KKLLrSQQOGDDz74tpBA6aKLLrq4kEC66KKLLu2QQLrooosu8ZBA0UUXXXQokUDRRRdddCiRQMIHH3zwKpFAfPDBBx82kUDZZJNNNj+RQKOLLrroR5FAdNFFF11ckUAffPDBB2iRQKOLLrrofZFAo4suuuh9kUCjiy666H2RQKuqqqqql5FA2WSTTTaZkUDCBx988JuRQNFFF110uZFAjC666KK8kUAnm2yyyduRQEYXXXTR35FA4YMPPvjtkUBtsskmm/SRQEYXXXTRFJJARhdddNEUkkDpoosuuiKSQJNNNtlkKZJAq6qqqqopkkBGF1100TGSQBA++OCDOpJAsskmm2xFkkCMLrrookaSQF100UUXX5JAXXTRRRdfkkDZZJNNNnWSQC+66KKLdpJAsskmm2yHkkAffPDBB5WSQNFFF110mpJAL7roooumkkA++OCDD8GSQBdddNFFypJAjC666KLRkkA++OCDD9WSQHzwwQcf25JAXXTRRRfukkDCBx988PCSQDbZZJNN8pJANtlkk03ykkA22WSTTfKSQDbZZJNN8pJAAAAAAAApk0D44IMPPkSTQPjggw8+RJNAm2yyySZFk0AAAAAAAFWTQAAAAAAAWZNAL7rooot5k0AQPvjgg4aTQBA++OCDhpNAED744IOGk0Blk0022ZGTQMomm2yynZNAXXTRRRcrlEAffPDBBy+UQHTRRRddSJRAbbLJJptmlEBtsskmm2aUQG2yySabZpRAAAAAAAB4lECyySabbK2UQJtssskmy5RAVVVVVVXXlEAvuuiii9eUQKuqqqqq3JRAjC666KL1lEBGF1100f+UQLLJJptsbZVA2WSTTTZ2lUCMLrrooqiVQLLJJptsx5VAED744IPWlUBVVVVVVSWWQIQPPvjgUJZAZZNNNtlYlkDCBx988GyWQOmiiy66g5ZAq6qqqqrKlkDhgw8++NWWQD744IMP4pZA2WSTTTbtlkDpoosuuiaXQHTRRRddJ5dAm2yyySZ0l0BVVVVVVXeXQG2yySabkJdAhA8++OC5l0Avuuiii7+XQIQPPvjgzZdAyiabbLLcl0DKJptsstyXQNlkk002CphAk0022WRWmECTTTbZZFaYQOmiiy66lJhAm2yyySabmEDCBx988NiYQB988MEH4JhAo4suuugUmUAffPDBBxiZQPDBBx98KJlA0UUXXXQ4mUDKJptsskOZQJtssskmTplAk0022WRimUCbbLLJJm6ZQAAAAAAAhJlA2WSTTTaFmUCyySabbIaZQLLJJptsp5lAm2yyySa+mUB88MEHH9KZQE422WST35lAyiabbLLlmUBddNFFF++ZQAAAAAAAB5pANtlkk00KmkBVVVVVVQ6aQBdddNFFPZpAm2yyySZzmkBlk0022biaQLrooosuBZtACB988MEcm0DpoosuuiObQIQPPvjgK5tAAAAAAAAum0AAAAAAAC6bQG2yySabTZtAbbLJJptNm0Dhgw8++FCbQHzwwQcfeptANtlkk01+m0CMLrroosmbQF100UUXBJxAVVVVVVUYnEBVVVVVVRicQFVVVVVVGJxA4YMPPvgynEDhgw8++DKcQKuqqqqqSZxAXXTRRRdlnEA++OCDD7mcQHzwwQcfupxAH3zwwQf1nEC66KKLLgadQD744IMPSZ1AZZNNNtlKnUAIH3zwwVidQHTRRRdda51AH3zwwQd7nUDKJptssn+dQHzwwQcfjJ1AF1100UXcnUCrqqqqquCdQHTRRRdd6J1AdNFFF13onUB88MEHH+udQHzwwQcf651ACB988ME0nkCTTTbZZDieQDbZZJNNUJ5ACB988MFXnkDwwQcffGGeQKOLLrroZp5AhA8++OCBnkDhgw8++KWeQOGDDz74pZ5A4YMPPvilnkBlk0022b+eQMIHH3zw+Z5AXXTRRRcXn0DpoosuujafQG2yySabiZ9AED744IOXn0Anm2yyycmfQNlkk0023p9AhA8++OAPoECrqqqqKjigQPjggw8+aqBA6aKLLrp2oEDpoosuunagQOmiiy66dqBAZZNNNlmGoEB00UUX3YigQKOLLrroiqBACB988MGfoEAAAAAAgKSgQAAAAACApKBAAAAAAICkoECTTTbZ5KWgQNlkk002qaBA0UUXXfSzoEBddNFFl++gQC+66KIL9KBARhdddFENoUD44IMPvh2hQHzwwQcfKqFA2WSTTbYxoUBONtlkE1GhQE422WQTUaFA6aKLLrpdoUBGF110UZWhQHzwwQcfpaFAdNFFF13SoUCEDz74YPqhQPDBBx98GaJAjC666CI4okCyySabbEOiQPjggw++S6JAwgcffPBQokAAAAAAAFqiQAAAAAAAWqJAAAAAAABaokAvuuiiC1uiQGWTTTbZa6JAbbLJJpvNokCbbLLJphijQPjggw++GKNA2WSTTTZZo0AQPvjgA1ujQJtssskmZKNAq6qqqiplo0AXXXTRRWejQCebbLJJkqNAo4suuuiTo0CyySab7JSjQPDBBx/8pKNAfPDBBx+oo0DpoosuOsOjQB988MGHxaNAAAAAAADco0AAAAAAgN6jQLrooouu9aNAo4suuugVpECyySab7DOkQBdddNFFSqRAF1100UVKpEAXXXTRRUqkQBdddNFFVaRAo4suumhipEAXXXTRRaikQHzwwQefqKRA0UUXXfTSpECMLrroouGkQF100UWXK6VAZZNNNtkrpUDwwQcffDKlQAAAAACAOaVAPvjggw9LpUCTTTbZZGSlQG2yySabf6VANtlkk02MpUCyySab7IylQMomm2yylKVARhdddNHLpUAQPvjgg+ulQAAAAAAA96VAsskmm2wapkDKJptsMiymQOGDDz74O6ZAPvjggw9BpkAIH3zwwUKmQB988MEHRqZAAAAAAIBMpkDpoosuulymQGWTTTZZaqZAXXTRRRdvpkCrqqqqKnKmQBdddNHFcqZA2WSTTba5pkDZZJNNtrmmQG2yySabuqZAL7rooou9pkBVVVVV1dGmQAgffPBB/qZAwgcffHAnp0Anm2yyyVenQMIHH3zwYadAsskmm2yip0CEDz744OqnQAgffPBB/KdAq6qqqio0qECbbLLJJkqoQNFFF110iKhAsskmm2yqqED44IMPvryoQOmiiy46+KhAF1100UX5qEBVVVVVVRepQNlkk022balAo4suumh0qUDZZJNNtompQLrooouu1KlAyiabbDKBqkAXXXTRxcaqQMIHH3zw7KpA8MEHH/z/qkCrqqqqqgKrQBdddNFFHqtAXXTRRZcfq0BddNFFlx+rQHTRRRfdLqtAL7rooot2q0Anm2yyyZmrQF100UWXnKtAo4suuui9q0AvuuiiC8mrQC+66KILzKtAyiabbDLyq0CrqqqqqvurQIwuuuiiCaxAuuiiiy4KrEBddNFFFyOsQF100UUXI6xANtlkk80zrEBVVVVVVYqsQB988MEHk6xAF1100cWxrEDKJptssrusQNlkk0021axAq6qqqqrXrEC66KKLLvKsQHTRRRddBq1A0UUXXXQdrUCEDz74YFCtQNFFF110hK1AfPDBBx+erUB00UUX3ditQKuqqqqqJa5A+OCDD742rkD44IMPvjeuQDbZZJNNV65Auuiii66LrkDwwQcf/JmuQGWTTTZZF69Auuiiiy5Pr0D44IMPPmqvQG2yySYb2K9AH3zwwQflr0AffPDBB/avQNlkk002ALBAPvjgg88LsEBtsskmGwywQPDBBx98DrBAH3zwwYc2sEAnm2yySUKwQB988MFHf7BAXXTRRVeCsECEDz744MOwQLLJJpss1rBAjC666KL6sEDwwQcf/BSxQLLJJpvsN7FAAAAAAIBEsUAnm2yyiU2xQGWTTTYZZ7FAwgcffDB7sUBVVVVV1YaxQCebbLKJobFATjbZZBPtsUAXXXTRhQGyQOGDDz64AbJAwgcffLAgskA++OCDzyeyQHzwwQcfMLJAfPDBBx8wskBONtlkkzGyQAgffPABXLJAk0022SRsskCMLrroop2yQIwuuuiinbJA0UUXXbTsskA22WSTDe+yQOGDDz74ArNAm2yyyaY6s0CbbLLJpjqzQJtsssmmOrNAhA8++CBGs0Avuuiiy1qzQNFFF100arNANtlkkw1xs0CyySabLJGzQB988MGHorNAAAAAAEDBs0Anm2yySdyzQDbZZJON4LNAJ5tssgnps0BVVVVV1fOzQFVVVVXV87NAuuiii+70s0B88MEHH/+zQG2yySZbXLRAm2yyySZstEDCBx98cG60QAAAAABAfLRAVVVVVVWKtECrqqqq6qe0QIwuuuiisrRANtlkkw3KtECjiy66aPu0QBA++OCDO7VAXXTRRRdMtUCjiy66KFK1QC+66KJLYrVAk0022eSRtUAvuuiiS6e1QD744INP07VA6aKLLjretUB88MEH3+q1QOmiiy767LVAED744IMJtkAvuuiii3K2QAAAAAAAiLZAm2yyySaWtkB00UUXXaW2QJtsssnmqLZAm2yyyeaotkCbbLLJ5qi2QIwuuugiybZAjC666CIZt0CyySabbCq3QAAAAABAK7dAdNFFF90rt0DwwQcfvEe3QB988MEHULdATjbZZFOCt0AAAAAAgKW3QGWTTTbZp7dAsskmm2wtuECMLrroYl24QPDBBx+8YLhAF1100cV7uECTTTbZpIS4QAAAAACAsrhAk0022aTsuEDCBx98MPK4QDbZZJNNA7lA8MEHH3xvuUAIH3zwwZW5QGWTTTZZs7lA4YMPPjjPuUAIH3zwAdy5QJNNNtnk57lAuuiii67ruUCTTTbZJAm6QKOLLrooRrpAfPDBBx9IukAQPvjgw066QD744IPPT7pAjC666OJSukBlk002Gam6QBdddNHFyLpARhdddNHQukAvuuiiy+m6QLLJJpts67pAJ5tssgkbu0CbbLLJJkG7QOGDDz54QbtAED744EPZu0Dhgw8+ONq7QE422WQTILxAJ5tsssknvEB88MEHn3y8QG2yySabwLxAbbLJJlvdvEDwwQcffAi9QGWTTTZZaL1AjC666GKbvUDwwQcfPK29QHTRRRfdrr1Am2yyyWbcvUCjiy66KAq+QBdddNEFgL5AwgcffHCEvkDZZJNNNqm+QIwuuuhi7r5A4YMPPjgcv0CEDz74oDq/QIwuuujidb9A0UUXXbSPv0DwwQcf/KO/QCebbLLpEcBAH3zwwcdGwEBtsskmm1PAQKuqqqpqZsBA6aKLLtpvwEDCBx98UJvAQPDBBx+cp8BAm2yyySaowECbbLLJZr7AQIQPPvhA2MBATjbZZDNcwUB88MEH/3DBQHTRRRcdgsFAXXTRRXePwUA22WSTranBQAAAAADgHcJAq6qqqgpHwkAffPDBR5DCQLrooouu78JAVVVVVbXvwkCbbLLJpg3DQLLJJpuMZsNAJ5tssgl4w0Avuuiia7jDQMomm2xSQMRAPvjgg89nxED44IMPXn/EQCebbLJJyMRAAAAAAGDXxEB00UUXPf/EQDbZZJNtXcVA2WSTTRauxUBGF110sa7FQEYXXXSRxcVAhA8++OB+xkBlk0022Y7GQHTRRRddo8ZAsskmm2y1xkBddNFF1xbHQHTRRRedN8dA+OCDD547x0DwwQcf/GLHQF100UU3z8dAAAAAAGAAyEDCBx988ALIQG2yySZbsshARhdddDHEyEC66KKLLiLKQJNNNtmkR8pAwgcffLC7ykCjiy66iN3KQE422WTTUctAq6qqqiqFy0AvuuiiayTNQKuqqqoqKM1AF1100QUszkDhgw8+mNbPQJNNNtmk8c9ANtlkkx010ECjiy666EvQQMomm2yCBNFARhdddAEg0UBGF110ESXSQF100UVH+ttAuuiii5YA6EC66KKLdqjrQA==",
          "dtype": "f8"
         },
         "xaxis": "x",
         "y": {
          "bdata": "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",
          "dtype": "f8"
         },
         "yaxis": "y"
        },
        {
         "customdata": [
          [
           "T1"
          ],
          [
           "T2"
          ],
          [
           "T3a"
          ],
          [
           "T3b"
          ],
          [
           "T5"
          ],
          [
           "T7"
          ],
          [
           "T6"
          ],
          [
           "T8"
          ],
          [
           "T10"
          ]
         ],
         "hovertemplate": "route_type=0<br>Données de validation=%{x}<br>Simulation de référence=%{y}<br>route_short_name=%{customdata[0]}<extra></extra>",
         "legendgroup": "0",
         "marker": {
          "color": "#EF553B",
          "symbol": "circle"
         },
         "mode": "markers",
         "name": "Lignes de tram",
         "showlegend": true,
         "type": "scattergl",
         "x": {
          "bdata": "uuiii5YA6EAnm2yywfb5QNFFF10gXf1Ao4suuvzb/ECjiy66GDXbQPDBBx8cDtNAF1100c245kC66KKLDs3bQKuqqqqqhs9A",
          "dtype": "f8"
         },
         "xaxis": "x",
         "y": {
          "bdata": "AAAAAIBp9kAAAAAAoKMBQQAAAADAa/9AAAAAAICgAUEAAAAAAMDSQAAAAAAAsM1AAAAAAIA+6UAAAAAAAMHWQAAAAAAA2tZA",
          "dtype": "f8"
         },
         "yaxis": "y"
        },
        {
         "hovertemplate": "<b>OLS trendline</b><br>Simulation de référence = 1.243 * Données de validation + -2189.38<br>R<sup>2</sup>=0.920635<br><br>route_type=0<br>Données de validation=%{x}<br>Simulation de référence=%{y} <b>(trend)</b><extra></extra>",
         "legendgroup": "0",
         "line": {
          "color": "orange",
          "width": 2
         },
         "marker": {
          "color": "#EF553B",
          "symbol": "circle"
         },
         "mode": "lines",
         "name": "Régression linéaire (tramway)",
         "showlegend": true,
         "type": "scattergl",
         "x": {
          "bdata": "q6qqqqqGz0DwwQcfHA7TQKOLLroYNdtAuuiiiw7N20AXXXTRzbjmQLrooouWAOhAJ5tsssH2+UCjiy66/Nv8QNFFF10gXf1A",
          "dtype": "f8"
         },
         "xaxis": "x",
         "y": {
          "bdata": "iz2VDJh00UAyIoFaK4zVQEmnneRNrt9Ae+H/hZg14EBfiI/BpCzrQDFMuLEUxOxA8zkCgB29/0DHIl/5O6sBQdhR155++wFB",
          "dtype": "f8"
         },
         "yaxis": "y"
        },
        {
         "line": {
          "color": "red",
          "dash": "dash"
         },
         "mode": "lines",
         "name": "Idéal (x = y)",
         "type": "scatter",
         "x": [
          0,
          120274.02272727272
         ],
         "y": [
          0,
          120274.02272727272
         ]
        }
       ],
       "layout": {
        "legend": {
         "title": {
          "text": "route_type"
         },
         "tracegroupgap": 0
        },
        "margin": {
         "t": 60
        },
        "template": {
         "data": {
          "bar": [
           {
            "error_x": {
             "color": "#2a3f5f"
            },
            "error_y": {
             "color": "#2a3f5f"
            },
            "marker": {
             "line": {
              "color": "white",
              "width": 0.5
             },
             "pattern": {
              "fillmode": "overlay",
              "size": 10,
              "solidity": 0.2
             }
            },
            "type": "bar"
           }
          ],
          "barpolar": [
           {
            "marker": {
             "line": {
              "color": "white",
              "width": 0.5
             },
             "pattern": {
              "fillmode": "overlay",
              "size": 10,
              "solidity": 0.2
             }
            },
            "type": "barpolar"
           }
          ],
          "carpet": [
           {
            "aaxis": {
             "endlinecolor": "#2a3f5f",
             "gridcolor": "#C8D4E3",
             "linecolor": "#C8D4E3",
             "minorgridcolor": "#C8D4E3",
             "startlinecolor": "#2a3f5f"
            },
            "baxis": {
             "endlinecolor": "#2a3f5f",
             "gridcolor": "#C8D4E3",
             "linecolor": "#C8D4E3",
             "minorgridcolor": "#C8D4E3",
             "startlinecolor": "#2a3f5f"
            },
            "type": "carpet"
           }
          ],
          "choropleth": [
           {
            "colorbar": {
             "outlinewidth": 0,
             "ticks": ""
            },
            "type": "choropleth"
           }
          ],
          "contour": [
           {
            "colorbar": {
             "outlinewidth": 0,
             "ticks": ""
            },
            "colorscale": [
             [
              0,
              "#0d0887"
             ],
             [
              0.1111111111111111,
              "#46039f"
             ],
             [
              0.2222222222222222,
              "#7201a8"
             ],
             [
              0.3333333333333333,
              "#9c179e"
             ],
             [
              0.4444444444444444,
              "#bd3786"
             ],
             [
              0.5555555555555556,
              "#d8576b"
             ],
             [
              0.6666666666666666,
              "#ed7953"
             ],
             [
              0.7777777777777778,
              "#fb9f3a"
             ],
             [
              0.8888888888888888,
              "#fdca26"
             ],
             [
              1,
              "#f0f921"
             ]
            ],
            "type": "contour"
           }
          ],
          "contourcarpet": [
           {
            "colorbar": {
             "outlinewidth": 0,
             "ticks": ""
            },
            "type": "contourcarpet"
           }
          ],
          "heatmap": [
           {
            "colorbar": {
             "outlinewidth": 0,
             "ticks": ""
            },
            "colorscale": [
             [
              0,
              "#0d0887"
             ],
             [
              0.1111111111111111,
              "#46039f"
             ],
             [
              0.2222222222222222,
              "#7201a8"
             ],
             [
              0.3333333333333333,
              "#9c179e"
             ],
             [
              0.4444444444444444,
              "#bd3786"
             ],
             [
              0.5555555555555556,
              "#d8576b"
             ],
             [
              0.6666666666666666,
              "#ed7953"
             ],
             [
              0.7777777777777778,
              "#fb9f3a"
             ],
             [
              0.8888888888888888,
              "#fdca26"
             ],
             [
              1,
              "#f0f921"
             ]
            ],
            "type": "heatmap"
           }
          ],
          "histogram": [
           {
            "marker": {
             "pattern": {
              "fillmode": "overlay",
              "size": 10,
              "solidity": 0.2
             }
            },
            "type": "histogram"
           }
          ],
          "histogram2d": [
           {
            "colorbar": {
             "outlinewidth": 0,
             "ticks": ""
            },
            "colorscale": [
             [
              0,
              "#0d0887"
             ],
             [
              0.1111111111111111,
              "#46039f"
             ],
             [
              0.2222222222222222,
              "#7201a8"
             ],
             [
              0.3333333333333333,
              "#9c179e"
             ],
             [
              0.4444444444444444,
              "#bd3786"
             ],
             [
              0.5555555555555556,
              "#d8576b"
             ],
             [
              0.6666666666666666,
              "#ed7953"
             ],
             [
              0.7777777777777778,
              "#fb9f3a"
             ],
             [
              0.8888888888888888,
              "#fdca26"
             ],
             [
              1,
              "#f0f921"
             ]
            ],
            "type": "histogram2d"
           }
          ],
          "histogram2dcontour": [
           {
            "colorbar": {
             "outlinewidth": 0,
             "ticks": ""
            },
            "colorscale": [
             [
              0,
              "#0d0887"
             ],
             [
              0.1111111111111111,
              "#46039f"
             ],
             [
              0.2222222222222222,
              "#7201a8"
             ],
             [
              0.3333333333333333,
              "#9c179e"
             ],
             [
              0.4444444444444444,
              "#bd3786"
             ],
             [
              0.5555555555555556,
              "#d8576b"
             ],
             [
              0.6666666666666666,
              "#ed7953"
             ],
             [
              0.7777777777777778,
              "#fb9f3a"
             ],
             [
              0.8888888888888888,
              "#fdca26"
             ],
             [
              1,
              "#f0f921"
             ]
            ],
            "type": "histogram2dcontour"
           }
          ],
          "mesh3d": [
           {
            "colorbar": {
             "outlinewidth": 0,
             "ticks": ""
            },
            "type": "mesh3d"
           }
          ],
          "parcoords": [
           {
            "line": {
             "colorbar": {
              "outlinewidth": 0,
              "ticks": ""
             }
            },
            "type": "parcoords"
           }
          ],
          "pie": [
           {
            "automargin": true,
            "type": "pie"
           }
          ],
          "scatter": [
           {
            "fillpattern": {
             "fillmode": "overlay",
             "size": 10,
             "solidity": 0.2
            },
            "type": "scatter"
           }
          ],
          "scatter3d": [
           {
            "line": {
             "colorbar": {
              "outlinewidth": 0,
              "ticks": ""
             }
            },
            "marker": {
             "colorbar": {
              "outlinewidth": 0,
              "ticks": ""
             }
            },
            "type": "scatter3d"
           }
          ],
          "scattercarpet": [
           {
            "marker": {
             "colorbar": {
              "outlinewidth": 0,
              "ticks": ""
             }
            },
            "type": "scattercarpet"
           }
          ],
          "scattergeo": [
           {
            "marker": {
             "colorbar": {
              "outlinewidth": 0,
              "ticks": ""
             }
            },
            "type": "scattergeo"
           }
          ],
          "scattergl": [
           {
            "marker": {
             "colorbar": {
              "outlinewidth": 0,
              "ticks": ""
             }
            },
            "type": "scattergl"
           }
          ],
          "scattermap": [
           {
            "marker": {
             "colorbar": {
              "outlinewidth": 0,
              "ticks": ""
             }
            },
            "type": "scattermap"
           }
          ],
          "scattermapbox": [
           {
            "marker": {
             "colorbar": {
              "outlinewidth": 0,
              "ticks": ""
             }
            },
            "type": "scattermapbox"
           }
          ],
          "scatterpolar": [
           {
            "marker": {
             "colorbar": {
              "outlinewidth": 0,
              "ticks": ""
             }
            },
            "type": "scatterpolar"
           }
          ],
          "scatterpolargl": [
           {
            "marker": {
             "colorbar": {
              "outlinewidth": 0,
              "ticks": ""
             }
            },
            "type": "scatterpolargl"
           }
          ],
          "scatterternary": [
           {
            "marker": {
             "colorbar": {
              "outlinewidth": 0,
              "ticks": ""
             }
            },
            "type": "scatterternary"
           }
          ],
          "surface": [
           {
            "colorbar": {
             "outlinewidth": 0,
             "ticks": ""
            },
            "colorscale": [
             [
              0,
              "#0d0887"
             ],
             [
              0.1111111111111111,
              "#46039f"
             ],
             [
              0.2222222222222222,
              "#7201a8"
             ],
             [
              0.3333333333333333,
              "#9c179e"
             ],
             [
              0.4444444444444444,
              "#bd3786"
             ],
             [
              0.5555555555555556,
              "#d8576b"
             ],
             [
              0.6666666666666666,
              "#ed7953"
             ],
             [
              0.7777777777777778,
              "#fb9f3a"
             ],
             [
              0.8888888888888888,
              "#fdca26"
             ],
             [
              1,
              "#f0f921"
             ]
            ],
            "type": "surface"
           }
          ],
          "table": [
           {
            "cells": {
             "fill": {
              "color": "#EBF0F8"
             },
             "line": {
              "color": "white"
             }
            },
            "header": {
             "fill": {
              "color": "#C8D4E3"
             },
             "line": {
              "color": "white"
             }
            },
            "type": "table"
           }
          ]
         },
         "layout": {
          "annotationdefaults": {
           "arrowcolor": "#2a3f5f",
           "arrowhead": 0,
           "arrowwidth": 1
          },
          "autotypenumbers": "strict",
          "coloraxis": {
           "colorbar": {
            "outlinewidth": 0,
            "ticks": ""
           }
          },
          "colorscale": {
           "diverging": [
            [
             0,
             "#8e0152"
            ],
            [
             0.1,
             "#c51b7d"
            ],
            [
             0.2,
             "#de77ae"
            ],
            [
             0.3,
             "#f1b6da"
            ],
            [
             0.4,
             "#fde0ef"
            ],
            [
             0.5,
             "#f7f7f7"
            ],
            [
             0.6,
             "#e6f5d0"
            ],
            [
             0.7,
             "#b8e186"
            ],
            [
             0.8,
             "#7fbc41"
            ],
            [
             0.9,
             "#4d9221"
            ],
            [
             1,
             "#276419"
            ]
           ],
           "sequential": [
            [
             0,
             "#0d0887"
            ],
            [
             0.1111111111111111,
             "#46039f"
            ],
            [
             0.2222222222222222,
             "#7201a8"
            ],
            [
             0.3333333333333333,
             "#9c179e"
            ],
            [
             0.4444444444444444,
             "#bd3786"
            ],
            [
             0.5555555555555556,
             "#d8576b"
            ],
            [
             0.6666666666666666,
             "#ed7953"
            ],
            [
             0.7777777777777778,
             "#fb9f3a"
            ],
            [
             0.8888888888888888,
             "#fdca26"
            ],
            [
             1,
             "#f0f921"
            ]
           ],
           "sequentialminus": [
            [
             0,
             "#0d0887"
            ],
            [
             0.1111111111111111,
             "#46039f"
            ],
            [
             0.2222222222222222,
             "#7201a8"
            ],
            [
             0.3333333333333333,
             "#9c179e"
            ],
            [
             0.4444444444444444,
             "#bd3786"
            ],
            [
             0.5555555555555556,
             "#d8576b"
            ],
            [
             0.6666666666666666,
             "#ed7953"
            ],
            [
             0.7777777777777778,
             "#fb9f3a"
            ],
            [
             0.8888888888888888,
             "#fdca26"
            ],
            [
             1,
             "#f0f921"
            ]
           ]
          },
          "colorway": [
           "#636efa",
           "#EF553B",
           "#00cc96",
           "#ab63fa",
           "#FFA15A",
           "#19d3f3",
           "#FF6692",
           "#B6E880",
           "#FF97FF",
           "#FECB52"
          ],
          "font": {
           "size": 15
          },
          "geo": {
           "bgcolor": "white",
           "lakecolor": "white",
           "landcolor": "white",
           "showlakes": true,
           "showland": true,
           "subunitcolor": "#C8D4E3"
          },
          "hoverlabel": {
           "align": "left"
          },
          "hovermode": "closest",
          "mapbox": {
           "style": "light"
          },
          "paper_bgcolor": "white",
          "plot_bgcolor": "white",
          "polar": {
           "angularaxis": {
            "gridcolor": "#EBF0F8",
            "linecolor": "#EBF0F8",
            "ticks": ""
           },
           "bgcolor": "white",
           "radialaxis": {
            "gridcolor": "#EBF0F8",
            "linecolor": "#EBF0F8",
            "ticks": ""
           }
          },
          "scene": {
           "xaxis": {
            "backgroundcolor": "white",
            "gridcolor": "#DFE8F3",
            "gridwidth": 2,
            "linecolor": "#EBF0F8",
            "showbackground": true,
            "ticks": "",
            "zerolinecolor": "#EBF0F8"
           },
           "yaxis": {
            "backgroundcolor": "white",
            "gridcolor": "#DFE8F3",
            "gridwidth": 2,
            "linecolor": "#EBF0F8",
            "showbackground": true,
            "ticks": "",
            "zerolinecolor": "#EBF0F8"
           },
           "zaxis": {
            "backgroundcolor": "white",
            "gridcolor": "#DFE8F3",
            "gridwidth": 2,
            "linecolor": "#EBF0F8",
            "showbackground": true,
            "ticks": "",
            "zerolinecolor": "#EBF0F8"
           }
          },
          "shapedefaults": {
           "line": {
            "color": "#2a3f5f"
           }
          },
          "ternary": {
           "aaxis": {
            "gridcolor": "#DFE8F3",
            "linecolor": "#A2B1C6",
            "ticks": ""
           },
           "baxis": {
            "gridcolor": "#DFE8F3",
            "linecolor": "#A2B1C6",
            "ticks": ""
           },
           "bgcolor": "white",
           "caxis": {
            "gridcolor": "#DFE8F3",
            "linecolor": "#A2B1C6",
            "ticks": ""
           }
          },
          "title": {
           "x": 0.05
          },
          "xaxis": {
           "automargin": true,
           "gridcolor": "#EBF0F8",
           "linecolor": "#EBF0F8",
           "ticks": "",
           "title": {
            "standoff": 15
           },
           "zerolinecolor": "#EBF0F8",
           "zerolinewidth": 2
          },
          "yaxis": {
           "automargin": true,
           "gridcolor": "#EBF0F8",
           "linecolor": "#EBF0F8",
           "ticks": "",
           "title": {
            "standoff": 15
           },
           "zerolinecolor": "#EBF0F8",
           "zerolinewidth": 2
          }
         }
        },
        "xaxis": {
         "anchor": "y",
         "domain": [
          0,
          1
         ],
         "title": {
          "text": "Données de validation"
         }
        },
        "yaxis": {
         "anchor": "x",
         "domain": [
          0,
          1
         ],
         "title": {
          "text": "Simulation de référence"
         }
        }
       }
      }
     },
     "metadata": {},
     "output_type": "display_data"
    }
   ],
   "source": [
    "fig_scatter_surface.show()"
   ]
  },
  {
   "cell_type": "markdown",
   "metadata": {},
   "source": [
    "La figure ci-dessus montre la correspondance du nombre de validations pour un jour, pour chaque ligne du réseau de surface. On remarque que les bus correspondent relativement bien à l'idéal. Quant aux tramways, ceux-ci sont surestimés dans la simulation. "
   ]
  },
  {
   "cell_type": "code",
   "execution_count": 73,
   "metadata": {},
   "outputs": [],
   "source": [
    "fig_surface_comp = px.histogram(melted_data, \n",
    "                   x='route_short_name', \n",
    "                   y='Value', \n",
    "                   color='Metric', \n",
    "                   barmode='group',\n",
    "                   labels={\n",
    "                       \"route_short_name\" : \"Ligne de Tramway\",\n",
    "                       \"Value\" : \"Nombre de trajets\"\n",
    "                   },\n",
    "                   title='Comparaison entre les données de référence et la simulation baseline')\n",
    "\n",
    "fig_surface_comp.write_image(\"outputs/plots/validation/comp_ref_simu_surface.png\", width=1000)\n",
    "\n",
    "surface_data['Différence (%)'] = ((surface_data['Simulation de référence'] - surface_data['Données de validation']) / surface_data['Données de validation']) * 100\n",
    "diff_data = surface_data[['route_short_name', 'Différence (%)']]\n",
    "\n",
    "fig_surface_diff = px.bar(diff_data, \n",
    "                  x='route_short_name', \n",
    "                  y='Différence (%)', \n",
    "                  labels={\n",
    "                      \"route_short_name\" : \"Ligne de Tramway\"\n",
    "                  },\n",
    "                  title='Différence (en %) entre les données de référence et la simulation baseline')\n",
    "\n",
    "fig_surface_diff.write_image(\"outputs/plots/validation/comp_ref_simu_surface_pourcentage.png\", width=1000)"
   ]
  },
  {
   "cell_type": "code",
   "execution_count": 74,
   "metadata": {},
   "outputs": [
    {
     "data": {
      "application/pdf": "[encoded data removed]",
      "application/vnd.plotly.v1+json": {
       "config": {
        "plotlyServerURL": "https://plot.ly"
       },
       "data": [
        {
         "alignmentgroup": "True",
         "bingroup": "x",
         "histfunc": "sum",
         "hovertemplate": "Metric=Données de validation<br>Ligne de Tramway=%{x}<br>sum of Nombre de trajets=%{y}<extra></extra>",
         "legendgroup": "Données de validation",
         "marker": {
          "color": "#636efa",
          "pattern": {
           "shape": ""
          }
         },
         "name": "Données de validation",
         "offsetgroup": "Données de validation",
         "orientation": "v",
         "showlegend": true,
         "type": "histogram",
         "x": [
          "T1",
          "T2",
          "T3a",
          "T3b",
          "T5",
          "T7",
          "T6",
          "T8",
          "T10"
         ],
         "xaxis": "x",
         "y": {
          "bdata": "uuiii5YA6EAnm2yywfb5QNFFF10gXf1Ao4suuvzb/ECjiy66GDXbQPDBBx8cDtNAF1100c245kC66KKLDs3bQKuqqqqqhs9A",
          "dtype": "f8"
         },
         "yaxis": "y"
        },
        {
         "alignmentgroup": "True",
         "bingroup": "x",
         "histfunc": "sum",
         "hovertemplate": "Metric=Simulation de référence<br>Ligne de Tramway=%{x}<br>sum of Nombre de trajets=%{y}<extra></extra>",
         "legendgroup": "Simulation de référence",
         "marker": {
          "color": "#EF553B",
          "pattern": {
           "shape": ""
          }
         },
         "name": "Simulation de référence",
         "offsetgroup": "Simulation de référence",
         "orientation": "v",
         "showlegend": true,
         "type": "histogram",
         "x": [
          "T1",
          "T2",
          "T3a",
          "T3b",
          "T5",
          "T7",
          "T6",
          "T8",
          "T10"
         ],
         "xaxis": "x",
         "y": {
          "bdata": "AAAAAIBp9kAAAAAAoKMBQQAAAADAa/9AAAAAAICgAUEAAAAAAMDSQAAAAAAAsM1AAAAAAIA+6UAAAAAAAMHWQAAAAAAA2tZA",
          "dtype": "f8"
         },
         "yaxis": "y"
        }
       ],
       "layout": {
        "barmode": "group",
        "legend": {
         "title": {
          "text": "Metric"
         },
         "tracegroupgap": 0
        },
        "template": {
         "data": {
          "bar": [
           {
            "error_x": {
             "color": "#2a3f5f"
            },
            "error_y": {
             "color": "#2a3f5f"
            },
            "marker": {
             "line": {
              "color": "white",
              "width": 0.5
             },
             "pattern": {
              "fillmode": "overlay",
              "size": 10,
              "solidity": 0.2
             }
            },
            "type": "bar"
           }
          ],
          "barpolar": [
           {
            "marker": {
             "line": {
              "color": "white",
              "width": 0.5
             },
             "pattern": {
              "fillmode": "overlay",
              "size": 10,
              "solidity": 0.2
             }
            },
            "type": "barpolar"
           }
          ],
          "carpet": [
           {
            "aaxis": {
             "endlinecolor": "#2a3f5f",
             "gridcolor": "#C8D4E3",
             "linecolor": "#C8D4E3",
             "minorgridcolor": "#C8D4E3",
             "startlinecolor": "#2a3f5f"
            },
            "baxis": {
             "endlinecolor": "#2a3f5f",
             "gridcolor": "#C8D4E3",
             "linecolor": "#C8D4E3",
             "minorgridcolor": "#C8D4E3",
             "startlinecolor": "#2a3f5f"
            },
            "type": "carpet"
           }
          ],
          "choropleth": [
           {
            "colorbar": {
             "outlinewidth": 0,
             "ticks": ""
            },
            "type": "choropleth"
           }
          ],
          "contour": [
           {
            "colorbar": {
             "outlinewidth": 0,
             "ticks": ""
            },
            "colorscale": [
             [
              0,
              "#0d0887"
             ],
             [
              0.1111111111111111,
              "#46039f"
             ],
             [
              0.2222222222222222,
              "#7201a8"
             ],
             [
              0.3333333333333333,
              "#9c179e"
             ],
             [
              0.4444444444444444,
              "#bd3786"
             ],
             [
              0.5555555555555556,
              "#d8576b"
             ],
             [
              0.6666666666666666,
              "#ed7953"
             ],
             [
              0.7777777777777778,
              "#fb9f3a"
             ],
             [
              0.8888888888888888,
              "#fdca26"
             ],
             [
              1,
              "#f0f921"
             ]
            ],
            "type": "contour"
           }
          ],
          "contourcarpet": [
           {
            "colorbar": {
             "outlinewidth": 0,
             "ticks": ""
            },
            "type": "contourcarpet"
           }
          ],
          "heatmap": [
           {
            "colorbar": {
             "outlinewidth": 0,
             "ticks": ""
            },
            "colorscale": [
             [
              0,
              "#0d0887"
             ],
             [
              0.1111111111111111,
              "#46039f"
             ],
             [
              0.2222222222222222,
              "#7201a8"
             ],
             [
              0.3333333333333333,
              "#9c179e"
             ],
             [
              0.4444444444444444,
              "#bd3786"
             ],
             [
              0.5555555555555556,
              "#d8576b"
             ],
             [
              0.6666666666666666,
              "#ed7953"
             ],
             [
              0.7777777777777778,
              "#fb9f3a"
             ],
             [
              0.8888888888888888,
              "#fdca26"
             ],
             [
              1,
              "#f0f921"
             ]
            ],
            "type": "heatmap"
           }
          ],
          "histogram": [
           {
            "marker": {
             "pattern": {
              "fillmode": "overlay",
              "size": 10,
              "solidity": 0.2
             }
            },
            "type": "histogram"
           }
          ],
          "histogram2d": [
           {
            "colorbar": {
             "outlinewidth": 0,
             "ticks": ""
            },
            "colorscale": [
             [
              0,
              "#0d0887"
             ],
             [
              0.1111111111111111,
              "#46039f"
             ],
             [
              0.2222222222222222,
              "#7201a8"
             ],
             [
              0.3333333333333333,
              "#9c179e"
             ],
             [
              0.4444444444444444,
              "#bd3786"
             ],
             [
              0.5555555555555556,
              "#d8576b"
             ],
             [
              0.6666666666666666,
              "#ed7953"
             ],
             [
              0.7777777777777778,
              "#fb9f3a"
             ],
             [
              0.8888888888888888,
              "#fdca26"
             ],
             [
              1,
              "#f0f921"
             ]
            ],
            "type": "histogram2d"
           }
          ],
          "histogram2dcontour": [
           {
            "colorbar": {
             "outlinewidth": 0,
             "ticks": ""
            },
            "colorscale": [
             [
              0,
              "#0d0887"
             ],
             [
              0.1111111111111111,
              "#46039f"
             ],
             [
              0.2222222222222222,
              "#7201a8"
             ],
             [
              0.3333333333333333,
              "#9c179e"
             ],
             [
              0.4444444444444444,
              "#bd3786"
             ],
             [
              0.5555555555555556,
              "#d8576b"
             ],
             [
              0.6666666666666666,
              "#ed7953"
             ],
             [
              0.7777777777777778,
              "#fb9f3a"
             ],
             [
              0.8888888888888888,
              "#fdca26"
             ],
             [
              1,
              "#f0f921"
             ]
            ],
            "type": "histogram2dcontour"
           }
          ],
          "mesh3d": [
           {
            "colorbar": {
             "outlinewidth": 0,
             "ticks": ""
            },
            "type": "mesh3d"
           }
          ],
          "parcoords": [
           {
            "line": {
             "colorbar": {
              "outlinewidth": 0,
              "ticks": ""
             }
            },
            "type": "parcoords"
           }
          ],
          "pie": [
           {
            "automargin": true,
            "type": "pie"
           }
          ],
          "scatter": [
           {
            "fillpattern": {
             "fillmode": "overlay",
             "size": 10,
             "solidity": 0.2
            },
            "type": "scatter"
           }
          ],
          "scatter3d": [
           {
            "line": {
             "colorbar": {
              "outlinewidth": 0,
              "ticks": ""
             }
            },
            "marker": {
             "colorbar": {
              "outlinewidth": 0,
              "ticks": ""
             }
            },
            "type": "scatter3d"
           }
          ],
          "scattercarpet": [
           {
            "marker": {
             "colorbar": {
              "outlinewidth": 0,
              "ticks": ""
             }
            },
            "type": "scattercarpet"
           }
          ],
          "scattergeo": [
           {
            "marker": {
             "colorbar": {
              "outlinewidth": 0,
              "ticks": ""
             }
            },
            "type": "scattergeo"
           }
          ],
          "scattergl": [
           {
            "marker": {
             "colorbar": {
              "outlinewidth": 0,
              "ticks": ""
             }
            },
            "type": "scattergl"
           }
          ],
          "scattermap": [
           {
            "marker": {
             "colorbar": {
              "outlinewidth": 0,
              "ticks": ""
             }
            },
            "type": "scattermap"
           }
          ],
          "scattermapbox": [
           {
            "marker": {
             "colorbar": {
              "outlinewidth": 0,
              "ticks": ""
             }
            },
            "type": "scattermapbox"
           }
          ],
          "scatterpolar": [
           {
            "marker": {
             "colorbar": {
              "outlinewidth": 0,
              "ticks": ""
             }
            },
            "type": "scatterpolar"
           }
          ],
          "scatterpolargl": [
           {
            "marker": {
             "colorbar": {
              "outlinewidth": 0,
              "ticks": ""
             }
            },
            "type": "scatterpolargl"
           }
          ],
          "scatterternary": [
           {
            "marker": {
             "colorbar": {
              "outlinewidth": 0,
              "ticks": ""
             }
            },
            "type": "scatterternary"
           }
          ],
          "surface": [
           {
            "colorbar": {
             "outlinewidth": 0,
             "ticks": ""
            },
            "colorscale": [
             [
              0,
              "#0d0887"
             ],
             [
              0.1111111111111111,
              "#46039f"
             ],
             [
              0.2222222222222222,
              "#7201a8"
             ],
             [
              0.3333333333333333,
              "#9c179e"
             ],
             [
              0.4444444444444444,
              "#bd3786"
             ],
             [
              0.5555555555555556,
              "#d8576b"
             ],
             [
              0.6666666666666666,
              "#ed7953"
             ],
             [
              0.7777777777777778,
              "#fb9f3a"
             ],
             [
              0.8888888888888888,
              "#fdca26"
             ],
             [
              1,
              "#f0f921"
             ]
            ],
            "type": "surface"
           }
          ],
          "table": [
           {
            "cells": {
             "fill": {
              "color": "#EBF0F8"
             },
             "line": {
              "color": "white"
             }
            },
            "header": {
             "fill": {
              "color": "#C8D4E3"
             },
             "line": {
              "color": "white"
             }
            },
            "type": "table"
           }
          ]
         },
         "layout": {
          "annotationdefaults": {
           "arrowcolor": "#2a3f5f",
           "arrowhead": 0,
           "arrowwidth": 1
          },
          "autotypenumbers": "strict",
          "coloraxis": {
           "colorbar": {
            "outlinewidth": 0,
            "ticks": ""
           }
          },
          "colorscale": {
           "diverging": [
            [
             0,
             "#8e0152"
            ],
            [
             0.1,
             "#c51b7d"
            ],
            [
             0.2,
             "#de77ae"
            ],
            [
             0.3,
             "#f1b6da"
            ],
            [
             0.4,
             "#fde0ef"
            ],
            [
             0.5,
             "#f7f7f7"
            ],
            [
             0.6,
             "#e6f5d0"
            ],
            [
             0.7,
             "#b8e186"
            ],
            [
             0.8,
             "#7fbc41"
            ],
            [
             0.9,
             "#4d9221"
            ],
            [
             1,
             "#276419"
            ]
           ],
           "sequential": [
            [
             0,
             "#0d0887"
            ],
            [
             0.1111111111111111,
             "#46039f"
            ],
            [
             0.2222222222222222,
             "#7201a8"
            ],
            [
             0.3333333333333333,
             "#9c179e"
            ],
            [
             0.4444444444444444,
             "#bd3786"
            ],
            [
             0.5555555555555556,
             "#d8576b"
            ],
            [
             0.6666666666666666,
             "#ed7953"
            ],
            [
             0.7777777777777778,
             "#fb9f3a"
            ],
            [
             0.8888888888888888,
             "#fdca26"
            ],
            [
             1,
             "#f0f921"
            ]
           ],
           "sequentialminus": [
            [
             0,
             "#0d0887"
            ],
            [
             0.1111111111111111,
             "#46039f"
            ],
            [
             0.2222222222222222,
             "#7201a8"
            ],
            [
             0.3333333333333333,
             "#9c179e"
            ],
            [
             0.4444444444444444,
             "#bd3786"
            ],
            [
             0.5555555555555556,
             "#d8576b"
            ],
            [
             0.6666666666666666,
             "#ed7953"
            ],
            [
             0.7777777777777778,
             "#fb9f3a"
            ],
            [
             0.8888888888888888,
             "#fdca26"
            ],
            [
             1,
             "#f0f921"
            ]
           ]
          },
          "colorway": [
           "#636efa",
           "#EF553B",
           "#00cc96",
           "#ab63fa",
           "#FFA15A",
           "#19d3f3",
           "#FF6692",
           "#B6E880",
           "#FF97FF",
           "#FECB52"
          ],
          "font": {
           "size": 15
          },
          "geo": {
           "bgcolor": "white",
           "lakecolor": "white",
           "landcolor": "white",
           "showlakes": true,
           "showland": true,
           "subunitcolor": "#C8D4E3"
          },
          "hoverlabel": {
           "align": "left"
          },
          "hovermode": "closest",
          "mapbox": {
           "style": "light"
          },
          "paper_bgcolor": "white",
          "plot_bgcolor": "white",
          "polar": {
           "angularaxis": {
            "gridcolor": "#EBF0F8",
            "linecolor": "#EBF0F8",
            "ticks": ""
           },
           "bgcolor": "white",
           "radialaxis": {
            "gridcolor": "#EBF0F8",
            "linecolor": "#EBF0F8",
            "ticks": ""
           }
          },
          "scene": {
           "xaxis": {
            "backgroundcolor": "white",
            "gridcolor": "#DFE8F3",
            "gridwidth": 2,
            "linecolor": "#EBF0F8",
            "showbackground": true,
            "ticks": "",
            "zerolinecolor": "#EBF0F8"
           },
           "yaxis": {
            "backgroundcolor": "white",
            "gridcolor": "#DFE8F3",
            "gridwidth": 2,
            "linecolor": "#EBF0F8",
            "showbackground": true,
            "ticks": "",
            "zerolinecolor": "#EBF0F8"
           },
           "zaxis": {
            "backgroundcolor": "white",
            "gridcolor": "#DFE8F3",
            "gridwidth": 2,
            "linecolor": "#EBF0F8",
            "showbackground": true,
            "ticks": "",
            "zerolinecolor": "#EBF0F8"
           }
          },
          "shapedefaults": {
           "line": {
            "color": "#2a3f5f"
           }
          },
          "ternary": {
           "aaxis": {
            "gridcolor": "#DFE8F3",
            "linecolor": "#A2B1C6",
            "ticks": ""
           },
           "baxis": {
            "gridcolor": "#DFE8F3",
            "linecolor": "#A2B1C6",
            "ticks": ""
           },
           "bgcolor": "white",
           "caxis": {
            "gridcolor": "#DFE8F3",
            "linecolor": "#A2B1C6",
            "ticks": ""
           }
          },
          "title": {
           "x": 0.05
          },
          "xaxis": {
           "automargin": true,
           "gridcolor": "#EBF0F8",
           "linecolor": "#EBF0F8",
           "ticks": "",
           "title": {
            "standoff": 15
           },
           "zerolinecolor": "#EBF0F8",
           "zerolinewidth": 2
          },
          "yaxis": {
           "automargin": true,
           "gridcolor": "#EBF0F8",
           "linecolor": "#EBF0F8",
           "ticks": "",
           "title": {
            "standoff": 15
           },
           "zerolinecolor": "#EBF0F8",
           "zerolinewidth": 2
          }
         }
        },
        "title": {
         "text": "Comparaison entre les données de référence et la simulation baseline"
        },
        "xaxis": {
         "anchor": "y",
         "domain": [
          0,
          1
         ],
         "title": {
          "text": "Ligne de Tramway"
         }
        },
        "yaxis": {
         "anchor": "x",
         "domain": [
          0,
          1
         ],
         "title": {
          "text": "sum of Nombre de trajets"
         }
        }
       }
      }
     },
     "metadata": {},
     "output_type": "display_data"
    }
   ],
   "source": [
    "fig_surface_comp.show()"
   ]
  },
  {
   "cell_type": "markdown",
   "metadata": {},
   "source": [
    "Ici on a une vision plus précise du nombre de trajets pour les lignes de tramways."
   ]
  },
  {
   "cell_type": "code",
   "execution_count": 75,
   "metadata": {},
   "outputs": [
    {
     "data": {
      "application/pdf": "[encoded data removed]",
      "application/vnd.plotly.v1+json": {
       "config": {
        "plotlyServerURL": "https://plot.ly"
       },
       "data": [
        {
         "hovertemplate": "Ligne de Tramway=%{x}<br>Différence (%)=%{y}<extra></extra>",
         "legendgroup": "",
         "marker": {
          "color": "#636efa",
          "pattern": {
           "shape": ""
          }
         },
         "name": "",
         "orientation": "v",
         "showlegend": false,
         "textposition": "auto",
         "type": "bar",
         "x": [
          "T1",
          "T2",
          "T3a",
          "T3b",
          "T5",
          "T7",
          "T6",
          "T8",
          "T10"
         ],
         "xaxis": "x",
         "y": {
          "bdata": "hY97JPuvVUBIKvbt8O9BQM4FNyjJBRxA5aeHO2MoNkDuUuIXvxU/wLxF9oLZGTbAzw54j3gzJkBDC4zIhCcywCOW+n8WfEZA",
          "dtype": "f8"
         },
         "yaxis": "y"
        }
       ],
       "layout": {
        "barmode": "relative",
        "legend": {
         "tracegroupgap": 0
        },
        "template": {
         "data": {
          "bar": [
           {
            "error_x": {
             "color": "#2a3f5f"
            },
            "error_y": {
             "color": "#2a3f5f"
            },
            "marker": {
             "line": {
              "color": "white",
              "width": 0.5
             },
             "pattern": {
              "fillmode": "overlay",
              "size": 10,
              "solidity": 0.2
             }
            },
            "type": "bar"
           }
          ],
          "barpolar": [
           {
            "marker": {
             "line": {
              "color": "white",
              "width": 0.5
             },
             "pattern": {
              "fillmode": "overlay",
              "size": 10,
              "solidity": 0.2
             }
            },
            "type": "barpolar"
           }
          ],
          "carpet": [
           {
            "aaxis": {
             "endlinecolor": "#2a3f5f",
             "gridcolor": "#C8D4E3",
             "linecolor": "#C8D4E3",
             "minorgridcolor": "#C8D4E3",
             "startlinecolor": "#2a3f5f"
            },
            "baxis": {
             "endlinecolor": "#2a3f5f",
             "gridcolor": "#C8D4E3",
             "linecolor": "#C8D4E3",
             "minorgridcolor": "#C8D4E3",
             "startlinecolor": "#2a3f5f"
            },
            "type": "carpet"
           }
          ],
          "choropleth": [
           {
            "colorbar": {
             "outlinewidth": 0,
             "ticks": ""
            },
            "type": "choropleth"
           }
          ],
          "contour": [
           {
            "colorbar": {
             "outlinewidth": 0,
             "ticks": ""
            },
            "colorscale": [
             [
              0,
              "#0d0887"
             ],
             [
              0.1111111111111111,
              "#46039f"
             ],
             [
              0.2222222222222222,
              "#7201a8"
             ],
             [
              0.3333333333333333,
              "#9c179e"
             ],
             [
              0.4444444444444444,
              "#bd3786"
             ],
             [
              0.5555555555555556,
              "#d8576b"
             ],
             [
              0.6666666666666666,
              "#ed7953"
             ],
             [
              0.7777777777777778,
              "#fb9f3a"
             ],
             [
              0.8888888888888888,
              "#fdca26"
             ],
             [
              1,
              "#f0f921"
             ]
            ],
            "type": "contour"
           }
          ],
          "contourcarpet": [
           {
            "colorbar": {
             "outlinewidth": 0,
             "ticks": ""
            },
            "type": "contourcarpet"
           }
          ],
          "heatmap": [
           {
            "colorbar": {
             "outlinewidth": 0,
             "ticks": ""
            },
            "colorscale": [
             [
              0,
              "#0d0887"
             ],
             [
              0.1111111111111111,
              "#46039f"
             ],
             [
              0.2222222222222222,
              "#7201a8"
             ],
             [
              0.3333333333333333,
              "#9c179e"
             ],
             [
              0.4444444444444444,
              "#bd3786"
             ],
             [
              0.5555555555555556,
              "#d8576b"
             ],
             [
              0.6666666666666666,
              "#ed7953"
             ],
             [
              0.7777777777777778,
              "#fb9f3a"
             ],
             [
              0.8888888888888888,
              "#fdca26"
             ],
             [
              1,
              "#f0f921"
             ]
            ],
            "type": "heatmap"
           }
          ],
          "histogram": [
           {
            "marker": {
             "pattern": {
              "fillmode": "overlay",
              "size": 10,
              "solidity": 0.2
             }
            },
            "type": "histogram"
           }
          ],
          "histogram2d": [
           {
            "colorbar": {
             "outlinewidth": 0,
             "ticks": ""
            },
            "colorscale": [
             [
              0,
              "#0d0887"
             ],
             [
              0.1111111111111111,
              "#46039f"
             ],
             [
              0.2222222222222222,
              "#7201a8"
             ],
             [
              0.3333333333333333,
              "#9c179e"
             ],
             [
              0.4444444444444444,
              "#bd3786"
             ],
             [
              0.5555555555555556,
              "#d8576b"
             ],
             [
              0.6666666666666666,
              "#ed7953"
             ],
             [
              0.7777777777777778,
              "#fb9f3a"
             ],
             [
              0.8888888888888888,
              "#fdca26"
             ],
             [
              1,
              "#f0f921"
             ]
            ],
            "type": "histogram2d"
           }
          ],
          "histogram2dcontour": [
           {
            "colorbar": {
             "outlinewidth": 0,
             "ticks": ""
            },
            "colorscale": [
             [
              0,
              "#0d0887"
             ],
             [
              0.1111111111111111,
              "#46039f"
             ],
             [
              0.2222222222222222,
              "#7201a8"
             ],
             [
              0.3333333333333333,
              "#9c179e"
             ],
             [
              0.4444444444444444,
              "#bd3786"
             ],
             [
              0.5555555555555556,
              "#d8576b"
             ],
             [
              0.6666666666666666,
              "#ed7953"
             ],
             [
              0.7777777777777778,
              "#fb9f3a"
             ],
             [
              0.8888888888888888,
              "#fdca26"
             ],
             [
              1,
              "#f0f921"
             ]
            ],
            "type": "histogram2dcontour"
           }
          ],
          "mesh3d": [
           {
            "colorbar": {
             "outlinewidth": 0,
             "ticks": ""
            },
            "type": "mesh3d"
           }
          ],
          "parcoords": [
           {
            "line": {
             "colorbar": {
              "outlinewidth": 0,
              "ticks": ""
             }
            },
            "type": "parcoords"
           }
          ],
          "pie": [
           {
            "automargin": true,
            "type": "pie"
           }
          ],
          "scatter": [
           {
            "fillpattern": {
             "fillmode": "overlay",
             "size": 10,
             "solidity": 0.2
            },
            "type": "scatter"
           }
          ],
          "scatter3d": [
           {
            "line": {
             "colorbar": {
              "outlinewidth": 0,
              "ticks": ""
             }
            },
            "marker": {
             "colorbar": {
              "outlinewidth": 0,
              "ticks": ""
             }
            },
            "type": "scatter3d"
           }
          ],
          "scattercarpet": [
           {
            "marker": {
             "colorbar": {
              "outlinewidth": 0,
              "ticks": ""
             }
            },
            "type": "scattercarpet"
           }
          ],
          "scattergeo": [
           {
            "marker": {
             "colorbar": {
              "outlinewidth": 0,
              "ticks": ""
             }
            },
            "type": "scattergeo"
           }
          ],
          "scattergl": [
           {
            "marker": {
             "colorbar": {
              "outlinewidth": 0,
              "ticks": ""
             }
            },
            "type": "scattergl"
           }
          ],
          "scattermap": [
           {
            "marker": {
             "colorbar": {
              "outlinewidth": 0,
              "ticks": ""
             }
            },
            "type": "scattermap"
           }
          ],
          "scattermapbox": [
           {
            "marker": {
             "colorbar": {
              "outlinewidth": 0,
              "ticks": ""
             }
            },
            "type": "scattermapbox"
           }
          ],
          "scatterpolar": [
           {
            "marker": {
             "colorbar": {
              "outlinewidth": 0,
              "ticks": ""
             }
            },
            "type": "scatterpolar"
           }
          ],
          "scatterpolargl": [
           {
            "marker": {
             "colorbar": {
              "outlinewidth": 0,
              "ticks": ""
             }
            },
            "type": "scatterpolargl"
           }
          ],
          "scatterternary": [
           {
            "marker": {
             "colorbar": {
              "outlinewidth": 0,
              "ticks": ""
             }
            },
            "type": "scatterternary"
           }
          ],
          "surface": [
           {
            "colorbar": {
             "outlinewidth": 0,
             "ticks": ""
            },
            "colorscale": [
             [
              0,
              "#0d0887"
             ],
             [
              0.1111111111111111,
              "#46039f"
             ],
             [
              0.2222222222222222,
              "#7201a8"
             ],
             [
              0.3333333333333333,
              "#9c179e"
             ],
             [
              0.4444444444444444,
              "#bd3786"
             ],
             [
              0.5555555555555556,
              "#d8576b"
             ],
             [
              0.6666666666666666,
              "#ed7953"
             ],
             [
              0.7777777777777778,
              "#fb9f3a"
             ],
             [
              0.8888888888888888,
              "#fdca26"
             ],
             [
              1,
              "#f0f921"
             ]
            ],
            "type": "surface"
           }
          ],
          "table": [
           {
            "cells": {
             "fill": {
              "color": "#EBF0F8"
             },
             "line": {
              "color": "white"
             }
            },
            "header": {
             "fill": {
              "color": "#C8D4E3"
             },
             "line": {
              "color": "white"
             }
            },
            "type": "table"
           }
          ]
         },
         "layout": {
          "annotationdefaults": {
           "arrowcolor": "#2a3f5f",
           "arrowhead": 0,
           "arrowwidth": 1
          },
          "autotypenumbers": "strict",
          "coloraxis": {
           "colorbar": {
            "outlinewidth": 0,
            "ticks": ""
           }
          },
          "colorscale": {
           "diverging": [
            [
             0,
             "#8e0152"
            ],
            [
             0.1,
             "#c51b7d"
            ],
            [
             0.2,
             "#de77ae"
            ],
            [
             0.3,
             "#f1b6da"
            ],
            [
             0.4,
             "#fde0ef"
            ],
            [
             0.5,
             "#f7f7f7"
            ],
            [
             0.6,
             "#e6f5d0"
            ],
            [
             0.7,
             "#b8e186"
            ],
            [
             0.8,
             "#7fbc41"
            ],
            [
             0.9,
             "#4d9221"
            ],
            [
             1,
             "#276419"
            ]
           ],
           "sequential": [
            [
             0,
             "#0d0887"
            ],
            [
             0.1111111111111111,
             "#46039f"
            ],
            [
             0.2222222222222222,
             "#7201a8"
            ],
            [
             0.3333333333333333,
             "#9c179e"
            ],
            [
             0.4444444444444444,
             "#bd3786"
            ],
            [
             0.5555555555555556,
             "#d8576b"
            ],
            [
             0.6666666666666666,
             "#ed7953"
            ],
            [
             0.7777777777777778,
             "#fb9f3a"
            ],
            [
             0.8888888888888888,
             "#fdca26"
            ],
            [
             1,
             "#f0f921"
            ]
           ],
           "sequentialminus": [
            [
             0,
             "#0d0887"
            ],
            [
             0.1111111111111111,
             "#46039f"
            ],
            [
             0.2222222222222222,
             "#7201a8"
            ],
            [
             0.3333333333333333,
             "#9c179e"
            ],
            [
             0.4444444444444444,
             "#bd3786"
            ],
            [
             0.5555555555555556,
             "#d8576b"
            ],
            [
             0.6666666666666666,
             "#ed7953"
            ],
            [
             0.7777777777777778,
             "#fb9f3a"
            ],
            [
             0.8888888888888888,
             "#fdca26"
            ],
            [
             1,
             "#f0f921"
            ]
           ]
          },
          "colorway": [
           "#636efa",
           "#EF553B",
           "#00cc96",
           "#ab63fa",
           "#FFA15A",
           "#19d3f3",
           "#FF6692",
           "#B6E880",
           "#FF97FF",
           "#FECB52"
          ],
          "font": {
           "size": 15
          },
          "geo": {
           "bgcolor": "white",
           "lakecolor": "white",
           "landcolor": "white",
           "showlakes": true,
           "showland": true,
           "subunitcolor": "#C8D4E3"
          },
          "hoverlabel": {
           "align": "left"
          },
          "hovermode": "closest",
          "mapbox": {
           "style": "light"
          },
          "paper_bgcolor": "white",
          "plot_bgcolor": "white",
          "polar": {
           "angularaxis": {
            "gridcolor": "#EBF0F8",
            "linecolor": "#EBF0F8",
            "ticks": ""
           },
           "bgcolor": "white",
           "radialaxis": {
            "gridcolor": "#EBF0F8",
            "linecolor": "#EBF0F8",
            "ticks": ""
           }
          },
          "scene": {
           "xaxis": {
            "backgroundcolor": "white",
            "gridcolor": "#DFE8F3",
            "gridwidth": 2,
            "linecolor": "#EBF0F8",
            "showbackground": true,
            "ticks": "",
            "zerolinecolor": "#EBF0F8"
           },
           "yaxis": {
            "backgroundcolor": "white",
            "gridcolor": "#DFE8F3",
            "gridwidth": 2,
            "linecolor": "#EBF0F8",
            "showbackground": true,
            "ticks": "",
            "zerolinecolor": "#EBF0F8"
           },
           "zaxis": {
            "backgroundcolor": "white",
            "gridcolor": "#DFE8F3",
            "gridwidth": 2,
            "linecolor": "#EBF0F8",
            "showbackground": true,
            "ticks": "",
            "zerolinecolor": "#EBF0F8"
           }
          },
          "shapedefaults": {
           "line": {
            "color": "#2a3f5f"
           }
          },
          "ternary": {
           "aaxis": {
            "gridcolor": "#DFE8F3",
            "linecolor": "#A2B1C6",
            "ticks": ""
           },
           "baxis": {
            "gridcolor": "#DFE8F3",
            "linecolor": "#A2B1C6",
            "ticks": ""
           },
           "bgcolor": "white",
           "caxis": {
            "gridcolor": "#DFE8F3",
            "linecolor": "#A2B1C6",
            "ticks": ""
           }
          },
          "title": {
           "x": 0.05
          },
          "xaxis": {
           "automargin": true,
           "gridcolor": "#EBF0F8",
           "linecolor": "#EBF0F8",
           "ticks": "",
           "title": {
            "standoff": 15
           },
           "zerolinecolor": "#EBF0F8",
           "zerolinewidth": 2
          },
          "yaxis": {
           "automargin": true,
           "gridcolor": "#EBF0F8",
           "linecolor": "#EBF0F8",
           "ticks": "",
           "title": {
            "standoff": 15
           },
           "zerolinecolor": "#EBF0F8",
           "zerolinewidth": 2
          }
         }
        },
        "title": {
         "text": "Différence (en %) entre les données de référence et la simulation baseline"
        },
        "xaxis": {
         "anchor": "y",
         "domain": [
          0,
          1
         ],
         "title": {
          "text": "Ligne de Tramway"
         }
        },
        "yaxis": {
         "anchor": "x",
         "domain": [
          0,
          1
         ],
         "title": {
          "text": "Différence (%)"
         }
        }
       }
      }
     },
     "metadata": {},
     "output_type": "display_data"
    }
   ],
   "source": [
    "fig_surface_diff.show()"
   ]
  },
  {
   "cell_type": "code",
   "execution_count": null,
   "metadata": {},
   "outputs": [
    {
     "name": "stderr",
     "output_type": "stream",
     "text": [
      "[NbConvertApp] Converting notebook validation_baseline.ipynb to pdf\n",
      "[NbConvertApp] Support files will be in validation_baseline_files\\\n",
      "[NbConvertApp] Making directory .\\validation_baseline_files\n",
      "[NbConvertApp] Writing 26413 bytes to notebook.tex\n",
      "[NbConvertApp] Building PDF\n",
      "[NbConvertApp] Running xelatex 3 times: ['xelatex', 'notebook.tex', '-quiet']\n",
      "[NbConvertApp] Running bibtex 1 time: ['bibtex', 'notebook']\n",
      "[NbConvertApp] WARNING | b had problems, most likely because there were no citations\n",
      "[NbConvertApp] PDF successfully created\n",
      "[NbConvertApp] Writing 174325 bytes to validation_baseline.pdf\n"
     ]
    }
   ],
   "source": [
    "#!jupyter nbconvert --to pdf --no-input validation_baseline.ipynb"
   ]
  },
  {
   "cell_type": "code",
   "execution_count": null,
   "metadata": {},
   "outputs": [],
   "source": []
  }
 ],
 "metadata": {
  "kernelspec": {
   "display_name": "Python 3",
   "language": "python",
   "name": "python3"
  },
  "language_info": {
   "codemirror_mode": {
    "name": "ipython",
    "version": 3
   },
   "file_extension": ".py",
   "mimetype": "text/x-python",
   "name": "python",
   "nbconvert_exporter": "python",
   "pygments_lexer": "ipython3",
   "version": "3.11.9"
  }
 },
 "nbformat": 4,
 "nbformat_minor": 2
}
