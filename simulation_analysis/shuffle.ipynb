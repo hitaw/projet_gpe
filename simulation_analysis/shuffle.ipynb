{
 "cells": [
  {
   "cell_type": "code",
   "execution_count": 88,
   "id": "fe6763b1",
   "metadata": {},
   "outputs": [],
   "source": [
    "# import\n",
    "\n",
    "import pandas as pd\n",
    "import plotly.express as px\n",
    "import pyproj\n",
    "import plotly.graph_objects as go\n",
    "from itertools import product\n",
    "from collections import defaultdict\n",
    "\n",
    "import plotly.io as pio\n",
    "pio.renderers.default=\"vscode+pdf\"\n",
    "# pio.templates[\"custom\"] = pio.templates[\"plotly_white\"]\n",
    "# pio.templates[\"custom\"][\"layout\"][\"font\"] = {\"size\": 15}\n",
    "# pio.templates.default = \"custom\""
   ]
  },
  {
   "cell_type": "code",
   "execution_count": 89,
   "id": "1898b8bf",
   "metadata": {},
   "outputs": [],
   "source": [
    "# Load des données\n",
    "\n",
    "baseline_legs = pd.read_csv(\"gpe_output/navette/eqasim_legs.csv\", sep=\";\")\n",
    "baseline_pt = pd.read_csv(\"gpe_output/navette/eqasim_pt.csv\", sep=\";\")\n",
    "baseline_trips = pd.read_csv(\"gpe_output/navette/eqasim_trips.csv\", sep=\";\")\n",
    "baseline_trips = baseline_trips[baseline_trips[\"mode\"]==\"pt\"]\n",
    "\n",
    "gpe_legs = pd.read_csv(\"gpe_output/with_shuttle/eqasim_legs.csv\", sep=\";\")\n",
    "gpe_pt = pd.read_csv(\"gpe_output/with_shuttle/eqasim_pt.csv\", sep=\";\")\n",
    "gpe_trips = pd.read_csv(\"gpe_output/with_shuttle/eqasim_trips.csv\", sep=\";\")\n",
    "gpe_trips = gpe_trips[gpe_trips[\"mode\"]==\"pt\"]\n",
    "\n",
    "routes = pd.read_csv(\"../implementation_gtfs/GTFS_versions/GTFS_completed/routes.txt\")"
   ]
  },
  {
   "cell_type": "code",
   "execution_count": 90,
   "id": "3ab2f779",
   "metadata": {},
   "outputs": [
    {
     "name": "stdout",
     "output_type": "stream",
     "text": [
      "Différences détectées : 895\n",
      "Cela représente 0.37%\n"
     ]
    }
   ],
   "source": [
    "# On vérifie que l'on compare bien les mêmes trajets\n",
    "\n",
    "same_col = [\"person_id\", \"person_trip_id\", \"origin_x\", \"origin_y\", \"destination_x\", \"destination_y\", \"departure_time\", \"travel_time\"]\n",
    "\n",
    "merged_data = baseline_trips[same_col].merge(\n",
    "    gpe_trips[same_col],\n",
    "    on=[\"person_id\",\"person_trip_id\"],\n",
    "    suffixes=(\"_baseline\", \"_gpe\"),\n",
    "    how=\"outer\" \n",
    ")\n",
    "\n",
    "for col in [\"origin_x\", \"origin_y\", \"destination_x\", \"destination_y\", \"departure_time\"]:\n",
    "    col_base = f\"{col}_baseline\"\n",
    "    col_gpe = f\"{col}_gpe\"\n",
    "    merged_data[f\"{col}_match\"] = merged_data[col_base] == merged_data[col_gpe]\n",
    "\n",
    "diff_rows = merged_data.loc[~merged_data[[c for c in merged_data.columns if c.endswith(\"_match\")]].all(axis=1)]\n",
    "\n",
    "print(\"Différences détectées :\", len(diff_rows))\n",
    "print(f\"Cela représente {(len(diff_rows)/len(merged_data)*100):.2f}%\")\n"
   ]
  },
  {
   "cell_type": "code",
   "execution_count": 91,
   "id": "db302651",
   "metadata": {},
   "outputs": [
    {
     "data": {
      "application/pdf": "[encoded data removed]",
      "application/vnd.plotly.v1+json": {
       "config": {
        "plotlyServerURL": "https://plot.ly"
       },
       "data": [
        {
         "customdata": [
          [
           "Pas de changement"
          ],
          [
           "Gain de temps"
          ],
          [
           "Perte de temps"
          ]
         ],
         "domain": {
          "x": [
           0,
           1
          ],
          "y": [
           0,
           1
          ]
         },
         "hovertemplate": "Type de changement=%{customdata[0]}<br>Nombre de trajets=%{value}<extra></extra>",
         "labels": [
          "Pas de changement",
          "Gain de temps",
          "Perte de temps"
         ],
         "legendgroup": "",
         "marker": {
          "colors": [
           "#636EFA",
           "#00CC96",
           "#EF553B"
          ]
         },
         "name": "",
         "showlegend": true,
         "textinfo": "percent+label",
         "textposition": "inside",
         "type": "pie",
         "values": {
          "bdata": "HqEDAAAAAACJAwAA",
          "dtype": "i4"
         }
        }
       ],
       "layout": {
        "legend": {
         "tracegroupgap": 0
        },
        "template": {
         "data": {
          "bar": [
           {
            "error_x": {
             "color": "#2a3f5f"
            },
            "error_y": {
             "color": "#2a3f5f"
            },
            "marker": {
             "line": {
              "color": "#E5ECF6",
              "width": 0.5
             },
             "pattern": {
              "fillmode": "overlay",
              "size": 10,
              "solidity": 0.2
             }
            },
            "type": "bar"
           }
          ],
          "barpolar": [
           {
            "marker": {
             "line": {
              "color": "#E5ECF6",
              "width": 0.5
             },
             "pattern": {
              "fillmode": "overlay",
              "size": 10,
              "solidity": 0.2
             }
            },
            "type": "barpolar"
           }
          ],
          "carpet": [
           {
            "aaxis": {
             "endlinecolor": "#2a3f5f",
             "gridcolor": "white",
             "linecolor": "white",
             "minorgridcolor": "white",
             "startlinecolor": "#2a3f5f"
            },
            "baxis": {
             "endlinecolor": "#2a3f5f",
             "gridcolor": "white",
             "linecolor": "white",
             "minorgridcolor": "white",
             "startlinecolor": "#2a3f5f"
            },
            "type": "carpet"
           }
          ],
          "choropleth": [
           {
            "colorbar": {
             "outlinewidth": 0,
             "ticks": ""
            },
            "type": "choropleth"
           }
          ],
          "contour": [
           {
            "colorbar": {
             "outlinewidth": 0,
             "ticks": ""
            },
            "colorscale": [
             [
              0,
              "#0d0887"
             ],
             [
              0.1111111111111111,
              "#46039f"
             ],
             [
              0.2222222222222222,
              "#7201a8"
             ],
             [
              0.3333333333333333,
              "#9c179e"
             ],
             [
              0.4444444444444444,
              "#bd3786"
             ],
             [
              0.5555555555555556,
              "#d8576b"
             ],
             [
              0.6666666666666666,
              "#ed7953"
             ],
             [
              0.7777777777777778,
              "#fb9f3a"
             ],
             [
              0.8888888888888888,
              "#fdca26"
             ],
             [
              1,
              "#f0f921"
             ]
            ],
            "type": "contour"
           }
          ],
          "contourcarpet": [
           {
            "colorbar": {
             "outlinewidth": 0,
             "ticks": ""
            },
            "type": "contourcarpet"
           }
          ],
          "heatmap": [
           {
            "colorbar": {
             "outlinewidth": 0,
             "ticks": ""
            },
            "colorscale": [
             [
              0,
              "#0d0887"
             ],
             [
              0.1111111111111111,
              "#46039f"
             ],
             [
              0.2222222222222222,
              "#7201a8"
             ],
             [
              0.3333333333333333,
              "#9c179e"
             ],
             [
              0.4444444444444444,
              "#bd3786"
             ],
             [
              0.5555555555555556,
              "#d8576b"
             ],
             [
              0.6666666666666666,
              "#ed7953"
             ],
             [
              0.7777777777777778,
              "#fb9f3a"
             ],
             [
              0.8888888888888888,
              "#fdca26"
             ],
             [
              1,
              "#f0f921"
             ]
            ],
            "type": "heatmap"
           }
          ],
          "histogram": [
           {
            "marker": {
             "pattern": {
              "fillmode": "overlay",
              "size": 10,
              "solidity": 0.2
             }
            },
            "type": "histogram"
           }
          ],
          "histogram2d": [
           {
            "colorbar": {
             "outlinewidth": 0,
             "ticks": ""
            },
            "colorscale": [
             [
              0,
              "#0d0887"
             ],
             [
              0.1111111111111111,
              "#46039f"
             ],
             [
              0.2222222222222222,
              "#7201a8"
             ],
             [
              0.3333333333333333,
              "#9c179e"
             ],
             [
              0.4444444444444444,
              "#bd3786"
             ],
             [
              0.5555555555555556,
              "#d8576b"
             ],
             [
              0.6666666666666666,
              "#ed7953"
             ],
             [
              0.7777777777777778,
              "#fb9f3a"
             ],
             [
              0.8888888888888888,
              "#fdca26"
             ],
             [
              1,
              "#f0f921"
             ]
            ],
            "type": "histogram2d"
           }
          ],
          "histogram2dcontour": [
           {
            "colorbar": {
             "outlinewidth": 0,
             "ticks": ""
            },
            "colorscale": [
             [
              0,
              "#0d0887"
             ],
             [
              0.1111111111111111,
              "#46039f"
             ],
             [
              0.2222222222222222,
              "#7201a8"
             ],
             [
              0.3333333333333333,
              "#9c179e"
             ],
             [
              0.4444444444444444,
              "#bd3786"
             ],
             [
              0.5555555555555556,
              "#d8576b"
             ],
             [
              0.6666666666666666,
              "#ed7953"
             ],
             [
              0.7777777777777778,
              "#fb9f3a"
             ],
             [
              0.8888888888888888,
              "#fdca26"
             ],
             [
              1,
              "#f0f921"
             ]
            ],
            "type": "histogram2dcontour"
           }
          ],
          "mesh3d": [
           {
            "colorbar": {
             "outlinewidth": 0,
             "ticks": ""
            },
            "type": "mesh3d"
           }
          ],
          "parcoords": [
           {
            "line": {
             "colorbar": {
              "outlinewidth": 0,
              "ticks": ""
             }
            },
            "type": "parcoords"
           }
          ],
          "pie": [
           {
            "automargin": true,
            "type": "pie"
           }
          ],
          "scatter": [
           {
            "fillpattern": {
             "fillmode": "overlay",
             "size": 10,
             "solidity": 0.2
            },
            "type": "scatter"
           }
          ],
          "scatter3d": [
           {
            "line": {
             "colorbar": {
              "outlinewidth": 0,
              "ticks": ""
             }
            },
            "marker": {
             "colorbar": {
              "outlinewidth": 0,
              "ticks": ""
             }
            },
            "type": "scatter3d"
           }
          ],
          "scattercarpet": [
           {
            "marker": {
             "colorbar": {
              "outlinewidth": 0,
              "ticks": ""
             }
            },
            "type": "scattercarpet"
           }
          ],
          "scattergeo": [
           {
            "marker": {
             "colorbar": {
              "outlinewidth": 0,
              "ticks": ""
             }
            },
            "type": "scattergeo"
           }
          ],
          "scattergl": [
           {
            "marker": {
             "colorbar": {
              "outlinewidth": 0,
              "ticks": ""
             }
            },
            "type": "scattergl"
           }
          ],
          "scattermap": [
           {
            "marker": {
             "colorbar": {
              "outlinewidth": 0,
              "ticks": ""
             }
            },
            "type": "scattermap"
           }
          ],
          "scattermapbox": [
           {
            "marker": {
             "colorbar": {
              "outlinewidth": 0,
              "ticks": ""
             }
            },
            "type": "scattermapbox"
           }
          ],
          "scatterpolar": [
           {
            "marker": {
             "colorbar": {
              "outlinewidth": 0,
              "ticks": ""
             }
            },
            "type": "scatterpolar"
           }
          ],
          "scatterpolargl": [
           {
            "marker": {
             "colorbar": {
              "outlinewidth": 0,
              "ticks": ""
             }
            },
            "type": "scatterpolargl"
           }
          ],
          "scatterternary": [
           {
            "marker": {
             "colorbar": {
              "outlinewidth": 0,
              "ticks": ""
             }
            },
            "type": "scatterternary"
           }
          ],
          "surface": [
           {
            "colorbar": {
             "outlinewidth": 0,
             "ticks": ""
            },
            "colorscale": [
             [
              0,
              "#0d0887"
             ],
             [
              0.1111111111111111,
              "#46039f"
             ],
             [
              0.2222222222222222,
              "#7201a8"
             ],
             [
              0.3333333333333333,
              "#9c179e"
             ],
             [
              0.4444444444444444,
              "#bd3786"
             ],
             [
              0.5555555555555556,
              "#d8576b"
             ],
             [
              0.6666666666666666,
              "#ed7953"
             ],
             [
              0.7777777777777778,
              "#fb9f3a"
             ],
             [
              0.8888888888888888,
              "#fdca26"
             ],
             [
              1,
              "#f0f921"
             ]
            ],
            "type": "surface"
           }
          ],
          "table": [
           {
            "cells": {
             "fill": {
              "color": "#EBF0F8"
             },
             "line": {
              "color": "white"
             }
            },
            "header": {
             "fill": {
              "color": "#C8D4E3"
             },
             "line": {
              "color": "white"
             }
            },
            "type": "table"
           }
          ]
         },
         "layout": {
          "annotationdefaults": {
           "arrowcolor": "#2a3f5f",
           "arrowhead": 0,
           "arrowwidth": 1
          },
          "autotypenumbers": "strict",
          "coloraxis": {
           "colorbar": {
            "outlinewidth": 0,
            "ticks": ""
           }
          },
          "colorscale": {
           "diverging": [
            [
             0,
             "#8e0152"
            ],
            [
             0.1,
             "#c51b7d"
            ],
            [
             0.2,
             "#de77ae"
            ],
            [
             0.3,
             "#f1b6da"
            ],
            [
             0.4,
             "#fde0ef"
            ],
            [
             0.5,
             "#f7f7f7"
            ],
            [
             0.6,
             "#e6f5d0"
            ],
            [
             0.7,
             "#b8e186"
            ],
            [
             0.8,
             "#7fbc41"
            ],
            [
             0.9,
             "#4d9221"
            ],
            [
             1,
             "#276419"
            ]
           ],
           "sequential": [
            [
             0,
             "#0d0887"
            ],
            [
             0.1111111111111111,
             "#46039f"
            ],
            [
             0.2222222222222222,
             "#7201a8"
            ],
            [
             0.3333333333333333,
             "#9c179e"
            ],
            [
             0.4444444444444444,
             "#bd3786"
            ],
            [
             0.5555555555555556,
             "#d8576b"
            ],
            [
             0.6666666666666666,
             "#ed7953"
            ],
            [
             0.7777777777777778,
             "#fb9f3a"
            ],
            [
             0.8888888888888888,
             "#fdca26"
            ],
            [
             1,
             "#f0f921"
            ]
           ],
           "sequentialminus": [
            [
             0,
             "#0d0887"
            ],
            [
             0.1111111111111111,
             "#46039f"
            ],
            [
             0.2222222222222222,
             "#7201a8"
            ],
            [
             0.3333333333333333,
             "#9c179e"
            ],
            [
             0.4444444444444444,
             "#bd3786"
            ],
            [
             0.5555555555555556,
             "#d8576b"
            ],
            [
             0.6666666666666666,
             "#ed7953"
            ],
            [
             0.7777777777777778,
             "#fb9f3a"
            ],
            [
             0.8888888888888888,
             "#fdca26"
            ],
            [
             1,
             "#f0f921"
            ]
           ]
          },
          "colorway": [
           "#636efa",
           "#EF553B",
           "#00cc96",
           "#ab63fa",
           "#FFA15A",
           "#19d3f3",
           "#FF6692",
           "#B6E880",
           "#FF97FF",
           "#FECB52"
          ],
          "font": {
           "color": "#2a3f5f"
          },
          "geo": {
           "bgcolor": "white",
           "lakecolor": "white",
           "landcolor": "#E5ECF6",
           "showlakes": true,
           "showland": true,
           "subunitcolor": "white"
          },
          "hoverlabel": {
           "align": "left"
          },
          "hovermode": "closest",
          "mapbox": {
           "style": "light"
          },
          "paper_bgcolor": "white",
          "plot_bgcolor": "#E5ECF6",
          "polar": {
           "angularaxis": {
            "gridcolor": "white",
            "linecolor": "white",
            "ticks": ""
           },
           "bgcolor": "#E5ECF6",
           "radialaxis": {
            "gridcolor": "white",
            "linecolor": "white",
            "ticks": ""
           }
          },
          "scene": {
           "xaxis": {
            "backgroundcolor": "#E5ECF6",
            "gridcolor": "white",
            "gridwidth": 2,
            "linecolor": "white",
            "showbackground": true,
            "ticks": "",
            "zerolinecolor": "white"
           },
           "yaxis": {
            "backgroundcolor": "#E5ECF6",
            "gridcolor": "white",
            "gridwidth": 2,
            "linecolor": "white",
            "showbackground": true,
            "ticks": "",
            "zerolinecolor": "white"
           },
           "zaxis": {
            "backgroundcolor": "#E5ECF6",
            "gridcolor": "white",
            "gridwidth": 2,
            "linecolor": "white",
            "showbackground": true,
            "ticks": "",
            "zerolinecolor": "white"
           }
          },
          "shapedefaults": {
           "line": {
            "color": "#2a3f5f"
           }
          },
          "ternary": {
           "aaxis": {
            "gridcolor": "white",
            "linecolor": "white",
            "ticks": ""
           },
           "baxis": {
            "gridcolor": "white",
            "linecolor": "white",
            "ticks": ""
           },
           "bgcolor": "#E5ECF6",
           "caxis": {
            "gridcolor": "white",
            "linecolor": "white",
            "ticks": ""
           }
          },
          "title": {
           "x": 0.05
          },
          "xaxis": {
           "automargin": true,
           "gridcolor": "white",
           "linecolor": "white",
           "ticks": "",
           "title": {
            "standoff": 15
           },
           "zerolinecolor": "white",
           "zerolinewidth": 2
          },
          "yaxis": {
           "automargin": true,
           "gridcolor": "white",
           "linecolor": "white",
           "ticks": "",
           "title": {
            "standoff": 15
           },
           "zerolinecolor": "white",
           "zerolinewidth": 2
          }
         }
        },
        "title": {
         "text": "Répartition des gains et pertes de temps"
        }
       }
      }
     },
     "metadata": {},
     "output_type": "display_data"
    }
   ],
   "source": [
    "merged_data = merged_data.loc[merged_data[[c for c in merged_data.columns if c.endswith(\"_match\")]].all(axis=1)]\n",
    "merged_data[\"travel_time_diff\"] = merged_data[\"travel_time_baseline\"] - merged_data[\"travel_time_gpe\"]\n",
    "merged_data.loc[:,'travel_time_diff_percent'] = ((merged_data['travel_time_diff']) / merged_data['travel_time_baseline']) * 100\n",
    "\n",
    "labels = ['Pas de changement', 'Gain de temps', 'Perte de temps']\n",
    "counts = [\n",
    "    len(merged_data[merged_data.travel_time_diff == 0]),\n",
    "    len(merged_data[merged_data.travel_time_diff > 0]),\n",
    "    len(merged_data[merged_data.travel_time_diff < 0])\n",
    "]\n",
    "\n",
    "df_pie = pd.DataFrame({\n",
    "    \"Type de changement\": labels,\n",
    "    \"Nombre de trajets\": counts\n",
    "})\n",
    "\n",
    "fig = px.pie(\n",
    "    df_pie,\n",
    "    names=\"Type de changement\",\n",
    "    values=\"Nombre de trajets\",\n",
    "    title=\"Répartition des gains et pertes de temps\",\n",
    "    color=\"Type de changement\",\n",
    "    color_discrete_map={\n",
    "        \"Pas de changement\": \"#636EFA\",\n",
    "        \"Gain de temps\": \"#00CC96\",\n",
    "        \"Perte de temps\": \"#EF553B\"\n",
    "    },\n",
    ")\n",
    "\n",
    "fig.update_traces(textposition='inside', textinfo='percent+label')\n",
    "fig.show()"
   ]
  },
  {
   "cell_type": "code",
   "execution_count": 92,
   "id": "0cb8fc3a",
   "metadata": {},
   "outputs": [
    {
     "data": {
      "text/html": [
       "<div>\n",
       "<style scoped>\n",
       "    .dataframe tbody tr th:only-of-type {\n",
       "        vertical-align: middle;\n",
       "    }\n",
       "\n",
       "    .dataframe tbody tr th {\n",
       "        vertical-align: top;\n",
       "    }\n",
       "\n",
       "    .dataframe thead th {\n",
       "        text-align: right;\n",
       "    }\n",
       "</style>\n",
       "<table border=\"1\" class=\"dataframe\">\n",
       "  <thead>\n",
       "    <tr style=\"text-align: right;\">\n",
       "      <th></th>\n",
       "      <th>travel_time_diff</th>\n",
       "      <th>travel_time_diff_percent</th>\n",
       "    </tr>\n",
       "  </thead>\n",
       "  <tbody>\n",
       "    <tr>\n",
       "      <th>count</th>\n",
       "      <td>0.0</td>\n",
       "      <td>0.0</td>\n",
       "    </tr>\n",
       "    <tr>\n",
       "      <th>mean</th>\n",
       "      <td>NaN</td>\n",
       "      <td>NaN</td>\n",
       "    </tr>\n",
       "    <tr>\n",
       "      <th>std</th>\n",
       "      <td>NaN</td>\n",
       "      <td>NaN</td>\n",
       "    </tr>\n",
       "    <tr>\n",
       "      <th>min</th>\n",
       "      <td>NaN</td>\n",
       "      <td>NaN</td>\n",
       "    </tr>\n",
       "    <tr>\n",
       "      <th>25%</th>\n",
       "      <td>NaN</td>\n",
       "      <td>NaN</td>\n",
       "    </tr>\n",
       "    <tr>\n",
       "      <th>50%</th>\n",
       "      <td>NaN</td>\n",
       "      <td>NaN</td>\n",
       "    </tr>\n",
       "    <tr>\n",
       "      <th>75%</th>\n",
       "      <td>NaN</td>\n",
       "      <td>NaN</td>\n",
       "    </tr>\n",
       "    <tr>\n",
       "      <th>max</th>\n",
       "      <td>NaN</td>\n",
       "      <td>NaN</td>\n",
       "    </tr>\n",
       "  </tbody>\n",
       "</table>\n",
       "</div>"
      ],
      "text/plain": [
       "       travel_time_diff  travel_time_diff_percent\n",
       "count               0.0                       0.0\n",
       "mean                NaN                       NaN\n",
       "std                 NaN                       NaN\n",
       "min                 NaN                       NaN\n",
       "25%                 NaN                       NaN\n",
       "50%                 NaN                       NaN\n",
       "75%                 NaN                       NaN\n",
       "max                 NaN                       NaN"
      ]
     },
     "execution_count": 92,
     "metadata": {},
     "output_type": "execute_result"
    }
   ],
   "source": [
    "positif = merged_data[merged_data.travel_time_diff > 0]\n",
    "\n",
    "positif[[\"travel_time_diff\", \"travel_time_diff_percent\"]].describe()"
   ]
  },
  {
   "cell_type": "code",
   "execution_count": 94,
   "id": "958ffc04",
   "metadata": {},
   "outputs": [
    {
     "data": {
      "application/pdf": "[encoded data removed]",
      "application/vnd.plotly.v1+json": {
       "config": {
        "plotlyServerURL": "https://plot.ly"
       },
       "data": [],
       "layout": {
        "barmode": "relative",
        "legend": {
         "tracegroupgap": 0
        },
        "template": {
         "data": {
          "bar": [
           {
            "error_x": {
             "color": "#2a3f5f"
            },
            "error_y": {
             "color": "#2a3f5f"
            },
            "marker": {
             "line": {
              "color": "#E5ECF6",
              "width": 0.5
             },
             "pattern": {
              "fillmode": "overlay",
              "size": 10,
              "solidity": 0.2
             }
            },
            "type": "bar"
           }
          ],
          "barpolar": [
           {
            "marker": {
             "line": {
              "color": "#E5ECF6",
              "width": 0.5
             },
             "pattern": {
              "fillmode": "overlay",
              "size": 10,
              "solidity": 0.2
             }
            },
            "type": "barpolar"
           }
          ],
          "carpet": [
           {
            "aaxis": {
             "endlinecolor": "#2a3f5f",
             "gridcolor": "white",
             "linecolor": "white",
             "minorgridcolor": "white",
             "startlinecolor": "#2a3f5f"
            },
            "baxis": {
             "endlinecolor": "#2a3f5f",
             "gridcolor": "white",
             "linecolor": "white",
             "minorgridcolor": "white",
             "startlinecolor": "#2a3f5f"
            },
            "type": "carpet"
           }
          ],
          "choropleth": [
           {
            "colorbar": {
             "outlinewidth": 0,
             "ticks": ""
            },
            "type": "choropleth"
           }
          ],
          "contour": [
           {
            "colorbar": {
             "outlinewidth": 0,
             "ticks": ""
            },
            "colorscale": [
             [
              0,
              "#0d0887"
             ],
             [
              0.1111111111111111,
              "#46039f"
             ],
             [
              0.2222222222222222,
              "#7201a8"
             ],
             [
              0.3333333333333333,
              "#9c179e"
             ],
             [
              0.4444444444444444,
              "#bd3786"
             ],
             [
              0.5555555555555556,
              "#d8576b"
             ],
             [
              0.6666666666666666,
              "#ed7953"
             ],
             [
              0.7777777777777778,
              "#fb9f3a"
             ],
             [
              0.8888888888888888,
              "#fdca26"
             ],
             [
              1,
              "#f0f921"
             ]
            ],
            "type": "contour"
           }
          ],
          "contourcarpet": [
           {
            "colorbar": {
             "outlinewidth": 0,
             "ticks": ""
            },
            "type": "contourcarpet"
           }
          ],
          "heatmap": [
           {
            "colorbar": {
             "outlinewidth": 0,
             "ticks": ""
            },
            "colorscale": [
             [
              0,
              "#0d0887"
             ],
             [
              0.1111111111111111,
              "#46039f"
             ],
             [
              0.2222222222222222,
              "#7201a8"
             ],
             [
              0.3333333333333333,
              "#9c179e"
             ],
             [
              0.4444444444444444,
              "#bd3786"
             ],
             [
              0.5555555555555556,
              "#d8576b"
             ],
             [
              0.6666666666666666,
              "#ed7953"
             ],
             [
              0.7777777777777778,
              "#fb9f3a"
             ],
             [
              0.8888888888888888,
              "#fdca26"
             ],
             [
              1,
              "#f0f921"
             ]
            ],
            "type": "heatmap"
           }
          ],
          "histogram": [
           {
            "marker": {
             "pattern": {
              "fillmode": "overlay",
              "size": 10,
              "solidity": 0.2
             }
            },
            "type": "histogram"
           }
          ],
          "histogram2d": [
           {
            "colorbar": {
             "outlinewidth": 0,
             "ticks": ""
            },
            "colorscale": [
             [
              0,
              "#0d0887"
             ],
             [
              0.1111111111111111,
              "#46039f"
             ],
             [
              0.2222222222222222,
              "#7201a8"
             ],
             [
              0.3333333333333333,
              "#9c179e"
             ],
             [
              0.4444444444444444,
              "#bd3786"
             ],
             [
              0.5555555555555556,
              "#d8576b"
             ],
             [
              0.6666666666666666,
              "#ed7953"
             ],
             [
              0.7777777777777778,
              "#fb9f3a"
             ],
             [
              0.8888888888888888,
              "#fdca26"
             ],
             [
              1,
              "#f0f921"
             ]
            ],
            "type": "histogram2d"
           }
          ],
          "histogram2dcontour": [
           {
            "colorbar": {
             "outlinewidth": 0,
             "ticks": ""
            },
            "colorscale": [
             [
              0,
              "#0d0887"
             ],
             [
              0.1111111111111111,
              "#46039f"
             ],
             [
              0.2222222222222222,
              "#7201a8"
             ],
             [
              0.3333333333333333,
              "#9c179e"
             ],
             [
              0.4444444444444444,
              "#bd3786"
             ],
             [
              0.5555555555555556,
              "#d8576b"
             ],
             [
              0.6666666666666666,
              "#ed7953"
             ],
             [
              0.7777777777777778,
              "#fb9f3a"
             ],
             [
              0.8888888888888888,
              "#fdca26"
             ],
             [
              1,
              "#f0f921"
             ]
            ],
            "type": "histogram2dcontour"
           }
          ],
          "mesh3d": [
           {
            "colorbar": {
             "outlinewidth": 0,
             "ticks": ""
            },
            "type": "mesh3d"
           }
          ],
          "parcoords": [
           {
            "line": {
             "colorbar": {
              "outlinewidth": 0,
              "ticks": ""
             }
            },
            "type": "parcoords"
           }
          ],
          "pie": [
           {
            "automargin": true,
            "type": "pie"
           }
          ],
          "scatter": [
           {
            "fillpattern": {
             "fillmode": "overlay",
             "size": 10,
             "solidity": 0.2
            },
            "type": "scatter"
           }
          ],
          "scatter3d": [
           {
            "line": {
             "colorbar": {
              "outlinewidth": 0,
              "ticks": ""
             }
            },
            "marker": {
             "colorbar": {
              "outlinewidth": 0,
              "ticks": ""
             }
            },
            "type": "scatter3d"
           }
          ],
          "scattercarpet": [
           {
            "marker": {
             "colorbar": {
              "outlinewidth": 0,
              "ticks": ""
             }
            },
            "type": "scattercarpet"
           }
          ],
          "scattergeo": [
           {
            "marker": {
             "colorbar": {
              "outlinewidth": 0,
              "ticks": ""
             }
            },
            "type": "scattergeo"
           }
          ],
          "scattergl": [
           {
            "marker": {
             "colorbar": {
              "outlinewidth": 0,
              "ticks": ""
             }
            },
            "type": "scattergl"
           }
          ],
          "scattermap": [
           {
            "marker": {
             "colorbar": {
              "outlinewidth": 0,
              "ticks": ""
             }
            },
            "type": "scattermap"
           }
          ],
          "scattermapbox": [
           {
            "marker": {
             "colorbar": {
              "outlinewidth": 0,
              "ticks": ""
             }
            },
            "type": "scattermapbox"
           }
          ],
          "scatterpolar": [
           {
            "marker": {
             "colorbar": {
              "outlinewidth": 0,
              "ticks": ""
             }
            },
            "type": "scatterpolar"
           }
          ],
          "scatterpolargl": [
           {
            "marker": {
             "colorbar": {
              "outlinewidth": 0,
              "ticks": ""
             }
            },
            "type": "scatterpolargl"
           }
          ],
          "scatterternary": [
           {
            "marker": {
             "colorbar": {
              "outlinewidth": 0,
              "ticks": ""
             }
            },
            "type": "scatterternary"
           }
          ],
          "surface": [
           {
            "colorbar": {
             "outlinewidth": 0,
             "ticks": ""
            },
            "colorscale": [
             [
              0,
              "#0d0887"
             ],
             [
              0.1111111111111111,
              "#46039f"
             ],
             [
              0.2222222222222222,
              "#7201a8"
             ],
             [
              0.3333333333333333,
              "#9c179e"
             ],
             [
              0.4444444444444444,
              "#bd3786"
             ],
             [
              0.5555555555555556,
              "#d8576b"
             ],
             [
              0.6666666666666666,
              "#ed7953"
             ],
             [
              0.7777777777777778,
              "#fb9f3a"
             ],
             [
              0.8888888888888888,
              "#fdca26"
             ],
             [
              1,
              "#f0f921"
             ]
            ],
            "type": "surface"
           }
          ],
          "table": [
           {
            "cells": {
             "fill": {
              "color": "#EBF0F8"
             },
             "line": {
              "color": "white"
             }
            },
            "header": {
             "fill": {
              "color": "#C8D4E3"
             },
             "line": {
              "color": "white"
             }
            },
            "type": "table"
           }
          ]
         },
         "layout": {
          "annotationdefaults": {
           "arrowcolor": "#2a3f5f",
           "arrowhead": 0,
           "arrowwidth": 1
          },
          "autotypenumbers": "strict",
          "coloraxis": {
           "colorbar": {
            "outlinewidth": 0,
            "ticks": ""
           }
          },
          "colorscale": {
           "diverging": [
            [
             0,
             "#8e0152"
            ],
            [
             0.1,
             "#c51b7d"
            ],
            [
             0.2,
             "#de77ae"
            ],
            [
             0.3,
             "#f1b6da"
            ],
            [
             0.4,
             "#fde0ef"
            ],
            [
             0.5,
             "#f7f7f7"
            ],
            [
             0.6,
             "#e6f5d0"
            ],
            [
             0.7,
             "#b8e186"
            ],
            [
             0.8,
             "#7fbc41"
            ],
            [
             0.9,
             "#4d9221"
            ],
            [
             1,
             "#276419"
            ]
           ],
           "sequential": [
            [
             0,
             "#0d0887"
            ],
            [
             0.1111111111111111,
             "#46039f"
            ],
            [
             0.2222222222222222,
             "#7201a8"
            ],
            [
             0.3333333333333333,
             "#9c179e"
            ],
            [
             0.4444444444444444,
             "#bd3786"
            ],
            [
             0.5555555555555556,
             "#d8576b"
            ],
            [
             0.6666666666666666,
             "#ed7953"
            ],
            [
             0.7777777777777778,
             "#fb9f3a"
            ],
            [
             0.8888888888888888,
             "#fdca26"
            ],
            [
             1,
             "#f0f921"
            ]
           ],
           "sequentialminus": [
            [
             0,
             "#0d0887"
            ],
            [
             0.1111111111111111,
             "#46039f"
            ],
            [
             0.2222222222222222,
             "#7201a8"
            ],
            [
             0.3333333333333333,
             "#9c179e"
            ],
            [
             0.4444444444444444,
             "#bd3786"
            ],
            [
             0.5555555555555556,
             "#d8576b"
            ],
            [
             0.6666666666666666,
             "#ed7953"
            ],
            [
             0.7777777777777778,
             "#fb9f3a"
            ],
            [
             0.8888888888888888,
             "#fdca26"
            ],
            [
             1,
             "#f0f921"
            ]
           ]
          },
          "colorway": [
           "#636efa",
           "#EF553B",
           "#00cc96",
           "#ab63fa",
           "#FFA15A",
           "#19d3f3",
           "#FF6692",
           "#B6E880",
           "#FF97FF",
           "#FECB52"
          ],
          "font": {
           "color": "#2a3f5f"
          },
          "geo": {
           "bgcolor": "white",
           "lakecolor": "white",
           "landcolor": "#E5ECF6",
           "showlakes": true,
           "showland": true,
           "subunitcolor": "white"
          },
          "hoverlabel": {
           "align": "left"
          },
          "hovermode": "closest",
          "mapbox": {
           "style": "light"
          },
          "paper_bgcolor": "white",
          "plot_bgcolor": "#E5ECF6",
          "polar": {
           "angularaxis": {
            "gridcolor": "white",
            "linecolor": "white",
            "ticks": ""
           },
           "bgcolor": "#E5ECF6",
           "radialaxis": {
            "gridcolor": "white",
            "linecolor": "white",
            "ticks": ""
           }
          },
          "scene": {
           "xaxis": {
            "backgroundcolor": "#E5ECF6",
            "gridcolor": "white",
            "gridwidth": 2,
            "linecolor": "white",
            "showbackground": true,
            "ticks": "",
            "zerolinecolor": "white"
           },
           "yaxis": {
            "backgroundcolor": "#E5ECF6",
            "gridcolor": "white",
            "gridwidth": 2,
            "linecolor": "white",
            "showbackground": true,
            "ticks": "",
            "zerolinecolor": "white"
           },
           "zaxis": {
            "backgroundcolor": "#E5ECF6",
            "gridcolor": "white",
            "gridwidth": 2,
            "linecolor": "white",
            "showbackground": true,
            "ticks": "",
            "zerolinecolor": "white"
           }
          },
          "shapedefaults": {
           "line": {
            "color": "#2a3f5f"
           }
          },
          "ternary": {
           "aaxis": {
            "gridcolor": "white",
            "linecolor": "white",
            "ticks": ""
           },
           "baxis": {
            "gridcolor": "white",
            "linecolor": "white",
            "ticks": ""
           },
           "bgcolor": "#E5ECF6",
           "caxis": {
            "gridcolor": "white",
            "linecolor": "white",
            "ticks": ""
           }
          },
          "title": {
           "x": 0.05
          },
          "xaxis": {
           "automargin": true,
           "gridcolor": "white",
           "linecolor": "white",
           "ticks": "",
           "title": {
            "standoff": 15
           },
           "zerolinecolor": "white",
           "zerolinewidth": 2
          },
          "yaxis": {
           "automargin": true,
           "gridcolor": "white",
           "linecolor": "white",
           "ticks": "",
           "title": {
            "standoff": 15
           },
           "zerolinecolor": "white",
           "zerolinewidth": 2
          }
         }
        },
        "title": {
         "text": "Distribution des différences de temps de trajet (baseline - GPE)"
        },
        "xaxis": {
         "anchor": "y",
         "domain": [
          0,
          1
         ],
         "title": {
          "text": "value"
         }
        },
        "yaxis": {
         "anchor": "x",
         "domain": [
          0,
          1
         ],
         "title": {
          "text": "count"
         }
        }
       }
      }
     },
     "metadata": {},
     "output_type": "display_data"
    }
   ],
   "source": [
    "fig = px.histogram(\n",
    "    positif,\n",
    "    x=positif[\"travel_time_diff\"]/60,\n",
    "    nbins=75,\n",
    "    title=\"Distribution des différences de temps de trajet (baseline - GPE)\",\n",
    "    labels={\"x\": \"Différence de temps (minutes)\", \"count\": \"Nombre de trajets\"},\n",
    "    color_discrete_sequence=[\"#636EFA\"]\n",
    ")\n",
    "\n",
    "fig.show()"
   ]
  },
  {
   "cell_type": "code",
   "execution_count": 95,
   "id": "1b643b17",
   "metadata": {},
   "outputs": [
    {
     "data": {
      "application/pdf": "[encoded data removed]",
      "application/vnd.plotly.v1+json": {
       "config": {
        "plotlyServerURL": "https://plot.ly"
       },
       "data": [
        {
         "bingroup": "x",
         "hovertemplate": "Différence de temps (%)=%{x}<br>count=%{y}<extra></extra>",
         "legendgroup": "",
         "marker": {
          "color": "#636EFA",
          "pattern": {
           "shape": ""
          }
         },
         "name": "",
         "nbinsx": 20,
         "orientation": "v",
         "showlegend": false,
         "type": "histogram",
         "x": [],
         "xaxis": "x",
         "yaxis": "y"
        }
       ],
       "layout": {
        "barmode": "relative",
        "legend": {
         "tracegroupgap": 0
        },
        "template": {
         "data": {
          "bar": [
           {
            "error_x": {
             "color": "#2a3f5f"
            },
            "error_y": {
             "color": "#2a3f5f"
            },
            "marker": {
             "line": {
              "color": "#E5ECF6",
              "width": 0.5
             },
             "pattern": {
              "fillmode": "overlay",
              "size": 10,
              "solidity": 0.2
             }
            },
            "type": "bar"
           }
          ],
          "barpolar": [
           {
            "marker": {
             "line": {
              "color": "#E5ECF6",
              "width": 0.5
             },
             "pattern": {
              "fillmode": "overlay",
              "size": 10,
              "solidity": 0.2
             }
            },
            "type": "barpolar"
           }
          ],
          "carpet": [
           {
            "aaxis": {
             "endlinecolor": "#2a3f5f",
             "gridcolor": "white",
             "linecolor": "white",
             "minorgridcolor": "white",
             "startlinecolor": "#2a3f5f"
            },
            "baxis": {
             "endlinecolor": "#2a3f5f",
             "gridcolor": "white",
             "linecolor": "white",
             "minorgridcolor": "white",
             "startlinecolor": "#2a3f5f"
            },
            "type": "carpet"
           }
          ],
          "choropleth": [
           {
            "colorbar": {
             "outlinewidth": 0,
             "ticks": ""
            },
            "type": "choropleth"
           }
          ],
          "contour": [
           {
            "colorbar": {
             "outlinewidth": 0,
             "ticks": ""
            },
            "colorscale": [
             [
              0,
              "#0d0887"
             ],
             [
              0.1111111111111111,
              "#46039f"
             ],
             [
              0.2222222222222222,
              "#7201a8"
             ],
             [
              0.3333333333333333,
              "#9c179e"
             ],
             [
              0.4444444444444444,
              "#bd3786"
             ],
             [
              0.5555555555555556,
              "#d8576b"
             ],
             [
              0.6666666666666666,
              "#ed7953"
             ],
             [
              0.7777777777777778,
              "#fb9f3a"
             ],
             [
              0.8888888888888888,
              "#fdca26"
             ],
             [
              1,
              "#f0f921"
             ]
            ],
            "type": "contour"
           }
          ],
          "contourcarpet": [
           {
            "colorbar": {
             "outlinewidth": 0,
             "ticks": ""
            },
            "type": "contourcarpet"
           }
          ],
          "heatmap": [
           {
            "colorbar": {
             "outlinewidth": 0,
             "ticks": ""
            },
            "colorscale": [
             [
              0,
              "#0d0887"
             ],
             [
              0.1111111111111111,
              "#46039f"
             ],
             [
              0.2222222222222222,
              "#7201a8"
             ],
             [
              0.3333333333333333,
              "#9c179e"
             ],
             [
              0.4444444444444444,
              "#bd3786"
             ],
             [
              0.5555555555555556,
              "#d8576b"
             ],
             [
              0.6666666666666666,
              "#ed7953"
             ],
             [
              0.7777777777777778,
              "#fb9f3a"
             ],
             [
              0.8888888888888888,
              "#fdca26"
             ],
             [
              1,
              "#f0f921"
             ]
            ],
            "type": "heatmap"
           }
          ],
          "histogram": [
           {
            "marker": {
             "pattern": {
              "fillmode": "overlay",
              "size": 10,
              "solidity": 0.2
             }
            },
            "type": "histogram"
           }
          ],
          "histogram2d": [
           {
            "colorbar": {
             "outlinewidth": 0,
             "ticks": ""
            },
            "colorscale": [
             [
              0,
              "#0d0887"
             ],
             [
              0.1111111111111111,
              "#46039f"
             ],
             [
              0.2222222222222222,
              "#7201a8"
             ],
             [
              0.3333333333333333,
              "#9c179e"
             ],
             [
              0.4444444444444444,
              "#bd3786"
             ],
             [
              0.5555555555555556,
              "#d8576b"
             ],
             [
              0.6666666666666666,
              "#ed7953"
             ],
             [
              0.7777777777777778,
              "#fb9f3a"
             ],
             [
              0.8888888888888888,
              "#fdca26"
             ],
             [
              1,
              "#f0f921"
             ]
            ],
            "type": "histogram2d"
           }
          ],
          "histogram2dcontour": [
           {
            "colorbar": {
             "outlinewidth": 0,
             "ticks": ""
            },
            "colorscale": [
             [
              0,
              "#0d0887"
             ],
             [
              0.1111111111111111,
              "#46039f"
             ],
             [
              0.2222222222222222,
              "#7201a8"
             ],
             [
              0.3333333333333333,
              "#9c179e"
             ],
             [
              0.4444444444444444,
              "#bd3786"
             ],
             [
              0.5555555555555556,
              "#d8576b"
             ],
             [
              0.6666666666666666,
              "#ed7953"
             ],
             [
              0.7777777777777778,
              "#fb9f3a"
             ],
             [
              0.8888888888888888,
              "#fdca26"
             ],
             [
              1,
              "#f0f921"
             ]
            ],
            "type": "histogram2dcontour"
           }
          ],
          "mesh3d": [
           {
            "colorbar": {
             "outlinewidth": 0,
             "ticks": ""
            },
            "type": "mesh3d"
           }
          ],
          "parcoords": [
           {
            "line": {
             "colorbar": {
              "outlinewidth": 0,
              "ticks": ""
             }
            },
            "type": "parcoords"
           }
          ],
          "pie": [
           {
            "automargin": true,
            "type": "pie"
           }
          ],
          "scatter": [
           {
            "fillpattern": {
             "fillmode": "overlay",
             "size": 10,
             "solidity": 0.2
            },
            "type": "scatter"
           }
          ],
          "scatter3d": [
           {
            "line": {
             "colorbar": {
              "outlinewidth": 0,
              "ticks": ""
             }
            },
            "marker": {
             "colorbar": {
              "outlinewidth": 0,
              "ticks": ""
             }
            },
            "type": "scatter3d"
           }
          ],
          "scattercarpet": [
           {
            "marker": {
             "colorbar": {
              "outlinewidth": 0,
              "ticks": ""
             }
            },
            "type": "scattercarpet"
           }
          ],
          "scattergeo": [
           {
            "marker": {
             "colorbar": {
              "outlinewidth": 0,
              "ticks": ""
             }
            },
            "type": "scattergeo"
           }
          ],
          "scattergl": [
           {
            "marker": {
             "colorbar": {
              "outlinewidth": 0,
              "ticks": ""
             }
            },
            "type": "scattergl"
           }
          ],
          "scattermap": [
           {
            "marker": {
             "colorbar": {
              "outlinewidth": 0,
              "ticks": ""
             }
            },
            "type": "scattermap"
           }
          ],
          "scattermapbox": [
           {
            "marker": {
             "colorbar": {
              "outlinewidth": 0,
              "ticks": ""
             }
            },
            "type": "scattermapbox"
           }
          ],
          "scatterpolar": [
           {
            "marker": {
             "colorbar": {
              "outlinewidth": 0,
              "ticks": ""
             }
            },
            "type": "scatterpolar"
           }
          ],
          "scatterpolargl": [
           {
            "marker": {
             "colorbar": {
              "outlinewidth": 0,
              "ticks": ""
             }
            },
            "type": "scatterpolargl"
           }
          ],
          "scatterternary": [
           {
            "marker": {
             "colorbar": {
              "outlinewidth": 0,
              "ticks": ""
             }
            },
            "type": "scatterternary"
           }
          ],
          "surface": [
           {
            "colorbar": {
             "outlinewidth": 0,
             "ticks": ""
            },
            "colorscale": [
             [
              0,
              "#0d0887"
             ],
             [
              0.1111111111111111,
              "#46039f"
             ],
             [
              0.2222222222222222,
              "#7201a8"
             ],
             [
              0.3333333333333333,
              "#9c179e"
             ],
             [
              0.4444444444444444,
              "#bd3786"
             ],
             [
              0.5555555555555556,
              "#d8576b"
             ],
             [
              0.6666666666666666,
              "#ed7953"
             ],
             [
              0.7777777777777778,
              "#fb9f3a"
             ],
             [
              0.8888888888888888,
              "#fdca26"
             ],
             [
              1,
              "#f0f921"
             ]
            ],
            "type": "surface"
           }
          ],
          "table": [
           {
            "cells": {
             "fill": {
              "color": "#EBF0F8"
             },
             "line": {
              "color": "white"
             }
            },
            "header": {
             "fill": {
              "color": "#C8D4E3"
             },
             "line": {
              "color": "white"
             }
            },
            "type": "table"
           }
          ]
         },
         "layout": {
          "annotationdefaults": {
           "arrowcolor": "#2a3f5f",
           "arrowhead": 0,
           "arrowwidth": 1
          },
          "autotypenumbers": "strict",
          "coloraxis": {
           "colorbar": {
            "outlinewidth": 0,
            "ticks": ""
           }
          },
          "colorscale": {
           "diverging": [
            [
             0,
             "#8e0152"
            ],
            [
             0.1,
             "#c51b7d"
            ],
            [
             0.2,
             "#de77ae"
            ],
            [
             0.3,
             "#f1b6da"
            ],
            [
             0.4,
             "#fde0ef"
            ],
            [
             0.5,
             "#f7f7f7"
            ],
            [
             0.6,
             "#e6f5d0"
            ],
            [
             0.7,
             "#b8e186"
            ],
            [
             0.8,
             "#7fbc41"
            ],
            [
             0.9,
             "#4d9221"
            ],
            [
             1,
             "#276419"
            ]
           ],
           "sequential": [
            [
             0,
             "#0d0887"
            ],
            [
             0.1111111111111111,
             "#46039f"
            ],
            [
             0.2222222222222222,
             "#7201a8"
            ],
            [
             0.3333333333333333,
             "#9c179e"
            ],
            [
             0.4444444444444444,
             "#bd3786"
            ],
            [
             0.5555555555555556,
             "#d8576b"
            ],
            [
             0.6666666666666666,
             "#ed7953"
            ],
            [
             0.7777777777777778,
             "#fb9f3a"
            ],
            [
             0.8888888888888888,
             "#fdca26"
            ],
            [
             1,
             "#f0f921"
            ]
           ],
           "sequentialminus": [
            [
             0,
             "#0d0887"
            ],
            [
             0.1111111111111111,
             "#46039f"
            ],
            [
             0.2222222222222222,
             "#7201a8"
            ],
            [
             0.3333333333333333,
             "#9c179e"
            ],
            [
             0.4444444444444444,
             "#bd3786"
            ],
            [
             0.5555555555555556,
             "#d8576b"
            ],
            [
             0.6666666666666666,
             "#ed7953"
            ],
            [
             0.7777777777777778,
             "#fb9f3a"
            ],
            [
             0.8888888888888888,
             "#fdca26"
            ],
            [
             1,
             "#f0f921"
            ]
           ]
          },
          "colorway": [
           "#636efa",
           "#EF553B",
           "#00cc96",
           "#ab63fa",
           "#FFA15A",
           "#19d3f3",
           "#FF6692",
           "#B6E880",
           "#FF97FF",
           "#FECB52"
          ],
          "font": {
           "color": "#2a3f5f"
          },
          "geo": {
           "bgcolor": "white",
           "lakecolor": "white",
           "landcolor": "#E5ECF6",
           "showlakes": true,
           "showland": true,
           "subunitcolor": "white"
          },
          "hoverlabel": {
           "align": "left"
          },
          "hovermode": "closest",
          "mapbox": {
           "style": "light"
          },
          "paper_bgcolor": "white",
          "plot_bgcolor": "#E5ECF6",
          "polar": {
           "angularaxis": {
            "gridcolor": "white",
            "linecolor": "white",
            "ticks": ""
           },
           "bgcolor": "#E5ECF6",
           "radialaxis": {
            "gridcolor": "white",
            "linecolor": "white",
            "ticks": ""
           }
          },
          "scene": {
           "xaxis": {
            "backgroundcolor": "#E5ECF6",
            "gridcolor": "white",
            "gridwidth": 2,
            "linecolor": "white",
            "showbackground": true,
            "ticks": "",
            "zerolinecolor": "white"
           },
           "yaxis": {
            "backgroundcolor": "#E5ECF6",
            "gridcolor": "white",
            "gridwidth": 2,
            "linecolor": "white",
            "showbackground": true,
            "ticks": "",
            "zerolinecolor": "white"
           },
           "zaxis": {
            "backgroundcolor": "#E5ECF6",
            "gridcolor": "white",
            "gridwidth": 2,
            "linecolor": "white",
            "showbackground": true,
            "ticks": "",
            "zerolinecolor": "white"
           }
          },
          "shapedefaults": {
           "line": {
            "color": "#2a3f5f"
           }
          },
          "ternary": {
           "aaxis": {
            "gridcolor": "white",
            "linecolor": "white",
            "ticks": ""
           },
           "baxis": {
            "gridcolor": "white",
            "linecolor": "white",
            "ticks": ""
           },
           "bgcolor": "#E5ECF6",
           "caxis": {
            "gridcolor": "white",
            "linecolor": "white",
            "ticks": ""
           }
          },
          "title": {
           "x": 0.05
          },
          "xaxis": {
           "automargin": true,
           "gridcolor": "white",
           "linecolor": "white",
           "ticks": "",
           "title": {
            "standoff": 15
           },
           "zerolinecolor": "white",
           "zerolinewidth": 2
          },
          "yaxis": {
           "automargin": true,
           "gridcolor": "white",
           "linecolor": "white",
           "ticks": "",
           "title": {
            "standoff": 15
           },
           "zerolinecolor": "white",
           "zerolinewidth": 2
          }
         }
        },
        "title": {
         "text": "Distribution des différences de temps de trajet en pourcentage (baseline - GPE)"
        },
        "xaxis": {
         "anchor": "y",
         "domain": [
          0,
          1
         ],
         "title": {
          "text": "Différence de temps (%)"
         }
        },
        "yaxis": {
         "anchor": "x",
         "domain": [
          0,
          1
         ],
         "title": {
          "text": "count"
         }
        }
       }
      }
     },
     "metadata": {},
     "output_type": "display_data"
    }
   ],
   "source": [
    "\n",
    "fig = px.histogram(\n",
    "    positif,\n",
    "    x='travel_time_diff_percent',\n",
    "    nbins=20,\n",
    "    title=\"Distribution des différences de temps de trajet en pourcentage (baseline - GPE)\",\n",
    "    labels={\"travel_time_diff_percent\": \"Différence de temps (%)\", \"count\": \"Nombre de trajets\"},\n",
    "    color_discrete_sequence=[\"#636EFA\"]\n",
    ")\n",
    "\n",
    "# Afficher l'histogramme\n",
    "fig.show()"
   ]
  },
  {
   "cell_type": "code",
   "execution_count": 96,
   "id": "b8be7f23",
   "metadata": {},
   "outputs": [
    {
     "data": {
      "text/html": [
       "<div>\n",
       "<style scoped>\n",
       "    .dataframe tbody tr th:only-of-type {\n",
       "        vertical-align: middle;\n",
       "    }\n",
       "\n",
       "    .dataframe tbody tr th {\n",
       "        vertical-align: top;\n",
       "    }\n",
       "\n",
       "    .dataframe thead th {\n",
       "        text-align: right;\n",
       "    }\n",
       "</style>\n",
       "<table border=\"1\" class=\"dataframe\">\n",
       "  <thead>\n",
       "    <tr style=\"text-align: right;\">\n",
       "      <th></th>\n",
       "      <th>travel_time_diff</th>\n",
       "      <th>travel_time_diff_percent</th>\n",
       "    </tr>\n",
       "  </thead>\n",
       "  <tbody>\n",
       "    <tr>\n",
       "      <th>count</th>\n",
       "      <td>905.000000</td>\n",
       "      <td>905.000000</td>\n",
       "    </tr>\n",
       "    <tr>\n",
       "      <th>mean</th>\n",
       "      <td>-2345.953591</td>\n",
       "      <td>-80.280921</td>\n",
       "    </tr>\n",
       "    <tr>\n",
       "      <th>std</th>\n",
       "      <td>5396.598873</td>\n",
       "      <td>208.102007</td>\n",
       "    </tr>\n",
       "    <tr>\n",
       "      <th>min</th>\n",
       "      <td>-54360.000000</td>\n",
       "      <td>-2773.469388</td>\n",
       "    </tr>\n",
       "    <tr>\n",
       "      <th>25%</th>\n",
       "      <td>-1800.000000</td>\n",
       "      <td>-60.200669</td>\n",
       "    </tr>\n",
       "    <tr>\n",
       "      <th>50%</th>\n",
       "      <td>-1020.000000</td>\n",
       "      <td>-34.522440</td>\n",
       "    </tr>\n",
       "    <tr>\n",
       "      <th>75%</th>\n",
       "      <td>-720.000000</td>\n",
       "      <td>-21.649234</td>\n",
       "    </tr>\n",
       "    <tr>\n",
       "      <th>max</th>\n",
       "      <td>-128.000000</td>\n",
       "      <td>-3.386243</td>\n",
       "    </tr>\n",
       "  </tbody>\n",
       "</table>\n",
       "</div>"
      ],
      "text/plain": [
       "       travel_time_diff  travel_time_diff_percent\n",
       "count        905.000000                905.000000\n",
       "mean       -2345.953591                -80.280921\n",
       "std         5396.598873                208.102007\n",
       "min       -54360.000000              -2773.469388\n",
       "25%        -1800.000000                -60.200669\n",
       "50%        -1020.000000                -34.522440\n",
       "75%         -720.000000                -21.649234\n",
       "max         -128.000000                 -3.386243"
      ]
     },
     "execution_count": 96,
     "metadata": {},
     "output_type": "execute_result"
    }
   ],
   "source": [
    "negatif = merged_data[merged_data.travel_time_diff < 0]\n",
    "\n",
    "negatif[[\"travel_time_diff\", \"travel_time_diff_percent\"]].describe()"
   ]
  },
  {
   "cell_type": "code",
   "execution_count": 110,
   "id": "f441c3d5",
   "metadata": {},
   "outputs": [
    {
     "data": {
      "text/html": [
       "<div>\n",
       "<style scoped>\n",
       "    .dataframe tbody tr th:only-of-type {\n",
       "        vertical-align: middle;\n",
       "    }\n",
       "\n",
       "    .dataframe tbody tr th {\n",
       "        vertical-align: top;\n",
       "    }\n",
       "\n",
       "    .dataframe thead th {\n",
       "        text-align: right;\n",
       "    }\n",
       "</style>\n",
       "<table border=\"1\" class=\"dataframe\">\n",
       "  <thead>\n",
       "    <tr style=\"text-align: right;\">\n",
       "      <th></th>\n",
       "      <th>person_id</th>\n",
       "      <th>person_trip_id</th>\n",
       "      <th>origin_x_baseline</th>\n",
       "      <th>origin_y_baseline</th>\n",
       "      <th>destination_x_baseline</th>\n",
       "      <th>destination_y_baseline</th>\n",
       "      <th>departure_time_baseline</th>\n",
       "      <th>travel_time_baseline</th>\n",
       "      <th>origin_x_gpe</th>\n",
       "      <th>origin_y_gpe</th>\n",
       "      <th>...</th>\n",
       "      <th>destination_y_gpe</th>\n",
       "      <th>departure_time_gpe</th>\n",
       "      <th>travel_time_gpe</th>\n",
       "      <th>origin_x_match</th>\n",
       "      <th>origin_y_match</th>\n",
       "      <th>destination_x_match</th>\n",
       "      <th>destination_y_match</th>\n",
       "      <th>departure_time_match</th>\n",
       "      <th>travel_time_diff</th>\n",
       "      <th>travel_time_diff_percent</th>\n",
       "    </tr>\n",
       "  </thead>\n",
       "  <tbody>\n",
       "    <tr>\n",
       "      <th>18143</th>\n",
       "      <td>10826051_0</td>\n",
       "      <td>0</td>\n",
       "      <td>656708.952128</td>\n",
       "      <td>6.855934e+06</td>\n",
       "      <td>654157.458676</td>\n",
       "      <td>6.852993e+06</td>\n",
       "      <td>23750.0</td>\n",
       "      <td>1960.0</td>\n",
       "      <td>656708.952128</td>\n",
       "      <td>6.855934e+06</td>\n",
       "      <td>...</td>\n",
       "      <td>6.852993e+06</td>\n",
       "      <td>23750.0</td>\n",
       "      <td>56320.0</td>\n",
       "      <td>True</td>\n",
       "      <td>True</td>\n",
       "      <td>True</td>\n",
       "      <td>True</td>\n",
       "      <td>True</td>\n",
       "      <td>-54360.0</td>\n",
       "      <td>-2773.469388</td>\n",
       "    </tr>\n",
       "  </tbody>\n",
       "</table>\n",
       "<p>1 rows × 21 columns</p>\n",
       "</div>"
      ],
      "text/plain": [
       "        person_id  person_trip_id  origin_x_baseline  origin_y_baseline  \\\n",
       "18143  10826051_0               0      656708.952128       6.855934e+06   \n",
       "\n",
       "       destination_x_baseline  destination_y_baseline  \\\n",
       "18143           654157.458676            6.852993e+06   \n",
       "\n",
       "       departure_time_baseline  travel_time_baseline   origin_x_gpe  \\\n",
       "18143                  23750.0                1960.0  656708.952128   \n",
       "\n",
       "       origin_y_gpe  ...  destination_y_gpe  departure_time_gpe  \\\n",
       "18143  6.855934e+06  ...       6.852993e+06             23750.0   \n",
       "\n",
       "       travel_time_gpe  origin_x_match  origin_y_match  destination_x_match  \\\n",
       "18143          56320.0            True            True                 True   \n",
       "\n",
       "       destination_y_match  departure_time_match  travel_time_diff  \\\n",
       "18143                 True                  True          -54360.0   \n",
       "\n",
       "       travel_time_diff_percent  \n",
       "18143              -2773.469388  \n",
       "\n",
       "[1 rows x 21 columns]"
      ]
     },
     "execution_count": 110,
     "metadata": {},
     "output_type": "execute_result"
    }
   ],
   "source": [
    "negatif[negatif[\"travel_time_diff\"] < -50000]"
   ]
  },
  {
   "cell_type": "code",
   "execution_count": 115,
   "id": "368f2543",
   "metadata": {},
   "outputs": [
    {
     "data": {
      "text/html": [
       "<div>\n",
       "<style scoped>\n",
       "    .dataframe tbody tr th:only-of-type {\n",
       "        vertical-align: middle;\n",
       "    }\n",
       "\n",
       "    .dataframe tbody tr th {\n",
       "        vertical-align: top;\n",
       "    }\n",
       "\n",
       "    .dataframe thead th {\n",
       "        text-align: right;\n",
       "    }\n",
       "</style>\n",
       "<table border=\"1\" class=\"dataframe\">\n",
       "  <thead>\n",
       "    <tr style=\"text-align: right;\">\n",
       "      <th></th>\n",
       "      <th>person_id</th>\n",
       "      <th>person_trip_id</th>\n",
       "      <th>leg_index</th>\n",
       "      <th>access_stop_id</th>\n",
       "      <th>egress_stop_id</th>\n",
       "      <th>transit_line_id</th>\n",
       "      <th>transit_route_id</th>\n",
       "      <th>departure_id</th>\n",
       "      <th>access_area_id</th>\n",
       "      <th>egress_area_id</th>\n",
       "      <th>transit_mode</th>\n",
       "    </tr>\n",
       "  </thead>\n",
       "  <tbody>\n",
       "    <tr>\n",
       "      <th>7274</th>\n",
       "      <td>10826051_0</td>\n",
       "      <td>0</td>\n",
       "      <td>1</td>\n",
       "      <td>IDFM:37277.link:138835</td>\n",
       "      <td>IDFM:7848.link:292859</td>\n",
       "      <td>IDFM:C01193</td>\n",
       "      <td>IDFM:RATP:156307-C01193-COU_RATP_5112356_25428...</td>\n",
       "      <td>IDFM:RATP:156307-C01193-COU_RATP_5112356_25428...</td>\n",
       "      <td>IDFM:70235</td>\n",
       "      <td>IDFM:70174</td>\n",
       "      <td>bus</td>\n",
       "    </tr>\n",
       "    <tr>\n",
       "      <th>397572</th>\n",
       "      <td>10826051_0</td>\n",
       "      <td>0</td>\n",
       "      <td>3</td>\n",
       "      <td>IDFM:7848.link:292859</td>\n",
       "      <td>IDFM:7849.link:205281</td>\n",
       "      <td>IDFM:C01160</td>\n",
       "      <td>IDFM:RATP:175356-C01160-COU_RATP_5121144_32551...</td>\n",
       "      <td>IDFM:RATP:175356-C01160-COU_RATP_5121144_32551...</td>\n",
       "      <td>IDFM:70174</td>\n",
       "      <td>IDFM:69994</td>\n",
       "      <td>bus</td>\n",
       "    </tr>\n",
       "  </tbody>\n",
       "</table>\n",
       "</div>"
      ],
      "text/plain": [
       "         person_id  person_trip_id  leg_index          access_stop_id  \\\n",
       "7274    10826051_0               0          1  IDFM:37277.link:138835   \n",
       "397572  10826051_0               0          3   IDFM:7848.link:292859   \n",
       "\n",
       "               egress_stop_id transit_line_id  \\\n",
       "7274    IDFM:7848.link:292859     IDFM:C01193   \n",
       "397572  IDFM:7849.link:205281     IDFM:C01160   \n",
       "\n",
       "                                         transit_route_id  \\\n",
       "7274    IDFM:RATP:156307-C01193-COU_RATP_5112356_25428...   \n",
       "397572  IDFM:RATP:175356-C01160-COU_RATP_5121144_32551...   \n",
       "\n",
       "                                             departure_id access_area_id  \\\n",
       "7274    IDFM:RATP:156307-C01193-COU_RATP_5112356_25428...     IDFM:70235   \n",
       "397572  IDFM:RATP:175356-C01160-COU_RATP_5121144_32551...     IDFM:70174   \n",
       "\n",
       "       egress_area_id transit_mode  \n",
       "7274       IDFM:70174          bus  \n",
       "397572     IDFM:69994          bus  "
      ]
     },
     "execution_count": 115,
     "metadata": {},
     "output_type": "execute_result"
    }
   ],
   "source": [
    "gpe_pt[gpe_pt.person_id.isin(negatif[negatif[\"travel_time_diff\"] < -50000].person_id)]"
   ]
  },
  {
   "cell_type": "code",
   "execution_count": 114,
   "id": "c701514b",
   "metadata": {},
   "outputs": [
    {
     "data": {
      "text/html": [
       "<div>\n",
       "<style scoped>\n",
       "    .dataframe tbody tr th:only-of-type {\n",
       "        vertical-align: middle;\n",
       "    }\n",
       "\n",
       "    .dataframe tbody tr th {\n",
       "        vertical-align: top;\n",
       "    }\n",
       "\n",
       "    .dataframe thead th {\n",
       "        text-align: right;\n",
       "    }\n",
       "</style>\n",
       "<table border=\"1\" class=\"dataframe\">\n",
       "  <thead>\n",
       "    <tr style=\"text-align: right;\">\n",
       "      <th></th>\n",
       "      <th>person_id</th>\n",
       "      <th>person_trip_id</th>\n",
       "      <th>leg_index</th>\n",
       "      <th>origin_x</th>\n",
       "      <th>origin_y</th>\n",
       "      <th>destination_x</th>\n",
       "      <th>destination_y</th>\n",
       "      <th>departure_time</th>\n",
       "      <th>travel_time</th>\n",
       "      <th>vehicle_distance</th>\n",
       "      <th>routed_distance</th>\n",
       "      <th>mode</th>\n",
       "      <th>euclidean_distance</th>\n",
       "      <th>origin_link_id</th>\n",
       "      <th>destination_link_id</th>\n",
       "    </tr>\n",
       "  </thead>\n",
       "  <tbody>\n",
       "    <tr>\n",
       "      <th>17129</th>\n",
       "      <td>10826051_0</td>\n",
       "      <td>0</td>\n",
       "      <td>0</td>\n",
       "      <td>656708.952128</td>\n",
       "      <td>6.855934e+06</td>\n",
       "      <td>656722.959496</td>\n",
       "      <td>6.855243e+06</td>\n",
       "      <td>23750.0</td>\n",
       "      <td>760.0</td>\n",
       "      <td>0.000000</td>\n",
       "      <td>911.408694</td>\n",
       "      <td>walk</td>\n",
       "      <td>690.722184</td>\n",
       "      <td>221309</td>\n",
       "      <td>138835</td>\n",
       "    </tr>\n",
       "    <tr>\n",
       "      <th>21539</th>\n",
       "      <td>10826051_0</td>\n",
       "      <td>0</td>\n",
       "      <td>1</td>\n",
       "      <td>656722.959496</td>\n",
       "      <td>6.855243e+06</td>\n",
       "      <td>654498.397638</td>\n",
       "      <td>6.854679e+06</td>\n",
       "      <td>24510.0</td>\n",
       "      <td>630.0</td>\n",
       "      <td>2252.209711</td>\n",
       "      <td>2252.209711</td>\n",
       "      <td>pt</td>\n",
       "      <td>2294.957243</td>\n",
       "      <td>138835</td>\n",
       "      <td>292859</td>\n",
       "    </tr>\n",
       "    <tr>\n",
       "      <th>21577</th>\n",
       "      <td>10826051_0</td>\n",
       "      <td>0</td>\n",
       "      <td>2</td>\n",
       "      <td>654498.397638</td>\n",
       "      <td>6.854679e+06</td>\n",
       "      <td>654498.397638</td>\n",
       "      <td>6.854679e+06</td>\n",
       "      <td>25140.0</td>\n",
       "      <td>0.0</td>\n",
       "      <td>0.000000</td>\n",
       "      <td>0.000000</td>\n",
       "      <td>walk</td>\n",
       "      <td>0.000000</td>\n",
       "      <td>292859</td>\n",
       "      <td>292859</td>\n",
       "    </tr>\n",
       "    <tr>\n",
       "      <th>25084</th>\n",
       "      <td>10826051_0</td>\n",
       "      <td>0</td>\n",
       "      <td>3</td>\n",
       "      <td>654498.397638</td>\n",
       "      <td>6.854679e+06</td>\n",
       "      <td>654103.422777</td>\n",
       "      <td>6.853077e+06</td>\n",
       "      <td>25140.0</td>\n",
       "      <td>420.0</td>\n",
       "      <td>2545.420848</td>\n",
       "      <td>2545.420848</td>\n",
       "      <td>pt</td>\n",
       "      <td>1650.123259</td>\n",
       "      <td>292859</td>\n",
       "      <td>205281</td>\n",
       "    </tr>\n",
       "    <tr>\n",
       "      <th>26397</th>\n",
       "      <td>10826051_0</td>\n",
       "      <td>0</td>\n",
       "      <td>4</td>\n",
       "      <td>654103.422777</td>\n",
       "      <td>6.853077e+06</td>\n",
       "      <td>654157.458676</td>\n",
       "      <td>6.852993e+06</td>\n",
       "      <td>25560.0</td>\n",
       "      <td>150.0</td>\n",
       "      <td>0.000000</td>\n",
       "      <td>178.877878</td>\n",
       "      <td>walk</td>\n",
       "      <td>99.691536</td>\n",
       "      <td>205281</td>\n",
       "      <td>567428</td>\n",
       "    </tr>\n",
       "  </tbody>\n",
       "</table>\n",
       "</div>"
      ],
      "text/plain": [
       "        person_id  person_trip_id  leg_index       origin_x      origin_y  \\\n",
       "17129  10826051_0               0          0  656708.952128  6.855934e+06   \n",
       "21539  10826051_0               0          1  656722.959496  6.855243e+06   \n",
       "21577  10826051_0               0          2  654498.397638  6.854679e+06   \n",
       "25084  10826051_0               0          3  654498.397638  6.854679e+06   \n",
       "26397  10826051_0               0          4  654103.422777  6.853077e+06   \n",
       "\n",
       "       destination_x  destination_y  departure_time  travel_time  \\\n",
       "17129  656722.959496   6.855243e+06         23750.0        760.0   \n",
       "21539  654498.397638   6.854679e+06         24510.0        630.0   \n",
       "21577  654498.397638   6.854679e+06         25140.0          0.0   \n",
       "25084  654103.422777   6.853077e+06         25140.0        420.0   \n",
       "26397  654157.458676   6.852993e+06         25560.0        150.0   \n",
       "\n",
       "       vehicle_distance  routed_distance  mode  euclidean_distance  \\\n",
       "17129          0.000000       911.408694  walk          690.722184   \n",
       "21539       2252.209711      2252.209711    pt         2294.957243   \n",
       "21577          0.000000         0.000000  walk            0.000000   \n",
       "25084       2545.420848      2545.420848    pt         1650.123259   \n",
       "26397          0.000000       178.877878  walk           99.691536   \n",
       "\n",
       "      origin_link_id destination_link_id  \n",
       "17129         221309              138835  \n",
       "21539         138835              292859  \n",
       "21577         292859              292859  \n",
       "25084         292859              205281  \n",
       "26397         205281              567428  "
      ]
     },
     "execution_count": 114,
     "metadata": {},
     "output_type": "execute_result"
    }
   ],
   "source": [
    "baseline_legs[baseline_legs.person_id.isin(negatif[negatif[\"travel_time_diff\"] < -50000].person_id)]"
   ]
  },
  {
   "cell_type": "code",
   "execution_count": 97,
   "id": "742d102c",
   "metadata": {},
   "outputs": [
    {
     "data": {
      "application/pdf": "[encoded data removed]",
      "application/vnd.plotly.v1+json": {
       "config": {
        "plotlyServerURL": "https://plot.ly"
       },
       "data": [
        {
         "bingroup": "x",
         "hovertemplate": "Différence de temps (minutes)=%{x}<br>count=%{y}<extra></extra>",
         "legendgroup": "",
         "marker": {
          "color": "#636EFA",
          "pattern": {
           "shape": ""
          }
         },
         "name": "",
         "nbinsx": 25,
         "orientation": "v",
         "showlegend": false,
         "type": "histogram",
         "x": {
          "bdata": "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",
          "dtype": "f8"
         },
         "xaxis": "x",
         "yaxis": "y"
        }
       ],
       "layout": {
        "barmode": "relative",
        "legend": {
         "tracegroupgap": 0
        },
        "template": {
         "data": {
          "bar": [
           {
            "error_x": {
             "color": "#2a3f5f"
            },
            "error_y": {
             "color": "#2a3f5f"
            },
            "marker": {
             "line": {
              "color": "#E5ECF6",
              "width": 0.5
             },
             "pattern": {
              "fillmode": "overlay",
              "size": 10,
              "solidity": 0.2
             }
            },
            "type": "bar"
           }
          ],
          "barpolar": [
           {
            "marker": {
             "line": {
              "color": "#E5ECF6",
              "width": 0.5
             },
             "pattern": {
              "fillmode": "overlay",
              "size": 10,
              "solidity": 0.2
             }
            },
            "type": "barpolar"
           }
          ],
          "carpet": [
           {
            "aaxis": {
             "endlinecolor": "#2a3f5f",
             "gridcolor": "white",
             "linecolor": "white",
             "minorgridcolor": "white",
             "startlinecolor": "#2a3f5f"
            },
            "baxis": {
             "endlinecolor": "#2a3f5f",
             "gridcolor": "white",
             "linecolor": "white",
             "minorgridcolor": "white",
             "startlinecolor": "#2a3f5f"
            },
            "type": "carpet"
           }
          ],
          "choropleth": [
           {
            "colorbar": {
             "outlinewidth": 0,
             "ticks": ""
            },
            "type": "choropleth"
           }
          ],
          "contour": [
           {
            "colorbar": {
             "outlinewidth": 0,
             "ticks": ""
            },
            "colorscale": [
             [
              0,
              "#0d0887"
             ],
             [
              0.1111111111111111,
              "#46039f"
             ],
             [
              0.2222222222222222,
              "#7201a8"
             ],
             [
              0.3333333333333333,
              "#9c179e"
             ],
             [
              0.4444444444444444,
              "#bd3786"
             ],
             [
              0.5555555555555556,
              "#d8576b"
             ],
             [
              0.6666666666666666,
              "#ed7953"
             ],
             [
              0.7777777777777778,
              "#fb9f3a"
             ],
             [
              0.8888888888888888,
              "#fdca26"
             ],
             [
              1,
              "#f0f921"
             ]
            ],
            "type": "contour"
           }
          ],
          "contourcarpet": [
           {
            "colorbar": {
             "outlinewidth": 0,
             "ticks": ""
            },
            "type": "contourcarpet"
           }
          ],
          "heatmap": [
           {
            "colorbar": {
             "outlinewidth": 0,
             "ticks": ""
            },
            "colorscale": [
             [
              0,
              "#0d0887"
             ],
             [
              0.1111111111111111,
              "#46039f"
             ],
             [
              0.2222222222222222,
              "#7201a8"
             ],
             [
              0.3333333333333333,
              "#9c179e"
             ],
             [
              0.4444444444444444,
              "#bd3786"
             ],
             [
              0.5555555555555556,
              "#d8576b"
             ],
             [
              0.6666666666666666,
              "#ed7953"
             ],
             [
              0.7777777777777778,
              "#fb9f3a"
             ],
             [
              0.8888888888888888,
              "#fdca26"
             ],
             [
              1,
              "#f0f921"
             ]
            ],
            "type": "heatmap"
           }
          ],
          "histogram": [
           {
            "marker": {
             "pattern": {
              "fillmode": "overlay",
              "size": 10,
              "solidity": 0.2
             }
            },
            "type": "histogram"
           }
          ],
          "histogram2d": [
           {
            "colorbar": {
             "outlinewidth": 0,
             "ticks": ""
            },
            "colorscale": [
             [
              0,
              "#0d0887"
             ],
             [
              0.1111111111111111,
              "#46039f"
             ],
             [
              0.2222222222222222,
              "#7201a8"
             ],
             [
              0.3333333333333333,
              "#9c179e"
             ],
             [
              0.4444444444444444,
              "#bd3786"
             ],
             [
              0.5555555555555556,
              "#d8576b"
             ],
             [
              0.6666666666666666,
              "#ed7953"
             ],
             [
              0.7777777777777778,
              "#fb9f3a"
             ],
             [
              0.8888888888888888,
              "#fdca26"
             ],
             [
              1,
              "#f0f921"
             ]
            ],
            "type": "histogram2d"
           }
          ],
          "histogram2dcontour": [
           {
            "colorbar": {
             "outlinewidth": 0,
             "ticks": ""
            },
            "colorscale": [
             [
              0,
              "#0d0887"
             ],
             [
              0.1111111111111111,
              "#46039f"
             ],
             [
              0.2222222222222222,
              "#7201a8"
             ],
             [
              0.3333333333333333,
              "#9c179e"
             ],
             [
              0.4444444444444444,
              "#bd3786"
             ],
             [
              0.5555555555555556,
              "#d8576b"
             ],
             [
              0.6666666666666666,
              "#ed7953"
             ],
             [
              0.7777777777777778,
              "#fb9f3a"
             ],
             [
              0.8888888888888888,
              "#fdca26"
             ],
             [
              1,
              "#f0f921"
             ]
            ],
            "type": "histogram2dcontour"
           }
          ],
          "mesh3d": [
           {
            "colorbar": {
             "outlinewidth": 0,
             "ticks": ""
            },
            "type": "mesh3d"
           }
          ],
          "parcoords": [
           {
            "line": {
             "colorbar": {
              "outlinewidth": 0,
              "ticks": ""
             }
            },
            "type": "parcoords"
           }
          ],
          "pie": [
           {
            "automargin": true,
            "type": "pie"
           }
          ],
          "scatter": [
           {
            "fillpattern": {
             "fillmode": "overlay",
             "size": 10,
             "solidity": 0.2
            },
            "type": "scatter"
           }
          ],
          "scatter3d": [
           {
            "line": {
             "colorbar": {
              "outlinewidth": 0,
              "ticks": ""
             }
            },
            "marker": {
             "colorbar": {
              "outlinewidth": 0,
              "ticks": ""
             }
            },
            "type": "scatter3d"
           }
          ],
          "scattercarpet": [
           {
            "marker": {
             "colorbar": {
              "outlinewidth": 0,
              "ticks": ""
             }
            },
            "type": "scattercarpet"
           }
          ],
          "scattergeo": [
           {
            "marker": {
             "colorbar": {
              "outlinewidth": 0,
              "ticks": ""
             }
            },
            "type": "scattergeo"
           }
          ],
          "scattergl": [
           {
            "marker": {
             "colorbar": {
              "outlinewidth": 0,
              "ticks": ""
             }
            },
            "type": "scattergl"
           }
          ],
          "scattermap": [
           {
            "marker": {
             "colorbar": {
              "outlinewidth": 0,
              "ticks": ""
             }
            },
            "type": "scattermap"
           }
          ],
          "scattermapbox": [
           {
            "marker": {
             "colorbar": {
              "outlinewidth": 0,
              "ticks": ""
             }
            },
            "type": "scattermapbox"
           }
          ],
          "scatterpolar": [
           {
            "marker": {
             "colorbar": {
              "outlinewidth": 0,
              "ticks": ""
             }
            },
            "type": "scatterpolar"
           }
          ],
          "scatterpolargl": [
           {
            "marker": {
             "colorbar": {
              "outlinewidth": 0,
              "ticks": ""
             }
            },
            "type": "scatterpolargl"
           }
          ],
          "scatterternary": [
           {
            "marker": {
             "colorbar": {
              "outlinewidth": 0,
              "ticks": ""
             }
            },
            "type": "scatterternary"
           }
          ],
          "surface": [
           {
            "colorbar": {
             "outlinewidth": 0,
             "ticks": ""
            },
            "colorscale": [
             [
              0,
              "#0d0887"
             ],
             [
              0.1111111111111111,
              "#46039f"
             ],
             [
              0.2222222222222222,
              "#7201a8"
             ],
             [
              0.3333333333333333,
              "#9c179e"
             ],
             [
              0.4444444444444444,
              "#bd3786"
             ],
             [
              0.5555555555555556,
              "#d8576b"
             ],
             [
              0.6666666666666666,
              "#ed7953"
             ],
             [
              0.7777777777777778,
              "#fb9f3a"
             ],
             [
              0.8888888888888888,
              "#fdca26"
             ],
             [
              1,
              "#f0f921"
             ]
            ],
            "type": "surface"
           }
          ],
          "table": [
           {
            "cells": {
             "fill": {
              "color": "#EBF0F8"
             },
             "line": {
              "color": "white"
             }
            },
            "header": {
             "fill": {
              "color": "#C8D4E3"
             },
             "line": {
              "color": "white"
             }
            },
            "type": "table"
           }
          ]
         },
         "layout": {
          "annotationdefaults": {
           "arrowcolor": "#2a3f5f",
           "arrowhead": 0,
           "arrowwidth": 1
          },
          "autotypenumbers": "strict",
          "coloraxis": {
           "colorbar": {
            "outlinewidth": 0,
            "ticks": ""
           }
          },
          "colorscale": {
           "diverging": [
            [
             0,
             "#8e0152"
            ],
            [
             0.1,
             "#c51b7d"
            ],
            [
             0.2,
             "#de77ae"
            ],
            [
             0.3,
             "#f1b6da"
            ],
            [
             0.4,
             "#fde0ef"
            ],
            [
             0.5,
             "#f7f7f7"
            ],
            [
             0.6,
             "#e6f5d0"
            ],
            [
             0.7,
             "#b8e186"
            ],
            [
             0.8,
             "#7fbc41"
            ],
            [
             0.9,
             "#4d9221"
            ],
            [
             1,
             "#276419"
            ]
           ],
           "sequential": [
            [
             0,
             "#0d0887"
            ],
            [
             0.1111111111111111,
             "#46039f"
            ],
            [
             0.2222222222222222,
             "#7201a8"
            ],
            [
             0.3333333333333333,
             "#9c179e"
            ],
            [
             0.4444444444444444,
             "#bd3786"
            ],
            [
             0.5555555555555556,
             "#d8576b"
            ],
            [
             0.6666666666666666,
             "#ed7953"
            ],
            [
             0.7777777777777778,
             "#fb9f3a"
            ],
            [
             0.8888888888888888,
             "#fdca26"
            ],
            [
             1,
             "#f0f921"
            ]
           ],
           "sequentialminus": [
            [
             0,
             "#0d0887"
            ],
            [
             0.1111111111111111,
             "#46039f"
            ],
            [
             0.2222222222222222,
             "#7201a8"
            ],
            [
             0.3333333333333333,
             "#9c179e"
            ],
            [
             0.4444444444444444,
             "#bd3786"
            ],
            [
             0.5555555555555556,
             "#d8576b"
            ],
            [
             0.6666666666666666,
             "#ed7953"
            ],
            [
             0.7777777777777778,
             "#fb9f3a"
            ],
            [
             0.8888888888888888,
             "#fdca26"
            ],
            [
             1,
             "#f0f921"
            ]
           ]
          },
          "colorway": [
           "#636efa",
           "#EF553B",
           "#00cc96",
           "#ab63fa",
           "#FFA15A",
           "#19d3f3",
           "#FF6692",
           "#B6E880",
           "#FF97FF",
           "#FECB52"
          ],
          "font": {
           "color": "#2a3f5f"
          },
          "geo": {
           "bgcolor": "white",
           "lakecolor": "white",
           "landcolor": "#E5ECF6",
           "showlakes": true,
           "showland": true,
           "subunitcolor": "white"
          },
          "hoverlabel": {
           "align": "left"
          },
          "hovermode": "closest",
          "mapbox": {
           "style": "light"
          },
          "paper_bgcolor": "white",
          "plot_bgcolor": "#E5ECF6",
          "polar": {
           "angularaxis": {
            "gridcolor": "white",
            "linecolor": "white",
            "ticks": ""
           },
           "bgcolor": "#E5ECF6",
           "radialaxis": {
            "gridcolor": "white",
            "linecolor": "white",
            "ticks": ""
           }
          },
          "scene": {
           "xaxis": {
            "backgroundcolor": "#E5ECF6",
            "gridcolor": "white",
            "gridwidth": 2,
            "linecolor": "white",
            "showbackground": true,
            "ticks": "",
            "zerolinecolor": "white"
           },
           "yaxis": {
            "backgroundcolor": "#E5ECF6",
            "gridcolor": "white",
            "gridwidth": 2,
            "linecolor": "white",
            "showbackground": true,
            "ticks": "",
            "zerolinecolor": "white"
           },
           "zaxis": {
            "backgroundcolor": "#E5ECF6",
            "gridcolor": "white",
            "gridwidth": 2,
            "linecolor": "white",
            "showbackground": true,
            "ticks": "",
            "zerolinecolor": "white"
           }
          },
          "shapedefaults": {
           "line": {
            "color": "#2a3f5f"
           }
          },
          "ternary": {
           "aaxis": {
            "gridcolor": "white",
            "linecolor": "white",
            "ticks": ""
           },
           "baxis": {
            "gridcolor": "white",
            "linecolor": "white",
            "ticks": ""
           },
           "bgcolor": "#E5ECF6",
           "caxis": {
            "gridcolor": "white",
            "linecolor": "white",
            "ticks": ""
           }
          },
          "title": {
           "x": 0.05
          },
          "xaxis": {
           "automargin": true,
           "gridcolor": "white",
           "linecolor": "white",
           "ticks": "",
           "title": {
            "standoff": 15
           },
           "zerolinecolor": "white",
           "zerolinewidth": 2
          },
          "yaxis": {
           "automargin": true,
           "gridcolor": "white",
           "linecolor": "white",
           "ticks": "",
           "title": {
            "standoff": 15
           },
           "zerolinecolor": "white",
           "zerolinewidth": 2
          }
         }
        },
        "title": {
         "text": "Distribution des différences de temps de trajet (baseline - GPE)"
        },
        "xaxis": {
         "anchor": "y",
         "domain": [
          0,
          1
         ],
         "title": {
          "text": "Différence de temps (minutes)"
         }
        },
        "yaxis": {
         "anchor": "x",
         "domain": [
          0,
          1
         ],
         "title": {
          "text": "count"
         }
        }
       }
      }
     },
     "metadata": {},
     "output_type": "display_data"
    }
   ],
   "source": [
    "fig = px.histogram(\n",
    "    negatif,\n",
    "    x=negatif[\"travel_time_diff\"]/60,\n",
    "    nbins=25,\n",
    "    title=\"Distribution des différences de temps de trajet (baseline - GPE)\",\n",
    "    labels={\"x\": \"Différence de temps (minutes)\", \"count\": \"Nombre de trajets\"},\n",
    "    color_discrete_sequence=[\"#636EFA\"]\n",
    ")\n",
    "\n",
    "fig.show()"
   ]
  },
  {
   "cell_type": "code",
   "execution_count": 98,
   "id": "c2460b09",
   "metadata": {},
   "outputs": [
    {
     "data": {
      "application/pdf": "[encoded data removed]",
      "application/vnd.plotly.v1+json": {
       "config": {
        "plotlyServerURL": "https://plot.ly"
       },
       "data": [
        {
         "bingroup": "x",
         "hovertemplate": "Différence de temps (%)=%{x}<br>count=%{y}<extra></extra>",
         "legendgroup": "",
         "marker": {
          "color": "#636EFA",
          "pattern": {
           "shape": ""
          }
         },
         "name": "",
         "nbinsx": 20,
         "orientation": "v",
         "showlegend": false,
         "type": "histogram",
         "x": {
          "bdata": "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",
          "dtype": "f8"
         },
         "xaxis": "x",
         "yaxis": "y"
        }
       ],
       "layout": {
        "barmode": "relative",
        "legend": {
         "tracegroupgap": 0
        },
        "template": {
         "data": {
          "bar": [
           {
            "error_x": {
             "color": "#2a3f5f"
            },
            "error_y": {
             "color": "#2a3f5f"
            },
            "marker": {
             "line": {
              "color": "#E5ECF6",
              "width": 0.5
             },
             "pattern": {
              "fillmode": "overlay",
              "size": 10,
              "solidity": 0.2
             }
            },
            "type": "bar"
           }
          ],
          "barpolar": [
           {
            "marker": {
             "line": {
              "color": "#E5ECF6",
              "width": 0.5
             },
             "pattern": {
              "fillmode": "overlay",
              "size": 10,
              "solidity": 0.2
             }
            },
            "type": "barpolar"
           }
          ],
          "carpet": [
           {
            "aaxis": {
             "endlinecolor": "#2a3f5f",
             "gridcolor": "white",
             "linecolor": "white",
             "minorgridcolor": "white",
             "startlinecolor": "#2a3f5f"
            },
            "baxis": {
             "endlinecolor": "#2a3f5f",
             "gridcolor": "white",
             "linecolor": "white",
             "minorgridcolor": "white",
             "startlinecolor": "#2a3f5f"
            },
            "type": "carpet"
           }
          ],
          "choropleth": [
           {
            "colorbar": {
             "outlinewidth": 0,
             "ticks": ""
            },
            "type": "choropleth"
           }
          ],
          "contour": [
           {
            "colorbar": {
             "outlinewidth": 0,
             "ticks": ""
            },
            "colorscale": [
             [
              0,
              "#0d0887"
             ],
             [
              0.1111111111111111,
              "#46039f"
             ],
             [
              0.2222222222222222,
              "#7201a8"
             ],
             [
              0.3333333333333333,
              "#9c179e"
             ],
             [
              0.4444444444444444,
              "#bd3786"
             ],
             [
              0.5555555555555556,
              "#d8576b"
             ],
             [
              0.6666666666666666,
              "#ed7953"
             ],
             [
              0.7777777777777778,
              "#fb9f3a"
             ],
             [
              0.8888888888888888,
              "#fdca26"
             ],
             [
              1,
              "#f0f921"
             ]
            ],
            "type": "contour"
           }
          ],
          "contourcarpet": [
           {
            "colorbar": {
             "outlinewidth": 0,
             "ticks": ""
            },
            "type": "contourcarpet"
           }
          ],
          "heatmap": [
           {
            "colorbar": {
             "outlinewidth": 0,
             "ticks": ""
            },
            "colorscale": [
             [
              0,
              "#0d0887"
             ],
             [
              0.1111111111111111,
              "#46039f"
             ],
             [
              0.2222222222222222,
              "#7201a8"
             ],
             [
              0.3333333333333333,
              "#9c179e"
             ],
             [
              0.4444444444444444,
              "#bd3786"
             ],
             [
              0.5555555555555556,
              "#d8576b"
             ],
             [
              0.6666666666666666,
              "#ed7953"
             ],
             [
              0.7777777777777778,
              "#fb9f3a"
             ],
             [
              0.8888888888888888,
              "#fdca26"
             ],
             [
              1,
              "#f0f921"
             ]
            ],
            "type": "heatmap"
           }
          ],
          "histogram": [
           {
            "marker": {
             "pattern": {
              "fillmode": "overlay",
              "size": 10,
              "solidity": 0.2
             }
            },
            "type": "histogram"
           }
          ],
          "histogram2d": [
           {
            "colorbar": {
             "outlinewidth": 0,
             "ticks": ""
            },
            "colorscale": [
             [
              0,
              "#0d0887"
             ],
             [
              0.1111111111111111,
              "#46039f"
             ],
             [
              0.2222222222222222,
              "#7201a8"
             ],
             [
              0.3333333333333333,
              "#9c179e"
             ],
             [
              0.4444444444444444,
              "#bd3786"
             ],
             [
              0.5555555555555556,
              "#d8576b"
             ],
             [
              0.6666666666666666,
              "#ed7953"
             ],
             [
              0.7777777777777778,
              "#fb9f3a"
             ],
             [
              0.8888888888888888,
              "#fdca26"
             ],
             [
              1,
              "#f0f921"
             ]
            ],
            "type": "histogram2d"
           }
          ],
          "histogram2dcontour": [
           {
            "colorbar": {
             "outlinewidth": 0,
             "ticks": ""
            },
            "colorscale": [
             [
              0,
              "#0d0887"
             ],
             [
              0.1111111111111111,
              "#46039f"
             ],
             [
              0.2222222222222222,
              "#7201a8"
             ],
             [
              0.3333333333333333,
              "#9c179e"
             ],
             [
              0.4444444444444444,
              "#bd3786"
             ],
             [
              0.5555555555555556,
              "#d8576b"
             ],
             [
              0.6666666666666666,
              "#ed7953"
             ],
             [
              0.7777777777777778,
              "#fb9f3a"
             ],
             [
              0.8888888888888888,
              "#fdca26"
             ],
             [
              1,
              "#f0f921"
             ]
            ],
            "type": "histogram2dcontour"
           }
          ],
          "mesh3d": [
           {
            "colorbar": {
             "outlinewidth": 0,
             "ticks": ""
            },
            "type": "mesh3d"
           }
          ],
          "parcoords": [
           {
            "line": {
             "colorbar": {
              "outlinewidth": 0,
              "ticks": ""
             }
            },
            "type": "parcoords"
           }
          ],
          "pie": [
           {
            "automargin": true,
            "type": "pie"
           }
          ],
          "scatter": [
           {
            "fillpattern": {
             "fillmode": "overlay",
             "size": 10,
             "solidity": 0.2
            },
            "type": "scatter"
           }
          ],
          "scatter3d": [
           {
            "line": {
             "colorbar": {
              "outlinewidth": 0,
              "ticks": ""
             }
            },
            "marker": {
             "colorbar": {
              "outlinewidth": 0,
              "ticks": ""
             }
            },
            "type": "scatter3d"
           }
          ],
          "scattercarpet": [
           {
            "marker": {
             "colorbar": {
              "outlinewidth": 0,
              "ticks": ""
             }
            },
            "type": "scattercarpet"
           }
          ],
          "scattergeo": [
           {
            "marker": {
             "colorbar": {
              "outlinewidth": 0,
              "ticks": ""
             }
            },
            "type": "scattergeo"
           }
          ],
          "scattergl": [
           {
            "marker": {
             "colorbar": {
              "outlinewidth": 0,
              "ticks": ""
             }
            },
            "type": "scattergl"
           }
          ],
          "scattermap": [
           {
            "marker": {
             "colorbar": {
              "outlinewidth": 0,
              "ticks": ""
             }
            },
            "type": "scattermap"
           }
          ],
          "scattermapbox": [
           {
            "marker": {
             "colorbar": {
              "outlinewidth": 0,
              "ticks": ""
             }
            },
            "type": "scattermapbox"
           }
          ],
          "scatterpolar": [
           {
            "marker": {
             "colorbar": {
              "outlinewidth": 0,
              "ticks": ""
             }
            },
            "type": "scatterpolar"
           }
          ],
          "scatterpolargl": [
           {
            "marker": {
             "colorbar": {
              "outlinewidth": 0,
              "ticks": ""
             }
            },
            "type": "scatterpolargl"
           }
          ],
          "scatterternary": [
           {
            "marker": {
             "colorbar": {
              "outlinewidth": 0,
              "ticks": ""
             }
            },
            "type": "scatterternary"
           }
          ],
          "surface": [
           {
            "colorbar": {
             "outlinewidth": 0,
             "ticks": ""
            },
            "colorscale": [
             [
              0,
              "#0d0887"
             ],
             [
              0.1111111111111111,
              "#46039f"
             ],
             [
              0.2222222222222222,
              "#7201a8"
             ],
             [
              0.3333333333333333,
              "#9c179e"
             ],
             [
              0.4444444444444444,
              "#bd3786"
             ],
             [
              0.5555555555555556,
              "#d8576b"
             ],
             [
              0.6666666666666666,
              "#ed7953"
             ],
             [
              0.7777777777777778,
              "#fb9f3a"
             ],
             [
              0.8888888888888888,
              "#fdca26"
             ],
             [
              1,
              "#f0f921"
             ]
            ],
            "type": "surface"
           }
          ],
          "table": [
           {
            "cells": {
             "fill": {
              "color": "#EBF0F8"
             },
             "line": {
              "color": "white"
             }
            },
            "header": {
             "fill": {
              "color": "#C8D4E3"
             },
             "line": {
              "color": "white"
             }
            },
            "type": "table"
           }
          ]
         },
         "layout": {
          "annotationdefaults": {
           "arrowcolor": "#2a3f5f",
           "arrowhead": 0,
           "arrowwidth": 1
          },
          "autotypenumbers": "strict",
          "coloraxis": {
           "colorbar": {
            "outlinewidth": 0,
            "ticks": ""
           }
          },
          "colorscale": {
           "diverging": [
            [
             0,
             "#8e0152"
            ],
            [
             0.1,
             "#c51b7d"
            ],
            [
             0.2,
             "#de77ae"
            ],
            [
             0.3,
             "#f1b6da"
            ],
            [
             0.4,
             "#fde0ef"
            ],
            [
             0.5,
             "#f7f7f7"
            ],
            [
             0.6,
             "#e6f5d0"
            ],
            [
             0.7,
             "#b8e186"
            ],
            [
             0.8,
             "#7fbc41"
            ],
            [
             0.9,
             "#4d9221"
            ],
            [
             1,
             "#276419"
            ]
           ],
           "sequential": [
            [
             0,
             "#0d0887"
            ],
            [
             0.1111111111111111,
             "#46039f"
            ],
            [
             0.2222222222222222,
             "#7201a8"
            ],
            [
             0.3333333333333333,
             "#9c179e"
            ],
            [
             0.4444444444444444,
             "#bd3786"
            ],
            [
             0.5555555555555556,
             "#d8576b"
            ],
            [
             0.6666666666666666,
             "#ed7953"
            ],
            [
             0.7777777777777778,
             "#fb9f3a"
            ],
            [
             0.8888888888888888,
             "#fdca26"
            ],
            [
             1,
             "#f0f921"
            ]
           ],
           "sequentialminus": [
            [
             0,
             "#0d0887"
            ],
            [
             0.1111111111111111,
             "#46039f"
            ],
            [
             0.2222222222222222,
             "#7201a8"
            ],
            [
             0.3333333333333333,
             "#9c179e"
            ],
            [
             0.4444444444444444,
             "#bd3786"
            ],
            [
             0.5555555555555556,
             "#d8576b"
            ],
            [
             0.6666666666666666,
             "#ed7953"
            ],
            [
             0.7777777777777778,
             "#fb9f3a"
            ],
            [
             0.8888888888888888,
             "#fdca26"
            ],
            [
             1,
             "#f0f921"
            ]
           ]
          },
          "colorway": [
           "#636efa",
           "#EF553B",
           "#00cc96",
           "#ab63fa",
           "#FFA15A",
           "#19d3f3",
           "#FF6692",
           "#B6E880",
           "#FF97FF",
           "#FECB52"
          ],
          "font": {
           "color": "#2a3f5f"
          },
          "geo": {
           "bgcolor": "white",
           "lakecolor": "white",
           "landcolor": "#E5ECF6",
           "showlakes": true,
           "showland": true,
           "subunitcolor": "white"
          },
          "hoverlabel": {
           "align": "left"
          },
          "hovermode": "closest",
          "mapbox": {
           "style": "light"
          },
          "paper_bgcolor": "white",
          "plot_bgcolor": "#E5ECF6",
          "polar": {
           "angularaxis": {
            "gridcolor": "white",
            "linecolor": "white",
            "ticks": ""
           },
           "bgcolor": "#E5ECF6",
           "radialaxis": {
            "gridcolor": "white",
            "linecolor": "white",
            "ticks": ""
           }
          },
          "scene": {
           "xaxis": {
            "backgroundcolor": "#E5ECF6",
            "gridcolor": "white",
            "gridwidth": 2,
            "linecolor": "white",
            "showbackground": true,
            "ticks": "",
            "zerolinecolor": "white"
           },
           "yaxis": {
            "backgroundcolor": "#E5ECF6",
            "gridcolor": "white",
            "gridwidth": 2,
            "linecolor": "white",
            "showbackground": true,
            "ticks": "",
            "zerolinecolor": "white"
           },
           "zaxis": {
            "backgroundcolor": "#E5ECF6",
            "gridcolor": "white",
            "gridwidth": 2,
            "linecolor": "white",
            "showbackground": true,
            "ticks": "",
            "zerolinecolor": "white"
           }
          },
          "shapedefaults": {
           "line": {
            "color": "#2a3f5f"
           }
          },
          "ternary": {
           "aaxis": {
            "gridcolor": "white",
            "linecolor": "white",
            "ticks": ""
           },
           "baxis": {
            "gridcolor": "white",
            "linecolor": "white",
            "ticks": ""
           },
           "bgcolor": "#E5ECF6",
           "caxis": {
            "gridcolor": "white",
            "linecolor": "white",
            "ticks": ""
           }
          },
          "title": {
           "x": 0.05
          },
          "xaxis": {
           "automargin": true,
           "gridcolor": "white",
           "linecolor": "white",
           "ticks": "",
           "title": {
            "standoff": 15
           },
           "zerolinecolor": "white",
           "zerolinewidth": 2
          },
          "yaxis": {
           "automargin": true,
           "gridcolor": "white",
           "linecolor": "white",
           "ticks": "",
           "title": {
            "standoff": 15
           },
           "zerolinecolor": "white",
           "zerolinewidth": 2
          }
         }
        },
        "title": {
         "text": "Distribution des différences de temps de trajet en pourcentage (baseline - GPE)"
        },
        "xaxis": {
         "anchor": "y",
         "domain": [
          0,
          1
         ],
         "title": {
          "text": "Différence de temps (%)"
         }
        },
        "yaxis": {
         "anchor": "x",
         "domain": [
          0,
          1
         ],
         "title": {
          "text": "count"
         }
        }
       }
      }
     },
     "metadata": {},
     "output_type": "display_data"
    }
   ],
   "source": [
    "fig = px.histogram(\n",
    "    negatif,\n",
    "    x='travel_time_diff_percent',\n",
    "    nbins=20,\n",
    "    title=\"Distribution des différences de temps de trajet en pourcentage (baseline - GPE)\",\n",
    "    labels={\"travel_time_diff_percent\": \"Différence de temps (%)\", \"count\": \"Nombre de trajets\"},\n",
    "    color_discrete_sequence=[\"#636EFA\"]\n",
    ")\n",
    "\n",
    "fig.show()"
   ]
  },
  {
   "cell_type": "code",
   "execution_count": 99,
   "id": "a433940f",
   "metadata": {},
   "outputs": [
    {
     "data": {
      "text/plain": [
       "count    905.0\n",
       "mean       0.0\n",
       "std        0.0\n",
       "min        0.0\n",
       "25%        0.0\n",
       "50%        0.0\n",
       "75%        0.0\n",
       "max        0.0\n",
       "Name: count_diff, dtype: float64"
      ]
     },
     "execution_count": 99,
     "metadata": {},
     "output_type": "execute_result"
    }
   ],
   "source": [
    "negatif_baseline_pt = baseline_pt.merge(\n",
    "    negatif[[\"person_id\",\"person_trip_id\"]],\n",
    "    on=[\"person_id\", \"person_trip_id\"],\n",
    "    how=\"inner\",\n",
    ")\n",
    "\n",
    "negatif_gpe_pt = gpe_pt.merge(\n",
    "    negatif[[\"person_id\",\"person_trip_id\"]],\n",
    "    on=[\"person_id\", \"person_trip_id\"],\n",
    "    how=\"inner\",\n",
    ")\n",
    "\n",
    "baseline_counts = negatif_baseline_pt.groupby([\"person_id\", \"person_trip_id\"]).size().reset_index(name=\"count_baseline\")\n",
    "gpe_counts = negatif_gpe_pt.groupby([\"person_id\", \"person_trip_id\"]).size().reset_index(name=\"count_gpe\")\n",
    "\n",
    "merged_counts = pd.merge(baseline_counts, gpe_counts, on=[\"person_id\", \"person_trip_id\"], how=\"outer\")\n",
    "merged_counts[\"count_diff\"] = merged_counts[\"count_baseline\"] - merged_counts[\"count_gpe\"]\n",
    "\n",
    "merged_counts[\"count_diff\"].describe()\n"
   ]
  },
  {
   "cell_type": "code",
   "execution_count": 100,
   "id": "21fbd385",
   "metadata": {},
   "outputs": [
    {
     "data": {
      "application/pdf": "[encoded data removed]",
      "application/vnd.plotly.v1+json": {
       "config": {
        "plotlyServerURL": "https://plot.ly"
       },
       "data": [
        {
         "bingroup": "x",
         "hovertemplate": "Différence de fréquence=%{x}<br>count=%{y}<extra></extra>",
         "legendgroup": "",
         "marker": {
          "color": "#636EFA",
          "pattern": {
           "shape": ""
          }
         },
         "name": "",
         "nbinsx": 50,
         "orientation": "v",
         "showlegend": false,
         "type": "histogram",
         "x": {
          "bdata": "AAAAAAAAAAAAAAAAAAAAAAAAAAAAAAAAAAAAAAAAAAAAAAAAAAAAAAAAAAAAAAAAAAAAAAAAAAAAAAAAAAAAAAAAAAAAAAAAAAAAAAAAAAAAAAAAAAAAAAAAAAAAAAAAAAAAAAAAAAAAAAAAAAAAAAAAAAAAAAAAAAAAAAAAAAAAAAAAAAAAAAAAAAAAAAAAAAAAAAAAAAAAAAAAAAAAAAAAAAAAAAAAAAAAAAAAAAAAAAAAAAAAAAAAAAAAAAAAAAAAAAAAAAAAAAAAAAAAAAAAAAAAAAAAAAAAAAAAAAAAAAAAAAAAAAAAAAAAAAAAAAAAAAAAAAAAAAAAAAAAAAAAAAAAAAAAAAAAAAAAAAAAAAAAAAAAAAAAAAAAAAAAAAAAAAAAAAAAAAAAAAAAAAAAAAAAAAAAAAAAAAAAAAAAAAAAAAAAAAAAAAAAAAAAAAAAAAAAAAAAAAAAAAAAAAAAAAAAAAAAAAAAAAAAAAAAAAAAAAAAAAAAAAAAAAAAAAAAAAAAAAAAAAAAAAAAAAAAAAAAAAAAAAAAAAAAAAAAAAAAAAAAAAAAAAAAAAAAAAAAAAAAAAAAAAAAAAAAAAAAAAAAAAAAAAAAAAAAAAAAAAAAAAAAAAAAAAAAAAAAAAAAAAAAAAAAAAAAAAAAAAAAAAAAAAAAAAAAAAAAAAAAAAAAAAAAAAAAAAAAAAAAAAAAAAAAAAAAAAAAAAAAAAAAAAAAAAAAAAAAAAAAAAAAAAAAAAAAAAAAAAAAAAAAAAAAAAAAAAAAAAAAAAAAAAAAAAAAAAAAAAAAAAAAAAAAAAAAAAAAAAAAAAAAAAAAAAAAAAAAAAAAAAAAAAAAAAAAAAAAAAAAAAAAAAAAAAAAAAAAAAAAAAAAAAAAAAAAAAAAAAAAAAAAAAAAAAAAAAAAAAAAAAAAAAAAAAAAAAAAAAAAAAAAAAAAAAAAAAAAAAAAAAAAAAAAAAAAAAAAAAAAAAAAAAAAAAAAAAAAAAAAAAAAAAAAAAAAAAAAAAAAAAAAAAAAAAAAAAAAAAAAAAAAAAAAAAAAAAAAAAAAAAAAAAAAAAAAAAAAAAAAAAAAAAAAAAAAAAAAAAAAAAAAAAAAAAAAAAAAAAAAAAAAAAAAAAAAAAAAAAAAAAAAAAAAAAAAAAAAAAAAAAAAAAAAAAAAAAAAAAAAAAAAAAAAAAAAAAAAAAAAAAA=",
          "dtype": "i1"
         },
         "xaxis": "x",
         "yaxis": "y"
        }
       ],
       "layout": {
        "barmode": "relative",
        "legend": {
         "tracegroupgap": 0
        },
        "template": {
         "data": {
          "bar": [
           {
            "error_x": {
             "color": "#2a3f5f"
            },
            "error_y": {
             "color": "#2a3f5f"
            },
            "marker": {
             "line": {
              "color": "#E5ECF6",
              "width": 0.5
             },
             "pattern": {
              "fillmode": "overlay",
              "size": 10,
              "solidity": 0.2
             }
            },
            "type": "bar"
           }
          ],
          "barpolar": [
           {
            "marker": {
             "line": {
              "color": "#E5ECF6",
              "width": 0.5
             },
             "pattern": {
              "fillmode": "overlay",
              "size": 10,
              "solidity": 0.2
             }
            },
            "type": "barpolar"
           }
          ],
          "carpet": [
           {
            "aaxis": {
             "endlinecolor": "#2a3f5f",
             "gridcolor": "white",
             "linecolor": "white",
             "minorgridcolor": "white",
             "startlinecolor": "#2a3f5f"
            },
            "baxis": {
             "endlinecolor": "#2a3f5f",
             "gridcolor": "white",
             "linecolor": "white",
             "minorgridcolor": "white",
             "startlinecolor": "#2a3f5f"
            },
            "type": "carpet"
           }
          ],
          "choropleth": [
           {
            "colorbar": {
             "outlinewidth": 0,
             "ticks": ""
            },
            "type": "choropleth"
           }
          ],
          "contour": [
           {
            "colorbar": {
             "outlinewidth": 0,
             "ticks": ""
            },
            "colorscale": [
             [
              0,
              "#0d0887"
             ],
             [
              0.1111111111111111,
              "#46039f"
             ],
             [
              0.2222222222222222,
              "#7201a8"
             ],
             [
              0.3333333333333333,
              "#9c179e"
             ],
             [
              0.4444444444444444,
              "#bd3786"
             ],
             [
              0.5555555555555556,
              "#d8576b"
             ],
             [
              0.6666666666666666,
              "#ed7953"
             ],
             [
              0.7777777777777778,
              "#fb9f3a"
             ],
             [
              0.8888888888888888,
              "#fdca26"
             ],
             [
              1,
              "#f0f921"
             ]
            ],
            "type": "contour"
           }
          ],
          "contourcarpet": [
           {
            "colorbar": {
             "outlinewidth": 0,
             "ticks": ""
            },
            "type": "contourcarpet"
           }
          ],
          "heatmap": [
           {
            "colorbar": {
             "outlinewidth": 0,
             "ticks": ""
            },
            "colorscale": [
             [
              0,
              "#0d0887"
             ],
             [
              0.1111111111111111,
              "#46039f"
             ],
             [
              0.2222222222222222,
              "#7201a8"
             ],
             [
              0.3333333333333333,
              "#9c179e"
             ],
             [
              0.4444444444444444,
              "#bd3786"
             ],
             [
              0.5555555555555556,
              "#d8576b"
             ],
             [
              0.6666666666666666,
              "#ed7953"
             ],
             [
              0.7777777777777778,
              "#fb9f3a"
             ],
             [
              0.8888888888888888,
              "#fdca26"
             ],
             [
              1,
              "#f0f921"
             ]
            ],
            "type": "heatmap"
           }
          ],
          "histogram": [
           {
            "marker": {
             "pattern": {
              "fillmode": "overlay",
              "size": 10,
              "solidity": 0.2
             }
            },
            "type": "histogram"
           }
          ],
          "histogram2d": [
           {
            "colorbar": {
             "outlinewidth": 0,
             "ticks": ""
            },
            "colorscale": [
             [
              0,
              "#0d0887"
             ],
             [
              0.1111111111111111,
              "#46039f"
             ],
             [
              0.2222222222222222,
              "#7201a8"
             ],
             [
              0.3333333333333333,
              "#9c179e"
             ],
             [
              0.4444444444444444,
              "#bd3786"
             ],
             [
              0.5555555555555556,
              "#d8576b"
             ],
             [
              0.6666666666666666,
              "#ed7953"
             ],
             [
              0.7777777777777778,
              "#fb9f3a"
             ],
             [
              0.8888888888888888,
              "#fdca26"
             ],
             [
              1,
              "#f0f921"
             ]
            ],
            "type": "histogram2d"
           }
          ],
          "histogram2dcontour": [
           {
            "colorbar": {
             "outlinewidth": 0,
             "ticks": ""
            },
            "colorscale": [
             [
              0,
              "#0d0887"
             ],
             [
              0.1111111111111111,
              "#46039f"
             ],
             [
              0.2222222222222222,
              "#7201a8"
             ],
             [
              0.3333333333333333,
              "#9c179e"
             ],
             [
              0.4444444444444444,
              "#bd3786"
             ],
             [
              0.5555555555555556,
              "#d8576b"
             ],
             [
              0.6666666666666666,
              "#ed7953"
             ],
             [
              0.7777777777777778,
              "#fb9f3a"
             ],
             [
              0.8888888888888888,
              "#fdca26"
             ],
             [
              1,
              "#f0f921"
             ]
            ],
            "type": "histogram2dcontour"
           }
          ],
          "mesh3d": [
           {
            "colorbar": {
             "outlinewidth": 0,
             "ticks": ""
            },
            "type": "mesh3d"
           }
          ],
          "parcoords": [
           {
            "line": {
             "colorbar": {
              "outlinewidth": 0,
              "ticks": ""
             }
            },
            "type": "parcoords"
           }
          ],
          "pie": [
           {
            "automargin": true,
            "type": "pie"
           }
          ],
          "scatter": [
           {
            "fillpattern": {
             "fillmode": "overlay",
             "size": 10,
             "solidity": 0.2
            },
            "type": "scatter"
           }
          ],
          "scatter3d": [
           {
            "line": {
             "colorbar": {
              "outlinewidth": 0,
              "ticks": ""
             }
            },
            "marker": {
             "colorbar": {
              "outlinewidth": 0,
              "ticks": ""
             }
            },
            "type": "scatter3d"
           }
          ],
          "scattercarpet": [
           {
            "marker": {
             "colorbar": {
              "outlinewidth": 0,
              "ticks": ""
             }
            },
            "type": "scattercarpet"
           }
          ],
          "scattergeo": [
           {
            "marker": {
             "colorbar": {
              "outlinewidth": 0,
              "ticks": ""
             }
            },
            "type": "scattergeo"
           }
          ],
          "scattergl": [
           {
            "marker": {
             "colorbar": {
              "outlinewidth": 0,
              "ticks": ""
             }
            },
            "type": "scattergl"
           }
          ],
          "scattermap": [
           {
            "marker": {
             "colorbar": {
              "outlinewidth": 0,
              "ticks": ""
             }
            },
            "type": "scattermap"
           }
          ],
          "scattermapbox": [
           {
            "marker": {
             "colorbar": {
              "outlinewidth": 0,
              "ticks": ""
             }
            },
            "type": "scattermapbox"
           }
          ],
          "scatterpolar": [
           {
            "marker": {
             "colorbar": {
              "outlinewidth": 0,
              "ticks": ""
             }
            },
            "type": "scatterpolar"
           }
          ],
          "scatterpolargl": [
           {
            "marker": {
             "colorbar": {
              "outlinewidth": 0,
              "ticks": ""
             }
            },
            "type": "scatterpolargl"
           }
          ],
          "scatterternary": [
           {
            "marker": {
             "colorbar": {
              "outlinewidth": 0,
              "ticks": ""
             }
            },
            "type": "scatterternary"
           }
          ],
          "surface": [
           {
            "colorbar": {
             "outlinewidth": 0,
             "ticks": ""
            },
            "colorscale": [
             [
              0,
              "#0d0887"
             ],
             [
              0.1111111111111111,
              "#46039f"
             ],
             [
              0.2222222222222222,
              "#7201a8"
             ],
             [
              0.3333333333333333,
              "#9c179e"
             ],
             [
              0.4444444444444444,
              "#bd3786"
             ],
             [
              0.5555555555555556,
              "#d8576b"
             ],
             [
              0.6666666666666666,
              "#ed7953"
             ],
             [
              0.7777777777777778,
              "#fb9f3a"
             ],
             [
              0.8888888888888888,
              "#fdca26"
             ],
             [
              1,
              "#f0f921"
             ]
            ],
            "type": "surface"
           }
          ],
          "table": [
           {
            "cells": {
             "fill": {
              "color": "#EBF0F8"
             },
             "line": {
              "color": "white"
             }
            },
            "header": {
             "fill": {
              "color": "#C8D4E3"
             },
             "line": {
              "color": "white"
             }
            },
            "type": "table"
           }
          ]
         },
         "layout": {
          "annotationdefaults": {
           "arrowcolor": "#2a3f5f",
           "arrowhead": 0,
           "arrowwidth": 1
          },
          "autotypenumbers": "strict",
          "coloraxis": {
           "colorbar": {
            "outlinewidth": 0,
            "ticks": ""
           }
          },
          "colorscale": {
           "diverging": [
            [
             0,
             "#8e0152"
            ],
            [
             0.1,
             "#c51b7d"
            ],
            [
             0.2,
             "#de77ae"
            ],
            [
             0.3,
             "#f1b6da"
            ],
            [
             0.4,
             "#fde0ef"
            ],
            [
             0.5,
             "#f7f7f7"
            ],
            [
             0.6,
             "#e6f5d0"
            ],
            [
             0.7,
             "#b8e186"
            ],
            [
             0.8,
             "#7fbc41"
            ],
            [
             0.9,
             "#4d9221"
            ],
            [
             1,
             "#276419"
            ]
           ],
           "sequential": [
            [
             0,
             "#0d0887"
            ],
            [
             0.1111111111111111,
             "#46039f"
            ],
            [
             0.2222222222222222,
             "#7201a8"
            ],
            [
             0.3333333333333333,
             "#9c179e"
            ],
            [
             0.4444444444444444,
             "#bd3786"
            ],
            [
             0.5555555555555556,
             "#d8576b"
            ],
            [
             0.6666666666666666,
             "#ed7953"
            ],
            [
             0.7777777777777778,
             "#fb9f3a"
            ],
            [
             0.8888888888888888,
             "#fdca26"
            ],
            [
             1,
             "#f0f921"
            ]
           ],
           "sequentialminus": [
            [
             0,
             "#0d0887"
            ],
            [
             0.1111111111111111,
             "#46039f"
            ],
            [
             0.2222222222222222,
             "#7201a8"
            ],
            [
             0.3333333333333333,
             "#9c179e"
            ],
            [
             0.4444444444444444,
             "#bd3786"
            ],
            [
             0.5555555555555556,
             "#d8576b"
            ],
            [
             0.6666666666666666,
             "#ed7953"
            ],
            [
             0.7777777777777778,
             "#fb9f3a"
            ],
            [
             0.8888888888888888,
             "#fdca26"
            ],
            [
             1,
             "#f0f921"
            ]
           ]
          },
          "colorway": [
           "#636efa",
           "#EF553B",
           "#00cc96",
           "#ab63fa",
           "#FFA15A",
           "#19d3f3",
           "#FF6692",
           "#B6E880",
           "#FF97FF",
           "#FECB52"
          ],
          "font": {
           "color": "#2a3f5f"
          },
          "geo": {
           "bgcolor": "white",
           "lakecolor": "white",
           "landcolor": "#E5ECF6",
           "showlakes": true,
           "showland": true,
           "subunitcolor": "white"
          },
          "hoverlabel": {
           "align": "left"
          },
          "hovermode": "closest",
          "mapbox": {
           "style": "light"
          },
          "paper_bgcolor": "white",
          "plot_bgcolor": "#E5ECF6",
          "polar": {
           "angularaxis": {
            "gridcolor": "white",
            "linecolor": "white",
            "ticks": ""
           },
           "bgcolor": "#E5ECF6",
           "radialaxis": {
            "gridcolor": "white",
            "linecolor": "white",
            "ticks": ""
           }
          },
          "scene": {
           "xaxis": {
            "backgroundcolor": "#E5ECF6",
            "gridcolor": "white",
            "gridwidth": 2,
            "linecolor": "white",
            "showbackground": true,
            "ticks": "",
            "zerolinecolor": "white"
           },
           "yaxis": {
            "backgroundcolor": "#E5ECF6",
            "gridcolor": "white",
            "gridwidth": 2,
            "linecolor": "white",
            "showbackground": true,
            "ticks": "",
            "zerolinecolor": "white"
           },
           "zaxis": {
            "backgroundcolor": "#E5ECF6",
            "gridcolor": "white",
            "gridwidth": 2,
            "linecolor": "white",
            "showbackground": true,
            "ticks": "",
            "zerolinecolor": "white"
           }
          },
          "shapedefaults": {
           "line": {
            "color": "#2a3f5f"
           }
          },
          "ternary": {
           "aaxis": {
            "gridcolor": "white",
            "linecolor": "white",
            "ticks": ""
           },
           "baxis": {
            "gridcolor": "white",
            "linecolor": "white",
            "ticks": ""
           },
           "bgcolor": "#E5ECF6",
           "caxis": {
            "gridcolor": "white",
            "linecolor": "white",
            "ticks": ""
           }
          },
          "title": {
           "x": 0.05
          },
          "xaxis": {
           "automargin": true,
           "gridcolor": "white",
           "linecolor": "white",
           "ticks": "",
           "title": {
            "standoff": 15
           },
           "zerolinecolor": "white",
           "zerolinewidth": 2
          },
          "yaxis": {
           "automargin": true,
           "gridcolor": "white",
           "linecolor": "white",
           "ticks": "",
           "title": {
            "standoff": 15
           },
           "zerolinecolor": "white",
           "zerolinewidth": 2
          }
         }
        },
        "title": {
         "text": "Distribution des différences de fréquence (baseline - GPE)"
        },
        "xaxis": {
         "anchor": "y",
         "domain": [
          0,
          1
         ],
         "title": {
          "text": "Différence de fréquence"
         }
        },
        "yaxis": {
         "anchor": "x",
         "domain": [
          0,
          1
         ],
         "title": {
          "text": "count"
         }
        }
       }
      }
     },
     "metadata": {},
     "output_type": "display_data"
    }
   ],
   "source": [
    "\n",
    "\n",
    "fig = px.histogram(\n",
    "    merged_counts,\n",
    "    x=\"count_diff\",\n",
    "    nbins=50,\n",
    "    title=\"Distribution des différences de fréquence (baseline - GPE)\",\n",
    "    labels={\"count_diff\": \"Différence de fréquence\", \"count\": \"Nombre de trajets\"},\n",
    "    color_discrete_sequence=[\"#636EFA\"]\n",
    ")\n",
    "\n",
    "fig.show()"
   ]
  },
  {
   "cell_type": "code",
   "execution_count": 101,
   "id": "ae138031",
   "metadata": {},
   "outputs": [
    {
     "data": {
      "text/html": [
       "<div>\n",
       "<style scoped>\n",
       "    .dataframe tbody tr th:only-of-type {\n",
       "        vertical-align: middle;\n",
       "    }\n",
       "\n",
       "    .dataframe tbody tr th {\n",
       "        vertical-align: top;\n",
       "    }\n",
       "\n",
       "    .dataframe thead th {\n",
       "        text-align: right;\n",
       "    }\n",
       "</style>\n",
       "<table border=\"1\" class=\"dataframe\">\n",
       "  <thead>\n",
       "    <tr style=\"text-align: right;\">\n",
       "      <th></th>\n",
       "      <th>person_id</th>\n",
       "      <th>person_trip_id</th>\n",
       "      <th>origin_x_baseline</th>\n",
       "      <th>origin_y_baseline</th>\n",
       "      <th>destination_x_baseline</th>\n",
       "      <th>destination_y_baseline</th>\n",
       "      <th>departure_time_baseline</th>\n",
       "      <th>travel_time_baseline</th>\n",
       "      <th>origin_x_gpe</th>\n",
       "      <th>origin_y_gpe</th>\n",
       "      <th>...</th>\n",
       "      <th>destination_y_gpe</th>\n",
       "      <th>departure_time_gpe</th>\n",
       "      <th>travel_time_gpe</th>\n",
       "      <th>origin_x_match</th>\n",
       "      <th>origin_y_match</th>\n",
       "      <th>destination_x_match</th>\n",
       "      <th>destination_y_match</th>\n",
       "      <th>departure_time_match</th>\n",
       "      <th>travel_time_diff</th>\n",
       "      <th>travel_time_diff_percent</th>\n",
       "    </tr>\n",
       "  </thead>\n",
       "  <tbody>\n",
       "  </tbody>\n",
       "</table>\n",
       "<p>0 rows × 21 columns</p>\n",
       "</div>"
      ],
      "text/plain": [
       "Empty DataFrame\n",
       "Columns: [person_id, person_trip_id, origin_x_baseline, origin_y_baseline, destination_x_baseline, destination_y_baseline, departure_time_baseline, travel_time_baseline, origin_x_gpe, origin_y_gpe, destination_x_gpe, destination_y_gpe, departure_time_gpe, travel_time_gpe, origin_x_match, origin_y_match, destination_x_match, destination_y_match, departure_time_match, travel_time_diff, travel_time_diff_percent]\n",
       "Index: []\n",
       "\n",
       "[0 rows x 21 columns]"
      ]
     },
     "execution_count": 101,
     "metadata": {},
     "output_type": "execute_result"
    }
   ],
   "source": [
    "merged_counts_neg = merged_counts[merged_counts[\"count_diff\"] <0]\n",
    "negatif[negatif.person_id.isin(merged_counts_neg.person_id)]"
   ]
  },
  {
   "cell_type": "code",
   "execution_count": 102,
   "id": "256c7d0a",
   "metadata": {},
   "outputs": [],
   "source": [
    "merged_trips_change = merged_data[merged_data.travel_time_diff != 0]\n",
    "\n",
    "baseline_pt_change = baseline_pt.merge(\n",
    "    merged_trips_change[[\"person_id\", \"person_trip_id\"]],\n",
    "    on=[\"person_id\",\"person_trip_id\"],\n",
    "    how=\"inner\",\n",
    ")\n",
    "\n",
    "gpe_pt_change = gpe_pt.merge(\n",
    "    merged_trips_change[[\"person_id\", \"person_trip_id\"]],\n",
    "    on=[\"person_id\",\"person_trip_id\"],\n",
    "    how=\"inner\",\n",
    ")\n",
    "\n",
    "line_baseline = baseline_pt_change[\"transit_line_id\"].value_counts().reset_index()\n",
    "line_baseline.columns = [\"route_id\", \"count_baseline\"]\n",
    "\n",
    "line_gpe = gpe_pt_change[\"transit_line_id\"].value_counts().reset_index()\n",
    "line_gpe.columns = [\"route_id\", \"count_gpe\"]\n",
    "\n",
    "line_counts = line_baseline.merge(\n",
    "    line_gpe,\n",
    "    on=[\"route_id\"],\n",
    "    how=\"outer\",\n",
    ").fillna(0)\n",
    "\n",
    "line_counts = line_counts.merge(\n",
    "    routes[[\"route_id\", \"route_short_name\", \"route_type\"]],\n",
    "    on=[\"route_id\"],\n",
    "    how=\"inner\",\n",
    ")\n",
    "\n",
    "route_type_labels = {\n",
    "    0: \"Tramway\",\n",
    "    1: \"Subway\",\n",
    "    2: \"Rail\",\n",
    "    3: \"Bus\"\n",
    "}\n",
    "\n",
    "line_counts[\"route_type\"] = line_counts[\"route_type\"].map(route_type_labels)\n",
    "\n",
    "route_type_counts = line_counts.groupby(\"route_type\")[[\"count_baseline\", \"count_gpe\"]].sum().reset_index()"
   ]
  },
  {
   "cell_type": "code",
   "execution_count": 103,
   "id": "1a1ca339",
   "metadata": {},
   "outputs": [
    {
     "data": {
      "application/pdf": "[encoded data removed]",
      "application/vnd.plotly.v1+json": {
       "config": {
        "plotlyServerURL": "https://plot.ly"
       },
       "data": [
        {
         "alignmentgroup": "True",
         "bingroup": "x",
         "histfunc": "sum",
         "hovertemplate": "variable=count_baseline<br>Mode de transport=%{x}<br>sum of value=%{y}<extra></extra>",
         "legendgroup": "count_baseline",
         "marker": {
          "color": "#636efa",
          "pattern": {
           "shape": ""
          }
         },
         "name": "count_baseline",
         "offsetgroup": "count_baseline",
         "orientation": "v",
         "showlegend": true,
         "type": "histogram",
         "x": [
          "Bus",
          "Rail",
          "Subway",
          "Tramway"
         ],
         "xaxis": "x",
         "y": {
          "bdata": "3wYHAmwAFAA=",
          "dtype": "i2"
         },
         "yaxis": "y"
        },
        {
         "alignmentgroup": "True",
         "bingroup": "x",
         "histfunc": "sum",
         "hovertemplate": "variable=count_gpe<br>Mode de transport=%{x}<br>sum of value=%{y}<extra></extra>",
         "legendgroup": "count_gpe",
         "marker": {
          "color": "#EF553B",
          "pattern": {
           "shape": ""
          }
         },
         "name": "count_gpe",
         "offsetgroup": "count_gpe",
         "orientation": "v",
         "showlegend": true,
         "type": "histogram",
         "x": [
          "Bus",
          "Rail",
          "Subway",
          "Tramway"
         ],
         "xaxis": "x",
         "y": {
          "bdata": "3wYHAmwAFAA=",
          "dtype": "i2"
         },
         "yaxis": "y"
        }
       ],
       "layout": {
        "barmode": "group",
        "legend": {
         "title": {
          "text": "variable"
         },
         "tracegroupgap": 0
        },
        "template": {
         "data": {
          "bar": [
           {
            "error_x": {
             "color": "#2a3f5f"
            },
            "error_y": {
             "color": "#2a3f5f"
            },
            "marker": {
             "line": {
              "color": "#E5ECF6",
              "width": 0.5
             },
             "pattern": {
              "fillmode": "overlay",
              "size": 10,
              "solidity": 0.2
             }
            },
            "type": "bar"
           }
          ],
          "barpolar": [
           {
            "marker": {
             "line": {
              "color": "#E5ECF6",
              "width": 0.5
             },
             "pattern": {
              "fillmode": "overlay",
              "size": 10,
              "solidity": 0.2
             }
            },
            "type": "barpolar"
           }
          ],
          "carpet": [
           {
            "aaxis": {
             "endlinecolor": "#2a3f5f",
             "gridcolor": "white",
             "linecolor": "white",
             "minorgridcolor": "white",
             "startlinecolor": "#2a3f5f"
            },
            "baxis": {
             "endlinecolor": "#2a3f5f",
             "gridcolor": "white",
             "linecolor": "white",
             "minorgridcolor": "white",
             "startlinecolor": "#2a3f5f"
            },
            "type": "carpet"
           }
          ],
          "choropleth": [
           {
            "colorbar": {
             "outlinewidth": 0,
             "ticks": ""
            },
            "type": "choropleth"
           }
          ],
          "contour": [
           {
            "colorbar": {
             "outlinewidth": 0,
             "ticks": ""
            },
            "colorscale": [
             [
              0,
              "#0d0887"
             ],
             [
              0.1111111111111111,
              "#46039f"
             ],
             [
              0.2222222222222222,
              "#7201a8"
             ],
             [
              0.3333333333333333,
              "#9c179e"
             ],
             [
              0.4444444444444444,
              "#bd3786"
             ],
             [
              0.5555555555555556,
              "#d8576b"
             ],
             [
              0.6666666666666666,
              "#ed7953"
             ],
             [
              0.7777777777777778,
              "#fb9f3a"
             ],
             [
              0.8888888888888888,
              "#fdca26"
             ],
             [
              1,
              "#f0f921"
             ]
            ],
            "type": "contour"
           }
          ],
          "contourcarpet": [
           {
            "colorbar": {
             "outlinewidth": 0,
             "ticks": ""
            },
            "type": "contourcarpet"
           }
          ],
          "heatmap": [
           {
            "colorbar": {
             "outlinewidth": 0,
             "ticks": ""
            },
            "colorscale": [
             [
              0,
              "#0d0887"
             ],
             [
              0.1111111111111111,
              "#46039f"
             ],
             [
              0.2222222222222222,
              "#7201a8"
             ],
             [
              0.3333333333333333,
              "#9c179e"
             ],
             [
              0.4444444444444444,
              "#bd3786"
             ],
             [
              0.5555555555555556,
              "#d8576b"
             ],
             [
              0.6666666666666666,
              "#ed7953"
             ],
             [
              0.7777777777777778,
              "#fb9f3a"
             ],
             [
              0.8888888888888888,
              "#fdca26"
             ],
             [
              1,
              "#f0f921"
             ]
            ],
            "type": "heatmap"
           }
          ],
          "histogram": [
           {
            "marker": {
             "pattern": {
              "fillmode": "overlay",
              "size": 10,
              "solidity": 0.2
             }
            },
            "type": "histogram"
           }
          ],
          "histogram2d": [
           {
            "colorbar": {
             "outlinewidth": 0,
             "ticks": ""
            },
            "colorscale": [
             [
              0,
              "#0d0887"
             ],
             [
              0.1111111111111111,
              "#46039f"
             ],
             [
              0.2222222222222222,
              "#7201a8"
             ],
             [
              0.3333333333333333,
              "#9c179e"
             ],
             [
              0.4444444444444444,
              "#bd3786"
             ],
             [
              0.5555555555555556,
              "#d8576b"
             ],
             [
              0.6666666666666666,
              "#ed7953"
             ],
             [
              0.7777777777777778,
              "#fb9f3a"
             ],
             [
              0.8888888888888888,
              "#fdca26"
             ],
             [
              1,
              "#f0f921"
             ]
            ],
            "type": "histogram2d"
           }
          ],
          "histogram2dcontour": [
           {
            "colorbar": {
             "outlinewidth": 0,
             "ticks": ""
            },
            "colorscale": [
             [
              0,
              "#0d0887"
             ],
             [
              0.1111111111111111,
              "#46039f"
             ],
             [
              0.2222222222222222,
              "#7201a8"
             ],
             [
              0.3333333333333333,
              "#9c179e"
             ],
             [
              0.4444444444444444,
              "#bd3786"
             ],
             [
              0.5555555555555556,
              "#d8576b"
             ],
             [
              0.6666666666666666,
              "#ed7953"
             ],
             [
              0.7777777777777778,
              "#fb9f3a"
             ],
             [
              0.8888888888888888,
              "#fdca26"
             ],
             [
              1,
              "#f0f921"
             ]
            ],
            "type": "histogram2dcontour"
           }
          ],
          "mesh3d": [
           {
            "colorbar": {
             "outlinewidth": 0,
             "ticks": ""
            },
            "type": "mesh3d"
           }
          ],
          "parcoords": [
           {
            "line": {
             "colorbar": {
              "outlinewidth": 0,
              "ticks": ""
             }
            },
            "type": "parcoords"
           }
          ],
          "pie": [
           {
            "automargin": true,
            "type": "pie"
           }
          ],
          "scatter": [
           {
            "fillpattern": {
             "fillmode": "overlay",
             "size": 10,
             "solidity": 0.2
            },
            "type": "scatter"
           }
          ],
          "scatter3d": [
           {
            "line": {
             "colorbar": {
              "outlinewidth": 0,
              "ticks": ""
             }
            },
            "marker": {
             "colorbar": {
              "outlinewidth": 0,
              "ticks": ""
             }
            },
            "type": "scatter3d"
           }
          ],
          "scattercarpet": [
           {
            "marker": {
             "colorbar": {
              "outlinewidth": 0,
              "ticks": ""
             }
            },
            "type": "scattercarpet"
           }
          ],
          "scattergeo": [
           {
            "marker": {
             "colorbar": {
              "outlinewidth": 0,
              "ticks": ""
             }
            },
            "type": "scattergeo"
           }
          ],
          "scattergl": [
           {
            "marker": {
             "colorbar": {
              "outlinewidth": 0,
              "ticks": ""
             }
            },
            "type": "scattergl"
           }
          ],
          "scattermap": [
           {
            "marker": {
             "colorbar": {
              "outlinewidth": 0,
              "ticks": ""
             }
            },
            "type": "scattermap"
           }
          ],
          "scattermapbox": [
           {
            "marker": {
             "colorbar": {
              "outlinewidth": 0,
              "ticks": ""
             }
            },
            "type": "scattermapbox"
           }
          ],
          "scatterpolar": [
           {
            "marker": {
             "colorbar": {
              "outlinewidth": 0,
              "ticks": ""
             }
            },
            "type": "scatterpolar"
           }
          ],
          "scatterpolargl": [
           {
            "marker": {
             "colorbar": {
              "outlinewidth": 0,
              "ticks": ""
             }
            },
            "type": "scatterpolargl"
           }
          ],
          "scatterternary": [
           {
            "marker": {
             "colorbar": {
              "outlinewidth": 0,
              "ticks": ""
             }
            },
            "type": "scatterternary"
           }
          ],
          "surface": [
           {
            "colorbar": {
             "outlinewidth": 0,
             "ticks": ""
            },
            "colorscale": [
             [
              0,
              "#0d0887"
             ],
             [
              0.1111111111111111,
              "#46039f"
             ],
             [
              0.2222222222222222,
              "#7201a8"
             ],
             [
              0.3333333333333333,
              "#9c179e"
             ],
             [
              0.4444444444444444,
              "#bd3786"
             ],
             [
              0.5555555555555556,
              "#d8576b"
             ],
             [
              0.6666666666666666,
              "#ed7953"
             ],
             [
              0.7777777777777778,
              "#fb9f3a"
             ],
             [
              0.8888888888888888,
              "#fdca26"
             ],
             [
              1,
              "#f0f921"
             ]
            ],
            "type": "surface"
           }
          ],
          "table": [
           {
            "cells": {
             "fill": {
              "color": "#EBF0F8"
             },
             "line": {
              "color": "white"
             }
            },
            "header": {
             "fill": {
              "color": "#C8D4E3"
             },
             "line": {
              "color": "white"
             }
            },
            "type": "table"
           }
          ]
         },
         "layout": {
          "annotationdefaults": {
           "arrowcolor": "#2a3f5f",
           "arrowhead": 0,
           "arrowwidth": 1
          },
          "autotypenumbers": "strict",
          "coloraxis": {
           "colorbar": {
            "outlinewidth": 0,
            "ticks": ""
           }
          },
          "colorscale": {
           "diverging": [
            [
             0,
             "#8e0152"
            ],
            [
             0.1,
             "#c51b7d"
            ],
            [
             0.2,
             "#de77ae"
            ],
            [
             0.3,
             "#f1b6da"
            ],
            [
             0.4,
             "#fde0ef"
            ],
            [
             0.5,
             "#f7f7f7"
            ],
            [
             0.6,
             "#e6f5d0"
            ],
            [
             0.7,
             "#b8e186"
            ],
            [
             0.8,
             "#7fbc41"
            ],
            [
             0.9,
             "#4d9221"
            ],
            [
             1,
             "#276419"
            ]
           ],
           "sequential": [
            [
             0,
             "#0d0887"
            ],
            [
             0.1111111111111111,
             "#46039f"
            ],
            [
             0.2222222222222222,
             "#7201a8"
            ],
            [
             0.3333333333333333,
             "#9c179e"
            ],
            [
             0.4444444444444444,
             "#bd3786"
            ],
            [
             0.5555555555555556,
             "#d8576b"
            ],
            [
             0.6666666666666666,
             "#ed7953"
            ],
            [
             0.7777777777777778,
             "#fb9f3a"
            ],
            [
             0.8888888888888888,
             "#fdca26"
            ],
            [
             1,
             "#f0f921"
            ]
           ],
           "sequentialminus": [
            [
             0,
             "#0d0887"
            ],
            [
             0.1111111111111111,
             "#46039f"
            ],
            [
             0.2222222222222222,
             "#7201a8"
            ],
            [
             0.3333333333333333,
             "#9c179e"
            ],
            [
             0.4444444444444444,
             "#bd3786"
            ],
            [
             0.5555555555555556,
             "#d8576b"
            ],
            [
             0.6666666666666666,
             "#ed7953"
            ],
            [
             0.7777777777777778,
             "#fb9f3a"
            ],
            [
             0.8888888888888888,
             "#fdca26"
            ],
            [
             1,
             "#f0f921"
            ]
           ]
          },
          "colorway": [
           "#636efa",
           "#EF553B",
           "#00cc96",
           "#ab63fa",
           "#FFA15A",
           "#19d3f3",
           "#FF6692",
           "#B6E880",
           "#FF97FF",
           "#FECB52"
          ],
          "font": {
           "color": "#2a3f5f"
          },
          "geo": {
           "bgcolor": "white",
           "lakecolor": "white",
           "landcolor": "#E5ECF6",
           "showlakes": true,
           "showland": true,
           "subunitcolor": "white"
          },
          "hoverlabel": {
           "align": "left"
          },
          "hovermode": "closest",
          "mapbox": {
           "style": "light"
          },
          "paper_bgcolor": "white",
          "plot_bgcolor": "#E5ECF6",
          "polar": {
           "angularaxis": {
            "gridcolor": "white",
            "linecolor": "white",
            "ticks": ""
           },
           "bgcolor": "#E5ECF6",
           "radialaxis": {
            "gridcolor": "white",
            "linecolor": "white",
            "ticks": ""
           }
          },
          "scene": {
           "xaxis": {
            "backgroundcolor": "#E5ECF6",
            "gridcolor": "white",
            "gridwidth": 2,
            "linecolor": "white",
            "showbackground": true,
            "ticks": "",
            "zerolinecolor": "white"
           },
           "yaxis": {
            "backgroundcolor": "#E5ECF6",
            "gridcolor": "white",
            "gridwidth": 2,
            "linecolor": "white",
            "showbackground": true,
            "ticks": "",
            "zerolinecolor": "white"
           },
           "zaxis": {
            "backgroundcolor": "#E5ECF6",
            "gridcolor": "white",
            "gridwidth": 2,
            "linecolor": "white",
            "showbackground": true,
            "ticks": "",
            "zerolinecolor": "white"
           }
          },
          "shapedefaults": {
           "line": {
            "color": "#2a3f5f"
           }
          },
          "ternary": {
           "aaxis": {
            "gridcolor": "white",
            "linecolor": "white",
            "ticks": ""
           },
           "baxis": {
            "gridcolor": "white",
            "linecolor": "white",
            "ticks": ""
           },
           "bgcolor": "#E5ECF6",
           "caxis": {
            "gridcolor": "white",
            "linecolor": "white",
            "ticks": ""
           }
          },
          "title": {
           "x": 0.05
          },
          "xaxis": {
           "automargin": true,
           "gridcolor": "white",
           "linecolor": "white",
           "ticks": "",
           "title": {
            "standoff": 15
           },
           "zerolinecolor": "white",
           "zerolinewidth": 2
          },
          "yaxis": {
           "automargin": true,
           "gridcolor": "white",
           "linecolor": "white",
           "ticks": "",
           "title": {
            "standoff": 15
           },
           "zerolinecolor": "white",
           "zerolinewidth": 2
          }
         }
        },
        "title": {
         "text": "Nombre de trajets par ligne"
        },
        "xaxis": {
         "anchor": "y",
         "domain": [
          0,
          1
         ],
         "title": {
          "text": "Mode de transport"
         }
        },
        "yaxis": {
         "anchor": "x",
         "domain": [
          0,
          1
         ],
         "title": {
          "text": "sum of value"
         }
        }
       }
      }
     },
     "metadata": {},
     "output_type": "display_data"
    }
   ],
   "source": [
    "fig = px.histogram(\n",
    "    route_type_counts,\n",
    "    x=\"route_type\",\n",
    "    y = [\"count_baseline\", \"count_gpe\"],\n",
    "    title=\"Nombre de trajets par ligne\",\n",
    "    labels={\"route_type\":\"Mode de transport\"},\n",
    "    barmode=\"group\"\n",
    ")\n",
    "fig.show()"
   ]
  },
  {
   "cell_type": "code",
   "execution_count": 104,
   "id": "a7ebac5e",
   "metadata": {},
   "outputs": [
    {
     "data": {
      "application/pdf": "[encoded data removed]",
      "application/vnd.plotly.v1+json": {
       "config": {
        "plotlyServerURL": "https://plot.ly"
       },
       "data": [
        {
         "alignmentgroup": "True",
         "bingroup": "x",
         "histfunc": "sum",
         "hovertemplate": "variable=count_baseline<br>Nom de la ligne=%{x}<br>sum of value=%{y}<extra></extra>",
         "legendgroup": "count_baseline",
         "marker": {
          "color": "#636efa",
          "pattern": {
           "shape": ""
          }
         },
         "name": "count_baseline",
         "offsetgroup": "count_baseline",
         "orientation": "v",
         "showlegend": true,
         "type": "histogram",
         "x": [
          "483",
          "480",
          "7",
          "11",
          "A",
          "C",
          "6132",
          "6124",
          "60",
          "6140",
          "6123",
          "6145",
          "67",
          "2",
          "4",
          "14",
          "437",
          "438",
          "4511",
          "4512",
          "4501",
          "114",
          "4441",
          "4510",
          "44",
          "11",
          "6217",
          "34",
          "EX01",
          "8",
          "21",
          "R4",
          "R2S",
          "R3S",
          "10",
          "A",
          "B",
          "E",
          "1",
          "11",
          "1312",
          "2116",
          "2118",
          "2121",
          "2122",
          "2123",
          "31",
          "32",
          "EX 93",
          "Gbus",
          "R1",
          "R2",
          "R3",
          "R4",
          "R110",
          "2101",
          "2102",
          "2103",
          "2104",
          "2109",
          "VITAVIL",
          "777",
          "100",
          "9501",
          "9502",
          "23",
          "3",
          "10",
          "1",
          "2",
          "4",
          "8",
          "9",
          "1512",
          "18",
          "34",
          "1537",
          "6",
          "7",
          "1514",
          "4301",
          "4303",
          "4530",
          "1",
          "C",
          "402",
          "412",
          "6",
          "408",
          "14",
          "A",
          "C",
          "D",
          "E",
          "12",
          "13",
          "17",
          "191-100",
          "4203",
          "4243",
          "4233",
          "95-08",
          "05",
          "5110",
          "6211",
          "12",
          "5101",
          "6287",
          "M",
          "6241",
          "30-05",
          "30-10",
          "30-12",
          "1518",
          "30-14",
          "30-18",
          "30-22",
          "30-23",
          "30-42",
          "95-03A",
          "95-19",
          "95-20",
          "3615",
          "3801",
          "3902",
          "10",
          "11",
          "3913",
          "3917",
          "3918",
          "3930C",
          "39-303",
          "39-403",
          "5141",
          "1",
          "440",
          "451",
          "21",
          "23",
          "431",
          "432",
          "433",
          "434",
          "435",
          "436",
          "428",
          "427",
          "H",
          "C",
          "F4",
          "S",
          "M",
          "QBUS",
          "X",
          "1304",
          "1303",
          "22",
          "23",
          "25",
          "36",
          "2252",
          "2290",
          "2250",
          "2223",
          "2225",
          "2229",
          "2234",
          "2233",
          "18E",
          "2263",
          "41",
          "EX 100",
          "2128",
          "2120",
          "20E",
          "4540",
          "4541",
          "4205",
          "4505",
          "4518",
          "DM11A",
          "17",
          "4521",
          "4522",
          "4223",
          "4503",
          "6201",
          "6202",
          "6203",
          "6204",
          "6206",
          "6209",
          "6210",
          "6213",
          "9",
          "L",
          "A14",
          "88A",
          "1230",
          "1203",
          "1206",
          "1238",
          "1207",
          "1226",
          "1242",
          "3444",
          "3401",
          "46",
          "3439",
          "6",
          "34",
          "3504",
          "3505",
          "7715",
          "3751",
          "3754",
          "3775",
          "3703",
          "3753",
          "3713",
          "3736",
          "3737",
          "Tzen1",
          "3724",
          "3604",
          "3609",
          "3607",
          "3602",
          "3601",
          "3605",
          "3612",
          "3611",
          "3630",
          "F",
          "4",
          "19",
          "M",
          "35",
          "42",
          "56",
          "56S",
          "59",
          "2260",
          "R",
          "B",
          "A",
          "G",
          "D",
          "67EX",
          "69E",
          "4401",
          "4407",
          "4408",
          "4231",
          "4232",
          "29A",
          "41A",
          "01EX",
          "17Ex",
          "TVM",
          "21",
          "22",
          "27",
          "30",
          "31",
          "39",
          "42",
          "52",
          "56",
          "62",
          "66",
          "68",
          "70",
          "72",
          "74",
          "80",
          "82",
          "88",
          "92",
          "93",
          "102",
          "103",
          "104",
          "105",
          "106",
          "108",
          "110",
          "111",
          "112",
          "113",
          "114",
          "116",
          "117",
          "118",
          "119",
          "120",
          "121",
          "124",
          "125",
          "126",
          "127",
          "128",
          "131",
          "132",
          "133",
          "138",
          "141",
          "143",
          "144",
          "145",
          "146",
          "147",
          "148",
          "150",
          "151",
          "152",
          "158",
          "159",
          "160",
          "162",
          "164",
          "167",
          "169",
          "171",
          "172",
          "173",
          "174",
          "175",
          "176",
          "177",
          "178",
          "179",
          "180",
          "182",
          "183",
          "184",
          "185",
          "186",
          "187",
          "188",
          "189",
          "190",
          "191",
          "192",
          "194",
          "195",
          "196",
          "197",
          "199",
          "201",
          "206",
          "207",
          "208A",
          "210",
          "211",
          "212",
          "213",
          "214",
          "217",
          "220",
          "221",
          "234",
          "238",
          "244",
          "249",
          "250",
          "251",
          "258",
          "261",
          "268",
          "269",
          "270",
          "272",
          "275",
          "276",
          "285",
          "289",
          "290",
          "291",
          "292",
          "294",
          "297",
          "299",
          "301",
          "302",
          "303",
          "304",
          "306",
          "308",
          "310",
          "312",
          "317",
          "318",
          "319",
          "320",
          "321",
          "323",
          "325",
          "340",
          "346",
          "350",
          "351",
          "356",
          "360",
          "366",
          "378",
          "388",
          "389",
          "390",
          "391",
          "393",
          "394",
          "395",
          "396",
          "399",
          "421",
          "467",
          "485",
          "492",
          "520",
          "TUB",
          "564",
          "TIM",
          "FONT",
          "595",
          "N44",
          "N23",
          "N33",
          "N22",
          "N35",
          "N01",
          "N02",
          "N14",
          "N13",
          "1",
          "5",
          "40",
          "Filéo GSV",
          "3438",
          "3201",
          "EX 9518",
          "2",
          "426",
          "6227",
          "6231",
          "4531",
          "4533",
          "Express50",
          "3212",
          "3208",
          "5134",
          "5132",
          "5104",
          "5105",
          "5107",
          "5143",
          "5133",
          "5145",
          "5103",
          "5150",
          "5151",
          "703",
          "95-41",
          "9",
          "EX 9101",
          "91-03",
          "4504",
          "91-05",
          "91-06",
          "4457",
          "91-08",
          "EX 9109",
          "602",
          "603",
          "604",
          "607",
          "609",
          "610",
          "613",
          "615",
          "616",
          "618",
          "619",
          "620",
          "623",
          "642",
          "C",
          "D",
          "E",
          "I",
          "K",
          "M",
          "N",
          "G",
          "4201",
          "4206",
          "4212",
          "4204",
          "4241",
          "4202",
          "4213",
          "4214",
          "4245",
          "N143",
          "N139",
          "1302",
          "3203",
          "3705",
          "1222",
          "EX 100",
          "3",
          "6164",
          "6162",
          "487",
          "2228",
          "8",
          "3907",
          "430",
          "D",
          "Traverse",
          "34",
          "4",
          "95-12",
          "2B",
          "2A",
          "2113",
          "1516",
          "1515",
          "6134",
          "3702",
          "N66",
          "380",
          "4306",
          "208B",
          "208S",
          "02E",
          "486",
          "St-Pathus",
          "1",
          "J",
          "H",
          "C",
          "D",
          "E",
          "2124",
          "20",
          "5102",
          "5111",
          "6251",
          "2224",
          "3408",
          "A",
          "12",
          "4220",
          "3519",
          "3537",
          "21S",
          "259",
          "30-03",
          "353",
          "4328",
          "260",
          "27",
          "EX 100",
          "03A",
          "6276",
          "1233",
          "34A",
          "643",
          "09C",
          "3",
          "6",
          "9",
          "7",
          "4",
          "B",
          "41B",
          "15",
          "3429",
          "T1B",
          "6253",
          "6254",
          "PC",
          "4309",
          "1204",
          "6246",
          "EXP A14 M",
          "77",
          "95-29",
          "T'bus 1",
          "T'bus 2",
          "T'bus 3",
          "3632",
          "6214",
          "TàD",
          "01",
          "4272",
          "TàD",
          "3248",
          "209",
          "28",
          "4451",
          "382",
          "4524",
          "1517",
          "1527",
          "Soir",
          "Soir",
          "4415",
          "311",
          "55",
          "72",
          "2",
          "7",
          "R9",
          "2",
          "N147",
          "5304",
          "67D",
          "2254",
          "3752",
          "202",
          "9112",
          "4222",
          "277"
         ],
         "xaxis": "x",
         "y": {
          "bdata": "AgEBAQMDAgECAQEBAQECAQUBBAMEAQMEAQEBAQICAQECAQIBBAMFBQIBAQIDAwEBAgEBAQEEAQEBAQUDAgIBAgQCAgECAgQCDgEBAgMBAwMBAQEBAgECAQEBAQEBAQIBAQEDAQQBAQMFAgEBAQELAQIBAgIBAQIBAwQBCgEBAQMFAwIDAgYDAQYDCgEMBAEBAQICAwEBAgEBBQIBAQEBAQEBAQICAQQECAIBAg4JAQMFAQsEAQQBAgIGAQkJAgIBAgEEAQEBAQICAgIBAgIDAQECAQEBBAEBAQcCAQEBAwIBAQUBAgMBAgQCAQIBAQECAQECAQIFAQQCAQEBAgQHAgEDBAkBBAEBAQICBAECAQEIAgEBAQIBAwIEAgIGBgMCAhMDBQIBAQIGAQMLBwMCBw4CAgkBBAICBQEBBgEBAgoGAgQCCAEBAgECAgQIAgEBBAIIAQQFBwYGAgMGBAEJCQQCAwIJAQQJBQIEBQIBAgIBAwQEAQEBAgUFAgEGCAEBAQYEAw4DBAUBAgMBCAIBBQMBAwMCAQEDBgEWBQMEBAQFAgICAgEBAgECAQICAQEEAgIJCAEBAgEBAQQCAQMBAQIBAQEBBAEDAQsDAQEBAQMIAgYBAgEBBRkBBAECByEDAQEGAQYBAQsBAQQBAQESBQEHAwIDAQICAQIBBgEBAQECAgIDBQIEAQEBAQECAQEFAQkBAgMEAgMEAgEDAwEBAQMCBQIEAQEKAQECAgEHAgEBBAQDBAQCAQcBBgECDAUCAQQCAgQDAwECAwECAgQHBAEBAQEBBAEHAQEDAQEDAgEBAQEBAgEBAgEDAQECAQYBAQ==",
          "dtype": "i1"
         },
         "yaxis": "y"
        },
        {
         "alignmentgroup": "True",
         "bingroup": "x",
         "histfunc": "sum",
         "hovertemplate": "variable=count_gpe<br>Nom de la ligne=%{x}<br>sum of value=%{y}<extra></extra>",
         "legendgroup": "count_gpe",
         "marker": {
          "color": "#EF553B",
          "pattern": {
           "shape": ""
          }
         },
         "name": "count_gpe",
         "offsetgroup": "count_gpe",
         "orientation": "v",
         "showlegend": true,
         "type": "histogram",
         "x": [
          "483",
          "480",
          "7",
          "11",
          "A",
          "C",
          "6132",
          "6124",
          "60",
          "6140",
          "6123",
          "6145",
          "67",
          "2",
          "4",
          "14",
          "437",
          "438",
          "4511",
          "4512",
          "4501",
          "114",
          "4441",
          "4510",
          "44",
          "11",
          "6217",
          "34",
          "EX01",
          "8",
          "21",
          "R4",
          "R2S",
          "R3S",
          "10",
          "A",
          "B",
          "E",
          "1",
          "11",
          "1312",
          "2116",
          "2118",
          "2121",
          "2122",
          "2123",
          "31",
          "32",
          "EX 93",
          "Gbus",
          "R1",
          "R2",
          "R3",
          "R4",
          "R110",
          "2101",
          "2102",
          "2103",
          "2104",
          "2109",
          "VITAVIL",
          "777",
          "100",
          "9501",
          "9502",
          "23",
          "3",
          "10",
          "1",
          "2",
          "4",
          "8",
          "9",
          "1512",
          "18",
          "34",
          "1537",
          "6",
          "7",
          "1514",
          "4301",
          "4303",
          "4530",
          "1",
          "C",
          "402",
          "412",
          "6",
          "408",
          "14",
          "A",
          "C",
          "D",
          "E",
          "12",
          "13",
          "17",
          "191-100",
          "4203",
          "4243",
          "4233",
          "95-08",
          "05",
          "5110",
          "6211",
          "12",
          "5101",
          "6287",
          "M",
          "6241",
          "30-05",
          "30-10",
          "30-12",
          "1518",
          "30-14",
          "30-18",
          "30-22",
          "30-23",
          "30-42",
          "95-03A",
          "95-19",
          "95-20",
          "3615",
          "3801",
          "3902",
          "10",
          "11",
          "3913",
          "3917",
          "3918",
          "3930C",
          "39-303",
          "39-403",
          "5141",
          "1",
          "440",
          "451",
          "21",
          "23",
          "431",
          "432",
          "433",
          "434",
          "435",
          "436",
          "428",
          "427",
          "H",
          "C",
          "F4",
          "S",
          "M",
          "QBUS",
          "X",
          "1304",
          "1303",
          "22",
          "23",
          "25",
          "36",
          "2252",
          "2290",
          "2250",
          "2223",
          "2225",
          "2229",
          "2234",
          "2233",
          "18E",
          "2263",
          "41",
          "EX 100",
          "2128",
          "2120",
          "20E",
          "4540",
          "4541",
          "4205",
          "4505",
          "4518",
          "DM11A",
          "17",
          "4521",
          "4522",
          "4223",
          "4503",
          "6201",
          "6202",
          "6203",
          "6204",
          "6206",
          "6209",
          "6210",
          "6213",
          "9",
          "L",
          "A14",
          "88A",
          "1230",
          "1203",
          "1206",
          "1238",
          "1207",
          "1226",
          "1242",
          "3444",
          "3401",
          "46",
          "3439",
          "6",
          "34",
          "3504",
          "3505",
          "7715",
          "3751",
          "3754",
          "3775",
          "3703",
          "3753",
          "3713",
          "3736",
          "3737",
          "Tzen1",
          "3724",
          "3604",
          "3609",
          "3607",
          "3602",
          "3601",
          "3605",
          "3612",
          "3611",
          "3630",
          "F",
          "4",
          "19",
          "M",
          "35",
          "42",
          "56",
          "56S",
          "59",
          "2260",
          "R",
          "B",
          "A",
          "G",
          "D",
          "67EX",
          "69E",
          "4401",
          "4407",
          "4408",
          "4231",
          "4232",
          "29A",
          "41A",
          "01EX",
          "17Ex",
          "TVM",
          "21",
          "22",
          "27",
          "30",
          "31",
          "39",
          "42",
          "52",
          "56",
          "62",
          "66",
          "68",
          "70",
          "72",
          "74",
          "80",
          "82",
          "88",
          "92",
          "93",
          "102",
          "103",
          "104",
          "105",
          "106",
          "108",
          "110",
          "111",
          "112",
          "113",
          "114",
          "116",
          "117",
          "118",
          "119",
          "120",
          "121",
          "124",
          "125",
          "126",
          "127",
          "128",
          "131",
          "132",
          "133",
          "138",
          "141",
          "143",
          "144",
          "145",
          "146",
          "147",
          "148",
          "150",
          "151",
          "152",
          "158",
          "159",
          "160",
          "162",
          "164",
          "167",
          "169",
          "171",
          "172",
          "173",
          "174",
          "175",
          "176",
          "177",
          "178",
          "179",
          "180",
          "182",
          "183",
          "184",
          "185",
          "186",
          "187",
          "188",
          "189",
          "190",
          "191",
          "192",
          "194",
          "195",
          "196",
          "197",
          "199",
          "201",
          "206",
          "207",
          "208A",
          "210",
          "211",
          "212",
          "213",
          "214",
          "217",
          "220",
          "221",
          "234",
          "238",
          "244",
          "249",
          "250",
          "251",
          "258",
          "261",
          "268",
          "269",
          "270",
          "272",
          "275",
          "276",
          "285",
          "289",
          "290",
          "291",
          "292",
          "294",
          "297",
          "299",
          "301",
          "302",
          "303",
          "304",
          "306",
          "308",
          "310",
          "312",
          "317",
          "318",
          "319",
          "320",
          "321",
          "323",
          "325",
          "340",
          "346",
          "350",
          "351",
          "356",
          "360",
          "366",
          "378",
          "388",
          "389",
          "390",
          "391",
          "393",
          "394",
          "395",
          "396",
          "399",
          "421",
          "467",
          "485",
          "492",
          "520",
          "TUB",
          "564",
          "TIM",
          "FONT",
          "595",
          "N44",
          "N23",
          "N33",
          "N22",
          "N35",
          "N01",
          "N02",
          "N14",
          "N13",
          "1",
          "5",
          "40",
          "Filéo GSV",
          "3438",
          "3201",
          "EX 9518",
          "2",
          "426",
          "6227",
          "6231",
          "4531",
          "4533",
          "Express50",
          "3212",
          "3208",
          "5134",
          "5132",
          "5104",
          "5105",
          "5107",
          "5143",
          "5133",
          "5145",
          "5103",
          "5150",
          "5151",
          "703",
          "95-41",
          "9",
          "EX 9101",
          "91-03",
          "4504",
          "91-05",
          "91-06",
          "4457",
          "91-08",
          "EX 9109",
          "602",
          "603",
          "604",
          "607",
          "609",
          "610",
          "613",
          "615",
          "616",
          "618",
          "619",
          "620",
          "623",
          "642",
          "C",
          "D",
          "E",
          "I",
          "K",
          "M",
          "N",
          "G",
          "4201",
          "4206",
          "4212",
          "4204",
          "4241",
          "4202",
          "4213",
          "4214",
          "4245",
          "N143",
          "N139",
          "1302",
          "3203",
          "3705",
          "1222",
          "EX 100",
          "3",
          "6164",
          "6162",
          "487",
          "2228",
          "8",
          "3907",
          "430",
          "D",
          "Traverse",
          "34",
          "4",
          "95-12",
          "2B",
          "2A",
          "2113",
          "1516",
          "1515",
          "6134",
          "3702",
          "N66",
          "380",
          "4306",
          "208B",
          "208S",
          "02E",
          "486",
          "St-Pathus",
          "1",
          "J",
          "H",
          "C",
          "D",
          "E",
          "2124",
          "20",
          "5102",
          "5111",
          "6251",
          "2224",
          "3408",
          "A",
          "12",
          "4220",
          "3519",
          "3537",
          "21S",
          "259",
          "30-03",
          "353",
          "4328",
          "260",
          "27",
          "EX 100",
          "03A",
          "6276",
          "1233",
          "34A",
          "643",
          "09C",
          "3",
          "6",
          "9",
          "7",
          "4",
          "B",
          "41B",
          "15",
          "3429",
          "T1B",
          "6253",
          "6254",
          "PC",
          "4309",
          "1204",
          "6246",
          "EXP A14 M",
          "77",
          "95-29",
          "T'bus 1",
          "T'bus 2",
          "T'bus 3",
          "3632",
          "6214",
          "TàD",
          "01",
          "4272",
          "TàD",
          "3248",
          "209",
          "28",
          "4451",
          "382",
          "4524",
          "1517",
          "1527",
          "Soir",
          "Soir",
          "4415",
          "311",
          "55",
          "72",
          "2",
          "7",
          "R9",
          "2",
          "N147",
          "5304",
          "67D",
          "2254",
          "3752",
          "202",
          "9112",
          "4222",
          "277"
         ],
         "xaxis": "x",
         "y": {
          "bdata": "AgEBAQMDAgECAQEBAQECAQUBBAMEAQMEAQEBAQICAQECAQIBBAMFBQIBAQIDAwEBAgEBAQEEAQEBAQUDAgIBAgQCAgECAgQCDgEBAgMBAwMBAQEBAgECAQEBAQEBAQIBAQEDAQQBAQMFAgEBAQELAQIBAgIBAQIBAwQBCgEBAQMFAwIDAgYDAQYDCgEMBAEBAQICAwEBAgEBBQIBAQEBAQEBAQICAQQECAIBAg4JAQMFAQsEAQQBAgIGAQkJAgIBAgEEAQEBAQICAgIBAgIDAQECAQEBBAEBAQcCAQEBAwIBAQUBAgMBAgQCAQIBAQECAQECAQIFAQQCAQEBAgQHAgEDBAkBBAEBAQICBAECAQEIAgEBAQIBAwIEAgIGBgMCAhMDBQIBAQIGAQMLBwMCBw4CAgkBBAICBQEBBgEBAgoGAgQCCAEBAgECAgQIAgEBBAIIAQQFBwYGAgMGBAEJCQQCAwIJAQQJBQIEBQIBAgIBAwQEAQEBAgUFAgEGCAEBAQYEAw4DBAUBAgMBCAIBBQMBAwMCAQEDBgEWBQMEBAQFAgICAgEBAgECAQICAQEEAgIJCAEBAgEBAQQCAQMBAQIBAQEBBAEDAQsDAQEBAQMIAgYBAgEBBRkBBAECByEDAQEGAQYBAQsBAQQBAQESBQEHAwIDAQICAQIBBgEBAQECAgIDBQIEAQEBAQECAQEFAQkBAgMEAgMEAgEDAwEBAQMCBQIEAQEKAQECAgEHAgEBBAQDBAQCAQcBBgECDAUCAQQCAgQDAwECAwECAgQHBAEBAQEBBAEHAQEDAQEDAgEBAQEBAgEBAgEDAQECAQYBAQ==",
          "dtype": "i1"
         },
         "yaxis": "y"
        }
       ],
       "layout": {
        "barmode": "group",
        "legend": {
         "title": {
          "text": "variable"
         },
         "tracegroupgap": 0
        },
        "template": {
         "data": {
          "bar": [
           {
            "error_x": {
             "color": "#2a3f5f"
            },
            "error_y": {
             "color": "#2a3f5f"
            },
            "marker": {
             "line": {
              "color": "#E5ECF6",
              "width": 0.5
             },
             "pattern": {
              "fillmode": "overlay",
              "size": 10,
              "solidity": 0.2
             }
            },
            "type": "bar"
           }
          ],
          "barpolar": [
           {
            "marker": {
             "line": {
              "color": "#E5ECF6",
              "width": 0.5
             },
             "pattern": {
              "fillmode": "overlay",
              "size": 10,
              "solidity": 0.2
             }
            },
            "type": "barpolar"
           }
          ],
          "carpet": [
           {
            "aaxis": {
             "endlinecolor": "#2a3f5f",
             "gridcolor": "white",
             "linecolor": "white",
             "minorgridcolor": "white",
             "startlinecolor": "#2a3f5f"
            },
            "baxis": {
             "endlinecolor": "#2a3f5f",
             "gridcolor": "white",
             "linecolor": "white",
             "minorgridcolor": "white",
             "startlinecolor": "#2a3f5f"
            },
            "type": "carpet"
           }
          ],
          "choropleth": [
           {
            "colorbar": {
             "outlinewidth": 0,
             "ticks": ""
            },
            "type": "choropleth"
           }
          ],
          "contour": [
           {
            "colorbar": {
             "outlinewidth": 0,
             "ticks": ""
            },
            "colorscale": [
             [
              0,
              "#0d0887"
             ],
             [
              0.1111111111111111,
              "#46039f"
             ],
             [
              0.2222222222222222,
              "#7201a8"
             ],
             [
              0.3333333333333333,
              "#9c179e"
             ],
             [
              0.4444444444444444,
              "#bd3786"
             ],
             [
              0.5555555555555556,
              "#d8576b"
             ],
             [
              0.6666666666666666,
              "#ed7953"
             ],
             [
              0.7777777777777778,
              "#fb9f3a"
             ],
             [
              0.8888888888888888,
              "#fdca26"
             ],
             [
              1,
              "#f0f921"
             ]
            ],
            "type": "contour"
           }
          ],
          "contourcarpet": [
           {
            "colorbar": {
             "outlinewidth": 0,
             "ticks": ""
            },
            "type": "contourcarpet"
           }
          ],
          "heatmap": [
           {
            "colorbar": {
             "outlinewidth": 0,
             "ticks": ""
            },
            "colorscale": [
             [
              0,
              "#0d0887"
             ],
             [
              0.1111111111111111,
              "#46039f"
             ],
             [
              0.2222222222222222,
              "#7201a8"
             ],
             [
              0.3333333333333333,
              "#9c179e"
             ],
             [
              0.4444444444444444,
              "#bd3786"
             ],
             [
              0.5555555555555556,
              "#d8576b"
             ],
             [
              0.6666666666666666,
              "#ed7953"
             ],
             [
              0.7777777777777778,
              "#fb9f3a"
             ],
             [
              0.8888888888888888,
              "#fdca26"
             ],
             [
              1,
              "#f0f921"
             ]
            ],
            "type": "heatmap"
           }
          ],
          "histogram": [
           {
            "marker": {
             "pattern": {
              "fillmode": "overlay",
              "size": 10,
              "solidity": 0.2
             }
            },
            "type": "histogram"
           }
          ],
          "histogram2d": [
           {
            "colorbar": {
             "outlinewidth": 0,
             "ticks": ""
            },
            "colorscale": [
             [
              0,
              "#0d0887"
             ],
             [
              0.1111111111111111,
              "#46039f"
             ],
             [
              0.2222222222222222,
              "#7201a8"
             ],
             [
              0.3333333333333333,
              "#9c179e"
             ],
             [
              0.4444444444444444,
              "#bd3786"
             ],
             [
              0.5555555555555556,
              "#d8576b"
             ],
             [
              0.6666666666666666,
              "#ed7953"
             ],
             [
              0.7777777777777778,
              "#fb9f3a"
             ],
             [
              0.8888888888888888,
              "#fdca26"
             ],
             [
              1,
              "#f0f921"
             ]
            ],
            "type": "histogram2d"
           }
          ],
          "histogram2dcontour": [
           {
            "colorbar": {
             "outlinewidth": 0,
             "ticks": ""
            },
            "colorscale": [
             [
              0,
              "#0d0887"
             ],
             [
              0.1111111111111111,
              "#46039f"
             ],
             [
              0.2222222222222222,
              "#7201a8"
             ],
             [
              0.3333333333333333,
              "#9c179e"
             ],
             [
              0.4444444444444444,
              "#bd3786"
             ],
             [
              0.5555555555555556,
              "#d8576b"
             ],
             [
              0.6666666666666666,
              "#ed7953"
             ],
             [
              0.7777777777777778,
              "#fb9f3a"
             ],
             [
              0.8888888888888888,
              "#fdca26"
             ],
             [
              1,
              "#f0f921"
             ]
            ],
            "type": "histogram2dcontour"
           }
          ],
          "mesh3d": [
           {
            "colorbar": {
             "outlinewidth": 0,
             "ticks": ""
            },
            "type": "mesh3d"
           }
          ],
          "parcoords": [
           {
            "line": {
             "colorbar": {
              "outlinewidth": 0,
              "ticks": ""
             }
            },
            "type": "parcoords"
           }
          ],
          "pie": [
           {
            "automargin": true,
            "type": "pie"
           }
          ],
          "scatter": [
           {
            "fillpattern": {
             "fillmode": "overlay",
             "size": 10,
             "solidity": 0.2
            },
            "type": "scatter"
           }
          ],
          "scatter3d": [
           {
            "line": {
             "colorbar": {
              "outlinewidth": 0,
              "ticks": ""
             }
            },
            "marker": {
             "colorbar": {
              "outlinewidth": 0,
              "ticks": ""
             }
            },
            "type": "scatter3d"
           }
          ],
          "scattercarpet": [
           {
            "marker": {
             "colorbar": {
              "outlinewidth": 0,
              "ticks": ""
             }
            },
            "type": "scattercarpet"
           }
          ],
          "scattergeo": [
           {
            "marker": {
             "colorbar": {
              "outlinewidth": 0,
              "ticks": ""
             }
            },
            "type": "scattergeo"
           }
          ],
          "scattergl": [
           {
            "marker": {
             "colorbar": {
              "outlinewidth": 0,
              "ticks": ""
             }
            },
            "type": "scattergl"
           }
          ],
          "scattermap": [
           {
            "marker": {
             "colorbar": {
              "outlinewidth": 0,
              "ticks": ""
             }
            },
            "type": "scattermap"
           }
          ],
          "scattermapbox": [
           {
            "marker": {
             "colorbar": {
              "outlinewidth": 0,
              "ticks": ""
             }
            },
            "type": "scattermapbox"
           }
          ],
          "scatterpolar": [
           {
            "marker": {
             "colorbar": {
              "outlinewidth": 0,
              "ticks": ""
             }
            },
            "type": "scatterpolar"
           }
          ],
          "scatterpolargl": [
           {
            "marker": {
             "colorbar": {
              "outlinewidth": 0,
              "ticks": ""
             }
            },
            "type": "scatterpolargl"
           }
          ],
          "scatterternary": [
           {
            "marker": {
             "colorbar": {
              "outlinewidth": 0,
              "ticks": ""
             }
            },
            "type": "scatterternary"
           }
          ],
          "surface": [
           {
            "colorbar": {
             "outlinewidth": 0,
             "ticks": ""
            },
            "colorscale": [
             [
              0,
              "#0d0887"
             ],
             [
              0.1111111111111111,
              "#46039f"
             ],
             [
              0.2222222222222222,
              "#7201a8"
             ],
             [
              0.3333333333333333,
              "#9c179e"
             ],
             [
              0.4444444444444444,
              "#bd3786"
             ],
             [
              0.5555555555555556,
              "#d8576b"
             ],
             [
              0.6666666666666666,
              "#ed7953"
             ],
             [
              0.7777777777777778,
              "#fb9f3a"
             ],
             [
              0.8888888888888888,
              "#fdca26"
             ],
             [
              1,
              "#f0f921"
             ]
            ],
            "type": "surface"
           }
          ],
          "table": [
           {
            "cells": {
             "fill": {
              "color": "#EBF0F8"
             },
             "line": {
              "color": "white"
             }
            },
            "header": {
             "fill": {
              "color": "#C8D4E3"
             },
             "line": {
              "color": "white"
             }
            },
            "type": "table"
           }
          ]
         },
         "layout": {
          "annotationdefaults": {
           "arrowcolor": "#2a3f5f",
           "arrowhead": 0,
           "arrowwidth": 1
          },
          "autotypenumbers": "strict",
          "coloraxis": {
           "colorbar": {
            "outlinewidth": 0,
            "ticks": ""
           }
          },
          "colorscale": {
           "diverging": [
            [
             0,
             "#8e0152"
            ],
            [
             0.1,
             "#c51b7d"
            ],
            [
             0.2,
             "#de77ae"
            ],
            [
             0.3,
             "#f1b6da"
            ],
            [
             0.4,
             "#fde0ef"
            ],
            [
             0.5,
             "#f7f7f7"
            ],
            [
             0.6,
             "#e6f5d0"
            ],
            [
             0.7,
             "#b8e186"
            ],
            [
             0.8,
             "#7fbc41"
            ],
            [
             0.9,
             "#4d9221"
            ],
            [
             1,
             "#276419"
            ]
           ],
           "sequential": [
            [
             0,
             "#0d0887"
            ],
            [
             0.1111111111111111,
             "#46039f"
            ],
            [
             0.2222222222222222,
             "#7201a8"
            ],
            [
             0.3333333333333333,
             "#9c179e"
            ],
            [
             0.4444444444444444,
             "#bd3786"
            ],
            [
             0.5555555555555556,
             "#d8576b"
            ],
            [
             0.6666666666666666,
             "#ed7953"
            ],
            [
             0.7777777777777778,
             "#fb9f3a"
            ],
            [
             0.8888888888888888,
             "#fdca26"
            ],
            [
             1,
             "#f0f921"
            ]
           ],
           "sequentialminus": [
            [
             0,
             "#0d0887"
            ],
            [
             0.1111111111111111,
             "#46039f"
            ],
            [
             0.2222222222222222,
             "#7201a8"
            ],
            [
             0.3333333333333333,
             "#9c179e"
            ],
            [
             0.4444444444444444,
             "#bd3786"
            ],
            [
             0.5555555555555556,
             "#d8576b"
            ],
            [
             0.6666666666666666,
             "#ed7953"
            ],
            [
             0.7777777777777778,
             "#fb9f3a"
            ],
            [
             0.8888888888888888,
             "#fdca26"
            ],
            [
             1,
             "#f0f921"
            ]
           ]
          },
          "colorway": [
           "#636efa",
           "#EF553B",
           "#00cc96",
           "#ab63fa",
           "#FFA15A",
           "#19d3f3",
           "#FF6692",
           "#B6E880",
           "#FF97FF",
           "#FECB52"
          ],
          "font": {
           "color": "#2a3f5f"
          },
          "geo": {
           "bgcolor": "white",
           "lakecolor": "white",
           "landcolor": "#E5ECF6",
           "showlakes": true,
           "showland": true,
           "subunitcolor": "white"
          },
          "hoverlabel": {
           "align": "left"
          },
          "hovermode": "closest",
          "mapbox": {
           "style": "light"
          },
          "paper_bgcolor": "white",
          "plot_bgcolor": "#E5ECF6",
          "polar": {
           "angularaxis": {
            "gridcolor": "white",
            "linecolor": "white",
            "ticks": ""
           },
           "bgcolor": "#E5ECF6",
           "radialaxis": {
            "gridcolor": "white",
            "linecolor": "white",
            "ticks": ""
           }
          },
          "scene": {
           "xaxis": {
            "backgroundcolor": "#E5ECF6",
            "gridcolor": "white",
            "gridwidth": 2,
            "linecolor": "white",
            "showbackground": true,
            "ticks": "",
            "zerolinecolor": "white"
           },
           "yaxis": {
            "backgroundcolor": "#E5ECF6",
            "gridcolor": "white",
            "gridwidth": 2,
            "linecolor": "white",
            "showbackground": true,
            "ticks": "",
            "zerolinecolor": "white"
           },
           "zaxis": {
            "backgroundcolor": "#E5ECF6",
            "gridcolor": "white",
            "gridwidth": 2,
            "linecolor": "white",
            "showbackground": true,
            "ticks": "",
            "zerolinecolor": "white"
           }
          },
          "shapedefaults": {
           "line": {
            "color": "#2a3f5f"
           }
          },
          "ternary": {
           "aaxis": {
            "gridcolor": "white",
            "linecolor": "white",
            "ticks": ""
           },
           "baxis": {
            "gridcolor": "white",
            "linecolor": "white",
            "ticks": ""
           },
           "bgcolor": "#E5ECF6",
           "caxis": {
            "gridcolor": "white",
            "linecolor": "white",
            "ticks": ""
           }
          },
          "title": {
           "x": 0.05
          },
          "xaxis": {
           "automargin": true,
           "gridcolor": "white",
           "linecolor": "white",
           "ticks": "",
           "title": {
            "standoff": 15
           },
           "zerolinecolor": "white",
           "zerolinewidth": 2
          },
          "yaxis": {
           "automargin": true,
           "gridcolor": "white",
           "linecolor": "white",
           "ticks": "",
           "title": {
            "standoff": 15
           },
           "zerolinecolor": "white",
           "zerolinewidth": 2
          }
         }
        },
        "title": {
         "text": "Nombre de trajets par ligne, Mode de transport : Bus"
        },
        "xaxis": {
         "anchor": "y",
         "domain": [
          0,
          1
         ],
         "title": {
          "text": "Nom de la ligne"
         }
        },
        "yaxis": {
         "anchor": "x",
         "domain": [
          0,
          1
         ],
         "title": {
          "text": "sum of value"
         }
        }
       }
      }
     },
     "metadata": {},
     "output_type": "display_data"
    },
    {
     "data": {
      "application/pdf": "[encoded data removed]",
      "application/vnd.plotly.v1+json": {
       "config": {
        "plotlyServerURL": "https://plot.ly"
       },
       "data": [
        {
         "alignmentgroup": "True",
         "bingroup": "x",
         "histfunc": "sum",
         "hovertemplate": "variable=count_baseline<br>Nom de la ligne=%{x}<br>sum of value=%{y}<extra></extra>",
         "legendgroup": "count_baseline",
         "marker": {
          "color": "#636efa",
          "pattern": {
           "shape": ""
          }
         },
         "name": "count_baseline",
         "offsetgroup": "count_baseline",
         "orientation": "v",
         "showlegend": true,
         "type": "histogram",
         "x": [
          "CDG VAL",
          "T1",
          "T2",
          "T7",
          "T4",
          "T11",
          "T13",
          "T10",
          "T12"
         ],
         "xaxis": "x",
         "y": {
          "bdata": "AQIDAgMCAwIC",
          "dtype": "i1"
         },
         "yaxis": "y"
        },
        {
         "alignmentgroup": "True",
         "bingroup": "x",
         "histfunc": "sum",
         "hovertemplate": "variable=count_gpe<br>Nom de la ligne=%{x}<br>sum of value=%{y}<extra></extra>",
         "legendgroup": "count_gpe",
         "marker": {
          "color": "#EF553B",
          "pattern": {
           "shape": ""
          }
         },
         "name": "count_gpe",
         "offsetgroup": "count_gpe",
         "orientation": "v",
         "showlegend": true,
         "type": "histogram",
         "x": [
          "CDG VAL",
          "T1",
          "T2",
          "T7",
          "T4",
          "T11",
          "T13",
          "T10",
          "T12"
         ],
         "xaxis": "x",
         "y": {
          "bdata": "AQIDAgMCAwIC",
          "dtype": "i1"
         },
         "yaxis": "y"
        }
       ],
       "layout": {
        "barmode": "group",
        "legend": {
         "title": {
          "text": "variable"
         },
         "tracegroupgap": 0
        },
        "template": {
         "data": {
          "bar": [
           {
            "error_x": {
             "color": "#2a3f5f"
            },
            "error_y": {
             "color": "#2a3f5f"
            },
            "marker": {
             "line": {
              "color": "#E5ECF6",
              "width": 0.5
             },
             "pattern": {
              "fillmode": "overlay",
              "size": 10,
              "solidity": 0.2
             }
            },
            "type": "bar"
           }
          ],
          "barpolar": [
           {
            "marker": {
             "line": {
              "color": "#E5ECF6",
              "width": 0.5
             },
             "pattern": {
              "fillmode": "overlay",
              "size": 10,
              "solidity": 0.2
             }
            },
            "type": "barpolar"
           }
          ],
          "carpet": [
           {
            "aaxis": {
             "endlinecolor": "#2a3f5f",
             "gridcolor": "white",
             "linecolor": "white",
             "minorgridcolor": "white",
             "startlinecolor": "#2a3f5f"
            },
            "baxis": {
             "endlinecolor": "#2a3f5f",
             "gridcolor": "white",
             "linecolor": "white",
             "minorgridcolor": "white",
             "startlinecolor": "#2a3f5f"
            },
            "type": "carpet"
           }
          ],
          "choropleth": [
           {
            "colorbar": {
             "outlinewidth": 0,
             "ticks": ""
            },
            "type": "choropleth"
           }
          ],
          "contour": [
           {
            "colorbar": {
             "outlinewidth": 0,
             "ticks": ""
            },
            "colorscale": [
             [
              0,
              "#0d0887"
             ],
             [
              0.1111111111111111,
              "#46039f"
             ],
             [
              0.2222222222222222,
              "#7201a8"
             ],
             [
              0.3333333333333333,
              "#9c179e"
             ],
             [
              0.4444444444444444,
              "#bd3786"
             ],
             [
              0.5555555555555556,
              "#d8576b"
             ],
             [
              0.6666666666666666,
              "#ed7953"
             ],
             [
              0.7777777777777778,
              "#fb9f3a"
             ],
             [
              0.8888888888888888,
              "#fdca26"
             ],
             [
              1,
              "#f0f921"
             ]
            ],
            "type": "contour"
           }
          ],
          "contourcarpet": [
           {
            "colorbar": {
             "outlinewidth": 0,
             "ticks": ""
            },
            "type": "contourcarpet"
           }
          ],
          "heatmap": [
           {
            "colorbar": {
             "outlinewidth": 0,
             "ticks": ""
            },
            "colorscale": [
             [
              0,
              "#0d0887"
             ],
             [
              0.1111111111111111,
              "#46039f"
             ],
             [
              0.2222222222222222,
              "#7201a8"
             ],
             [
              0.3333333333333333,
              "#9c179e"
             ],
             [
              0.4444444444444444,
              "#bd3786"
             ],
             [
              0.5555555555555556,
              "#d8576b"
             ],
             [
              0.6666666666666666,
              "#ed7953"
             ],
             [
              0.7777777777777778,
              "#fb9f3a"
             ],
             [
              0.8888888888888888,
              "#fdca26"
             ],
             [
              1,
              "#f0f921"
             ]
            ],
            "type": "heatmap"
           }
          ],
          "histogram": [
           {
            "marker": {
             "pattern": {
              "fillmode": "overlay",
              "size": 10,
              "solidity": 0.2
             }
            },
            "type": "histogram"
           }
          ],
          "histogram2d": [
           {
            "colorbar": {
             "outlinewidth": 0,
             "ticks": ""
            },
            "colorscale": [
             [
              0,
              "#0d0887"
             ],
             [
              0.1111111111111111,
              "#46039f"
             ],
             [
              0.2222222222222222,
              "#7201a8"
             ],
             [
              0.3333333333333333,
              "#9c179e"
             ],
             [
              0.4444444444444444,
              "#bd3786"
             ],
             [
              0.5555555555555556,
              "#d8576b"
             ],
             [
              0.6666666666666666,
              "#ed7953"
             ],
             [
              0.7777777777777778,
              "#fb9f3a"
             ],
             [
              0.8888888888888888,
              "#fdca26"
             ],
             [
              1,
              "#f0f921"
             ]
            ],
            "type": "histogram2d"
           }
          ],
          "histogram2dcontour": [
           {
            "colorbar": {
             "outlinewidth": 0,
             "ticks": ""
            },
            "colorscale": [
             [
              0,
              "#0d0887"
             ],
             [
              0.1111111111111111,
              "#46039f"
             ],
             [
              0.2222222222222222,
              "#7201a8"
             ],
             [
              0.3333333333333333,
              "#9c179e"
             ],
             [
              0.4444444444444444,
              "#bd3786"
             ],
             [
              0.5555555555555556,
              "#d8576b"
             ],
             [
              0.6666666666666666,
              "#ed7953"
             ],
             [
              0.7777777777777778,
              "#fb9f3a"
             ],
             [
              0.8888888888888888,
              "#fdca26"
             ],
             [
              1,
              "#f0f921"
             ]
            ],
            "type": "histogram2dcontour"
           }
          ],
          "mesh3d": [
           {
            "colorbar": {
             "outlinewidth": 0,
             "ticks": ""
            },
            "type": "mesh3d"
           }
          ],
          "parcoords": [
           {
            "line": {
             "colorbar": {
              "outlinewidth": 0,
              "ticks": ""
             }
            },
            "type": "parcoords"
           }
          ],
          "pie": [
           {
            "automargin": true,
            "type": "pie"
           }
          ],
          "scatter": [
           {
            "fillpattern": {
             "fillmode": "overlay",
             "size": 10,
             "solidity": 0.2
            },
            "type": "scatter"
           }
          ],
          "scatter3d": [
           {
            "line": {
             "colorbar": {
              "outlinewidth": 0,
              "ticks": ""
             }
            },
            "marker": {
             "colorbar": {
              "outlinewidth": 0,
              "ticks": ""
             }
            },
            "type": "scatter3d"
           }
          ],
          "scattercarpet": [
           {
            "marker": {
             "colorbar": {
              "outlinewidth": 0,
              "ticks": ""
             }
            },
            "type": "scattercarpet"
           }
          ],
          "scattergeo": [
           {
            "marker": {
             "colorbar": {
              "outlinewidth": 0,
              "ticks": ""
             }
            },
            "type": "scattergeo"
           }
          ],
          "scattergl": [
           {
            "marker": {
             "colorbar": {
              "outlinewidth": 0,
              "ticks": ""
             }
            },
            "type": "scattergl"
           }
          ],
          "scattermap": [
           {
            "marker": {
             "colorbar": {
              "outlinewidth": 0,
              "ticks": ""
             }
            },
            "type": "scattermap"
           }
          ],
          "scattermapbox": [
           {
            "marker": {
             "colorbar": {
              "outlinewidth": 0,
              "ticks": ""
             }
            },
            "type": "scattermapbox"
           }
          ],
          "scatterpolar": [
           {
            "marker": {
             "colorbar": {
              "outlinewidth": 0,
              "ticks": ""
             }
            },
            "type": "scatterpolar"
           }
          ],
          "scatterpolargl": [
           {
            "marker": {
             "colorbar": {
              "outlinewidth": 0,
              "ticks": ""
             }
            },
            "type": "scatterpolargl"
           }
          ],
          "scatterternary": [
           {
            "marker": {
             "colorbar": {
              "outlinewidth": 0,
              "ticks": ""
             }
            },
            "type": "scatterternary"
           }
          ],
          "surface": [
           {
            "colorbar": {
             "outlinewidth": 0,
             "ticks": ""
            },
            "colorscale": [
             [
              0,
              "#0d0887"
             ],
             [
              0.1111111111111111,
              "#46039f"
             ],
             [
              0.2222222222222222,
              "#7201a8"
             ],
             [
              0.3333333333333333,
              "#9c179e"
             ],
             [
              0.4444444444444444,
              "#bd3786"
             ],
             [
              0.5555555555555556,
              "#d8576b"
             ],
             [
              0.6666666666666666,
              "#ed7953"
             ],
             [
              0.7777777777777778,
              "#fb9f3a"
             ],
             [
              0.8888888888888888,
              "#fdca26"
             ],
             [
              1,
              "#f0f921"
             ]
            ],
            "type": "surface"
           }
          ],
          "table": [
           {
            "cells": {
             "fill": {
              "color": "#EBF0F8"
             },
             "line": {
              "color": "white"
             }
            },
            "header": {
             "fill": {
              "color": "#C8D4E3"
             },
             "line": {
              "color": "white"
             }
            },
            "type": "table"
           }
          ]
         },
         "layout": {
          "annotationdefaults": {
           "arrowcolor": "#2a3f5f",
           "arrowhead": 0,
           "arrowwidth": 1
          },
          "autotypenumbers": "strict",
          "coloraxis": {
           "colorbar": {
            "outlinewidth": 0,
            "ticks": ""
           }
          },
          "colorscale": {
           "diverging": [
            [
             0,
             "#8e0152"
            ],
            [
             0.1,
             "#c51b7d"
            ],
            [
             0.2,
             "#de77ae"
            ],
            [
             0.3,
             "#f1b6da"
            ],
            [
             0.4,
             "#fde0ef"
            ],
            [
             0.5,
             "#f7f7f7"
            ],
            [
             0.6,
             "#e6f5d0"
            ],
            [
             0.7,
             "#b8e186"
            ],
            [
             0.8,
             "#7fbc41"
            ],
            [
             0.9,
             "#4d9221"
            ],
            [
             1,
             "#276419"
            ]
           ],
           "sequential": [
            [
             0,
             "#0d0887"
            ],
            [
             0.1111111111111111,
             "#46039f"
            ],
            [
             0.2222222222222222,
             "#7201a8"
            ],
            [
             0.3333333333333333,
             "#9c179e"
            ],
            [
             0.4444444444444444,
             "#bd3786"
            ],
            [
             0.5555555555555556,
             "#d8576b"
            ],
            [
             0.6666666666666666,
             "#ed7953"
            ],
            [
             0.7777777777777778,
             "#fb9f3a"
            ],
            [
             0.8888888888888888,
             "#fdca26"
            ],
            [
             1,
             "#f0f921"
            ]
           ],
           "sequentialminus": [
            [
             0,
             "#0d0887"
            ],
            [
             0.1111111111111111,
             "#46039f"
            ],
            [
             0.2222222222222222,
             "#7201a8"
            ],
            [
             0.3333333333333333,
             "#9c179e"
            ],
            [
             0.4444444444444444,
             "#bd3786"
            ],
            [
             0.5555555555555556,
             "#d8576b"
            ],
            [
             0.6666666666666666,
             "#ed7953"
            ],
            [
             0.7777777777777778,
             "#fb9f3a"
            ],
            [
             0.8888888888888888,
             "#fdca26"
            ],
            [
             1,
             "#f0f921"
            ]
           ]
          },
          "colorway": [
           "#636efa",
           "#EF553B",
           "#00cc96",
           "#ab63fa",
           "#FFA15A",
           "#19d3f3",
           "#FF6692",
           "#B6E880",
           "#FF97FF",
           "#FECB52"
          ],
          "font": {
           "color": "#2a3f5f"
          },
          "geo": {
           "bgcolor": "white",
           "lakecolor": "white",
           "landcolor": "#E5ECF6",
           "showlakes": true,
           "showland": true,
           "subunitcolor": "white"
          },
          "hoverlabel": {
           "align": "left"
          },
          "hovermode": "closest",
          "mapbox": {
           "style": "light"
          },
          "paper_bgcolor": "white",
          "plot_bgcolor": "#E5ECF6",
          "polar": {
           "angularaxis": {
            "gridcolor": "white",
            "linecolor": "white",
            "ticks": ""
           },
           "bgcolor": "#E5ECF6",
           "radialaxis": {
            "gridcolor": "white",
            "linecolor": "white",
            "ticks": ""
           }
          },
          "scene": {
           "xaxis": {
            "backgroundcolor": "#E5ECF6",
            "gridcolor": "white",
            "gridwidth": 2,
            "linecolor": "white",
            "showbackground": true,
            "ticks": "",
            "zerolinecolor": "white"
           },
           "yaxis": {
            "backgroundcolor": "#E5ECF6",
            "gridcolor": "white",
            "gridwidth": 2,
            "linecolor": "white",
            "showbackground": true,
            "ticks": "",
            "zerolinecolor": "white"
           },
           "zaxis": {
            "backgroundcolor": "#E5ECF6",
            "gridcolor": "white",
            "gridwidth": 2,
            "linecolor": "white",
            "showbackground": true,
            "ticks": "",
            "zerolinecolor": "white"
           }
          },
          "shapedefaults": {
           "line": {
            "color": "#2a3f5f"
           }
          },
          "ternary": {
           "aaxis": {
            "gridcolor": "white",
            "linecolor": "white",
            "ticks": ""
           },
           "baxis": {
            "gridcolor": "white",
            "linecolor": "white",
            "ticks": ""
           },
           "bgcolor": "#E5ECF6",
           "caxis": {
            "gridcolor": "white",
            "linecolor": "white",
            "ticks": ""
           }
          },
          "title": {
           "x": 0.05
          },
          "xaxis": {
           "automargin": true,
           "gridcolor": "white",
           "linecolor": "white",
           "ticks": "",
           "title": {
            "standoff": 15
           },
           "zerolinecolor": "white",
           "zerolinewidth": 2
          },
          "yaxis": {
           "automargin": true,
           "gridcolor": "white",
           "linecolor": "white",
           "ticks": "",
           "title": {
            "standoff": 15
           },
           "zerolinecolor": "white",
           "zerolinewidth": 2
          }
         }
        },
        "title": {
         "text": "Nombre de trajets par ligne, Mode de transport : Tramway"
        },
        "xaxis": {
         "anchor": "y",
         "domain": [
          0,
          1
         ],
         "title": {
          "text": "Nom de la ligne"
         }
        },
        "yaxis": {
         "anchor": "x",
         "domain": [
          0,
          1
         ],
         "title": {
          "text": "sum of value"
         }
        }
       }
      }
     },
     "metadata": {},
     "output_type": "display_data"
    },
    {
     "data": {
      "application/pdf": "[encoded data removed]",
      "application/vnd.plotly.v1+json": {
       "config": {
        "plotlyServerURL": "https://plot.ly"
       },
       "data": [
        {
         "alignmentgroup": "True",
         "bingroup": "x",
         "histfunc": "sum",
         "hovertemplate": "variable=count_baseline<br>Nom de la ligne=%{x}<br>sum of value=%{y}<extra></extra>",
         "legendgroup": "count_baseline",
         "marker": {
          "color": "#636efa",
          "pattern": {
           "shape": ""
          }
         },
         "name": "count_baseline",
         "offsetgroup": "count_baseline",
         "orientation": "v",
         "showlegend": true,
         "type": "histogram",
         "x": [
          "1",
          "3",
          "5",
          "6",
          "7",
          "9",
          "10",
          "11",
          "12",
          "13",
          "14",
          "15",
          "16",
          "17"
         ],
         "xaxis": "x",
         "y": {
          "bdata": "AgIFBQEDBAUBBAUwFQI=",
          "dtype": "i1"
         },
         "yaxis": "y"
        },
        {
         "alignmentgroup": "True",
         "bingroup": "x",
         "histfunc": "sum",
         "hovertemplate": "variable=count_gpe<br>Nom de la ligne=%{x}<br>sum of value=%{y}<extra></extra>",
         "legendgroup": "count_gpe",
         "marker": {
          "color": "#EF553B",
          "pattern": {
           "shape": ""
          }
         },
         "name": "count_gpe",
         "offsetgroup": "count_gpe",
         "orientation": "v",
         "showlegend": true,
         "type": "histogram",
         "x": [
          "1",
          "3",
          "5",
          "6",
          "7",
          "9",
          "10",
          "11",
          "12",
          "13",
          "14",
          "15",
          "16",
          "17"
         ],
         "xaxis": "x",
         "y": {
          "bdata": "AgIFBQEDBAUBBAUwFQI=",
          "dtype": "i1"
         },
         "yaxis": "y"
        }
       ],
       "layout": {
        "barmode": "group",
        "legend": {
         "title": {
          "text": "variable"
         },
         "tracegroupgap": 0
        },
        "template": {
         "data": {
          "bar": [
           {
            "error_x": {
             "color": "#2a3f5f"
            },
            "error_y": {
             "color": "#2a3f5f"
            },
            "marker": {
             "line": {
              "color": "#E5ECF6",
              "width": 0.5
             },
             "pattern": {
              "fillmode": "overlay",
              "size": 10,
              "solidity": 0.2
             }
            },
            "type": "bar"
           }
          ],
          "barpolar": [
           {
            "marker": {
             "line": {
              "color": "#E5ECF6",
              "width": 0.5
             },
             "pattern": {
              "fillmode": "overlay",
              "size": 10,
              "solidity": 0.2
             }
            },
            "type": "barpolar"
           }
          ],
          "carpet": [
           {
            "aaxis": {
             "endlinecolor": "#2a3f5f",
             "gridcolor": "white",
             "linecolor": "white",
             "minorgridcolor": "white",
             "startlinecolor": "#2a3f5f"
            },
            "baxis": {
             "endlinecolor": "#2a3f5f",
             "gridcolor": "white",
             "linecolor": "white",
             "minorgridcolor": "white",
             "startlinecolor": "#2a3f5f"
            },
            "type": "carpet"
           }
          ],
          "choropleth": [
           {
            "colorbar": {
             "outlinewidth": 0,
             "ticks": ""
            },
            "type": "choropleth"
           }
          ],
          "contour": [
           {
            "colorbar": {
             "outlinewidth": 0,
             "ticks": ""
            },
            "colorscale": [
             [
              0,
              "#0d0887"
             ],
             [
              0.1111111111111111,
              "#46039f"
             ],
             [
              0.2222222222222222,
              "#7201a8"
             ],
             [
              0.3333333333333333,
              "#9c179e"
             ],
             [
              0.4444444444444444,
              "#bd3786"
             ],
             [
              0.5555555555555556,
              "#d8576b"
             ],
             [
              0.6666666666666666,
              "#ed7953"
             ],
             [
              0.7777777777777778,
              "#fb9f3a"
             ],
             [
              0.8888888888888888,
              "#fdca26"
             ],
             [
              1,
              "#f0f921"
             ]
            ],
            "type": "contour"
           }
          ],
          "contourcarpet": [
           {
            "colorbar": {
             "outlinewidth": 0,
             "ticks": ""
            },
            "type": "contourcarpet"
           }
          ],
          "heatmap": [
           {
            "colorbar": {
             "outlinewidth": 0,
             "ticks": ""
            },
            "colorscale": [
             [
              0,
              "#0d0887"
             ],
             [
              0.1111111111111111,
              "#46039f"
             ],
             [
              0.2222222222222222,
              "#7201a8"
             ],
             [
              0.3333333333333333,
              "#9c179e"
             ],
             [
              0.4444444444444444,
              "#bd3786"
             ],
             [
              0.5555555555555556,
              "#d8576b"
             ],
             [
              0.6666666666666666,
              "#ed7953"
             ],
             [
              0.7777777777777778,
              "#fb9f3a"
             ],
             [
              0.8888888888888888,
              "#fdca26"
             ],
             [
              1,
              "#f0f921"
             ]
            ],
            "type": "heatmap"
           }
          ],
          "histogram": [
           {
            "marker": {
             "pattern": {
              "fillmode": "overlay",
              "size": 10,
              "solidity": 0.2
             }
            },
            "type": "histogram"
           }
          ],
          "histogram2d": [
           {
            "colorbar": {
             "outlinewidth": 0,
             "ticks": ""
            },
            "colorscale": [
             [
              0,
              "#0d0887"
             ],
             [
              0.1111111111111111,
              "#46039f"
             ],
             [
              0.2222222222222222,
              "#7201a8"
             ],
             [
              0.3333333333333333,
              "#9c179e"
             ],
             [
              0.4444444444444444,
              "#bd3786"
             ],
             [
              0.5555555555555556,
              "#d8576b"
             ],
             [
              0.6666666666666666,
              "#ed7953"
             ],
             [
              0.7777777777777778,
              "#fb9f3a"
             ],
             [
              0.8888888888888888,
              "#fdca26"
             ],
             [
              1,
              "#f0f921"
             ]
            ],
            "type": "histogram2d"
           }
          ],
          "histogram2dcontour": [
           {
            "colorbar": {
             "outlinewidth": 0,
             "ticks": ""
            },
            "colorscale": [
             [
              0,
              "#0d0887"
             ],
             [
              0.1111111111111111,
              "#46039f"
             ],
             [
              0.2222222222222222,
              "#7201a8"
             ],
             [
              0.3333333333333333,
              "#9c179e"
             ],
             [
              0.4444444444444444,
              "#bd3786"
             ],
             [
              0.5555555555555556,
              "#d8576b"
             ],
             [
              0.6666666666666666,
              "#ed7953"
             ],
             [
              0.7777777777777778,
              "#fb9f3a"
             ],
             [
              0.8888888888888888,
              "#fdca26"
             ],
             [
              1,
              "#f0f921"
             ]
            ],
            "type": "histogram2dcontour"
           }
          ],
          "mesh3d": [
           {
            "colorbar": {
             "outlinewidth": 0,
             "ticks": ""
            },
            "type": "mesh3d"
           }
          ],
          "parcoords": [
           {
            "line": {
             "colorbar": {
              "outlinewidth": 0,
              "ticks": ""
             }
            },
            "type": "parcoords"
           }
          ],
          "pie": [
           {
            "automargin": true,
            "type": "pie"
           }
          ],
          "scatter": [
           {
            "fillpattern": {
             "fillmode": "overlay",
             "size": 10,
             "solidity": 0.2
            },
            "type": "scatter"
           }
          ],
          "scatter3d": [
           {
            "line": {
             "colorbar": {
              "outlinewidth": 0,
              "ticks": ""
             }
            },
            "marker": {
             "colorbar": {
              "outlinewidth": 0,
              "ticks": ""
             }
            },
            "type": "scatter3d"
           }
          ],
          "scattercarpet": [
           {
            "marker": {
             "colorbar": {
              "outlinewidth": 0,
              "ticks": ""
             }
            },
            "type": "scattercarpet"
           }
          ],
          "scattergeo": [
           {
            "marker": {
             "colorbar": {
              "outlinewidth": 0,
              "ticks": ""
             }
            },
            "type": "scattergeo"
           }
          ],
          "scattergl": [
           {
            "marker": {
             "colorbar": {
              "outlinewidth": 0,
              "ticks": ""
             }
            },
            "type": "scattergl"
           }
          ],
          "scattermap": [
           {
            "marker": {
             "colorbar": {
              "outlinewidth": 0,
              "ticks": ""
             }
            },
            "type": "scattermap"
           }
          ],
          "scattermapbox": [
           {
            "marker": {
             "colorbar": {
              "outlinewidth": 0,
              "ticks": ""
             }
            },
            "type": "scattermapbox"
           }
          ],
          "scatterpolar": [
           {
            "marker": {
             "colorbar": {
              "outlinewidth": 0,
              "ticks": ""
             }
            },
            "type": "scatterpolar"
           }
          ],
          "scatterpolargl": [
           {
            "marker": {
             "colorbar": {
              "outlinewidth": 0,
              "ticks": ""
             }
            },
            "type": "scatterpolargl"
           }
          ],
          "scatterternary": [
           {
            "marker": {
             "colorbar": {
              "outlinewidth": 0,
              "ticks": ""
             }
            },
            "type": "scatterternary"
           }
          ],
          "surface": [
           {
            "colorbar": {
             "outlinewidth": 0,
             "ticks": ""
            },
            "colorscale": [
             [
              0,
              "#0d0887"
             ],
             [
              0.1111111111111111,
              "#46039f"
             ],
             [
              0.2222222222222222,
              "#7201a8"
             ],
             [
              0.3333333333333333,
              "#9c179e"
             ],
             [
              0.4444444444444444,
              "#bd3786"
             ],
             [
              0.5555555555555556,
              "#d8576b"
             ],
             [
              0.6666666666666666,
              "#ed7953"
             ],
             [
              0.7777777777777778,
              "#fb9f3a"
             ],
             [
              0.8888888888888888,
              "#fdca26"
             ],
             [
              1,
              "#f0f921"
             ]
            ],
            "type": "surface"
           }
          ],
          "table": [
           {
            "cells": {
             "fill": {
              "color": "#EBF0F8"
             },
             "line": {
              "color": "white"
             }
            },
            "header": {
             "fill": {
              "color": "#C8D4E3"
             },
             "line": {
              "color": "white"
             }
            },
            "type": "table"
           }
          ]
         },
         "layout": {
          "annotationdefaults": {
           "arrowcolor": "#2a3f5f",
           "arrowhead": 0,
           "arrowwidth": 1
          },
          "autotypenumbers": "strict",
          "coloraxis": {
           "colorbar": {
            "outlinewidth": 0,
            "ticks": ""
           }
          },
          "colorscale": {
           "diverging": [
            [
             0,
             "#8e0152"
            ],
            [
             0.1,
             "#c51b7d"
            ],
            [
             0.2,
             "#de77ae"
            ],
            [
             0.3,
             "#f1b6da"
            ],
            [
             0.4,
             "#fde0ef"
            ],
            [
             0.5,
             "#f7f7f7"
            ],
            [
             0.6,
             "#e6f5d0"
            ],
            [
             0.7,
             "#b8e186"
            ],
            [
             0.8,
             "#7fbc41"
            ],
            [
             0.9,
             "#4d9221"
            ],
            [
             1,
             "#276419"
            ]
           ],
           "sequential": [
            [
             0,
             "#0d0887"
            ],
            [
             0.1111111111111111,
             "#46039f"
            ],
            [
             0.2222222222222222,
             "#7201a8"
            ],
            [
             0.3333333333333333,
             "#9c179e"
            ],
            [
             0.4444444444444444,
             "#bd3786"
            ],
            [
             0.5555555555555556,
             "#d8576b"
            ],
            [
             0.6666666666666666,
             "#ed7953"
            ],
            [
             0.7777777777777778,
             "#fb9f3a"
            ],
            [
             0.8888888888888888,
             "#fdca26"
            ],
            [
             1,
             "#f0f921"
            ]
           ],
           "sequentialminus": [
            [
             0,
             "#0d0887"
            ],
            [
             0.1111111111111111,
             "#46039f"
            ],
            [
             0.2222222222222222,
             "#7201a8"
            ],
            [
             0.3333333333333333,
             "#9c179e"
            ],
            [
             0.4444444444444444,
             "#bd3786"
            ],
            [
             0.5555555555555556,
             "#d8576b"
            ],
            [
             0.6666666666666666,
             "#ed7953"
            ],
            [
             0.7777777777777778,
             "#fb9f3a"
            ],
            [
             0.8888888888888888,
             "#fdca26"
            ],
            [
             1,
             "#f0f921"
            ]
           ]
          },
          "colorway": [
           "#636efa",
           "#EF553B",
           "#00cc96",
           "#ab63fa",
           "#FFA15A",
           "#19d3f3",
           "#FF6692",
           "#B6E880",
           "#FF97FF",
           "#FECB52"
          ],
          "font": {
           "color": "#2a3f5f"
          },
          "geo": {
           "bgcolor": "white",
           "lakecolor": "white",
           "landcolor": "#E5ECF6",
           "showlakes": true,
           "showland": true,
           "subunitcolor": "white"
          },
          "hoverlabel": {
           "align": "left"
          },
          "hovermode": "closest",
          "mapbox": {
           "style": "light"
          },
          "paper_bgcolor": "white",
          "plot_bgcolor": "#E5ECF6",
          "polar": {
           "angularaxis": {
            "gridcolor": "white",
            "linecolor": "white",
            "ticks": ""
           },
           "bgcolor": "#E5ECF6",
           "radialaxis": {
            "gridcolor": "white",
            "linecolor": "white",
            "ticks": ""
           }
          },
          "scene": {
           "xaxis": {
            "backgroundcolor": "#E5ECF6",
            "gridcolor": "white",
            "gridwidth": 2,
            "linecolor": "white",
            "showbackground": true,
            "ticks": "",
            "zerolinecolor": "white"
           },
           "yaxis": {
            "backgroundcolor": "#E5ECF6",
            "gridcolor": "white",
            "gridwidth": 2,
            "linecolor": "white",
            "showbackground": true,
            "ticks": "",
            "zerolinecolor": "white"
           },
           "zaxis": {
            "backgroundcolor": "#E5ECF6",
            "gridcolor": "white",
            "gridwidth": 2,
            "linecolor": "white",
            "showbackground": true,
            "ticks": "",
            "zerolinecolor": "white"
           }
          },
          "shapedefaults": {
           "line": {
            "color": "#2a3f5f"
           }
          },
          "ternary": {
           "aaxis": {
            "gridcolor": "white",
            "linecolor": "white",
            "ticks": ""
           },
           "baxis": {
            "gridcolor": "white",
            "linecolor": "white",
            "ticks": ""
           },
           "bgcolor": "#E5ECF6",
           "caxis": {
            "gridcolor": "white",
            "linecolor": "white",
            "ticks": ""
           }
          },
          "title": {
           "x": 0.05
          },
          "xaxis": {
           "automargin": true,
           "gridcolor": "white",
           "linecolor": "white",
           "ticks": "",
           "title": {
            "standoff": 15
           },
           "zerolinecolor": "white",
           "zerolinewidth": 2
          },
          "yaxis": {
           "automargin": true,
           "gridcolor": "white",
           "linecolor": "white",
           "ticks": "",
           "title": {
            "standoff": 15
           },
           "zerolinecolor": "white",
           "zerolinewidth": 2
          }
         }
        },
        "title": {
         "text": "Nombre de trajets par ligne, Mode de transport : Subway"
        },
        "xaxis": {
         "anchor": "y",
         "domain": [
          0,
          1
         ],
         "title": {
          "text": "Nom de la ligne"
         }
        },
        "yaxis": {
         "anchor": "x",
         "domain": [
          0,
          1
         ],
         "title": {
          "text": "sum of value"
         }
        }
       }
      }
     },
     "metadata": {},
     "output_type": "display_data"
    },
    {
     "data": {
      "application/pdf": "[encoded data removed]",
      "application/vnd.plotly.v1+json": {
       "config": {
        "plotlyServerURL": "https://plot.ly"
       },
       "data": [
        {
         "alignmentgroup": "True",
         "bingroup": "x",
         "histfunc": "sum",
         "hovertemplate": "variable=count_baseline<br>Nom de la ligne=%{x}<br>sum of value=%{y}<extra></extra>",
         "legendgroup": "count_baseline",
         "marker": {
          "color": "#636efa",
          "pattern": {
           "shape": ""
          }
         },
         "name": "count_baseline",
         "offsetgroup": "count_baseline",
         "orientation": "v",
         "showlegend": true,
         "type": "histogram",
         "x": [
          "C",
          "D",
          "E",
          "P",
          "R",
          "N",
          "H",
          "J",
          "L",
          "A",
          "B",
          "TER",
          "TER",
          "V"
         ],
         "xaxis": "x",
         "y": {
          "bdata": "MVwfCgkDW0QsIlICAQM=",
          "dtype": "i1"
         },
         "yaxis": "y"
        },
        {
         "alignmentgroup": "True",
         "bingroup": "x",
         "histfunc": "sum",
         "hovertemplate": "variable=count_gpe<br>Nom de la ligne=%{x}<br>sum of value=%{y}<extra></extra>",
         "legendgroup": "count_gpe",
         "marker": {
          "color": "#EF553B",
          "pattern": {
           "shape": ""
          }
         },
         "name": "count_gpe",
         "offsetgroup": "count_gpe",
         "orientation": "v",
         "showlegend": true,
         "type": "histogram",
         "x": [
          "C",
          "D",
          "E",
          "P",
          "R",
          "N",
          "H",
          "J",
          "L",
          "A",
          "B",
          "TER",
          "TER",
          "V"
         ],
         "xaxis": "x",
         "y": {
          "bdata": "MVwfCgkDW0QsIlICAQM=",
          "dtype": "i1"
         },
         "yaxis": "y"
        }
       ],
       "layout": {
        "barmode": "group",
        "legend": {
         "title": {
          "text": "variable"
         },
         "tracegroupgap": 0
        },
        "template": {
         "data": {
          "bar": [
           {
            "error_x": {
             "color": "#2a3f5f"
            },
            "error_y": {
             "color": "#2a3f5f"
            },
            "marker": {
             "line": {
              "color": "#E5ECF6",
              "width": 0.5
             },
             "pattern": {
              "fillmode": "overlay",
              "size": 10,
              "solidity": 0.2
             }
            },
            "type": "bar"
           }
          ],
          "barpolar": [
           {
            "marker": {
             "line": {
              "color": "#E5ECF6",
              "width": 0.5
             },
             "pattern": {
              "fillmode": "overlay",
              "size": 10,
              "solidity": 0.2
             }
            },
            "type": "barpolar"
           }
          ],
          "carpet": [
           {
            "aaxis": {
             "endlinecolor": "#2a3f5f",
             "gridcolor": "white",
             "linecolor": "white",
             "minorgridcolor": "white",
             "startlinecolor": "#2a3f5f"
            },
            "baxis": {
             "endlinecolor": "#2a3f5f",
             "gridcolor": "white",
             "linecolor": "white",
             "minorgridcolor": "white",
             "startlinecolor": "#2a3f5f"
            },
            "type": "carpet"
           }
          ],
          "choropleth": [
           {
            "colorbar": {
             "outlinewidth": 0,
             "ticks": ""
            },
            "type": "choropleth"
           }
          ],
          "contour": [
           {
            "colorbar": {
             "outlinewidth": 0,
             "ticks": ""
            },
            "colorscale": [
             [
              0,
              "#0d0887"
             ],
             [
              0.1111111111111111,
              "#46039f"
             ],
             [
              0.2222222222222222,
              "#7201a8"
             ],
             [
              0.3333333333333333,
              "#9c179e"
             ],
             [
              0.4444444444444444,
              "#bd3786"
             ],
             [
              0.5555555555555556,
              "#d8576b"
             ],
             [
              0.6666666666666666,
              "#ed7953"
             ],
             [
              0.7777777777777778,
              "#fb9f3a"
             ],
             [
              0.8888888888888888,
              "#fdca26"
             ],
             [
              1,
              "#f0f921"
             ]
            ],
            "type": "contour"
           }
          ],
          "contourcarpet": [
           {
            "colorbar": {
             "outlinewidth": 0,
             "ticks": ""
            },
            "type": "contourcarpet"
           }
          ],
          "heatmap": [
           {
            "colorbar": {
             "outlinewidth": 0,
             "ticks": ""
            },
            "colorscale": [
             [
              0,
              "#0d0887"
             ],
             [
              0.1111111111111111,
              "#46039f"
             ],
             [
              0.2222222222222222,
              "#7201a8"
             ],
             [
              0.3333333333333333,
              "#9c179e"
             ],
             [
              0.4444444444444444,
              "#bd3786"
             ],
             [
              0.5555555555555556,
              "#d8576b"
             ],
             [
              0.6666666666666666,
              "#ed7953"
             ],
             [
              0.7777777777777778,
              "#fb9f3a"
             ],
             [
              0.8888888888888888,
              "#fdca26"
             ],
             [
              1,
              "#f0f921"
             ]
            ],
            "type": "heatmap"
           }
          ],
          "histogram": [
           {
            "marker": {
             "pattern": {
              "fillmode": "overlay",
              "size": 10,
              "solidity": 0.2
             }
            },
            "type": "histogram"
           }
          ],
          "histogram2d": [
           {
            "colorbar": {
             "outlinewidth": 0,
             "ticks": ""
            },
            "colorscale": [
             [
              0,
              "#0d0887"
             ],
             [
              0.1111111111111111,
              "#46039f"
             ],
             [
              0.2222222222222222,
              "#7201a8"
             ],
             [
              0.3333333333333333,
              "#9c179e"
             ],
             [
              0.4444444444444444,
              "#bd3786"
             ],
             [
              0.5555555555555556,
              "#d8576b"
             ],
             [
              0.6666666666666666,
              "#ed7953"
             ],
             [
              0.7777777777777778,
              "#fb9f3a"
             ],
             [
              0.8888888888888888,
              "#fdca26"
             ],
             [
              1,
              "#f0f921"
             ]
            ],
            "type": "histogram2d"
           }
          ],
          "histogram2dcontour": [
           {
            "colorbar": {
             "outlinewidth": 0,
             "ticks": ""
            },
            "colorscale": [
             [
              0,
              "#0d0887"
             ],
             [
              0.1111111111111111,
              "#46039f"
             ],
             [
              0.2222222222222222,
              "#7201a8"
             ],
             [
              0.3333333333333333,
              "#9c179e"
             ],
             [
              0.4444444444444444,
              "#bd3786"
             ],
             [
              0.5555555555555556,
              "#d8576b"
             ],
             [
              0.6666666666666666,
              "#ed7953"
             ],
             [
              0.7777777777777778,
              "#fb9f3a"
             ],
             [
              0.8888888888888888,
              "#fdca26"
             ],
             [
              1,
              "#f0f921"
             ]
            ],
            "type": "histogram2dcontour"
           }
          ],
          "mesh3d": [
           {
            "colorbar": {
             "outlinewidth": 0,
             "ticks": ""
            },
            "type": "mesh3d"
           }
          ],
          "parcoords": [
           {
            "line": {
             "colorbar": {
              "outlinewidth": 0,
              "ticks": ""
             }
            },
            "type": "parcoords"
           }
          ],
          "pie": [
           {
            "automargin": true,
            "type": "pie"
           }
          ],
          "scatter": [
           {
            "fillpattern": {
             "fillmode": "overlay",
             "size": 10,
             "solidity": 0.2
            },
            "type": "scatter"
           }
          ],
          "scatter3d": [
           {
            "line": {
             "colorbar": {
              "outlinewidth": 0,
              "ticks": ""
             }
            },
            "marker": {
             "colorbar": {
              "outlinewidth": 0,
              "ticks": ""
             }
            },
            "type": "scatter3d"
           }
          ],
          "scattercarpet": [
           {
            "marker": {
             "colorbar": {
              "outlinewidth": 0,
              "ticks": ""
             }
            },
            "type": "scattercarpet"
           }
          ],
          "scattergeo": [
           {
            "marker": {
             "colorbar": {
              "outlinewidth": 0,
              "ticks": ""
             }
            },
            "type": "scattergeo"
           }
          ],
          "scattergl": [
           {
            "marker": {
             "colorbar": {
              "outlinewidth": 0,
              "ticks": ""
             }
            },
            "type": "scattergl"
           }
          ],
          "scattermap": [
           {
            "marker": {
             "colorbar": {
              "outlinewidth": 0,
              "ticks": ""
             }
            },
            "type": "scattermap"
           }
          ],
          "scattermapbox": [
           {
            "marker": {
             "colorbar": {
              "outlinewidth": 0,
              "ticks": ""
             }
            },
            "type": "scattermapbox"
           }
          ],
          "scatterpolar": [
           {
            "marker": {
             "colorbar": {
              "outlinewidth": 0,
              "ticks": ""
             }
            },
            "type": "scatterpolar"
           }
          ],
          "scatterpolargl": [
           {
            "marker": {
             "colorbar": {
              "outlinewidth": 0,
              "ticks": ""
             }
            },
            "type": "scatterpolargl"
           }
          ],
          "scatterternary": [
           {
            "marker": {
             "colorbar": {
              "outlinewidth": 0,
              "ticks": ""
             }
            },
            "type": "scatterternary"
           }
          ],
          "surface": [
           {
            "colorbar": {
             "outlinewidth": 0,
             "ticks": ""
            },
            "colorscale": [
             [
              0,
              "#0d0887"
             ],
             [
              0.1111111111111111,
              "#46039f"
             ],
             [
              0.2222222222222222,
              "#7201a8"
             ],
             [
              0.3333333333333333,
              "#9c179e"
             ],
             [
              0.4444444444444444,
              "#bd3786"
             ],
             [
              0.5555555555555556,
              "#d8576b"
             ],
             [
              0.6666666666666666,
              "#ed7953"
             ],
             [
              0.7777777777777778,
              "#fb9f3a"
             ],
             [
              0.8888888888888888,
              "#fdca26"
             ],
             [
              1,
              "#f0f921"
             ]
            ],
            "type": "surface"
           }
          ],
          "table": [
           {
            "cells": {
             "fill": {
              "color": "#EBF0F8"
             },
             "line": {
              "color": "white"
             }
            },
            "header": {
             "fill": {
              "color": "#C8D4E3"
             },
             "line": {
              "color": "white"
             }
            },
            "type": "table"
           }
          ]
         },
         "layout": {
          "annotationdefaults": {
           "arrowcolor": "#2a3f5f",
           "arrowhead": 0,
           "arrowwidth": 1
          },
          "autotypenumbers": "strict",
          "coloraxis": {
           "colorbar": {
            "outlinewidth": 0,
            "ticks": ""
           }
          },
          "colorscale": {
           "diverging": [
            [
             0,
             "#8e0152"
            ],
            [
             0.1,
             "#c51b7d"
            ],
            [
             0.2,
             "#de77ae"
            ],
            [
             0.3,
             "#f1b6da"
            ],
            [
             0.4,
             "#fde0ef"
            ],
            [
             0.5,
             "#f7f7f7"
            ],
            [
             0.6,
             "#e6f5d0"
            ],
            [
             0.7,
             "#b8e186"
            ],
            [
             0.8,
             "#7fbc41"
            ],
            [
             0.9,
             "#4d9221"
            ],
            [
             1,
             "#276419"
            ]
           ],
           "sequential": [
            [
             0,
             "#0d0887"
            ],
            [
             0.1111111111111111,
             "#46039f"
            ],
            [
             0.2222222222222222,
             "#7201a8"
            ],
            [
             0.3333333333333333,
             "#9c179e"
            ],
            [
             0.4444444444444444,
             "#bd3786"
            ],
            [
             0.5555555555555556,
             "#d8576b"
            ],
            [
             0.6666666666666666,
             "#ed7953"
            ],
            [
             0.7777777777777778,
             "#fb9f3a"
            ],
            [
             0.8888888888888888,
             "#fdca26"
            ],
            [
             1,
             "#f0f921"
            ]
           ],
           "sequentialminus": [
            [
             0,
             "#0d0887"
            ],
            [
             0.1111111111111111,
             "#46039f"
            ],
            [
             0.2222222222222222,
             "#7201a8"
            ],
            [
             0.3333333333333333,
             "#9c179e"
            ],
            [
             0.4444444444444444,
             "#bd3786"
            ],
            [
             0.5555555555555556,
             "#d8576b"
            ],
            [
             0.6666666666666666,
             "#ed7953"
            ],
            [
             0.7777777777777778,
             "#fb9f3a"
            ],
            [
             0.8888888888888888,
             "#fdca26"
            ],
            [
             1,
             "#f0f921"
            ]
           ]
          },
          "colorway": [
           "#636efa",
           "#EF553B",
           "#00cc96",
           "#ab63fa",
           "#FFA15A",
           "#19d3f3",
           "#FF6692",
           "#B6E880",
           "#FF97FF",
           "#FECB52"
          ],
          "font": {
           "color": "#2a3f5f"
          },
          "geo": {
           "bgcolor": "white",
           "lakecolor": "white",
           "landcolor": "#E5ECF6",
           "showlakes": true,
           "showland": true,
           "subunitcolor": "white"
          },
          "hoverlabel": {
           "align": "left"
          },
          "hovermode": "closest",
          "mapbox": {
           "style": "light"
          },
          "paper_bgcolor": "white",
          "plot_bgcolor": "#E5ECF6",
          "polar": {
           "angularaxis": {
            "gridcolor": "white",
            "linecolor": "white",
            "ticks": ""
           },
           "bgcolor": "#E5ECF6",
           "radialaxis": {
            "gridcolor": "white",
            "linecolor": "white",
            "ticks": ""
           }
          },
          "scene": {
           "xaxis": {
            "backgroundcolor": "#E5ECF6",
            "gridcolor": "white",
            "gridwidth": 2,
            "linecolor": "white",
            "showbackground": true,
            "ticks": "",
            "zerolinecolor": "white"
           },
           "yaxis": {
            "backgroundcolor": "#E5ECF6",
            "gridcolor": "white",
            "gridwidth": 2,
            "linecolor": "white",
            "showbackground": true,
            "ticks": "",
            "zerolinecolor": "white"
           },
           "zaxis": {
            "backgroundcolor": "#E5ECF6",
            "gridcolor": "white",
            "gridwidth": 2,
            "linecolor": "white",
            "showbackground": true,
            "ticks": "",
            "zerolinecolor": "white"
           }
          },
          "shapedefaults": {
           "line": {
            "color": "#2a3f5f"
           }
          },
          "ternary": {
           "aaxis": {
            "gridcolor": "white",
            "linecolor": "white",
            "ticks": ""
           },
           "baxis": {
            "gridcolor": "white",
            "linecolor": "white",
            "ticks": ""
           },
           "bgcolor": "#E5ECF6",
           "caxis": {
            "gridcolor": "white",
            "linecolor": "white",
            "ticks": ""
           }
          },
          "title": {
           "x": 0.05
          },
          "xaxis": {
           "automargin": true,
           "gridcolor": "white",
           "linecolor": "white",
           "ticks": "",
           "title": {
            "standoff": 15
           },
           "zerolinecolor": "white",
           "zerolinewidth": 2
          },
          "yaxis": {
           "automargin": true,
           "gridcolor": "white",
           "linecolor": "white",
           "ticks": "",
           "title": {
            "standoff": 15
           },
           "zerolinecolor": "white",
           "zerolinewidth": 2
          }
         }
        },
        "title": {
         "text": "Nombre de trajets par ligne, Mode de transport : Rail"
        },
        "xaxis": {
         "anchor": "y",
         "domain": [
          0,
          1
         ],
         "title": {
          "text": "Nom de la ligne"
         }
        },
        "yaxis": {
         "anchor": "x",
         "domain": [
          0,
          1
         ],
         "title": {
          "text": "sum of value"
         }
        }
       }
      }
     },
     "metadata": {},
     "output_type": "display_data"
    }
   ],
   "source": [
    "for route_type in line_counts.route_type.unique():\n",
    "    fig = px.histogram(\n",
    "        line_counts[line_counts.route_type == route_type],\n",
    "        x=\"route_short_name\",\n",
    "        y = [\"count_baseline\", \"count_gpe\"],\n",
    "        title=f\"Nombre de trajets par ligne, Mode de transport : {route_type}\",\n",
    "        labels={\"route_short_name\":\"Nom de la ligne\"},\n",
    "        barmode=\"group\"\n",
    "    )\n",
    "    fig.show()"
   ]
  },
  {
   "cell_type": "code",
   "execution_count": 105,
   "id": "c7d82210",
   "metadata": {},
   "outputs": [],
   "source": [
    "cols = [\"person_id\", \"person_trip_id\", \"leg_index\", \"transit_line_id\", \"transit_mode\"]\n",
    "\n",
    "baseline_pt_change = baseline_pt_change[cols]\n",
    "gpe_pt_change = gpe_pt_change[cols]\n",
    "\n",
    "baseline_pt_change = baseline_pt_change.rename(columns={\"transit_line_id\":\"route_id\"})\n",
    "gpe_pt_change = gpe_pt_change.rename(columns={\"transit_line_id\":\"route_id\"})\n",
    "\n",
    "baseline_pt_change = baseline_pt_change.merge(\n",
    "    routes[[\"route_id\", \"route_short_name\", \"route_type\"]],\n",
    "    on=[\"route_id\"],\n",
    "    how=\"inner\"\n",
    ")\n",
    "\n",
    "gpe_pt_change = gpe_pt_change.merge(\n",
    "    routes[[\"route_id\", \"route_short_name\", \"route_type\"]],\n",
    "    on=[\"route_id\"],\n",
    "    how=\"inner\"\n",
    ")\n",
    "\n",
    "baseline_pt_change.loc[baseline_pt_change[\"route_type\"] == 3, \"route_short_name\"] = \"bus\"\n",
    "gpe_pt_change.loc[gpe_pt_change[\"route_type\"] == 3, \"route_short_name\"] = \"bus\"\n",
    "\n",
    "baseline_pt_change.loc[baseline_pt_change[\"route_type\"] == 0, \"route_short_name\"] = \"tram\"\n",
    "gpe_pt_change.loc[gpe_pt_change[\"route_type\"] == 0, \"route_short_name\"] = \"tram\"\n",
    "\n",
    "baseline_pt_change.loc[baseline_pt_change[\"route_type\"] == 2, \"route_short_name\"] = \"rail\"\n",
    "gpe_pt_change.loc[gpe_pt_change[\"route_type\"] == 2, \"route_short_name\"] = \"rail\"\n",
    "\n",
    "new = [\"15\", \"16\", \"17\", \"18\"]\n",
    "baseline_pt_change.loc[baseline_pt_change[\"route_type\"] == 1, \"route_short_name\"] = \"subway\"\n",
    "gpe_pt_change.loc[(gpe_pt_change[\"route_type\"] == 1) & (~gpe_pt_change[\"route_short_name\"].isin(new)), \"route_short_name\"] = \"subway\""
   ]
  },
  {
   "cell_type": "code",
   "execution_count": 106,
   "id": "00017738",
   "metadata": {},
   "outputs": [],
   "source": [
    "sankey_nodes = []\n",
    "link_weights = defaultdict(float)\n",
    "vue_gpe = set()\n",
    "vue_baseline = set()\n",
    "\n",
    "for (person_id, person_trip_id), group in baseline_pt_change.groupby([\"person_id\", \"person_trip_id\"]):\n",
    "\n",
    "    baseline_boucle = baseline_pt_change[(baseline_pt_change.person_id == person_id) & (baseline_pt_change.person_trip_id == person_trip_id)].reset_index()\n",
    "    gpe_boucle = gpe_pt_change[(gpe_pt_change.person_id == person_id) & (gpe_pt_change.person_trip_id == person_trip_id)].reset_index()\n",
    "\n",
    "    min_len = min(len(baseline_boucle), len(gpe_boucle))\n",
    "    prefix_len = 0\n",
    "    for i in range(min_len):\n",
    "        if baseline_boucle.loc[i, \"route_id\"] == gpe_boucle.loc[i, \"route_id\"]:\n",
    "            prefix_len += 1\n",
    "        else:\n",
    "            break\n",
    "\n",
    "    suffix_len = 0\n",
    "    for i in range(1, min_len - prefix_len + 1):  \n",
    "        if baseline_boucle.iloc[-i][\"route_id\"] == gpe_boucle.iloc[-i][\"route_id\"]:\n",
    "            suffix_len += 1\n",
    "        else:\n",
    "            break\n",
    "        \n",
    "    if suffix_len > 0:\n",
    "        baseline_lines = baseline_boucle[\"route_short_name\"].iloc[prefix_len:-suffix_len].tolist()\n",
    "        gpe_lines = gpe_boucle[\"route_short_name\"].iloc[prefix_len:-suffix_len].tolist()\n",
    "    else:\n",
    "        baseline_lines = baseline_boucle[\"route_short_name\"].iloc[prefix_len:].tolist()\n",
    "        gpe_lines = gpe_boucle[\"route_short_name\"].iloc[prefix_len:].tolist()\n",
    "\n",
    "    links = list(product(baseline_lines, gpe_lines))\n",
    "    weight = 1/len(links) if links else 0\n",
    "\n",
    "    for el in set(baseline_lines):\n",
    "        if el not in vue_baseline:\n",
    "            sankey_nodes.append(el+\"_s\")\n",
    "            vue_baseline.add(el)\n",
    "\n",
    "    for el in set(gpe_lines):\n",
    "        if el not in vue_gpe:\n",
    "            sankey_nodes.append(el+\"_t\")\n",
    "            vue_gpe.add(el)\n",
    "\n",
    "    node_index = {name: i for i, name in enumerate(sankey_nodes)}\n",
    "\n",
    "    for src, tgt in links:\n",
    "        s = node_index[src+\"_s\"]\n",
    "        t = node_index[tgt+\"_t\"]\n",
    "        link_weights[(s, t)] += weight"
   ]
  },
  {
   "cell_type": "code",
   "execution_count": 107,
   "id": "3a680bda",
   "metadata": {},
   "outputs": [],
   "source": [
    "sankey_sources = []\n",
    "sankey_targets = []\n",
    "sankey_values = []\n",
    "\n",
    "for (s, t), v in link_weights.items():\n",
    "    sankey_sources.append(s)\n",
    "    sankey_targets.append(t)\n",
    "    sankey_values.append(v)"
   ]
  },
  {
   "cell_type": "code",
   "execution_count": 108,
   "id": "b104a1c7",
   "metadata": {},
   "outputs": [
    {
     "data": {
      "application/pdf": "[encoded data removed]",
      "application/vnd.plotly.v1+json": {
       "config": {
        "plotlyServerURL": "https://plot.ly"
       },
       "data": [
        {
         "link": {
          "source": [],
          "target": [],
          "value": []
         },
         "node": {
          "label": [],
          "line": {
           "color": "black",
           "width": 0.5
          },
          "pad": 15,
          "thickness": 20
         },
         "type": "sankey"
        }
       ],
       "layout": {
        "font": {
         "size": 10
        },
        "template": {
         "data": {
          "bar": [
           {
            "error_x": {
             "color": "#2a3f5f"
            },
            "error_y": {
             "color": "#2a3f5f"
            },
            "marker": {
             "line": {
              "color": "#E5ECF6",
              "width": 0.5
             },
             "pattern": {
              "fillmode": "overlay",
              "size": 10,
              "solidity": 0.2
             }
            },
            "type": "bar"
           }
          ],
          "barpolar": [
           {
            "marker": {
             "line": {
              "color": "#E5ECF6",
              "width": 0.5
             },
             "pattern": {
              "fillmode": "overlay",
              "size": 10,
              "solidity": 0.2
             }
            },
            "type": "barpolar"
           }
          ],
          "carpet": [
           {
            "aaxis": {
             "endlinecolor": "#2a3f5f",
             "gridcolor": "white",
             "linecolor": "white",
             "minorgridcolor": "white",
             "startlinecolor": "#2a3f5f"
            },
            "baxis": {
             "endlinecolor": "#2a3f5f",
             "gridcolor": "white",
             "linecolor": "white",
             "minorgridcolor": "white",
             "startlinecolor": "#2a3f5f"
            },
            "type": "carpet"
           }
          ],
          "choropleth": [
           {
            "colorbar": {
             "outlinewidth": 0,
             "ticks": ""
            },
            "type": "choropleth"
           }
          ],
          "contour": [
           {
            "colorbar": {
             "outlinewidth": 0,
             "ticks": ""
            },
            "colorscale": [
             [
              0,
              "#0d0887"
             ],
             [
              0.1111111111111111,
              "#46039f"
             ],
             [
              0.2222222222222222,
              "#7201a8"
             ],
             [
              0.3333333333333333,
              "#9c179e"
             ],
             [
              0.4444444444444444,
              "#bd3786"
             ],
             [
              0.5555555555555556,
              "#d8576b"
             ],
             [
              0.6666666666666666,
              "#ed7953"
             ],
             [
              0.7777777777777778,
              "#fb9f3a"
             ],
             [
              0.8888888888888888,
              "#fdca26"
             ],
             [
              1,
              "#f0f921"
             ]
            ],
            "type": "contour"
           }
          ],
          "contourcarpet": [
           {
            "colorbar": {
             "outlinewidth": 0,
             "ticks": ""
            },
            "type": "contourcarpet"
           }
          ],
          "heatmap": [
           {
            "colorbar": {
             "outlinewidth": 0,
             "ticks": ""
            },
            "colorscale": [
             [
              0,
              "#0d0887"
             ],
             [
              0.1111111111111111,
              "#46039f"
             ],
             [
              0.2222222222222222,
              "#7201a8"
             ],
             [
              0.3333333333333333,
              "#9c179e"
             ],
             [
              0.4444444444444444,
              "#bd3786"
             ],
             [
              0.5555555555555556,
              "#d8576b"
             ],
             [
              0.6666666666666666,
              "#ed7953"
             ],
             [
              0.7777777777777778,
              "#fb9f3a"
             ],
             [
              0.8888888888888888,
              "#fdca26"
             ],
             [
              1,
              "#f0f921"
             ]
            ],
            "type": "heatmap"
           }
          ],
          "histogram": [
           {
            "marker": {
             "pattern": {
              "fillmode": "overlay",
              "size": 10,
              "solidity": 0.2
             }
            },
            "type": "histogram"
           }
          ],
          "histogram2d": [
           {
            "colorbar": {
             "outlinewidth": 0,
             "ticks": ""
            },
            "colorscale": [
             [
              0,
              "#0d0887"
             ],
             [
              0.1111111111111111,
              "#46039f"
             ],
             [
              0.2222222222222222,
              "#7201a8"
             ],
             [
              0.3333333333333333,
              "#9c179e"
             ],
             [
              0.4444444444444444,
              "#bd3786"
             ],
             [
              0.5555555555555556,
              "#d8576b"
             ],
             [
              0.6666666666666666,
              "#ed7953"
             ],
             [
              0.7777777777777778,
              "#fb9f3a"
             ],
             [
              0.8888888888888888,
              "#fdca26"
             ],
             [
              1,
              "#f0f921"
             ]
            ],
            "type": "histogram2d"
           }
          ],
          "histogram2dcontour": [
           {
            "colorbar": {
             "outlinewidth": 0,
             "ticks": ""
            },
            "colorscale": [
             [
              0,
              "#0d0887"
             ],
             [
              0.1111111111111111,
              "#46039f"
             ],
             [
              0.2222222222222222,
              "#7201a8"
             ],
             [
              0.3333333333333333,
              "#9c179e"
             ],
             [
              0.4444444444444444,
              "#bd3786"
             ],
             [
              0.5555555555555556,
              "#d8576b"
             ],
             [
              0.6666666666666666,
              "#ed7953"
             ],
             [
              0.7777777777777778,
              "#fb9f3a"
             ],
             [
              0.8888888888888888,
              "#fdca26"
             ],
             [
              1,
              "#f0f921"
             ]
            ],
            "type": "histogram2dcontour"
           }
          ],
          "mesh3d": [
           {
            "colorbar": {
             "outlinewidth": 0,
             "ticks": ""
            },
            "type": "mesh3d"
           }
          ],
          "parcoords": [
           {
            "line": {
             "colorbar": {
              "outlinewidth": 0,
              "ticks": ""
             }
            },
            "type": "parcoords"
           }
          ],
          "pie": [
           {
            "automargin": true,
            "type": "pie"
           }
          ],
          "scatter": [
           {
            "fillpattern": {
             "fillmode": "overlay",
             "size": 10,
             "solidity": 0.2
            },
            "type": "scatter"
           }
          ],
          "scatter3d": [
           {
            "line": {
             "colorbar": {
              "outlinewidth": 0,
              "ticks": ""
             }
            },
            "marker": {
             "colorbar": {
              "outlinewidth": 0,
              "ticks": ""
             }
            },
            "type": "scatter3d"
           }
          ],
          "scattercarpet": [
           {
            "marker": {
             "colorbar": {
              "outlinewidth": 0,
              "ticks": ""
             }
            },
            "type": "scattercarpet"
           }
          ],
          "scattergeo": [
           {
            "marker": {
             "colorbar": {
              "outlinewidth": 0,
              "ticks": ""
             }
            },
            "type": "scattergeo"
           }
          ],
          "scattergl": [
           {
            "marker": {
             "colorbar": {
              "outlinewidth": 0,
              "ticks": ""
             }
            },
            "type": "scattergl"
           }
          ],
          "scattermap": [
           {
            "marker": {
             "colorbar": {
              "outlinewidth": 0,
              "ticks": ""
             }
            },
            "type": "scattermap"
           }
          ],
          "scattermapbox": [
           {
            "marker": {
             "colorbar": {
              "outlinewidth": 0,
              "ticks": ""
             }
            },
            "type": "scattermapbox"
           }
          ],
          "scatterpolar": [
           {
            "marker": {
             "colorbar": {
              "outlinewidth": 0,
              "ticks": ""
             }
            },
            "type": "scatterpolar"
           }
          ],
          "scatterpolargl": [
           {
            "marker": {
             "colorbar": {
              "outlinewidth": 0,
              "ticks": ""
             }
            },
            "type": "scatterpolargl"
           }
          ],
          "scatterternary": [
           {
            "marker": {
             "colorbar": {
              "outlinewidth": 0,
              "ticks": ""
             }
            },
            "type": "scatterternary"
           }
          ],
          "surface": [
           {
            "colorbar": {
             "outlinewidth": 0,
             "ticks": ""
            },
            "colorscale": [
             [
              0,
              "#0d0887"
             ],
             [
              0.1111111111111111,
              "#46039f"
             ],
             [
              0.2222222222222222,
              "#7201a8"
             ],
             [
              0.3333333333333333,
              "#9c179e"
             ],
             [
              0.4444444444444444,
              "#bd3786"
             ],
             [
              0.5555555555555556,
              "#d8576b"
             ],
             [
              0.6666666666666666,
              "#ed7953"
             ],
             [
              0.7777777777777778,
              "#fb9f3a"
             ],
             [
              0.8888888888888888,
              "#fdca26"
             ],
             [
              1,
              "#f0f921"
             ]
            ],
            "type": "surface"
           }
          ],
          "table": [
           {
            "cells": {
             "fill": {
              "color": "#EBF0F8"
             },
             "line": {
              "color": "white"
             }
            },
            "header": {
             "fill": {
              "color": "#C8D4E3"
             },
             "line": {
              "color": "white"
             }
            },
            "type": "table"
           }
          ]
         },
         "layout": {
          "annotationdefaults": {
           "arrowcolor": "#2a3f5f",
           "arrowhead": 0,
           "arrowwidth": 1
          },
          "autotypenumbers": "strict",
          "coloraxis": {
           "colorbar": {
            "outlinewidth": 0,
            "ticks": ""
           }
          },
          "colorscale": {
           "diverging": [
            [
             0,
             "#8e0152"
            ],
            [
             0.1,
             "#c51b7d"
            ],
            [
             0.2,
             "#de77ae"
            ],
            [
             0.3,
             "#f1b6da"
            ],
            [
             0.4,
             "#fde0ef"
            ],
            [
             0.5,
             "#f7f7f7"
            ],
            [
             0.6,
             "#e6f5d0"
            ],
            [
             0.7,
             "#b8e186"
            ],
            [
             0.8,
             "#7fbc41"
            ],
            [
             0.9,
             "#4d9221"
            ],
            [
             1,
             "#276419"
            ]
           ],
           "sequential": [
            [
             0,
             "#0d0887"
            ],
            [
             0.1111111111111111,
             "#46039f"
            ],
            [
             0.2222222222222222,
             "#7201a8"
            ],
            [
             0.3333333333333333,
             "#9c179e"
            ],
            [
             0.4444444444444444,
             "#bd3786"
            ],
            [
             0.5555555555555556,
             "#d8576b"
            ],
            [
             0.6666666666666666,
             "#ed7953"
            ],
            [
             0.7777777777777778,
             "#fb9f3a"
            ],
            [
             0.8888888888888888,
             "#fdca26"
            ],
            [
             1,
             "#f0f921"
            ]
           ],
           "sequentialminus": [
            [
             0,
             "#0d0887"
            ],
            [
             0.1111111111111111,
             "#46039f"
            ],
            [
             0.2222222222222222,
             "#7201a8"
            ],
            [
             0.3333333333333333,
             "#9c179e"
            ],
            [
             0.4444444444444444,
             "#bd3786"
            ],
            [
             0.5555555555555556,
             "#d8576b"
            ],
            [
             0.6666666666666666,
             "#ed7953"
            ],
            [
             0.7777777777777778,
             "#fb9f3a"
            ],
            [
             0.8888888888888888,
             "#fdca26"
            ],
            [
             1,
             "#f0f921"
            ]
           ]
          },
          "colorway": [
           "#636efa",
           "#EF553B",
           "#00cc96",
           "#ab63fa",
           "#FFA15A",
           "#19d3f3",
           "#FF6692",
           "#B6E880",
           "#FF97FF",
           "#FECB52"
          ],
          "font": {
           "color": "#2a3f5f"
          },
          "geo": {
           "bgcolor": "white",
           "lakecolor": "white",
           "landcolor": "#E5ECF6",
           "showlakes": true,
           "showland": true,
           "subunitcolor": "white"
          },
          "hoverlabel": {
           "align": "left"
          },
          "hovermode": "closest",
          "mapbox": {
           "style": "light"
          },
          "paper_bgcolor": "white",
          "plot_bgcolor": "#E5ECF6",
          "polar": {
           "angularaxis": {
            "gridcolor": "white",
            "linecolor": "white",
            "ticks": ""
           },
           "bgcolor": "#E5ECF6",
           "radialaxis": {
            "gridcolor": "white",
            "linecolor": "white",
            "ticks": ""
           }
          },
          "scene": {
           "xaxis": {
            "backgroundcolor": "#E5ECF6",
            "gridcolor": "white",
            "gridwidth": 2,
            "linecolor": "white",
            "showbackground": true,
            "ticks": "",
            "zerolinecolor": "white"
           },
           "yaxis": {
            "backgroundcolor": "#E5ECF6",
            "gridcolor": "white",
            "gridwidth": 2,
            "linecolor": "white",
            "showbackground": true,
            "ticks": "",
            "zerolinecolor": "white"
           },
           "zaxis": {
            "backgroundcolor": "#E5ECF6",
            "gridcolor": "white",
            "gridwidth": 2,
            "linecolor": "white",
            "showbackground": true,
            "ticks": "",
            "zerolinecolor": "white"
           }
          },
          "shapedefaults": {
           "line": {
            "color": "#2a3f5f"
           }
          },
          "ternary": {
           "aaxis": {
            "gridcolor": "white",
            "linecolor": "white",
            "ticks": ""
           },
           "baxis": {
            "gridcolor": "white",
            "linecolor": "white",
            "ticks": ""
           },
           "bgcolor": "#E5ECF6",
           "caxis": {
            "gridcolor": "white",
            "linecolor": "white",
            "ticks": ""
           }
          },
          "title": {
           "x": 0.05
          },
          "xaxis": {
           "automargin": true,
           "gridcolor": "white",
           "linecolor": "white",
           "ticks": "",
           "title": {
            "standoff": 15
           },
           "zerolinecolor": "white",
           "zerolinewidth": 2
          },
          "yaxis": {
           "automargin": true,
           "gridcolor": "white",
           "linecolor": "white",
           "ticks": "",
           "title": {
            "standoff": 15
           },
           "zerolinecolor": "white",
           "zerolinewidth": 2
          }
         }
        },
        "title": {
         "text": "Comparaison des trajets"
        }
       }
      }
     },
     "metadata": {},
     "output_type": "display_data"
    }
   ],
   "source": [
    "fig = go.Figure(go.Sankey(\n",
    "    node=dict(\n",
    "        pad=15,\n",
    "        thickness=20,\n",
    "        line=dict(color=\"black\", width=0.5),\n",
    "        label=sankey_nodes\n",
    "    ),\n",
    "    link=dict(\n",
    "        source=sankey_sources,\n",
    "        target=sankey_targets,\n",
    "        value=sankey_values\n",
    "    )\n",
    "))\n",
    "\n",
    "fig.update_layout(title_text=\"Comparaison des trajets\", font_size=10)\n",
    "fig.show()"
   ]
  },
  {
   "cell_type": "code",
   "execution_count": 109,
   "id": "b936c1e8",
   "metadata": {},
   "outputs": [
    {
     "name": "stdout",
     "output_type": "stream",
     "text": [
      "Empty DataFrame\n",
      "Columns: [departure_time_baseline, travel_time_baseline, origin_lat, origin_lon, destination_lat, destination_lon]\n",
      "Index: []\n"
     ]
    }
   ],
   "source": [
    "anomalies = positif[positif.travel_time_diff >= 10800].copy()\n",
    "\n",
    "transformer = pyproj.Transformer.from_crs(\"EPSG:2154\", \"EPSG:4326\", always_xy=True)\n",
    "\n",
    "origin_lon, origin_lat = transformer.transform(anomalies['origin_x_baseline'].values, anomalies['origin_y_baseline'].values)\n",
    "destination_lon, destination_lat = transformer.transform(anomalies['destination_x_baseline'].values, anomalies['destination_y_baseline'].values)\n",
    "\n",
    "anomalies['origin_lat'] = origin_lat\n",
    "anomalies['origin_lon'] = origin_lon\n",
    "\n",
    "anomalies['destination_lat'] = destination_lat\n",
    "anomalies['destination_lon'] = destination_lon\n",
    "\n",
    "anomalies['departure_time_baseline']/=3600\n",
    "anomalies['travel_time_baseline']/=3600\n",
    "\n",
    "print(anomalies[['departure_time_baseline', 'travel_time_baseline','origin_lat', 'origin_lon', 'destination_lat', 'destination_lon']])"
   ]
  }
 ],
 "metadata": {
  "kernelspec": {
   "display_name": "Python 3",
   "language": "python",
   "name": "python3"
  },
  "language_info": {
   "codemirror_mode": {
    "name": "ipython",
    "version": 3
   },
   "file_extension": ".py",
   "mimetype": "text/x-python",
   "name": "python",
   "nbconvert_exporter": "python",
   "pygments_lexer": "ipython3",
   "version": "3.11.9"
  }
 },
 "nbformat": 4,
 "nbformat_minor": 5
}
